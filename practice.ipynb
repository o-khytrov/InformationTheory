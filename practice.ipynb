{
 "cells": [
  {
   "cell_type": "code",
   "execution_count": 2,
   "id": "initial_id",
   "metadata": {
    "collapsed": true,
    "ExecuteTime": {
     "end_time": "2023-12-10T18:39:42.890318709Z",
     "start_time": "2023-12-10T18:39:42.666862051Z"
    }
   },
   "outputs": [],
   "source": [
    "import math\n",
    "import pandas as pd\n",
    "\n",
    "\n",
    "def distance(word1, word2):\n",
    "    d = 0\n",
    "    for i in range(len(word1)):\n",
    "        if word1[i] != word2[i]:\n",
    "            d += 1\n",
    "    return d"
   ]
  },
  {
   "cell_type": "code",
   "execution_count": 3,
   "outputs": [
    {
     "data": {
      "text/plain": "          0         1         2         3         4         5\n0  0.992547  0.006561  0.000729  0.000081  0.000081  0.000001\n1  0.006561  0.979507  0.000729  0.006561  0.006561  0.000081\n2  0.000729  0.000729  0.997075  0.000729  0.000009  0.000729\n3  0.000081  0.006561  0.000729  0.979507  0.006561  0.006561\n4  0.000081  0.006561  0.000009  0.006561  0.980227  0.006561\n5  0.000001  0.000081  0.000729  0.006561  0.006561  0.986067",
      "text/html": "<div>\n<style scoped>\n    .dataframe tbody tr th:only-of-type {\n        vertical-align: middle;\n    }\n\n    .dataframe tbody tr th {\n        vertical-align: top;\n    }\n\n    .dataframe thead th {\n        text-align: right;\n    }\n</style>\n<table border=\"1\" class=\"dataframe\">\n  <thead>\n    <tr style=\"text-align: right;\">\n      <th></th>\n      <th>0</th>\n      <th>1</th>\n      <th>2</th>\n      <th>3</th>\n      <th>4</th>\n      <th>5</th>\n    </tr>\n  </thead>\n  <tbody>\n    <tr>\n      <th>0</th>\n      <td>0.992547</td>\n      <td>0.006561</td>\n      <td>0.000729</td>\n      <td>0.000081</td>\n      <td>0.000081</td>\n      <td>0.000001</td>\n    </tr>\n    <tr>\n      <th>1</th>\n      <td>0.006561</td>\n      <td>0.979507</td>\n      <td>0.000729</td>\n      <td>0.006561</td>\n      <td>0.006561</td>\n      <td>0.000081</td>\n    </tr>\n    <tr>\n      <th>2</th>\n      <td>0.000729</td>\n      <td>0.000729</td>\n      <td>0.997075</td>\n      <td>0.000729</td>\n      <td>0.000009</td>\n      <td>0.000729</td>\n    </tr>\n    <tr>\n      <th>3</th>\n      <td>0.000081</td>\n      <td>0.006561</td>\n      <td>0.000729</td>\n      <td>0.979507</td>\n      <td>0.006561</td>\n      <td>0.006561</td>\n    </tr>\n    <tr>\n      <th>4</th>\n      <td>0.000081</td>\n      <td>0.006561</td>\n      <td>0.000009</td>\n      <td>0.006561</td>\n      <td>0.980227</td>\n      <td>0.006561</td>\n    </tr>\n    <tr>\n      <th>5</th>\n      <td>0.000001</td>\n      <td>0.000081</td>\n      <td>0.000729</td>\n      <td>0.006561</td>\n      <td>0.006561</td>\n      <td>0.986067</td>\n    </tr>\n  </tbody>\n</table>\n</div>"
     },
     "execution_count": 3,
     "metadata": {},
     "output_type": "execute_result"
    }
   ],
   "source": [
    "\n",
    "codewords = [\"000000\", \"001001\", \"001110\", \"011011\", \"111001\", \"111111\"]\n",
    "codewords_list = list(codewords)\n",
    "pe = 1e-1\n",
    "joint_matrix = []\n",
    "for i, code_a in enumerate(codewords_list):\n",
    "    joint_matrix.append([])\n",
    "    for j, code_b in enumerate(codewords_list):\n",
    "        d = distance(code_a, code_b)\n",
    "        n = len(code_b)\n",
    "        val = math.pow(pe, d) * math.pow(1 - pe, n - d)\n",
    "        joint_matrix[i].append(val)\n",
    "for i in range(len(codewords_list)):\n",
    "    sum = 0\n",
    "    for j in range(len(codewords_list)):\n",
    "        sum += joint_matrix[j][i]\n",
    "    joint_matrix[i][i] = 1 - sum + joint_matrix[i][i]\n",
    "pd.DataFrame(joint_matrix)"
   ],
   "metadata": {
    "collapsed": false,
    "ExecuteTime": {
     "end_time": "2023-12-10T18:39:42.905179697Z",
     "start_time": "2023-12-10T18:39:42.896067058Z"
    }
   },
   "id": "e5c4f1bce67f0b1e"
  },
  {
   "cell_type": "code",
   "execution_count": 9,
   "outputs": [
    {
     "data": {
      "text/plain": "              0         1         2         3         4             5\n0  2.481367e-01  0.001640  0.000182  0.000020  0.000020  2.500000e-07\n1  3.280500e-04  0.048975  0.000036  0.000328  0.000328  4.050000e-06\n2  2.187000e-04  0.000219  0.299123  0.000219  0.000003  2.187000e-04\n3  8.100000e-06  0.000656  0.000073  0.097951  0.000656  6.561000e-04\n4  1.215000e-05  0.000984  0.000001  0.000984  0.147034  9.841500e-04\n5  1.500000e-07  0.000012  0.000109  0.000984  0.000984  1.479100e-01",
      "text/html": "<div>\n<style scoped>\n    .dataframe tbody tr th:only-of-type {\n        vertical-align: middle;\n    }\n\n    .dataframe tbody tr th {\n        vertical-align: top;\n    }\n\n    .dataframe thead th {\n        text-align: right;\n    }\n</style>\n<table border=\"1\" class=\"dataframe\">\n  <thead>\n    <tr style=\"text-align: right;\">\n      <th></th>\n      <th>0</th>\n      <th>1</th>\n      <th>2</th>\n      <th>3</th>\n      <th>4</th>\n      <th>5</th>\n    </tr>\n  </thead>\n  <tbody>\n    <tr>\n      <th>0</th>\n      <td>2.481367e-01</td>\n      <td>0.001640</td>\n      <td>0.000182</td>\n      <td>0.000020</td>\n      <td>0.000020</td>\n      <td>2.500000e-07</td>\n    </tr>\n    <tr>\n      <th>1</th>\n      <td>3.280500e-04</td>\n      <td>0.048975</td>\n      <td>0.000036</td>\n      <td>0.000328</td>\n      <td>0.000328</td>\n      <td>4.050000e-06</td>\n    </tr>\n    <tr>\n      <th>2</th>\n      <td>2.187000e-04</td>\n      <td>0.000219</td>\n      <td>0.299123</td>\n      <td>0.000219</td>\n      <td>0.000003</td>\n      <td>2.187000e-04</td>\n    </tr>\n    <tr>\n      <th>3</th>\n      <td>8.100000e-06</td>\n      <td>0.000656</td>\n      <td>0.000073</td>\n      <td>0.097951</td>\n      <td>0.000656</td>\n      <td>6.561000e-04</td>\n    </tr>\n    <tr>\n      <th>4</th>\n      <td>1.215000e-05</td>\n      <td>0.000984</td>\n      <td>0.000001</td>\n      <td>0.000984</td>\n      <td>0.147034</td>\n      <td>9.841500e-04</td>\n    </tr>\n    <tr>\n      <th>5</th>\n      <td>1.500000e-07</td>\n      <td>0.000012</td>\n      <td>0.000109</td>\n      <td>0.000984</td>\n      <td>0.000984</td>\n      <td>1.479100e-01</td>\n    </tr>\n  </tbody>\n</table>\n</div>"
     },
     "execution_count": 9,
     "metadata": {},
     "output_type": "execute_result"
    }
   ],
   "source": [
    "from copy import deepcopy\n",
    "\n",
    "probabilities_list = [0.25, 0.05, 0.3, 0.1, 0.15, 0.15]\n",
    "channel_matrix = deepcopy(joint_matrix)\n",
    "for i in range(len(joint_matrix)):\n",
    "    for j in range(len(joint_matrix)):\n",
    "        channel_matrix[i][j] = joint_matrix[i][j] * probabilities_list[i]\n",
    "channel_matrix_df = pd.DataFrame(channel_matrix)\n",
    "channel_matrix_df"
   ],
   "metadata": {
    "collapsed": false,
    "ExecuteTime": {
     "end_time": "2023-12-10T18:44:26.971602085Z",
     "start_time": "2023-12-10T18:44:26.968065984Z"
    }
   },
   "id": "32b63c8352ed0960"
  }
 ],
 "metadata": {
  "kernelspec": {
   "display_name": "Python 3",
   "language": "python",
   "name": "python3"
  },
  "language_info": {
   "codemirror_mode": {
    "name": "ipython",
    "version": 2
   },
   "file_extension": ".py",
   "mimetype": "text/x-python",
   "name": "python",
   "nbconvert_exporter": "python",
   "pygments_lexer": "ipython2",
   "version": "2.7.6"
  }
 },
 "nbformat": 4,
 "nbformat_minor": 5
}
