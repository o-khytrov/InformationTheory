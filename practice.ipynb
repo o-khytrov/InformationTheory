{
 "cells": [
  {
   "cell_type": "code",
   "execution_count": 1,
   "id": "initial_id",
   "metadata": {
    "collapsed": true,
    "ExecuteTime": {
     "end_time": "2023-12-11T16:59:38.308647636Z",
     "start_time": "2023-12-11T16:59:37.372193563Z"
    }
   },
   "outputs": [],
   "source": [
    "import math\n",
    "import pandas as pd\n",
    "\n",
    "\n",
    "def distance(word1, word2):\n",
    "    d = 0\n",
    "    for i in range(len(word1)):\n",
    "        if word1[i] != word2[i]:\n",
    "            d += 1\n",
    "    return d"
   ]
  },
  {
   "cell_type": "code",
   "execution_count": 6,
   "outputs": [
    {
     "data": {
      "text/plain": "          0         1         2         3         4         5\n0  0.992547  0.006561  0.000729  0.000081  0.000081  0.000001\n1  0.006561  0.979507  0.000729  0.006561  0.006561  0.000081\n2  0.000729  0.000729  0.997075  0.000729  0.000009  0.000729\n3  0.000081  0.006561  0.000729  0.979507  0.006561  0.006561\n4  0.000081  0.006561  0.000009  0.006561  0.980227  0.006561\n5  0.000001  0.000081  0.000729  0.006561  0.006561  0.986067",
      "text/html": "<div>\n<style scoped>\n    .dataframe tbody tr th:only-of-type {\n        vertical-align: middle;\n    }\n\n    .dataframe tbody tr th {\n        vertical-align: top;\n    }\n\n    .dataframe thead th {\n        text-align: right;\n    }\n</style>\n<table border=\"1\" class=\"dataframe\">\n  <thead>\n    <tr style=\"text-align: right;\">\n      <th></th>\n      <th>0</th>\n      <th>1</th>\n      <th>2</th>\n      <th>3</th>\n      <th>4</th>\n      <th>5</th>\n    </tr>\n  </thead>\n  <tbody>\n    <tr>\n      <th>0</th>\n      <td>0.992547</td>\n      <td>0.006561</td>\n      <td>0.000729</td>\n      <td>0.000081</td>\n      <td>0.000081</td>\n      <td>0.000001</td>\n    </tr>\n    <tr>\n      <th>1</th>\n      <td>0.006561</td>\n      <td>0.979507</td>\n      <td>0.000729</td>\n      <td>0.006561</td>\n      <td>0.006561</td>\n      <td>0.000081</td>\n    </tr>\n    <tr>\n      <th>2</th>\n      <td>0.000729</td>\n      <td>0.000729</td>\n      <td>0.997075</td>\n      <td>0.000729</td>\n      <td>0.000009</td>\n      <td>0.000729</td>\n    </tr>\n    <tr>\n      <th>3</th>\n      <td>0.000081</td>\n      <td>0.006561</td>\n      <td>0.000729</td>\n      <td>0.979507</td>\n      <td>0.006561</td>\n      <td>0.006561</td>\n    </tr>\n    <tr>\n      <th>4</th>\n      <td>0.000081</td>\n      <td>0.006561</td>\n      <td>0.000009</td>\n      <td>0.006561</td>\n      <td>0.980227</td>\n      <td>0.006561</td>\n    </tr>\n    <tr>\n      <th>5</th>\n      <td>0.000001</td>\n      <td>0.000081</td>\n      <td>0.000729</td>\n      <td>0.006561</td>\n      <td>0.006561</td>\n      <td>0.986067</td>\n    </tr>\n  </tbody>\n</table>\n</div>"
     },
     "execution_count": 6,
     "metadata": {},
     "output_type": "execute_result"
    }
   ],
   "source": [
    "# \tF(А) = {(а1; 000000); (а2; 001001); (а3; 001110); (а4; 011011); (а5; 111001); (а6; 111111)}.\n",
    "codewords = [\"000000\", \"001001\", \"001110\", \"011011\", \"111001\", \"111111\"]\n",
    "codewords_list = list(codewords)\n",
    "pe = 1e-1\n",
    "prob_not_detecting_error_ai = []\n",
    "joint_matrix = []\n",
    "for i, code_a in enumerate(codewords_list):\n",
    "    joint_matrix.append([])\n",
    "    for j, code_b in enumerate(codewords_list):\n",
    "        d = distance(code_a, code_b)\n",
    "        n = len(code_b)\n",
    "        val = math.pow(pe, d) * math.pow(1 - pe, n - d)\n",
    "        joint_matrix[i].append(val)\n",
    "for i in range(len(codewords_list)):\n",
    "    sum = 0\n",
    "    for j in range(len(codewords_list)):\n",
    "        sum += joint_matrix[j][i]\n",
    "    joint_matrix[i][i] = 1 - sum + joint_matrix[i][i]\n",
    "    prob_not_detecting_error_ai.append(1 - joint_matrix[i][i])\n",
    "pd.DataFrame(joint_matrix)"
   ],
   "metadata": {
    "collapsed": false,
    "ExecuteTime": {
     "end_time": "2023-12-11T17:00:02.444383870Z",
     "start_time": "2023-12-11T17:00:02.433428715Z"
    }
   },
   "id": "8b365014c749d63a"
  },
  {
   "cell_type": "code",
   "execution_count": 7,
   "outputs": [
    {
     "name": "stdout",
     "output_type": "stream",
     "text": [
      "[0.007453000000000043, 0.020493000000000094, 0.0029249999999999554, 0.020493000000000094, 0.01977300000000004, 0.013932999999999973]\n"
     ]
    },
    {
     "data": {
      "text/plain": "          0\n0  0.007453\n1  0.020493\n2  0.002925\n3  0.020493\n4  0.019773\n5  0.013933",
      "text/html": "<div>\n<style scoped>\n    .dataframe tbody tr th:only-of-type {\n        vertical-align: middle;\n    }\n\n    .dataframe tbody tr th {\n        vertical-align: top;\n    }\n\n    .dataframe thead th {\n        text-align: right;\n    }\n</style>\n<table border=\"1\" class=\"dataframe\">\n  <thead>\n    <tr style=\"text-align: right;\">\n      <th></th>\n      <th>0</th>\n    </tr>\n  </thead>\n  <tbody>\n    <tr>\n      <th>0</th>\n      <td>0.007453</td>\n    </tr>\n    <tr>\n      <th>1</th>\n      <td>0.020493</td>\n    </tr>\n    <tr>\n      <th>2</th>\n      <td>0.002925</td>\n    </tr>\n    <tr>\n      <th>3</th>\n      <td>0.020493</td>\n    </tr>\n    <tr>\n      <th>4</th>\n      <td>0.019773</td>\n    </tr>\n    <tr>\n      <th>5</th>\n      <td>0.013933</td>\n    </tr>\n  </tbody>\n</table>\n</div>"
     },
     "execution_count": 7,
     "metadata": {},
     "output_type": "execute_result"
    }
   ],
   "source": [
    "prob_not_detecting_error_ai_df = pd.DataFrame(prob_not_detecting_error_ai)\n",
    "prob_not_detecting_error_ai_df"
   ],
   "metadata": {
    "collapsed": false,
    "ExecuteTime": {
     "end_time": "2023-12-11T17:23:51.108906084Z",
     "start_time": "2023-12-11T17:23:51.066519610Z"
    }
   },
   "id": "e5c4f1bce67f0b1e"
  },
  {
   "cell_type": "code",
   "execution_count": 3,
   "outputs": [
    {
     "data": {
      "text/plain": "              0         1         2         3             4             5\n0  1.488820e-01  0.000984  0.000109  0.000012  1.215000e-05  1.500000e-07\n1  6.561000e-04  0.097951  0.000073  0.000656  6.561000e-04  8.100000e-06\n2  3.645000e-05  0.000036  0.049854  0.000036  4.500000e-07  3.645000e-05\n3  2.430000e-05  0.001968  0.000219  0.293852  1.968300e-03  1.968300e-03\n4  2.025000e-05  0.001640  0.000002  0.001640  2.450567e-01  1.640250e-03\n5  1.500000e-07  0.000012  0.000109  0.000984  9.841500e-04  1.479100e-01",
      "text/html": "<div>\n<style scoped>\n    .dataframe tbody tr th:only-of-type {\n        vertical-align: middle;\n    }\n\n    .dataframe tbody tr th {\n        vertical-align: top;\n    }\n\n    .dataframe thead th {\n        text-align: right;\n    }\n</style>\n<table border=\"1\" class=\"dataframe\">\n  <thead>\n    <tr style=\"text-align: right;\">\n      <th></th>\n      <th>0</th>\n      <th>1</th>\n      <th>2</th>\n      <th>3</th>\n      <th>4</th>\n      <th>5</th>\n    </tr>\n  </thead>\n  <tbody>\n    <tr>\n      <th>0</th>\n      <td>1.488820e-01</td>\n      <td>0.000984</td>\n      <td>0.000109</td>\n      <td>0.000012</td>\n      <td>1.215000e-05</td>\n      <td>1.500000e-07</td>\n    </tr>\n    <tr>\n      <th>1</th>\n      <td>6.561000e-04</td>\n      <td>0.097951</td>\n      <td>0.000073</td>\n      <td>0.000656</td>\n      <td>6.561000e-04</td>\n      <td>8.100000e-06</td>\n    </tr>\n    <tr>\n      <th>2</th>\n      <td>3.645000e-05</td>\n      <td>0.000036</td>\n      <td>0.049854</td>\n      <td>0.000036</td>\n      <td>4.500000e-07</td>\n      <td>3.645000e-05</td>\n    </tr>\n    <tr>\n      <th>3</th>\n      <td>2.430000e-05</td>\n      <td>0.001968</td>\n      <td>0.000219</td>\n      <td>0.293852</td>\n      <td>1.968300e-03</td>\n      <td>1.968300e-03</td>\n    </tr>\n    <tr>\n      <th>4</th>\n      <td>2.025000e-05</td>\n      <td>0.001640</td>\n      <td>0.000002</td>\n      <td>0.001640</td>\n      <td>2.450567e-01</td>\n      <td>1.640250e-03</td>\n    </tr>\n    <tr>\n      <th>5</th>\n      <td>1.500000e-07</td>\n      <td>0.000012</td>\n      <td>0.000109</td>\n      <td>0.000984</td>\n      <td>9.841500e-04</td>\n      <td>1.479100e-01</td>\n    </tr>\n  </tbody>\n</table>\n</div>"
     },
     "execution_count": 3,
     "metadata": {},
     "output_type": "execute_result"
    }
   ],
   "source": [
    "from copy import deepcopy\n",
    "\n",
    "probabilities_list = [0.15, 0.1, 0.05, 0.3, 0.25, 0.15]\n",
    "channel_matrix = deepcopy(joint_matrix)\n",
    "for i in range(len(joint_matrix)):\n",
    "    for j in range(len(joint_matrix)):\n",
    "        channel_matrix[i][j] = joint_matrix[i][j] * probabilities_list[i]\n",
    "channel_matrix_df = pd.DataFrame(channel_matrix)\n",
    "channel_matrix_df"
   ],
   "metadata": {
    "collapsed": false,
    "ExecuteTime": {
     "end_time": "2023-12-11T16:59:38.354654299Z",
     "start_time": "2023-12-11T16:59:38.317637010Z"
    }
   },
   "id": "32b63c8352ed0960"
  },
  {
   "cell_type": "code",
   "execution_count": 4,
   "outputs": [
    {
     "data": {
      "text/plain": "                 0         1         2         3         4         5\n$p(b_j)$  0.149619  0.102592  0.050366  0.297181  0.248678  0.151563",
      "text/html": "<div>\n<style scoped>\n    .dataframe tbody tr th:only-of-type {\n        vertical-align: middle;\n    }\n\n    .dataframe tbody tr th {\n        vertical-align: top;\n    }\n\n    .dataframe thead th {\n        text-align: right;\n    }\n</style>\n<table border=\"1\" class=\"dataframe\">\n  <thead>\n    <tr style=\"text-align: right;\">\n      <th></th>\n      <th>0</th>\n      <th>1</th>\n      <th>2</th>\n      <th>3</th>\n      <th>4</th>\n      <th>5</th>\n    </tr>\n  </thead>\n  <tbody>\n    <tr>\n      <th>$p(b_j)$</th>\n      <td>0.149619</td>\n      <td>0.102592</td>\n      <td>0.050366</td>\n      <td>0.297181</td>\n      <td>0.248678</td>\n      <td>0.151563</td>\n    </tr>\n  </tbody>\n</table>\n</div>"
     },
     "execution_count": 4,
     "metadata": {},
     "output_type": "execute_result"
    }
   ],
   "source": [
    "column_sums = channel_matrix_df.sum()\n",
    "\n",
    "# Create a new DataFrame with a single row containing the column sums\n",
    "sums_df = pd.DataFrame([column_sums.values], columns=column_sums.index, index=[\"$p(b_j)$\"])\n",
    "sums_df\n"
   ],
   "metadata": {
    "collapsed": false,
    "ExecuteTime": {
     "end_time": "2023-12-11T16:59:38.363628565Z",
     "start_time": "2023-12-11T16:59:38.336683517Z"
    }
   },
   "id": "f61e4cbda681e1c8"
  },
  {
   "cell_type": "code",
   "execution_count": 5,
   "outputs": [
    {
     "data": {
      "text/plain": "          0         1         2         3         4             5\n0  0.995072  0.009593  0.002171  0.000041  0.000049  9.896855e-07\n1  0.004385  0.954760  0.001447  0.002208  0.002638  5.344302e-05\n2  0.000244  0.000355  0.989824  0.000123  0.000002  2.404936e-04\n3  0.000162  0.019186  0.004342  0.988798  0.007915  1.298665e-02\n4  0.000135  0.015988  0.000045  0.005519  0.985438  1.082221e-02\n5  0.000001  0.000118  0.002171  0.003312  0.003958  9.758962e-01",
      "text/html": "<div>\n<style scoped>\n    .dataframe tbody tr th:only-of-type {\n        vertical-align: middle;\n    }\n\n    .dataframe tbody tr th {\n        vertical-align: top;\n    }\n\n    .dataframe thead th {\n        text-align: right;\n    }\n</style>\n<table border=\"1\" class=\"dataframe\">\n  <thead>\n    <tr style=\"text-align: right;\">\n      <th></th>\n      <th>0</th>\n      <th>1</th>\n      <th>2</th>\n      <th>3</th>\n      <th>4</th>\n      <th>5</th>\n    </tr>\n  </thead>\n  <tbody>\n    <tr>\n      <th>0</th>\n      <td>0.995072</td>\n      <td>0.009593</td>\n      <td>0.002171</td>\n      <td>0.000041</td>\n      <td>0.000049</td>\n      <td>9.896855e-07</td>\n    </tr>\n    <tr>\n      <th>1</th>\n      <td>0.004385</td>\n      <td>0.954760</td>\n      <td>0.001447</td>\n      <td>0.002208</td>\n      <td>0.002638</td>\n      <td>5.344302e-05</td>\n    </tr>\n    <tr>\n      <th>2</th>\n      <td>0.000244</td>\n      <td>0.000355</td>\n      <td>0.989824</td>\n      <td>0.000123</td>\n      <td>0.000002</td>\n      <td>2.404936e-04</td>\n    </tr>\n    <tr>\n      <th>3</th>\n      <td>0.000162</td>\n      <td>0.019186</td>\n      <td>0.004342</td>\n      <td>0.988798</td>\n      <td>0.007915</td>\n      <td>1.298665e-02</td>\n    </tr>\n    <tr>\n      <th>4</th>\n      <td>0.000135</td>\n      <td>0.015988</td>\n      <td>0.000045</td>\n      <td>0.005519</td>\n      <td>0.985438</td>\n      <td>1.082221e-02</td>\n    </tr>\n    <tr>\n      <th>5</th>\n      <td>0.000001</td>\n      <td>0.000118</td>\n      <td>0.002171</td>\n      <td>0.003312</td>\n      <td>0.003958</td>\n      <td>9.758962e-01</td>\n    </tr>\n  </tbody>\n</table>\n</div>"
     },
     "execution_count": 5,
     "metadata": {},
     "output_type": "execute_result"
    }
   ],
   "source": [
    "channel_matrix_p_ai_bj = deepcopy(channel_matrix)\n",
    "for i, row in enumerate(channel_matrix_p_ai_bj):\n",
    "    for j, col in enumerate(row):\n",
    "        channel_matrix_p_ai_bj[i][j] = channel_matrix_p_ai_bj[i][j] / column_sums[j]\n",
    "pd.DataFrame(channel_matrix_p_ai_bj)"
   ],
   "metadata": {
    "collapsed": false,
    "ExecuteTime": {
     "end_time": "2023-12-11T16:59:38.443597417Z",
     "start_time": "2023-12-11T16:59:38.340635728Z"
    }
   },
   "id": "47c3099f258d79a8"
  }
 ],
 "metadata": {
  "kernelspec": {
   "display_name": "Python 3",
   "language": "python",
   "name": "python3"
  },
  "language_info": {
   "codemirror_mode": {
    "name": "ipython",
    "version": 2
   },
   "file_extension": ".py",
   "mimetype": "text/x-python",
   "name": "python",
   "nbconvert_exporter": "python",
   "pygments_lexer": "ipython2",
   "version": "2.7.6"
  }
 },
 "nbformat": 4,
 "nbformat_minor": 5
}
