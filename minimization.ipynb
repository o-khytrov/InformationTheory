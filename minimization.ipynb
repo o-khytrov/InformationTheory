{
 "cells": [
  {
   "cell_type": "code",
   "execution_count": 2,
   "id": "initial_id",
   "metadata": {
    "collapsed": true,
    "ExecuteTime": {
     "end_time": "2023-12-12T19:20:03.407527744Z",
     "start_time": "2023-12-12T19:20:03.112835494Z"
    }
   },
   "outputs": [],
   "source": [
    "import numpy as np\n",
    "import pandas as pd\n",
    "import math\n",
    "\n",
    "import common\n",
    "from common import *"
   ]
  },
  {
   "cell_type": "code",
   "execution_count": 3,
   "outputs": [],
   "source": [
    "occurrence_probabilities = [0.15, 0.1, 0.05, 0.3, 0.25, 0.15]\n",
    "codes = [\"000000\", \"001001\", \"001110\", \"011011\", \"111001\", \"111111\"]\n",
    "pe = 0.1"
   ],
   "metadata": {
    "collapsed": false,
    "ExecuteTime": {
     "end_time": "2023-12-12T19:20:03.407747258Z",
     "start_time": "2023-12-12T19:20:03.407394694Z"
    }
   },
   "id": "a15492c888496fe6"
  },
  {
   "cell_type": "code",
   "execution_count": 4,
   "outputs": [
    {
     "data": {
      "text/plain": "array([[0, 2, 3, 4, 4, 6],\n       [2, 0, 3, 2, 2, 4],\n       [3, 3, 0, 3, 5, 3],\n       [4, 2, 3, 0, 2, 2],\n       [4, 2, 5, 2, 0, 2],\n       [6, 4, 3, 2, 2, 0]])"
     },
     "execution_count": 4,
     "metadata": {},
     "output_type": "execute_result"
    }
   ],
   "source": [
    "distance_matrix = build_distance_matrix(codes)\n",
    "np.array(distance_matrix)"
   ],
   "metadata": {
    "collapsed": false,
    "ExecuteTime": {
     "end_time": "2023-12-12T19:20:03.408919349Z",
     "start_time": "2023-12-12T19:20:03.407632717Z"
    }
   },
   "id": "bc1506a8cb2e1ca2"
  },
  {
   "cell_type": "code",
   "execution_count": 5,
   "outputs": [
    {
     "data": {
      "text/plain": "array([[9.92547e-01, 6.56100e-03, 7.29000e-04, 8.10000e-05, 8.10000e-05,\n        1.00000e-06],\n       [6.56100e-03, 9.79507e-01, 7.29000e-04, 6.56100e-03, 6.56100e-03,\n        8.10000e-05],\n       [7.29000e-04, 7.29000e-04, 9.97075e-01, 7.29000e-04, 9.00000e-06,\n        7.29000e-04],\n       [8.10000e-05, 6.56100e-03, 7.29000e-04, 9.79507e-01, 6.56100e-03,\n        6.56100e-03],\n       [8.10000e-05, 6.56100e-03, 9.00000e-06, 6.56100e-03, 9.80227e-01,\n        6.56100e-03],\n       [1.00000e-06, 8.10000e-05, 7.29000e-04, 6.56100e-03, 6.56100e-03,\n        9.86067e-01]])"
     },
     "execution_count": 5,
     "metadata": {},
     "output_type": "execute_result"
    }
   ],
   "source": [
    "channel_matrix = build_channel_matrix(codes, pe)\n",
    "np.array(channel_matrix)"
   ],
   "metadata": {
    "collapsed": false,
    "ExecuteTime": {
     "end_time": "2023-12-12T19:20:03.409145289Z",
     "start_time": "2023-12-12T19:20:03.407722394Z"
    }
   },
   "id": "394bf94485f01766"
  },
  {
   "cell_type": "code",
   "execution_count": 6,
   "outputs": [
    {
     "data": {
      "text/plain": "array([0.007453, 0.020493, 0.002925, 0.020493, 0.019773, 0.013933])"
     },
     "execution_count": 6,
     "metadata": {},
     "output_type": "execute_result"
    }
   ],
   "source": [
    "undetected_error_probabilities = get_undetected_error_probabilities(channel_matrix)\n",
    "np.array(undetected_error_probabilities)"
   ],
   "metadata": {
    "collapsed": false,
    "ExecuteTime": {
     "end_time": "2023-12-12T19:20:03.410065599Z",
     "start_time": "2023-12-12T19:20:03.407802433Z"
    }
   },
   "id": "69f032a94c644690"
  },
  {
   "cell_type": "code",
   "execution_count": 7,
   "outputs": [
    {
     "data": {
      "text/plain": "array([0.00111795, 0.0020493 , 0.00014625, 0.0061479 , 0.00494325,\n       0.00208995])"
     },
     "execution_count": 7,
     "metadata": {},
     "output_type": "execute_result"
    }
   ],
   "source": [
    "undetected_error_over_occurrence_probabilities = np.multiply(undetected_error_probabilities, occurrence_probabilities)\n",
    "undetected_error_over_occurrence_probabilities"
   ],
   "metadata": {
    "collapsed": false,
    "ExecuteTime": {
     "end_time": "2023-12-12T19:20:03.541956627Z",
     "start_time": "2023-12-12T19:20:03.407874370Z"
    }
   },
   "id": "6b96c04e06ac13f1"
  },
  {
   "cell_type": "code",
   "execution_count": 8,
   "outputs": [
    {
     "data": {
      "text/plain": "0.016494600000000005"
     },
     "execution_count": 8,
     "metadata": {},
     "output_type": "execute_result"
    }
   ],
   "source": [
    "undetected_error_probability = sum(undetected_error_over_occurrence_probabilities)\n",
    "undetected_error_probability"
   ],
   "metadata": {
    "collapsed": false,
    "ExecuteTime": {
     "end_time": "2023-12-12T19:20:03.542352981Z",
     "start_time": "2023-12-12T19:20:03.537415069Z"
    }
   },
   "id": "74700fc5bc4e794b"
  },
  {
   "cell_type": "markdown",
   "source": [
    "Побудуємо допоміжну матрицю для розрахунку загальної умовної ентропії."
   ],
   "metadata": {
    "collapsed": false
   },
   "id": "fd6fcb2dca5a52b5"
  },
  {
   "cell_type": "code",
   "execution_count": 9,
   "outputs": [
    {
     "data": {
      "text/plain": "array([[1.07122374e-02, 4.75795096e-02, 7.59748751e-03, 1.10092920e-03,\n        1.10092920e-03, 1.99315686e-05],\n       [4.75795096e-02, 2.92601193e-02, 7.59748751e-03, 4.75795096e-02,\n        4.75795096e-02, 1.10092920e-03],\n       [7.59748751e-03, 7.59748751e-03, 4.21370539e-03, 7.59748751e-03,\n        1.50854792e-04, 7.59748751e-03],\n       [1.10092920e-03, 4.75795096e-02, 7.59748751e-03, 2.92601193e-02,\n        4.75795096e-02, 4.75795096e-02],\n       [1.10092920e-03, 4.75795096e-02, 1.50854792e-04, 4.75795096e-02,\n        2.82425053e-02, 4.75795096e-02],\n       [1.99315686e-05, 1.10092920e-03, 7.59748751e-03, 4.75795096e-02,\n        4.75795096e-02, 1.99603810e-02]])"
     },
     "execution_count": 9,
     "metadata": {},
     "output_type": "execute_result"
    }
   ],
   "source": [
    "conditional_entropy_matrix = build_conditional_entropy_matrix(channel_matrix)\n",
    "conditional_entropy_matrix"
   ],
   "metadata": {
    "collapsed": false,
    "ExecuteTime": {
     "end_time": "2023-12-12T19:20:03.545767775Z",
     "start_time": "2023-12-12T19:20:03.542280136Z"
    }
   },
   "id": "793bf76eb01c1313"
  },
  {
   "cell_type": "code",
   "execution_count": 10,
   "outputs": [
    {
     "data": {
      "text/plain": "array([0.06811102, 0.18069706, 0.03475451, 0.18069706, 0.17223282,\n       0.12383775])"
     },
     "execution_count": 10,
     "metadata": {},
     "output_type": "execute_result"
    }
   ],
   "source": [
    "entropy_sums = np.sum(conditional_entropy_matrix, axis=1)\n",
    "entropy_sums"
   ],
   "metadata": {
    "collapsed": false,
    "ExecuteTime": {
     "end_time": "2023-12-12T19:20:03.552339994Z",
     "start_time": "2023-12-12T19:20:03.546396215Z"
    }
   },
   "id": "f34b5f87644e95ad"
  },
  {
   "cell_type": "markdown",
   "source": [
    "Загальна умовна ентропія $H(B/А)$"
   ],
   "metadata": {
    "collapsed": false
   },
   "id": "31085acfed23510d"
  },
  {
   "cell_type": "code",
   "execution_count": 11,
   "outputs": [
    {
     "data": {
      "text/plain": "0.14586707200681168"
     },
     "execution_count": 11,
     "metadata": {},
     "output_type": "execute_result"
    }
   ],
   "source": [
    "entropy_over_occurrence = np.multiply(occurrence_probabilities, entropy_sums)\n",
    "total_conditional_entropy = sum(entropy_over_occurrence)\n",
    "total_conditional_entropy"
   ],
   "metadata": {
    "collapsed": false,
    "ExecuteTime": {
     "end_time": "2023-12-12T19:20:03.582692988Z",
     "start_time": "2023-12-12T19:20:03.551821835Z"
    }
   },
   "id": "a9b6cccd4724057f"
  },
  {
   "cell_type": "markdown",
   "source": [
    "Мінімізація кодового відображення за ймовірністю невиявлення помилок"
   ],
   "metadata": {
    "collapsed": false
   },
   "id": "923fba141d8da3ff"
  },
  {
   "cell_type": "code",
   "execution_count": 12,
   "outputs": [
    {
     "data": {
      "text/plain": "  symbol    code  P(ai)   Pнп(ai)  P(ai)Pнп(ai)   entropy  \\\n0    a_0  000000   0.15  0.007453      0.001118  0.068111   \n1    a_1  001001   0.10  0.020493      0.002049  0.180697   \n2    a_2  001110   0.05  0.002925      0.000146  0.034755   \n3    a_3  011011   0.30  0.020493      0.006148  0.180697   \n4    a_4  111001   0.25  0.019773      0.004943  0.172233   \n5    a_5  111111   0.15  0.013933      0.002090  0.123838   \n\n   entropy_over_occurrence  \n0                 0.010217  \n1                 0.018070  \n2                 0.001738  \n3                 0.054209  \n4                 0.043058  \n5                 0.018576  ",
      "text/html": "<div>\n<style scoped>\n    .dataframe tbody tr th:only-of-type {\n        vertical-align: middle;\n    }\n\n    .dataframe tbody tr th {\n        vertical-align: top;\n    }\n\n    .dataframe thead th {\n        text-align: right;\n    }\n</style>\n<table border=\"1\" class=\"dataframe\">\n  <thead>\n    <tr style=\"text-align: right;\">\n      <th></th>\n      <th>symbol</th>\n      <th>code</th>\n      <th>P(ai)</th>\n      <th>Pнп(ai)</th>\n      <th>P(ai)Pнп(ai)</th>\n      <th>entropy</th>\n      <th>entropy_over_occurrence</th>\n    </tr>\n  </thead>\n  <tbody>\n    <tr>\n      <th>0</th>\n      <td>a_0</td>\n      <td>000000</td>\n      <td>0.15</td>\n      <td>0.007453</td>\n      <td>0.001118</td>\n      <td>0.068111</td>\n      <td>0.010217</td>\n    </tr>\n    <tr>\n      <th>1</th>\n      <td>a_1</td>\n      <td>001001</td>\n      <td>0.10</td>\n      <td>0.020493</td>\n      <td>0.002049</td>\n      <td>0.180697</td>\n      <td>0.018070</td>\n    </tr>\n    <tr>\n      <th>2</th>\n      <td>a_2</td>\n      <td>001110</td>\n      <td>0.05</td>\n      <td>0.002925</td>\n      <td>0.000146</td>\n      <td>0.034755</td>\n      <td>0.001738</td>\n    </tr>\n    <tr>\n      <th>3</th>\n      <td>a_3</td>\n      <td>011011</td>\n      <td>0.30</td>\n      <td>0.020493</td>\n      <td>0.006148</td>\n      <td>0.180697</td>\n      <td>0.054209</td>\n    </tr>\n    <tr>\n      <th>4</th>\n      <td>a_4</td>\n      <td>111001</td>\n      <td>0.25</td>\n      <td>0.019773</td>\n      <td>0.004943</td>\n      <td>0.172233</td>\n      <td>0.043058</td>\n    </tr>\n    <tr>\n      <th>5</th>\n      <td>a_5</td>\n      <td>111111</td>\n      <td>0.15</td>\n      <td>0.013933</td>\n      <td>0.002090</td>\n      <td>0.123838</td>\n      <td>0.018576</td>\n    </tr>\n  </tbody>\n</table>\n</div>"
     },
     "execution_count": 12,
     "metadata": {},
     "output_type": "execute_result"
    }
   ],
   "source": [
    "final_table = {\"symbol\": [f\"a_{i}\" for i in range(len(codes))],\n",
    "               \"code\": codes,\n",
    "               \"P(ai)\": occurrence_probabilities,\n",
    "               \"Pнп(ai)\": undetected_error_probabilities,\n",
    "               \"P(ai)Pнп(ai)\": undetected_error_over_occurrence_probabilities,\n",
    "               \"entropy\": entropy_sums,\n",
    "               \"entropy_over_occurrence\": entropy_over_occurrence}\n",
    "final_df = pd.DataFrame(final_table)\n",
    "final_df"
   ],
   "metadata": {
    "collapsed": false,
    "ExecuteTime": {
     "end_time": "2023-12-12T19:20:03.583142632Z",
     "start_time": "2023-12-12T19:20:03.582332463Z"
    }
   },
   "id": "1869a325f22fe64c"
  },
  {
   "cell_type": "code",
   "execution_count": 13,
   "outputs": [
    {
     "data": {
      "text/plain": "  symbol    code  P(ai)   Pнп(ai)  P(ai)Pнп(ai)   entropy  \\\n1    a_1  001001   0.10  0.020493      0.002049  0.180697   \n3    a_3  011011   0.30  0.020493      0.006148  0.180697   \n4    a_4  111001   0.25  0.019773      0.004943  0.172233   \n5    a_5  111111   0.15  0.013933      0.002090  0.123838   \n0    a_0  000000   0.15  0.007453      0.001118  0.068111   \n2    a_2  001110   0.05  0.002925      0.000146  0.034755   \n\n   entropy_over_occurrence  \n1                 0.018070  \n3                 0.054209  \n4                 0.043058  \n5                 0.018576  \n0                 0.010217  \n2                 0.001738  ",
      "text/html": "<div>\n<style scoped>\n    .dataframe tbody tr th:only-of-type {\n        vertical-align: middle;\n    }\n\n    .dataframe tbody tr th {\n        vertical-align: top;\n    }\n\n    .dataframe thead th {\n        text-align: right;\n    }\n</style>\n<table border=\"1\" class=\"dataframe\">\n  <thead>\n    <tr style=\"text-align: right;\">\n      <th></th>\n      <th>symbol</th>\n      <th>code</th>\n      <th>P(ai)</th>\n      <th>Pнп(ai)</th>\n      <th>P(ai)Pнп(ai)</th>\n      <th>entropy</th>\n      <th>entropy_over_occurrence</th>\n    </tr>\n  </thead>\n  <tbody>\n    <tr>\n      <th>1</th>\n      <td>a_1</td>\n      <td>001001</td>\n      <td>0.10</td>\n      <td>0.020493</td>\n      <td>0.002049</td>\n      <td>0.180697</td>\n      <td>0.018070</td>\n    </tr>\n    <tr>\n      <th>3</th>\n      <td>a_3</td>\n      <td>011011</td>\n      <td>0.30</td>\n      <td>0.020493</td>\n      <td>0.006148</td>\n      <td>0.180697</td>\n      <td>0.054209</td>\n    </tr>\n    <tr>\n      <th>4</th>\n      <td>a_4</td>\n      <td>111001</td>\n      <td>0.25</td>\n      <td>0.019773</td>\n      <td>0.004943</td>\n      <td>0.172233</td>\n      <td>0.043058</td>\n    </tr>\n    <tr>\n      <th>5</th>\n      <td>a_5</td>\n      <td>111111</td>\n      <td>0.15</td>\n      <td>0.013933</td>\n      <td>0.002090</td>\n      <td>0.123838</td>\n      <td>0.018576</td>\n    </tr>\n    <tr>\n      <th>0</th>\n      <td>a_0</td>\n      <td>000000</td>\n      <td>0.15</td>\n      <td>0.007453</td>\n      <td>0.001118</td>\n      <td>0.068111</td>\n      <td>0.010217</td>\n    </tr>\n    <tr>\n      <th>2</th>\n      <td>a_2</td>\n      <td>001110</td>\n      <td>0.05</td>\n      <td>0.002925</td>\n      <td>0.000146</td>\n      <td>0.034755</td>\n      <td>0.001738</td>\n    </tr>\n  </tbody>\n</table>\n</div>"
     },
     "execution_count": 13,
     "metadata": {},
     "output_type": "execute_result"
    }
   ],
   "source": [
    "# Sort by Column1 in ascending order and by Column2 in descending order\n",
    "min_df = final_df.sort_values(by=[\"Pнп(ai)\"], ascending=[False ])\n",
    "min_df"
   ],
   "metadata": {
    "collapsed": false,
    "ExecuteTime": {
     "end_time": "2023-12-12T19:20:03.584382680Z",
     "start_time": "2023-12-12T19:20:03.582511119Z"
    }
   },
   "id": "a7b842ff1b5e1046"
  },
  {
   "cell_type": "code",
   "execution_count": 14,
   "outputs": [
    {
     "data": {
      "text/plain": "array([[0, 2, 2, 4, 2, 3],\n       [2, 0, 2, 2, 4, 3],\n       [2, 2, 0, 2, 4, 5],\n       [4, 2, 2, 0, 6, 3],\n       [2, 4, 4, 6, 0, 3],\n       [3, 3, 5, 3, 3, 0]])"
     },
     "execution_count": 14,
     "metadata": {},
     "output_type": "execute_result"
    }
   ],
   "source": [
    "min_codes = min_df[\"code\"].tolist()\n",
    "distance_matrix_min = build_distance_matrix(min_codes)\n",
    "np.array(distance_matrix_min)"
   ],
   "metadata": {
    "collapsed": false,
    "ExecuteTime": {
     "end_time": "2023-12-12T19:20:03.587464048Z",
     "start_time": "2023-12-12T19:20:03.582604428Z"
    }
   },
   "id": "ba98fe48d756a6cf"
  },
  {
   "cell_type": "code",
   "execution_count": 15,
   "outputs": [
    {
     "data": {
      "text/plain": "['001001', '011011', '111001', '111111', '000000', '001110']"
     },
     "execution_count": 15,
     "metadata": {},
     "output_type": "execute_result"
    }
   ],
   "source": [
    "min_codes"
   ],
   "metadata": {
    "collapsed": false,
    "ExecuteTime": {
     "end_time": "2023-12-12T19:20:03.591794752Z",
     "start_time": "2023-12-12T19:20:03.585493450Z"
    }
   },
   "id": "b10f988bec00fe2d"
  },
  {
   "cell_type": "code",
   "execution_count": 16,
   "outputs": [
    {
     "data": {
      "text/plain": "array([[9.79507e-01, 6.56100e-03, 6.56100e-03, 8.10000e-05, 6.56100e-03,\n        7.29000e-04],\n       [6.56100e-03, 9.79507e-01, 6.56100e-03, 6.56100e-03, 8.10000e-05,\n        7.29000e-04],\n       [6.56100e-03, 6.56100e-03, 9.80227e-01, 6.56100e-03, 8.10000e-05,\n        9.00000e-06],\n       [8.10000e-05, 6.56100e-03, 6.56100e-03, 9.86067e-01, 1.00000e-06,\n        7.29000e-04],\n       [6.56100e-03, 8.10000e-05, 8.10000e-05, 1.00000e-06, 9.92547e-01,\n        7.29000e-04],\n       [7.29000e-04, 7.29000e-04, 9.00000e-06, 7.29000e-04, 7.29000e-04,\n        9.97075e-01]])"
     },
     "execution_count": 16,
     "metadata": {},
     "output_type": "execute_result"
    }
   ],
   "source": [
    "channel_matrix_min = build_channel_matrix(min_codes, pe)\n",
    "np.array(channel_matrix_min)"
   ],
   "metadata": {
    "collapsed": false,
    "ExecuteTime": {
     "end_time": "2023-12-12T19:20:03.773180840Z",
     "start_time": "2023-12-12T19:20:03.589212198Z"
    }
   },
   "id": "8bad6339f224105e"
  },
  {
   "cell_type": "code",
   "execution_count": 17,
   "outputs": [
    {
     "data": {
      "text/plain": "array([0.00307395, 0.0020493 , 0.00098865, 0.0041799 , 0.00186325,\n       0.00043875])"
     },
     "execution_count": 17,
     "metadata": {},
     "output_type": "execute_result"
    }
   ],
   "source": [
    "undetected_error_probabilities_min = get_undetected_error_probabilities(channel_matrix_min)\n",
    "np.array(undetected_error_probabilities_min)\n",
    "error_probabilities_min = np.multiply(undetected_error_probabilities_min, occurrence_probabilities)\n",
    "error_probabilities_min"
   ],
   "metadata": {
    "collapsed": false,
    "ExecuteTime": {
     "end_time": "2023-12-12T19:20:03.791940381Z",
     "start_time": "2023-12-12T19:20:03.742522566Z"
    }
   },
   "id": "3415b3847495a693"
  },
  {
   "cell_type": "code",
   "execution_count": 18,
   "outputs": [
    {
     "data": {
      "text/plain": "0.0039008000000000115"
     },
     "execution_count": 18,
     "metadata": {},
     "output_type": "execute_result"
    }
   ],
   "source": [
    "undetected_error_probability_min = sum(error_probabilities_min)\n",
    "undetected_error_probability-undetected_error_probability_min"
   ],
   "metadata": {
    "collapsed": false,
    "ExecuteTime": {
     "end_time": "2023-12-12T19:20:05.673822579Z",
     "start_time": "2023-12-12T19:20:05.669926084Z"
    }
   },
   "id": "e5f61ceb4ceb4665"
  }
 ],
 "metadata": {
  "kernelspec": {
   "display_name": "Python 3",
   "language": "python",
   "name": "python3"
  },
  "language_info": {
   "codemirror_mode": {
    "name": "ipython",
    "version": 2
   },
   "file_extension": ".py",
   "mimetype": "text/x-python",
   "name": "python",
   "nbconvert_exporter": "python",
   "pygments_lexer": "ipython2",
   "version": "2.7.6"
  }
 },
 "nbformat": 4,
 "nbformat_minor": 5
}
