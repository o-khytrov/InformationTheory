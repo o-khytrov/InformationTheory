{
 "cells": [
  {
   "cell_type": "code",
   "execution_count": 1,
   "outputs": [],
   "source": [
    "import math\n",
    "import pandas as pd\n",
    "import numpy as np"
   ],
   "metadata": {
    "collapsed": false,
    "ExecuteTime": {
     "end_time": "2023-12-11T10:44:05.493064374Z",
     "start_time": "2023-12-11T10:44:05.322079438Z"
    }
   },
   "id": "c0d1743fecf84628"
  },
  {
   "cell_type": "code",
   "execution_count": 2,
   "id": "initial_id",
   "metadata": {
    "collapsed": true,
    "ExecuteTime": {
     "end_time": "2023-12-11T10:44:05.498007365Z",
     "start_time": "2023-12-11T10:44:05.494162359Z"
    }
   },
   "outputs": [],
   "source": [
    "alphabet = [' ', ',', '.', 'А', 'Г', 'Л', 'Ж', 'Е', 'У', 'М', 'Ц', 'Р']"
   ]
  },
  {
   "cell_type": "code",
   "execution_count": 3,
   "outputs": [],
   "source": [
    "input_text = \"\"\"\n",
    "4 Веста (символ: ⚶) — астероїд, один із найбільших об'єктів у поясі астероїдів (середній діаметр 525 км). Відкритий 29 березня 1807 року німецьким астроном Генріхом Ольберсом і названий на честь Вести, богині дому та вогнища в римській міфології. Вважається, що Веста є другим об'єктом у поясі астероїдів за масою та за об'ємом після карликової планети Церери, хоч об'єм Вести (у межах похибки вимірювань) дорівнює об'єму Паллади. На Весту припадає близько 9 % маси поясу астероїдів. Для наземного спостерігача Веста є найяскравішим астероїдом. Її яскравість може досягати 5,1 зоряної величини, і в такі моменти її, хоч і слабко, видно неозброєним оком. 1,2 мільярда років тому Веста зазнала зіткнень з іншими об'єктами, що спричинили формування численних уламків та двох величезних кратерів, які займають більшу частину південної півкулі астероїда. Найбільше інформації про поверхню Вести відомо завдяки американському космічному апарату «Dawn», який дослідив астероїд в 2011—2012 роках. \n",
    "\"\"\".upper()"
   ],
   "metadata": {
    "collapsed": false,
    "ExecuteTime": {
     "end_time": "2023-12-11T10:44:05.518303354Z",
     "start_time": "2023-12-11T10:44:05.498131893Z"
    }
   },
   "id": "7507b5a193d7c0c2"
  },
  {
   "cell_type": "code",
   "execution_count": 4,
   "outputs": [
    {
     "name": "stdout",
     "output_type": "stream",
     "text": [
      "\n",
      "4 ВЕСТА (СИМВОЛ: ⚶) — АСТЕРОЇД, ОДИН ІЗ НАЙБІЛЬШИХ ОБ'ЄКТІВ У ПОЯСІ АСТЕРОЇДІВ (СЕРЕДНІЙ ДІАМЕТР 525 КМ). ВІДКРИТИЙ 29 БЕРЕЗНЯ 1807 РОКУ НІМЕЦЬКИМ АСТРОНОМ ГЕНРІХОМ ОЛЬБЕРСОМ І НАЗВАНИЙ НА ЧЕСТЬ ВЕСТИ, БОГИНІ ДОМУ ТА ВОГНИЩА В РИМСЬКІЙ МІФОЛОГІЇ. ВВАЖАЄТЬСЯ, ЩО ВЕСТА Є ДРУГИМ ОБ'ЄКТОМ У ПОЯСІ АСТЕРОЇДІВ ЗА МАСОЮ ТА ЗА ОБ'ЄМОМ ПІСЛЯ КАРЛИКОВОЇ ПЛАНЕТИ ЦЕРЕРИ, ХОЧ ОБ'ЄМ ВЕСТИ (У МЕЖАХ ПОХИБКИ ВИМІРЮВАНЬ) ДОРІВНЮЄ ОБ'ЄМУ ПАЛЛАДИ. НА ВЕСТУ ПРИПАДАЄ БЛИЗЬКО 9 % МАСИ ПОЯСУ АСТЕРОЇДІВ. ДЛЯ НАЗЕМНОГО СПОСТЕРІГАЧА ВЕСТА Є НАЙЯСКРАВІШИМ АСТЕРОЇДОМ. ЇЇ ЯСКРАВІСТЬ МОЖЕ ДОСЯГАТИ 5,1 ЗОРЯНОЇ ВЕЛИЧИНИ, І В ТАКІ МОМЕНТИ ЇЇ, ХОЧ І СЛАБКО, ВИДНО НЕОЗБРОЄНИМ ОКОМ. 1,2 МІЛЬЯРДА РОКІВ ТОМУ ВЕСТА ЗАЗНАЛА ЗІТКНЕНЬ З ІНШИМИ ОБ'ЄКТАМИ, ЩО СПРИЧИНИЛИ ФОРМУВАННЯ ЧИСЛЕННИХ УЛАМКІВ ТА ДВОХ ВЕЛИЧЕЗНИХ КРАТЕРІВ, ЯКІ ЗАЙМАЮТЬ БІЛЬШУ ЧАСТИНУ ПІВДЕННОЇ ПІВКУЛІ АСТЕРОЇДА. НАЙБІЛЬШЕ ІНФОРМАЦІЇ ПРО ПОВЕРХНЮ ВЕСТИ ВІДОМО ЗАВДЯКИ АМЕРИКАНСЬКОМУ КОСМІЧНОМУ АПАРАТУ «DAWN», ЯКИЙ ДОСЛІДИВ АСТЕРОЇД В 2011—2012 РОКАХ. \n"
     ]
    }
   ],
   "source": [
    "print(input_text)"
   ],
   "metadata": {
    "collapsed": false,
    "ExecuteTime": {
     "end_time": "2023-12-11T10:44:05.524428420Z",
     "start_time": "2023-12-11T10:44:05.517673170Z"
    }
   },
   "id": "d77047bc6e6df3f5"
  },
  {
   "cell_type": "code",
   "execution_count": 5,
   "outputs": [
    {
     "name": "stdout",
     "output_type": "stream",
     "text": [
      " ЕА МЛ   АЕР,   АЛ  У  АЕР ЕРЕ АМЕР  М. Р  ЕРЕ  РУ МЕЦМ АРМ ГЕРМ ЛЕРМ  АА А Е Е, Г МУ А ГА  РМ МЛГ. АЖА,  ЕА  РУГМ М У  АЕР А МА А А ММ Л АРЛ ЛАЕ ЦЕРЕР,  М Е У МЕЖА  МРА Р МУ АЛЛА. А ЕУ РАА Л   МА У АЕР. Л АЕМГ ЕРГАА ЕА  АРАМ АЕРМ.  РА МЖЕ ГА , Р ЕЛ,   А ММЕ ,   ЛА,  ЕРМ М. , МЛРА Р МУ ЕА ААЛА Е  М АМ,  РЛ РМУА ЛЕ УЛАМ А  ЕЛЕ РАЕР,  АМА ЛУ АУ Е УЛ АЕРА. АЛЕ РМАЦ Р ЕР Е М А АМЕРАМУ ММУ ААРАУ ,  Л АЕР   РА. \n"
     ]
    }
   ],
   "source": [
    "filtered_text = \"\"\n",
    "for c in input_text:\n",
    "    if c in alphabet:\n",
    "        filtered_text += c;\n",
    "print(filtered_text)"
   ],
   "metadata": {
    "collapsed": false,
    "ExecuteTime": {
     "end_time": "2023-12-11T10:44:05.569087641Z",
     "start_time": "2023-12-11T10:44:05.523744109Z"
    }
   },
   "id": "38dac68bf64d2134"
  },
  {
   "cell_type": "markdown",
   "source": [
    "# Опис джерела інформації\n",
    "## Потужність множини $A$ дорівніює кількості символів $a_i$ первинного алфавіту"
   ],
   "metadata": {
    "collapsed": false
   },
   "id": "7dc770e8f7ecafdc"
  },
  {
   "cell_type": "code",
   "execution_count": 6,
   "outputs": [
    {
     "name": "stdout",
     "output_type": "stream",
     "text": [
      "12\n"
     ]
    }
   ],
   "source": [
    "print(len(alphabet))"
   ],
   "metadata": {
    "collapsed": false,
    "ExecuteTime": {
     "end_time": "2023-12-11T10:44:05.569328665Z",
     "start_time": "2023-12-11T10:44:05.568839004Z"
    }
   },
   "id": "cca7d5b96fe7ff8a"
  },
  {
   "cell_type": "markdown",
   "source": [
    "### Ймовірністі $P(a_i)$ появи симмолів первинного алфавіту визначаються за формулою\n",
    " $$ P(a_i) = \\frac{N(a_i)}{N}$$\n",
    "де $N(a_i)$ - кількість появ символу $a_i$ у профільтрованому тексті, $N$ - кількість всіх символів у профільтрованому тексті"
   ],
   "metadata": {
    "collapsed": false
   },
   "id": "d4084f22b438df36"
  },
  {
   "cell_type": "code",
   "execution_count": 7,
   "outputs": [
    {
     "data": {
      "text/plain": "             ,  .   А  Г   Л  Ж   Е   У   М  Ц   Р\nCount  143  12  8  66  8  23  3  43  18  42  3  40",
      "text/html": "<div>\n<style scoped>\n    .dataframe tbody tr th:only-of-type {\n        vertical-align: middle;\n    }\n\n    .dataframe tbody tr th {\n        vertical-align: top;\n    }\n\n    .dataframe thead th {\n        text-align: right;\n    }\n</style>\n<table border=\"1\" class=\"dataframe\">\n  <thead>\n    <tr style=\"text-align: right;\">\n      <th></th>\n      <th></th>\n      <th>,</th>\n      <th>.</th>\n      <th>А</th>\n      <th>Г</th>\n      <th>Л</th>\n      <th>Ж</th>\n      <th>Е</th>\n      <th>У</th>\n      <th>М</th>\n      <th>Ц</th>\n      <th>Р</th>\n    </tr>\n  </thead>\n  <tbody>\n    <tr>\n      <th>Count</th>\n      <td>143</td>\n      <td>12</td>\n      <td>8</td>\n      <td>66</td>\n      <td>8</td>\n      <td>23</td>\n      <td>3</td>\n      <td>43</td>\n      <td>18</td>\n      <td>42</td>\n      <td>3</td>\n      <td>40</td>\n    </tr>\n  </tbody>\n</table>\n</div>"
     },
     "execution_count": 7,
     "metadata": {},
     "output_type": "execute_result"
    }
   ],
   "source": [
    "character_map = {c: 0 for c in alphabet}\n",
    "for c in filtered_text:\n",
    "    if c in character_map.keys():\n",
    "        character_map[c] = character_map[c] + 1\n",
    "    else:\n",
    "        character_map[c] = 1\n",
    "character_map_df = pd.DataFrame(character_map, index=[\"Count\"])\n",
    "with open('./latex_tables/character_count.tex', 'w') as tf:\n",
    "    tf.write(character_map_df.to_latex())\n",
    "character_map_df"
   ],
   "metadata": {
    "collapsed": false,
    "ExecuteTime": {
     "end_time": "2023-12-11T10:44:05.588878882Z",
     "start_time": "2023-12-11T10:44:05.568952567Z"
    }
   },
   "id": "9197cc59df40b5fd"
  },
  {
   "cell_type": "code",
   "execution_count": 8,
   "outputs": [
    {
     "data": {
      "text/plain": "                             ,        .         А        Г         Л  \\\nProbability  0.349633  0.02934  0.01956  0.161369  0.01956  0.056235   \n\n                    Ж         Е        У         М         Ц       Р  \nProbability  0.007335  0.105134  0.04401  0.102689  0.007335  0.0978  ",
      "text/html": "<div>\n<style scoped>\n    .dataframe tbody tr th:only-of-type {\n        vertical-align: middle;\n    }\n\n    .dataframe tbody tr th {\n        vertical-align: top;\n    }\n\n    .dataframe thead th {\n        text-align: right;\n    }\n</style>\n<table border=\"1\" class=\"dataframe\">\n  <thead>\n    <tr style=\"text-align: right;\">\n      <th></th>\n      <th></th>\n      <th>,</th>\n      <th>.</th>\n      <th>А</th>\n      <th>Г</th>\n      <th>Л</th>\n      <th>Ж</th>\n      <th>Е</th>\n      <th>У</th>\n      <th>М</th>\n      <th>Ц</th>\n      <th>Р</th>\n    </tr>\n  </thead>\n  <tbody>\n    <tr>\n      <th>Probability</th>\n      <td>0.349633</td>\n      <td>0.02934</td>\n      <td>0.01956</td>\n      <td>0.161369</td>\n      <td>0.01956</td>\n      <td>0.056235</td>\n      <td>0.007335</td>\n      <td>0.105134</td>\n      <td>0.04401</td>\n      <td>0.102689</td>\n      <td>0.007335</td>\n      <td>0.0978</td>\n    </tr>\n  </tbody>\n</table>\n</div>"
     },
     "execution_count": 8,
     "metadata": {},
     "output_type": "execute_result"
    }
   ],
   "source": [
    "probabilities = {}\n",
    "for c in alphabet:\n",
    "    probabilities[c] = (character_map[c] / len(filtered_text))\n",
    "probabilities_df = pd.DataFrame(probabilities, index=[\"Probability\"])\n",
    "with open('./latex_tables/probabilities.tex', 'w') as tf:\n",
    "    tf.write(probabilities_df.to_latex())\n",
    "probabilities_df"
   ],
   "metadata": {
    "collapsed": false,
    "ExecuteTime": {
     "end_time": "2023-12-11T10:44:05.664544768Z",
     "start_time": "2023-12-11T10:44:05.589368823Z"
    }
   },
   "id": "83281ce3aba332d8"
  },
  {
   "cell_type": "markdown",
   "source": [
    " Сума всіх ймовірностей $P(a_i)$ повинна дорівнювати одиниці, тобто\n",
    " $$\\[ \\sum_{i=1}^{|A|} P(a_i) = 1 \\]$$"
   ],
   "metadata": {
    "collapsed": false
   },
   "id": "1e30b09c964e5ddb"
  },
  {
   "cell_type": "code",
   "execution_count": 9,
   "outputs": [
    {
     "name": "stdout",
     "output_type": "stream",
     "text": [
      "0.9999999999999999\n"
     ]
    }
   ],
   "source": [
    "print(sum(probabilities.values()))"
   ],
   "metadata": {
    "collapsed": false,
    "ExecuteTime": {
     "end_time": "2023-12-11T10:44:05.664831050Z",
     "start_time": "2023-12-11T10:44:05.633615419Z"
    }
   },
   "id": "5865ea54bec94d28"
  },
  {
   "cell_type": "markdown",
   "source": [],
   "metadata": {
    "collapsed": false
   },
   "id": "3e70f72effd03d79"
  },
  {
   "cell_type": "markdown",
   "source": [
    "### Кодування\n",
    " - Визначимо кількість інформаційних розрядів за формулою \n",
    "$$ n_і =⎾log_2 m_1⏋$$"
   ],
   "metadata": {
    "collapsed": false
   },
   "id": "77d25ee180d6a2ab"
  },
  {
   "cell_type": "code",
   "execution_count": 10,
   "outputs": [
    {
     "name": "stdout",
     "output_type": "stream",
     "text": [
      "3.584962500721156\n",
      "4\n"
     ]
    }
   ],
   "source": [
    "bits_count = math.ceil(math.log2(len(alphabet)))\n",
    "print(math.log2(len(alphabet)))\n",
    "print(bits_count)"
   ],
   "metadata": {
    "collapsed": false,
    "ExecuteTime": {
     "end_time": "2023-12-11T10:44:05.664996995Z",
     "start_time": "2023-12-11T10:44:05.633731356Z"
    }
   },
   "id": "4e0dbe7b267ee534"
  },
  {
   "cell_type": "markdown",
   "source": [
    "Генеруємо всі можливі кодові комбінації довжиною 4 біти:"
   ],
   "metadata": {
    "collapsed": false
   },
   "id": "45071af9a3acd060"
  },
  {
   "cell_type": "code",
   "execution_count": 11,
   "outputs": [],
   "source": [
    "from itertools import product\n",
    "\n",
    "\n",
    "def generate_binary_combinations(length):\n",
    "    # Generate all combinations of 0 and 1 for the given length\n",
    "    binary_combinations = list(product([0, 1], repeat=length))\n",
    "    return binary_combinations"
   ],
   "metadata": {
    "collapsed": false,
    "ExecuteTime": {
     "end_time": "2023-12-11T10:44:05.665091072Z",
     "start_time": "2023-12-11T10:44:05.633790023Z"
    }
   },
   "id": "d7ee0252163eb734"
  },
  {
   "cell_type": "code",
   "execution_count": 12,
   "outputs": [
    {
     "data": {
      "text/plain": "    0  1  2  3\n0   0  0  0  0\n1   0  0  0  1\n2   0  0  1  0\n3   0  0  1  1\n4   0  1  0  0\n5   0  1  0  1\n6   0  1  1  0\n7   0  1  1  1\n8   1  0  0  0\n9   1  0  0  1\n10  1  0  1  0\n11  1  0  1  1\n12  1  1  0  0\n13  1  1  0  1\n14  1  1  1  0\n15  1  1  1  1",
      "text/html": "<div>\n<style scoped>\n    .dataframe tbody tr th:only-of-type {\n        vertical-align: middle;\n    }\n\n    .dataframe tbody tr th {\n        vertical-align: top;\n    }\n\n    .dataframe thead th {\n        text-align: right;\n    }\n</style>\n<table border=\"1\" class=\"dataframe\">\n  <thead>\n    <tr style=\"text-align: right;\">\n      <th></th>\n      <th>0</th>\n      <th>1</th>\n      <th>2</th>\n      <th>3</th>\n    </tr>\n  </thead>\n  <tbody>\n    <tr>\n      <th>0</th>\n      <td>0</td>\n      <td>0</td>\n      <td>0</td>\n      <td>0</td>\n    </tr>\n    <tr>\n      <th>1</th>\n      <td>0</td>\n      <td>0</td>\n      <td>0</td>\n      <td>1</td>\n    </tr>\n    <tr>\n      <th>2</th>\n      <td>0</td>\n      <td>0</td>\n      <td>1</td>\n      <td>0</td>\n    </tr>\n    <tr>\n      <th>3</th>\n      <td>0</td>\n      <td>0</td>\n      <td>1</td>\n      <td>1</td>\n    </tr>\n    <tr>\n      <th>4</th>\n      <td>0</td>\n      <td>1</td>\n      <td>0</td>\n      <td>0</td>\n    </tr>\n    <tr>\n      <th>5</th>\n      <td>0</td>\n      <td>1</td>\n      <td>0</td>\n      <td>1</td>\n    </tr>\n    <tr>\n      <th>6</th>\n      <td>0</td>\n      <td>1</td>\n      <td>1</td>\n      <td>0</td>\n    </tr>\n    <tr>\n      <th>7</th>\n      <td>0</td>\n      <td>1</td>\n      <td>1</td>\n      <td>1</td>\n    </tr>\n    <tr>\n      <th>8</th>\n      <td>1</td>\n      <td>0</td>\n      <td>0</td>\n      <td>0</td>\n    </tr>\n    <tr>\n      <th>9</th>\n      <td>1</td>\n      <td>0</td>\n      <td>0</td>\n      <td>1</td>\n    </tr>\n    <tr>\n      <th>10</th>\n      <td>1</td>\n      <td>0</td>\n      <td>1</td>\n      <td>0</td>\n    </tr>\n    <tr>\n      <th>11</th>\n      <td>1</td>\n      <td>0</td>\n      <td>1</td>\n      <td>1</td>\n    </tr>\n    <tr>\n      <th>12</th>\n      <td>1</td>\n      <td>1</td>\n      <td>0</td>\n      <td>0</td>\n    </tr>\n    <tr>\n      <th>13</th>\n      <td>1</td>\n      <td>1</td>\n      <td>0</td>\n      <td>1</td>\n    </tr>\n    <tr>\n      <th>14</th>\n      <td>1</td>\n      <td>1</td>\n      <td>1</td>\n      <td>0</td>\n    </tr>\n    <tr>\n      <th>15</th>\n      <td>1</td>\n      <td>1</td>\n      <td>1</td>\n      <td>1</td>\n    </tr>\n  </tbody>\n</table>\n</div>"
     },
     "execution_count": 12,
     "metadata": {},
     "output_type": "execute_result"
    }
   ],
   "source": [
    "codewords = generate_binary_combinations(bits_count)\n",
    "codewords_df = pd.DataFrame(codewords)\n",
    "with open('./latex_tables/codewords.tex', 'w') as tf:\n",
    "    tf.write(codewords_df.to_latex())\n",
    "codewords_df"
   ],
   "metadata": {
    "collapsed": false,
    "ExecuteTime": {
     "end_time": "2023-12-11T10:44:05.665448243Z",
     "start_time": "2023-12-11T10:44:05.633842824Z"
    }
   },
   "id": "9cb4d1e4cfe73b6c"
  },
  {
   "cell_type": "code",
   "execution_count": 13,
   "outputs": [],
   "source": [
    "def distance(word1, word2):\n",
    "    d = 0\n",
    "    for i in range(len(word1)):\n",
    "        if word1[i] != word2[i]:\n",
    "            d += 1\n",
    "    return d"
   ],
   "metadata": {
    "collapsed": false,
    "ExecuteTime": {
     "end_time": "2023-12-11T10:44:05.684911367Z",
     "start_time": "2023-12-11T10:44:05.636359298Z"
    }
   },
   "id": "999a617ebdeaaee7"
  },
  {
   "cell_type": "code",
   "execution_count": 14,
   "outputs": [
    {
     "data": {
      "text/plain": "      0000  0001  0010  0011  0100  0101  0110  0111  1000  1001  1010  1011  \\\n0000     0     1     1     2     1     2     2     3     1     2     2     3   \n0001     1     0     2     1     2     1     3     2     2     1     3     2   \n0010     1     2     0     1     2     3     1     2     2     3     1     2   \n0011     2     1     1     0     3     2     2     1     3     2     2     1   \n0100     1     2     2     3     0     1     1     2     2     3     3     4   \n0101     2     1     3     2     1     0     2     1     3     2     4     3   \n0110     2     3     1     2     1     2     0     1     3     4     2     3   \n0111     3     2     2     1     2     1     1     0     4     3     3     2   \n1000     1     2     2     3     2     3     3     4     0     1     1     2   \n1001     2     1     3     2     3     2     4     3     1     0     2     1   \n1010     2     3     1     2     3     4     2     3     1     2     0     1   \n1011     3     2     2     1     4     3     3     2     2     1     1     0   \n1100     2     3     3     4     1     2     2     3     1     2     2     3   \n1101     3     2     4     3     2     1     3     2     2     1     3     2   \n1110     3     4     2     3     2     3     1     2     2     3     1     2   \n1111     4     3     3     2     3     2     2     1     3     2     2     1   \n\n      1100  1101  1110  1111  \n0000     2     3     3     4  \n0001     3     2     4     3  \n0010     3     4     2     3  \n0011     4     3     3     2  \n0100     1     2     2     3  \n0101     2     1     3     2  \n0110     2     3     1     2  \n0111     3     2     2     1  \n1000     1     2     2     3  \n1001     2     1     3     2  \n1010     2     3     1     2  \n1011     3     2     2     1  \n1100     0     1     1     2  \n1101     1     0     2     1  \n1110     1     2     0     1  \n1111     2     1     1     0  ",
      "text/html": "<div>\n<style scoped>\n    .dataframe tbody tr th:only-of-type {\n        vertical-align: middle;\n    }\n\n    .dataframe tbody tr th {\n        vertical-align: top;\n    }\n\n    .dataframe thead th {\n        text-align: right;\n    }\n</style>\n<table border=\"1\" class=\"dataframe\">\n  <thead>\n    <tr style=\"text-align: right;\">\n      <th></th>\n      <th>0000</th>\n      <th>0001</th>\n      <th>0010</th>\n      <th>0011</th>\n      <th>0100</th>\n      <th>0101</th>\n      <th>0110</th>\n      <th>0111</th>\n      <th>1000</th>\n      <th>1001</th>\n      <th>1010</th>\n      <th>1011</th>\n      <th>1100</th>\n      <th>1101</th>\n      <th>1110</th>\n      <th>1111</th>\n    </tr>\n  </thead>\n  <tbody>\n    <tr>\n      <th>0000</th>\n      <td>0</td>\n      <td>1</td>\n      <td>1</td>\n      <td>2</td>\n      <td>1</td>\n      <td>2</td>\n      <td>2</td>\n      <td>3</td>\n      <td>1</td>\n      <td>2</td>\n      <td>2</td>\n      <td>3</td>\n      <td>2</td>\n      <td>3</td>\n      <td>3</td>\n      <td>4</td>\n    </tr>\n    <tr>\n      <th>0001</th>\n      <td>1</td>\n      <td>0</td>\n      <td>2</td>\n      <td>1</td>\n      <td>2</td>\n      <td>1</td>\n      <td>3</td>\n      <td>2</td>\n      <td>2</td>\n      <td>1</td>\n      <td>3</td>\n      <td>2</td>\n      <td>3</td>\n      <td>2</td>\n      <td>4</td>\n      <td>3</td>\n    </tr>\n    <tr>\n      <th>0010</th>\n      <td>1</td>\n      <td>2</td>\n      <td>0</td>\n      <td>1</td>\n      <td>2</td>\n      <td>3</td>\n      <td>1</td>\n      <td>2</td>\n      <td>2</td>\n      <td>3</td>\n      <td>1</td>\n      <td>2</td>\n      <td>3</td>\n      <td>4</td>\n      <td>2</td>\n      <td>3</td>\n    </tr>\n    <tr>\n      <th>0011</th>\n      <td>2</td>\n      <td>1</td>\n      <td>1</td>\n      <td>0</td>\n      <td>3</td>\n      <td>2</td>\n      <td>2</td>\n      <td>1</td>\n      <td>3</td>\n      <td>2</td>\n      <td>2</td>\n      <td>1</td>\n      <td>4</td>\n      <td>3</td>\n      <td>3</td>\n      <td>2</td>\n    </tr>\n    <tr>\n      <th>0100</th>\n      <td>1</td>\n      <td>2</td>\n      <td>2</td>\n      <td>3</td>\n      <td>0</td>\n      <td>1</td>\n      <td>1</td>\n      <td>2</td>\n      <td>2</td>\n      <td>3</td>\n      <td>3</td>\n      <td>4</td>\n      <td>1</td>\n      <td>2</td>\n      <td>2</td>\n      <td>3</td>\n    </tr>\n    <tr>\n      <th>0101</th>\n      <td>2</td>\n      <td>1</td>\n      <td>3</td>\n      <td>2</td>\n      <td>1</td>\n      <td>0</td>\n      <td>2</td>\n      <td>1</td>\n      <td>3</td>\n      <td>2</td>\n      <td>4</td>\n      <td>3</td>\n      <td>2</td>\n      <td>1</td>\n      <td>3</td>\n      <td>2</td>\n    </tr>\n    <tr>\n      <th>0110</th>\n      <td>2</td>\n      <td>3</td>\n      <td>1</td>\n      <td>2</td>\n      <td>1</td>\n      <td>2</td>\n      <td>0</td>\n      <td>1</td>\n      <td>3</td>\n      <td>4</td>\n      <td>2</td>\n      <td>3</td>\n      <td>2</td>\n      <td>3</td>\n      <td>1</td>\n      <td>2</td>\n    </tr>\n    <tr>\n      <th>0111</th>\n      <td>3</td>\n      <td>2</td>\n      <td>2</td>\n      <td>1</td>\n      <td>2</td>\n      <td>1</td>\n      <td>1</td>\n      <td>0</td>\n      <td>4</td>\n      <td>3</td>\n      <td>3</td>\n      <td>2</td>\n      <td>3</td>\n      <td>2</td>\n      <td>2</td>\n      <td>1</td>\n    </tr>\n    <tr>\n      <th>1000</th>\n      <td>1</td>\n      <td>2</td>\n      <td>2</td>\n      <td>3</td>\n      <td>2</td>\n      <td>3</td>\n      <td>3</td>\n      <td>4</td>\n      <td>0</td>\n      <td>1</td>\n      <td>1</td>\n      <td>2</td>\n      <td>1</td>\n      <td>2</td>\n      <td>2</td>\n      <td>3</td>\n    </tr>\n    <tr>\n      <th>1001</th>\n      <td>2</td>\n      <td>1</td>\n      <td>3</td>\n      <td>2</td>\n      <td>3</td>\n      <td>2</td>\n      <td>4</td>\n      <td>3</td>\n      <td>1</td>\n      <td>0</td>\n      <td>2</td>\n      <td>1</td>\n      <td>2</td>\n      <td>1</td>\n      <td>3</td>\n      <td>2</td>\n    </tr>\n    <tr>\n      <th>1010</th>\n      <td>2</td>\n      <td>3</td>\n      <td>1</td>\n      <td>2</td>\n      <td>3</td>\n      <td>4</td>\n      <td>2</td>\n      <td>3</td>\n      <td>1</td>\n      <td>2</td>\n      <td>0</td>\n      <td>1</td>\n      <td>2</td>\n      <td>3</td>\n      <td>1</td>\n      <td>2</td>\n    </tr>\n    <tr>\n      <th>1011</th>\n      <td>3</td>\n      <td>2</td>\n      <td>2</td>\n      <td>1</td>\n      <td>4</td>\n      <td>3</td>\n      <td>3</td>\n      <td>2</td>\n      <td>2</td>\n      <td>1</td>\n      <td>1</td>\n      <td>0</td>\n      <td>3</td>\n      <td>2</td>\n      <td>2</td>\n      <td>1</td>\n    </tr>\n    <tr>\n      <th>1100</th>\n      <td>2</td>\n      <td>3</td>\n      <td>3</td>\n      <td>4</td>\n      <td>1</td>\n      <td>2</td>\n      <td>2</td>\n      <td>3</td>\n      <td>1</td>\n      <td>2</td>\n      <td>2</td>\n      <td>3</td>\n      <td>0</td>\n      <td>1</td>\n      <td>1</td>\n      <td>2</td>\n    </tr>\n    <tr>\n      <th>1101</th>\n      <td>3</td>\n      <td>2</td>\n      <td>4</td>\n      <td>3</td>\n      <td>2</td>\n      <td>1</td>\n      <td>3</td>\n      <td>2</td>\n      <td>2</td>\n      <td>1</td>\n      <td>3</td>\n      <td>2</td>\n      <td>1</td>\n      <td>0</td>\n      <td>2</td>\n      <td>1</td>\n    </tr>\n    <tr>\n      <th>1110</th>\n      <td>3</td>\n      <td>4</td>\n      <td>2</td>\n      <td>3</td>\n      <td>2</td>\n      <td>3</td>\n      <td>1</td>\n      <td>2</td>\n      <td>2</td>\n      <td>3</td>\n      <td>1</td>\n      <td>2</td>\n      <td>1</td>\n      <td>2</td>\n      <td>0</td>\n      <td>1</td>\n    </tr>\n    <tr>\n      <th>1111</th>\n      <td>4</td>\n      <td>3</td>\n      <td>3</td>\n      <td>2</td>\n      <td>3</td>\n      <td>2</td>\n      <td>2</td>\n      <td>1</td>\n      <td>3</td>\n      <td>2</td>\n      <td>2</td>\n      <td>1</td>\n      <td>2</td>\n      <td>1</td>\n      <td>1</td>\n      <td>0</td>\n    </tr>\n  </tbody>\n</table>\n</div>"
     },
     "execution_count": 14,
     "metadata": {},
     "output_type": "execute_result"
    }
   ],
   "source": [
    "matrix = []\n",
    "distance_values = set()\n",
    "headers = [(\"\".join([str(n) for n in c])) for c in codewords]\n",
    "for i, a in enumerate(codewords):\n",
    "    matrix.append([])\n",
    "    for j, a1 in enumerate(codewords):\n",
    "        dist = distance(a, a1)\n",
    "        matrix[i].append(dist)\n",
    "        distance_values.add(dist)\n",
    "\n",
    "#print(len(matrix))\n",
    "matrix_df = pd.DataFrame(matrix, columns=headers, index=headers)\n",
    "with open('./latex_tables/distance_matrix.tex', 'w') as tf:\n",
    "    tf.write(matrix_df.to_latex())\n",
    "matrix_df"
   ],
   "metadata": {
    "collapsed": false,
    "ExecuteTime": {
     "end_time": "2023-12-11T10:44:05.691202168Z",
     "start_time": "2023-12-11T10:44:05.667429728Z"
    }
   },
   "id": "9933c5858ea99ef0"
  },
  {
   "cell_type": "code",
   "execution_count": 15,
   "outputs": [
    {
     "data": {
      "text/plain": "      0  1  2  3  4\n0000  1  4  6  4  1\n0001  1  4  6  4  1\n0010  1  4  6  4  1\n0011  1  4  6  4  1\n0100  1  4  6  4  1\n0101  1  4  6  4  1\n0110  1  4  6  4  1\n0111  1  4  6  4  1\n1000  1  4  6  4  1\n1001  1  4  6  4  1\n1010  1  4  6  4  1\n1011  1  4  6  4  1\n1100  1  4  6  4  1\n1101  1  4  6  4  1\n1110  1  4  6  4  1\n1111  1  4  6  4  1",
      "text/html": "<div>\n<style scoped>\n    .dataframe tbody tr th:only-of-type {\n        vertical-align: middle;\n    }\n\n    .dataframe tbody tr th {\n        vertical-align: top;\n    }\n\n    .dataframe thead th {\n        text-align: right;\n    }\n</style>\n<table border=\"1\" class=\"dataframe\">\n  <thead>\n    <tr style=\"text-align: right;\">\n      <th></th>\n      <th>0</th>\n      <th>1</th>\n      <th>2</th>\n      <th>3</th>\n      <th>4</th>\n    </tr>\n  </thead>\n  <tbody>\n    <tr>\n      <th>0000</th>\n      <td>1</td>\n      <td>4</td>\n      <td>6</td>\n      <td>4</td>\n      <td>1</td>\n    </tr>\n    <tr>\n      <th>0001</th>\n      <td>1</td>\n      <td>4</td>\n      <td>6</td>\n      <td>4</td>\n      <td>1</td>\n    </tr>\n    <tr>\n      <th>0010</th>\n      <td>1</td>\n      <td>4</td>\n      <td>6</td>\n      <td>4</td>\n      <td>1</td>\n    </tr>\n    <tr>\n      <th>0011</th>\n      <td>1</td>\n      <td>4</td>\n      <td>6</td>\n      <td>4</td>\n      <td>1</td>\n    </tr>\n    <tr>\n      <th>0100</th>\n      <td>1</td>\n      <td>4</td>\n      <td>6</td>\n      <td>4</td>\n      <td>1</td>\n    </tr>\n    <tr>\n      <th>0101</th>\n      <td>1</td>\n      <td>4</td>\n      <td>6</td>\n      <td>4</td>\n      <td>1</td>\n    </tr>\n    <tr>\n      <th>0110</th>\n      <td>1</td>\n      <td>4</td>\n      <td>6</td>\n      <td>4</td>\n      <td>1</td>\n    </tr>\n    <tr>\n      <th>0111</th>\n      <td>1</td>\n      <td>4</td>\n      <td>6</td>\n      <td>4</td>\n      <td>1</td>\n    </tr>\n    <tr>\n      <th>1000</th>\n      <td>1</td>\n      <td>4</td>\n      <td>6</td>\n      <td>4</td>\n      <td>1</td>\n    </tr>\n    <tr>\n      <th>1001</th>\n      <td>1</td>\n      <td>4</td>\n      <td>6</td>\n      <td>4</td>\n      <td>1</td>\n    </tr>\n    <tr>\n      <th>1010</th>\n      <td>1</td>\n      <td>4</td>\n      <td>6</td>\n      <td>4</td>\n      <td>1</td>\n    </tr>\n    <tr>\n      <th>1011</th>\n      <td>1</td>\n      <td>4</td>\n      <td>6</td>\n      <td>4</td>\n      <td>1</td>\n    </tr>\n    <tr>\n      <th>1100</th>\n      <td>1</td>\n      <td>4</td>\n      <td>6</td>\n      <td>4</td>\n      <td>1</td>\n    </tr>\n    <tr>\n      <th>1101</th>\n      <td>1</td>\n      <td>4</td>\n      <td>6</td>\n      <td>4</td>\n      <td>1</td>\n    </tr>\n    <tr>\n      <th>1110</th>\n      <td>1</td>\n      <td>4</td>\n      <td>6</td>\n      <td>4</td>\n      <td>1</td>\n    </tr>\n    <tr>\n      <th>1111</th>\n      <td>1</td>\n      <td>4</td>\n      <td>6</td>\n      <td>4</td>\n      <td>1</td>\n    </tr>\n  </tbody>\n</table>\n</div>"
     },
     "execution_count": 15,
     "metadata": {},
     "output_type": "execute_result"
    }
   ],
   "source": [
    "distance_counts = []\n",
    "for row in matrix:\n",
    "    row_distance_counts = []\n",
    "    for d in distance_values:\n",
    "        row_distance_counts.append(row.count(d))\n",
    "    distance_counts.append(row_distance_counts)\n",
    "distance_counts_df = pd.DataFrame(distance_counts, index=headers)\n",
    "with open('./latex_tables/distance_counts.tex', 'w') as tf:\n",
    "    tf.write(distance_counts_df.to_latex())\n",
    "distance_counts_df"
   ],
   "metadata": {
    "collapsed": false,
    "ExecuteTime": {
     "end_time": "2023-12-11T10:44:05.691602781Z",
     "start_time": "2023-12-11T10:44:05.667551812Z"
    }
   },
   "id": "6a033b503e06596c"
  },
  {
   "cell_type": "code",
   "execution_count": 16,
   "outputs": [
    {
     "name": "stdout",
     "output_type": "stream",
     "text": [
      "  0000\n",
      ", 0001\n",
      ". 0010\n",
      "А 0011\n",
      "Г 0100\n",
      "Л 0101\n",
      "Ж 0110\n",
      "Е 0111\n",
      "У 1000\n",
      "М 1001\n",
      "Ц 1010\n",
      "Р 1011\n"
     ]
    },
    {
     "data": {
      "text/plain": "   $A$     $a_i$   Код $\\sum_{i=1}^{n}$\n0        $a_{0}$  0000              000\n1    ,   $a_{1}$  0001              001\n2    .   $a_{2}$  0010              001\n3    А   $a_{3}$  0011              010\n4    Г   $a_{4}$  0100              001\n5    Л   $a_{5}$  0101              010\n6    Ж   $a_{6}$  0110              010\n7    Е   $a_{7}$  0111              011\n8    У   $a_{8}$  1000              001\n9    М   $a_{9}$  1001              010\n10   Ц  $a_{10}$  1010              010\n11   Р  $a_{11}$  1011              011",
      "text/html": "<div>\n<style scoped>\n    .dataframe tbody tr th:only-of-type {\n        vertical-align: middle;\n    }\n\n    .dataframe tbody tr th {\n        vertical-align: top;\n    }\n\n    .dataframe thead th {\n        text-align: right;\n    }\n</style>\n<table border=\"1\" class=\"dataframe\">\n  <thead>\n    <tr style=\"text-align: right;\">\n      <th></th>\n      <th>$A$</th>\n      <th>$a_i$</th>\n      <th>Код</th>\n      <th>$\\sum_{i=1}^{n}$</th>\n    </tr>\n  </thead>\n  <tbody>\n    <tr>\n      <th>0</th>\n      <td></td>\n      <td>$a_{0}$</td>\n      <td>0000</td>\n      <td>000</td>\n    </tr>\n    <tr>\n      <th>1</th>\n      <td>,</td>\n      <td>$a_{1}$</td>\n      <td>0001</td>\n      <td>001</td>\n    </tr>\n    <tr>\n      <th>2</th>\n      <td>.</td>\n      <td>$a_{2}$</td>\n      <td>0010</td>\n      <td>001</td>\n    </tr>\n    <tr>\n      <th>3</th>\n      <td>А</td>\n      <td>$a_{3}$</td>\n      <td>0011</td>\n      <td>010</td>\n    </tr>\n    <tr>\n      <th>4</th>\n      <td>Г</td>\n      <td>$a_{4}$</td>\n      <td>0100</td>\n      <td>001</td>\n    </tr>\n    <tr>\n      <th>5</th>\n      <td>Л</td>\n      <td>$a_{5}$</td>\n      <td>0101</td>\n      <td>010</td>\n    </tr>\n    <tr>\n      <th>6</th>\n      <td>Ж</td>\n      <td>$a_{6}$</td>\n      <td>0110</td>\n      <td>010</td>\n    </tr>\n    <tr>\n      <th>7</th>\n      <td>Е</td>\n      <td>$a_{7}$</td>\n      <td>0111</td>\n      <td>011</td>\n    </tr>\n    <tr>\n      <th>8</th>\n      <td>У</td>\n      <td>$a_{8}$</td>\n      <td>1000</td>\n      <td>001</td>\n    </tr>\n    <tr>\n      <th>9</th>\n      <td>М</td>\n      <td>$a_{9}$</td>\n      <td>1001</td>\n      <td>010</td>\n    </tr>\n    <tr>\n      <th>10</th>\n      <td>Ц</td>\n      <td>$a_{10}$</td>\n      <td>1010</td>\n      <td>010</td>\n    </tr>\n    <tr>\n      <th>11</th>\n      <td>Р</td>\n      <td>$a_{11}$</td>\n      <td>1011</td>\n      <td>011</td>\n    </tr>\n  </tbody>\n</table>\n</div>"
     },
     "execution_count": 16,
     "metadata": {},
     "output_type": "execute_result"
    }
   ],
   "source": [
    "codewords = {}\n",
    "codewords_table = []\n",
    "inverted = []\n",
    "berger = []\n",
    "for i, c in enumerate(alphabet):\n",
    "    bin_code = f\"{i:04b}\"\n",
    "    print(f\"{c} {bin_code}\")\n",
    "    ones_count = bin_code.count(\"1\")\n",
    "    codewords_table.append(\n",
    "        {\"$A$\": c, \"$a_i$\": f\"$a_{{{i}}}$\", \"Код\": f\"{bin_code}\", \"$\\sum_{i=1}^{n}$\": f\"{ones_count:03b}\"})\n",
    "    codewords[c] = [int(n) for n in f\"{i:04b}\"]\n",
    "    inverted_count = ''.join('1' if x == '0' else '0' for x in f\"{ones_count:03b}\")\n",
    "    inverted.append(inverted_count)\n",
    "    berger.append(bin_code + inverted_count)\n",
    "control_bits_df = pd.DataFrame(codewords_table)\n",
    "with open('./latex_tables/control_bits.tex', 'w') as tf:\n",
    "    tf.write(control_bits_df.to_latex(index=False))\n",
    "control_bits_df"
   ],
   "metadata": {
    "collapsed": false,
    "ExecuteTime": {
     "end_time": "2023-12-11T10:44:05.771797984Z",
     "start_time": "2023-12-11T10:44:05.674917828Z"
    }
   },
   "id": "d09e156a2d80be08"
  },
  {
   "cell_type": "code",
   "execution_count": 17,
   "outputs": [],
   "source": [
    "control_bits_df[\"inverted\"] = inverted\n",
    "control_bits_df\n",
    "with open('./latex_tables/control_bits_inverted.tex', 'w') as tf:\n",
    "    tf.write(control_bits_df.to_latex(index=False))"
   ],
   "metadata": {
    "collapsed": false,
    "ExecuteTime": {
     "end_time": "2023-12-11T10:44:05.772047320Z",
     "start_time": "2023-12-11T10:44:05.710924335Z"
    }
   },
   "id": "2acc9366707453c9"
  },
  {
   "cell_type": "code",
   "execution_count": 18,
   "outputs": [
    {
     "data": {
      "text/plain": "   $A$     $a_i$   Код $\\sum_{i=1}^{n}$ inverted\n0        $a_{0}$  0000              000      111\n1    ,   $a_{1}$  0001              001      110\n2    .   $a_{2}$  0010              001      110\n3    А   $a_{3}$  0011              010      101\n4    Г   $a_{4}$  0100              001      110\n5    Л   $a_{5}$  0101              010      101\n6    Ж   $a_{6}$  0110              010      101\n7    Е   $a_{7}$  0111              011      100\n8    У   $a_{8}$  1000              001      110\n9    М   $a_{9}$  1001              010      101\n10   Ц  $a_{10}$  1010              010      101\n11   Р  $a_{11}$  1011              011      100",
      "text/html": "<div>\n<style scoped>\n    .dataframe tbody tr th:only-of-type {\n        vertical-align: middle;\n    }\n\n    .dataframe tbody tr th {\n        vertical-align: top;\n    }\n\n    .dataframe thead th {\n        text-align: right;\n    }\n</style>\n<table border=\"1\" class=\"dataframe\">\n  <thead>\n    <tr style=\"text-align: right;\">\n      <th></th>\n      <th>$A$</th>\n      <th>$a_i$</th>\n      <th>Код</th>\n      <th>$\\sum_{i=1}^{n}$</th>\n      <th>inverted</th>\n    </tr>\n  </thead>\n  <tbody>\n    <tr>\n      <th>0</th>\n      <td></td>\n      <td>$a_{0}$</td>\n      <td>0000</td>\n      <td>000</td>\n      <td>111</td>\n    </tr>\n    <tr>\n      <th>1</th>\n      <td>,</td>\n      <td>$a_{1}$</td>\n      <td>0001</td>\n      <td>001</td>\n      <td>110</td>\n    </tr>\n    <tr>\n      <th>2</th>\n      <td>.</td>\n      <td>$a_{2}$</td>\n      <td>0010</td>\n      <td>001</td>\n      <td>110</td>\n    </tr>\n    <tr>\n      <th>3</th>\n      <td>А</td>\n      <td>$a_{3}$</td>\n      <td>0011</td>\n      <td>010</td>\n      <td>101</td>\n    </tr>\n    <tr>\n      <th>4</th>\n      <td>Г</td>\n      <td>$a_{4}$</td>\n      <td>0100</td>\n      <td>001</td>\n      <td>110</td>\n    </tr>\n    <tr>\n      <th>5</th>\n      <td>Л</td>\n      <td>$a_{5}$</td>\n      <td>0101</td>\n      <td>010</td>\n      <td>101</td>\n    </tr>\n    <tr>\n      <th>6</th>\n      <td>Ж</td>\n      <td>$a_{6}$</td>\n      <td>0110</td>\n      <td>010</td>\n      <td>101</td>\n    </tr>\n    <tr>\n      <th>7</th>\n      <td>Е</td>\n      <td>$a_{7}$</td>\n      <td>0111</td>\n      <td>011</td>\n      <td>100</td>\n    </tr>\n    <tr>\n      <th>8</th>\n      <td>У</td>\n      <td>$a_{8}$</td>\n      <td>1000</td>\n      <td>001</td>\n      <td>110</td>\n    </tr>\n    <tr>\n      <th>9</th>\n      <td>М</td>\n      <td>$a_{9}$</td>\n      <td>1001</td>\n      <td>010</td>\n      <td>101</td>\n    </tr>\n    <tr>\n      <th>10</th>\n      <td>Ц</td>\n      <td>$a_{10}$</td>\n      <td>1010</td>\n      <td>010</td>\n      <td>101</td>\n    </tr>\n    <tr>\n      <th>11</th>\n      <td>Р</td>\n      <td>$a_{11}$</td>\n      <td>1011</td>\n      <td>011</td>\n      <td>100</td>\n    </tr>\n  </tbody>\n</table>\n</div>"
     },
     "execution_count": 18,
     "metadata": {},
     "output_type": "execute_result"
    }
   ],
   "source": [
    "control_bits_df"
   ],
   "metadata": {
    "collapsed": false,
    "ExecuteTime": {
     "end_time": "2023-12-11T10:44:05.772405050Z",
     "start_time": "2023-12-11T10:44:05.711039295Z"
    }
   },
   "id": "bed2acf465705ef4"
  },
  {
   "cell_type": "code",
   "execution_count": 19,
   "outputs": [
    {
     "data": {
      "text/plain": "   $A$     $a_i$ Код Бергера\n0        $a_{0}$     0000111\n1    ,   $a_{1}$     0001110\n2    .   $a_{2}$     0010110\n3    А   $a_{3}$     0011101\n4    Г   $a_{4}$     0100110\n5    Л   $a_{5}$     0101101\n6    Ж   $a_{6}$     0110101\n7    Е   $a_{7}$     0111100\n8    У   $a_{8}$     1000110\n9    М   $a_{9}$     1001101\n10   Ц  $a_{10}$     1010101\n11   Р  $a_{11}$     1011100",
      "text/html": "<div>\n<style scoped>\n    .dataframe tbody tr th:only-of-type {\n        vertical-align: middle;\n    }\n\n    .dataframe tbody tr th {\n        vertical-align: top;\n    }\n\n    .dataframe thead th {\n        text-align: right;\n    }\n</style>\n<table border=\"1\" class=\"dataframe\">\n  <thead>\n    <tr style=\"text-align: right;\">\n      <th></th>\n      <th>$A$</th>\n      <th>$a_i$</th>\n      <th>Код Бергера</th>\n    </tr>\n  </thead>\n  <tbody>\n    <tr>\n      <th>0</th>\n      <td></td>\n      <td>$a_{0}$</td>\n      <td>0000111</td>\n    </tr>\n    <tr>\n      <th>1</th>\n      <td>,</td>\n      <td>$a_{1}$</td>\n      <td>0001110</td>\n    </tr>\n    <tr>\n      <th>2</th>\n      <td>.</td>\n      <td>$a_{2}$</td>\n      <td>0010110</td>\n    </tr>\n    <tr>\n      <th>3</th>\n      <td>А</td>\n      <td>$a_{3}$</td>\n      <td>0011101</td>\n    </tr>\n    <tr>\n      <th>4</th>\n      <td>Г</td>\n      <td>$a_{4}$</td>\n      <td>0100110</td>\n    </tr>\n    <tr>\n      <th>5</th>\n      <td>Л</td>\n      <td>$a_{5}$</td>\n      <td>0101101</td>\n    </tr>\n    <tr>\n      <th>6</th>\n      <td>Ж</td>\n      <td>$a_{6}$</td>\n      <td>0110101</td>\n    </tr>\n    <tr>\n      <th>7</th>\n      <td>Е</td>\n      <td>$a_{7}$</td>\n      <td>0111100</td>\n    </tr>\n    <tr>\n      <th>8</th>\n      <td>У</td>\n      <td>$a_{8}$</td>\n      <td>1000110</td>\n    </tr>\n    <tr>\n      <th>9</th>\n      <td>М</td>\n      <td>$a_{9}$</td>\n      <td>1001101</td>\n    </tr>\n    <tr>\n      <th>10</th>\n      <td>Ц</td>\n      <td>$a_{10}$</td>\n      <td>1010101</td>\n    </tr>\n    <tr>\n      <th>11</th>\n      <td>Р</td>\n      <td>$a_{11}$</td>\n      <td>1011100</td>\n    </tr>\n  </tbody>\n</table>\n</div>"
     },
     "execution_count": 19,
     "metadata": {},
     "output_type": "execute_result"
    }
   ],
   "source": [
    "berger_df = control_bits_df[[\"$A$\", \"$a_i$\"]].copy()\n",
    "berger_df[\"Код Бергера\"] = berger\n",
    "with open('./latex_tables/berger_code.tex', 'w') as tf:\n",
    "    tf.write(berger_df.to_latex(index=False))\n",
    "berger_df\n"
   ],
   "metadata": {
    "collapsed": false,
    "ExecuteTime": {
     "end_time": "2023-12-11T10:44:05.772835067Z",
     "start_time": "2023-12-11T10:44:05.711200490Z"
    }
   },
   "id": "3d210ffd69604cf4"
  },
  {
   "cell_type": "markdown",
   "source": [
    "\n",
    "Матриця кодових відстаней"
   ],
   "metadata": {
    "collapsed": false
   },
   "id": "422e7e95235ec0e5"
  },
  {
   "cell_type": "markdown",
   "source": [
    "У телекомунікаціях код Бергера — це односпрямований код виявлення помилок, названий на честь його винахідника Дж. М. Бергера. Коди Бергера можуть виявляти всі односпрямовані помилки. Односпрямовані помилки - це помилки, які перетворюють лише одиниці на нулі або лише нулі на одиниці, наприклад, в асиметричних каналах. Контрольні біти кодів Бергера обчислюються шляхом підрахунку всіх нулів в інформаційному слові та вираження цього числа в натуральній двійковій системі. Якщо інформаційне слово складається з $n$ бітів, тоді для коду Бергера потрібно $$k = [ log_2 ( n + 1 )]$$ «перевірочнх біти», що додає Код Бергера довжини $k+n$. (Іншими словами,  $k$ контрольних бітів достатньо для перевірки до $$n = 2 k − 1 n=2^{k}-1$$ інформаційних бітів). Коди Бергера можуть виявляти будь-яку кількість помилок перевертання бітів один до нуля, за умови, що в одному кодовому слові не було помилок нуль до одного. Подібним чином коди Бергера можуть виявляти будь-яку кількість помилок перетворення бітів від нуля до одного, за умови, що в одному кодовому слові не виникає помилок перетворення бітів від одного до нуля. Коди Бергера не можуть виправити жодної помилки.\n",
    "\n",
    "Як і всі односпрямовані коди виявлення помилок, коди Бергера також можна використовувати в схемах, нечутливих до затримки."
   ],
   "metadata": {
    "collapsed": false
   },
   "id": "58555b3ee7001026"
  },
  {
   "cell_type": "code",
   "execution_count": 20,
   "outputs": [
    {
     "name": "stdout",
     "output_type": "stream",
     "text": [
      "[1, 0, 0]\n",
      "[0, 1, 1]\n",
      "[0, 1, 1]\n",
      "[0, 1, 0]\n",
      "[0, 1, 1]\n",
      "[0, 1, 0]\n",
      "[0, 1, 0]\n",
      "[0, 0, 1]\n",
      "[0, 1, 1]\n",
      "[0, 1, 0]\n",
      "[0, 1, 0]\n",
      "[0, 0, 1]\n"
     ]
    }
   ],
   "source": [
    "def berger_encode_word(codeword):\n",
    "    zeroes = codeword.count(0)\n",
    "    return [int(c) for c in f\"{zeroes:03b}\"]\n",
    "\n",
    "\n",
    "for codeword in codewords.values():\n",
    "    print(berger_encode_word(codeword))"
   ],
   "metadata": {
    "collapsed": false,
    "ExecuteTime": {
     "end_time": "2023-12-11T10:44:05.772963855Z",
     "start_time": "2023-12-11T10:44:05.717926755Z"
    }
   },
   "id": "45ca955279f07f23"
  },
  {
   "cell_type": "code",
   "execution_count": 21,
   "outputs": [
    {
     "data": {
      "text/plain": "array([[0, 0, 0, 0],\n       [0, 1, 1, 1],\n       [0, 0, 1, 1],\n       ...,\n       [0, 0, 1, 1],\n       [0, 0, 1, 0],\n       [0, 0, 0, 0]])"
     },
     "execution_count": 21,
     "metadata": {},
     "output_type": "execute_result"
    }
   ],
   "source": [
    "binary = [codewords[c] for c in filtered_text]\n",
    "np.array(binary)\n"
   ],
   "metadata": {
    "collapsed": false,
    "ExecuteTime": {
     "end_time": "2023-12-11T10:44:05.837391689Z",
     "start_time": "2023-12-11T10:44:05.721164836Z"
    }
   },
   "id": "c9f22fab92b2ae03"
  },
  {
   "cell_type": "code",
   "execution_count": 22,
   "outputs": [],
   "source": [
    "encoded = []\n",
    "for codeword in binary:\n",
    "    encoded.append(codeword + berger_encode_word(codeword))"
   ],
   "metadata": {
    "collapsed": false,
    "ExecuteTime": {
     "end_time": "2023-12-11T10:44:05.837725534Z",
     "start_time": "2023-12-11T10:44:05.730212925Z"
    }
   },
   "id": "a195384cb3782601"
  },
  {
   "cell_type": "code",
   "execution_count": 23,
   "outputs": [
    {
     "name": "stdout",
     "output_type": "stream",
     "text": [
      "[[0, 0, 0, 0, 1, 0, 0], [0, 1, 1, 1, 0, 0, 1], [0, 0, 1, 1, 0, 1, 0], [0, 0, 0, 0, 1, 0, 0], [1, 0, 0, 1, 0, 1, 0], [0, 1, 0, 1, 0, 1, 0], [0, 0, 0, 0, 1, 0, 0], [0, 0, 0, 0, 1, 0, 0], [0, 0, 0, 0, 1, 0, 0], [0, 0, 1, 1, 0, 1, 0], [0, 1, 1, 1, 0, 0, 1], [1, 0, 1, 1, 0, 0, 1], [0, 0, 0, 1, 0, 1, 1], [0, 0, 0, 0, 1, 0, 0], [0, 0, 0, 0, 1, 0, 0], [0, 0, 0, 0, 1, 0, 0], [0, 0, 1, 1, 0, 1, 0], [0, 1, 0, 1, 0, 1, 0], [0, 0, 0, 0, 1, 0, 0], [0, 0, 0, 0, 1, 0, 0], [1, 0, 0, 0, 0, 1, 1], [0, 0, 0, 0, 1, 0, 0], [0, 0, 0, 0, 1, 0, 0], [0, 0, 1, 1, 0, 1, 0], [0, 1, 1, 1, 0, 0, 1], [1, 0, 1, 1, 0, 0, 1], [0, 0, 0, 0, 1, 0, 0], [0, 1, 1, 1, 0, 0, 1], [1, 0, 1, 1, 0, 0, 1], [0, 1, 1, 1, 0, 0, 1], [0, 0, 0, 0, 1, 0, 0], [0, 0, 1, 1, 0, 1, 0], [1, 0, 0, 1, 0, 1, 0], [0, 1, 1, 1, 0, 0, 1], [1, 0, 1, 1, 0, 0, 1], [0, 0, 0, 0, 1, 0, 0], [0, 0, 0, 0, 1, 0, 0], [1, 0, 0, 1, 0, 1, 0], [0, 0, 1, 0, 0, 1, 1], [0, 0, 0, 0, 1, 0, 0], [1, 0, 1, 1, 0, 0, 1], [0, 0, 0, 0, 1, 0, 0], [0, 0, 0, 0, 1, 0, 0], [0, 1, 1, 1, 0, 0, 1], [1, 0, 1, 1, 0, 0, 1], [0, 1, 1, 1, 0, 0, 1], [0, 0, 0, 0, 1, 0, 0], [0, 0, 0, 0, 1, 0, 0], [1, 0, 1, 1, 0, 0, 1], [1, 0, 0, 0, 0, 1, 1], [0, 0, 0, 0, 1, 0, 0], [1, 0, 0, 1, 0, 1, 0], [0, 1, 1, 1, 0, 0, 1], [1, 0, 1, 0, 0, 1, 0], [1, 0, 0, 1, 0, 1, 0], [0, 0, 0, 0, 1, 0, 0], [0, 0, 1, 1, 0, 1, 0], [1, 0, 1, 1, 0, 0, 1], [1, 0, 0, 1, 0, 1, 0], [0, 0, 0, 0, 1, 0, 0], [0, 1, 0, 0, 0, 1, 1], [0, 1, 1, 1, 0, 0, 1], [1, 0, 1, 1, 0, 0, 1], [1, 0, 0, 1, 0, 1, 0], [0, 0, 0, 0, 1, 0, 0], [0, 1, 0, 1, 0, 1, 0], [0, 1, 1, 1, 0, 0, 1], [1, 0, 1, 1, 0, 0, 1], [1, 0, 0, 1, 0, 1, 0], [0, 0, 0, 0, 1, 0, 0], [0, 0, 0, 0, 1, 0, 0], [0, 0, 1, 1, 0, 1, 0], [0, 0, 1, 1, 0, 1, 0], [0, 0, 0, 0, 1, 0, 0], [0, 0, 1, 1, 0, 1, 0], [0, 0, 0, 0, 1, 0, 0], [0, 1, 1, 1, 0, 0, 1], [0, 0, 0, 0, 1, 0, 0], [0, 1, 1, 1, 0, 0, 1], [0, 0, 0, 1, 0, 1, 1], [0, 0, 0, 0, 1, 0, 0], [0, 1, 0, 0, 0, 1, 1], [0, 0, 0, 0, 1, 0, 0], [1, 0, 0, 1, 0, 1, 0], [1, 0, 0, 0, 0, 1, 1], [0, 0, 0, 0, 1, 0, 0], [0, 0, 1, 1, 0, 1, 0], [0, 0, 0, 0, 1, 0, 0], [0, 1, 0, 0, 0, 1, 1], [0, 0, 1, 1, 0, 1, 0], [0, 0, 0, 0, 1, 0, 0], [0, 0, 0, 0, 1, 0, 0], [1, 0, 1, 1, 0, 0, 1], [1, 0, 0, 1, 0, 1, 0], [0, 0, 0, 0, 1, 0, 0], [1, 0, 0, 1, 0, 1, 0], [0, 1, 0, 1, 0, 1, 0], [0, 1, 0, 0, 0, 1, 1], [0, 0, 1, 0, 0, 1, 1], [0, 0, 0, 0, 1, 0, 0], [0, 0, 1, 1, 0, 1, 0], [0, 1, 1, 0, 0, 1, 0], [0, 0, 1, 1, 0, 1, 0], [0, 0, 0, 1, 0, 1, 1], [0, 0, 0, 0, 1, 0, 0], [0, 0, 0, 0, 1, 0, 0], [0, 1, 1, 1, 0, 0, 1], [0, 0, 1, 1, 0, 1, 0], [0, 0, 0, 0, 1, 0, 0], [0, 0, 0, 0, 1, 0, 0], [1, 0, 1, 1, 0, 0, 1], [1, 0, 0, 0, 0, 1, 1], [0, 1, 0, 0, 0, 1, 1], [1, 0, 0, 1, 0, 1, 0], [0, 0, 0, 0, 1, 0, 0], [1, 0, 0, 1, 0, 1, 0], [0, 0, 0, 0, 1, 0, 0], [1, 0, 0, 0, 0, 1, 1], [0, 0, 0, 0, 1, 0, 0], [0, 0, 0, 0, 1, 0, 0], [0, 0, 1, 1, 0, 1, 0], [0, 1, 1, 1, 0, 0, 1], [1, 0, 1, 1, 0, 0, 1], [0, 0, 0, 0, 1, 0, 0], [0, 0, 1, 1, 0, 1, 0], [0, 0, 0, 0, 1, 0, 0], [1, 0, 0, 1, 0, 1, 0], [0, 0, 1, 1, 0, 1, 0], [0, 0, 0, 0, 1, 0, 0], [0, 0, 1, 1, 0, 1, 0], [0, 0, 0, 0, 1, 0, 0], [0, 0, 1, 1, 0, 1, 0], [0, 0, 0, 0, 1, 0, 0], [1, 0, 0, 1, 0, 1, 0], [1, 0, 0, 1, 0, 1, 0], [0, 0, 0, 0, 1, 0, 0], [0, 1, 0, 1, 0, 1, 0], [0, 0, 0, 0, 1, 0, 0], [0, 0, 1, 1, 0, 1, 0], [1, 0, 1, 1, 0, 0, 1], [0, 1, 0, 1, 0, 1, 0], [0, 0, 0, 0, 1, 0, 0], [0, 1, 0, 1, 0, 1, 0], [0, 0, 1, 1, 0, 1, 0], [0, 1, 1, 1, 0, 0, 1], [0, 0, 0, 0, 1, 0, 0], [1, 0, 1, 0, 0, 1, 0], [0, 1, 1, 1, 0, 0, 1], [1, 0, 1, 1, 0, 0, 1], [0, 1, 1, 1, 0, 0, 1], [1, 0, 1, 1, 0, 0, 1], [0, 0, 0, 1, 0, 1, 1], [0, 0, 0, 0, 1, 0, 0], [0, 0, 0, 0, 1, 0, 0], [1, 0, 0, 1, 0, 1, 0], [0, 0, 0, 0, 1, 0, 0], [0, 1, 1, 1, 0, 0, 1], [0, 0, 0, 0, 1, 0, 0], [1, 0, 0, 0, 0, 1, 1], [0, 0, 0, 0, 1, 0, 0], [1, 0, 0, 1, 0, 1, 0], [0, 1, 1, 1, 0, 0, 1], [0, 1, 1, 0, 0, 1, 0], [0, 0, 1, 1, 0, 1, 0], [0, 0, 0, 0, 1, 0, 0], [0, 0, 0, 0, 1, 0, 0], [1, 0, 0, 1, 0, 1, 0], [1, 0, 1, 1, 0, 0, 1], [0, 0, 1, 1, 0, 1, 0], [0, 0, 0, 0, 1, 0, 0], [1, 0, 1, 1, 0, 0, 1], [0, 0, 0, 0, 1, 0, 0], [1, 0, 0, 1, 0, 1, 0], [1, 0, 0, 0, 0, 1, 1], [0, 0, 0, 0, 1, 0, 0], [0, 0, 1, 1, 0, 1, 0], [0, 1, 0, 1, 0, 1, 0], [0, 1, 0, 1, 0, 1, 0], [0, 0, 1, 1, 0, 1, 0], [0, 0, 1, 0, 0, 1, 1], [0, 0, 0, 0, 1, 0, 0], [0, 0, 1, 1, 0, 1, 0], [0, 0, 0, 0, 1, 0, 0], [0, 1, 1, 1, 0, 0, 1], [1, 0, 0, 0, 0, 1, 1], [0, 0, 0, 0, 1, 0, 0], [1, 0, 1, 1, 0, 0, 1], [0, 0, 1, 1, 0, 1, 0], [0, 0, 1, 1, 0, 1, 0], [0, 0, 0, 0, 1, 0, 0], [0, 1, 0, 1, 0, 1, 0], [0, 0, 0, 0, 1, 0, 0], [0, 0, 0, 0, 1, 0, 0], [0, 0, 0, 0, 1, 0, 0], [1, 0, 0, 1, 0, 1, 0], [0, 0, 1, 1, 0, 1, 0], [0, 0, 0, 0, 1, 0, 0], [1, 0, 0, 0, 0, 1, 1], [0, 0, 0, 0, 1, 0, 0], [0, 0, 1, 1, 0, 1, 0], [0, 1, 1, 1, 0, 0, 1], [1, 0, 1, 1, 0, 0, 1], [0, 0, 1, 0, 0, 1, 1], [0, 0, 0, 0, 1, 0, 0], [0, 1, 0, 1, 0, 1, 0], [0, 0, 0, 0, 1, 0, 0], [0, 0, 1, 1, 0, 1, 0], [0, 1, 1, 1, 0, 0, 1], [1, 0, 0, 1, 0, 1, 0], [0, 1, 0, 0, 0, 1, 1], [0, 0, 0, 0, 1, 0, 0], [0, 1, 1, 1, 0, 0, 1], [1, 0, 1, 1, 0, 0, 1], [0, 1, 0, 0, 0, 1, 1], [0, 0, 1, 1, 0, 1, 0], [0, 0, 1, 1, 0, 1, 0], [0, 0, 0, 0, 1, 0, 0], [0, 1, 1, 1, 0, 0, 1], [0, 0, 1, 1, 0, 1, 0], [0, 0, 0, 0, 1, 0, 0], [0, 0, 0, 0, 1, 0, 0], [0, 0, 1, 1, 0, 1, 0], [1, 0, 1, 1, 0, 0, 1], [0, 0, 1, 1, 0, 1, 0], [1, 0, 0, 1, 0, 1, 0], [0, 0, 0, 0, 1, 0, 0], [0, 0, 1, 1, 0, 1, 0], [0, 1, 1, 1, 0, 0, 1], [1, 0, 1, 1, 0, 0, 1], [1, 0, 0, 1, 0, 1, 0], [0, 0, 1, 0, 0, 1, 1], [0, 0, 0, 0, 1, 0, 0], [0, 0, 0, 0, 1, 0, 0], [1, 0, 1, 1, 0, 0, 1], [0, 0, 1, 1, 0, 1, 0], [0, 0, 0, 0, 1, 0, 0], [1, 0, 0, 1, 0, 1, 0], [0, 1, 1, 0, 0, 1, 0], [0, 1, 1, 1, 0, 0, 1], [0, 0, 0, 0, 1, 0, 0], [0, 1, 0, 0, 0, 1, 1], [0, 0, 1, 1, 0, 1, 0], [0, 0, 0, 0, 1, 0, 0], [0, 0, 0, 1, 0, 1, 1], [0, 0, 0, 0, 1, 0, 0], [1, 0, 1, 1, 0, 0, 1], [0, 0, 0, 0, 1, 0, 0], [0, 1, 1, 1, 0, 0, 1], [0, 1, 0, 1, 0, 1, 0], [0, 0, 0, 1, 0, 1, 1], [0, 0, 0, 0, 1, 0, 0], [0, 0, 0, 0, 1, 0, 0], [0, 0, 0, 0, 1, 0, 0], [0, 0, 1, 1, 0, 1, 0], [0, 0, 0, 0, 1, 0, 0], [1, 0, 0, 1, 0, 1, 0], [1, 0, 0, 1, 0, 1, 0], [0, 1, 1, 1, 0, 0, 1], [0, 0, 0, 0, 1, 0, 0], [0, 0, 0, 1, 0, 1, 1], [0, 0, 0, 0, 1, 0, 0], [0, 0, 0, 0, 1, 0, 0], [0, 0, 0, 0, 1, 0, 0], [0, 1, 0, 1, 0, 1, 0], [0, 0, 1, 1, 0, 1, 0], [0, 0, 0, 1, 0, 1, 1], [0, 0, 0, 0, 1, 0, 0], [0, 0, 0, 0, 1, 0, 0], [0, 1, 1, 1, 0, 0, 1], [1, 0, 1, 1, 0, 0, 1], [1, 0, 0, 1, 0, 1, 0], [0, 0, 0, 0, 1, 0, 0], [1, 0, 0, 1, 0, 1, 0], [0, 0, 1, 0, 0, 1, 1], [0, 0, 0, 0, 1, 0, 0], [0, 0, 0, 1, 0, 1, 1], [0, 0, 0, 0, 1, 0, 0], [1, 0, 0, 1, 0, 1, 0], [0, 1, 0, 1, 0, 1, 0], [1, 0, 1, 1, 0, 0, 1], [0, 0, 1, 1, 0, 1, 0], [0, 0, 0, 0, 1, 0, 0], [1, 0, 1, 1, 0, 0, 1], [0, 0, 0, 0, 1, 0, 0], [1, 0, 0, 1, 0, 1, 0], [1, 0, 0, 0, 0, 1, 1], [0, 0, 0, 0, 1, 0, 0], [0, 1, 1, 1, 0, 0, 1], [0, 0, 1, 1, 0, 1, 0], [0, 0, 0, 0, 1, 0, 0], [0, 0, 1, 1, 0, 1, 0], [0, 0, 1, 1, 0, 1, 0], [0, 1, 0, 1, 0, 1, 0], [0, 0, 1, 1, 0, 1, 0], [0, 0, 0, 0, 1, 0, 0], [0, 1, 1, 1, 0, 0, 1], [0, 0, 0, 0, 1, 0, 0], [0, 0, 0, 0, 1, 0, 0], [1, 0, 0, 1, 0, 1, 0], [0, 0, 0, 0, 1, 0, 0], [0, 0, 1, 1, 0, 1, 0], [1, 0, 0, 1, 0, 1, 0], [0, 0, 0, 1, 0, 1, 1], [0, 0, 0, 0, 1, 0, 0], [0, 0, 0, 0, 1, 0, 0], [1, 0, 1, 1, 0, 0, 1], [0, 1, 0, 1, 0, 1, 0], [0, 0, 0, 0, 1, 0, 0], [1, 0, 1, 1, 0, 0, 1], [1, 0, 0, 1, 0, 1, 0], [1, 0, 0, 0, 0, 1, 1], [0, 0, 1, 1, 0, 1, 0], [0, 0, 0, 0, 1, 0, 0], [0, 1, 0, 1, 0, 1, 0], [0, 1, 1, 1, 0, 0, 1], [0, 0, 0, 0, 1, 0, 0], [1, 0, 0, 0, 0, 1, 1], [0, 1, 0, 1, 0, 1, 0], [0, 0, 1, 1, 0, 1, 0], [1, 0, 0, 1, 0, 1, 0], [0, 0, 0, 0, 1, 0, 0], [0, 0, 1, 1, 0, 1, 0], [0, 0, 0, 0, 1, 0, 0], [0, 0, 0, 0, 1, 0, 0], [0, 1, 1, 1, 0, 0, 1], [0, 1, 0, 1, 0, 1, 0], [0, 1, 1, 1, 0, 0, 1], [0, 0, 0, 0, 1, 0, 0], [1, 0, 1, 1, 0, 0, 1], [0, 0, 1, 1, 0, 1, 0], [0, 1, 1, 1, 0, 0, 1], [1, 0, 1, 1, 0, 0, 1], [0, 0, 0, 1, 0, 1, 1], [0, 0, 0, 0, 1, 0, 0], [0, 0, 0, 0, 1, 0, 0], [0, 0, 1, 1, 0, 1, 0], [1, 0, 0, 1, 0, 1, 0], [0, 0, 1, 1, 0, 1, 0], [0, 0, 0, 0, 1, 0, 0], [0, 1, 0, 1, 0, 1, 0], [1, 0, 0, 0, 0, 1, 1], [0, 0, 0, 0, 1, 0, 0], [0, 0, 1, 1, 0, 1, 0], [1, 0, 0, 0, 0, 1, 1], [0, 0, 0, 0, 1, 0, 0], [0, 1, 1, 1, 0, 0, 1], [0, 0, 0, 0, 1, 0, 0], [1, 0, 0, 0, 0, 1, 1], [0, 1, 0, 1, 0, 1, 0], [0, 0, 0, 0, 1, 0, 0], [0, 0, 1, 1, 0, 1, 0], [0, 1, 1, 1, 0, 0, 1], [1, 0, 1, 1, 0, 0, 1], [0, 0, 1, 1, 0, 1, 0], [0, 0, 1, 0, 0, 1, 1], [0, 0, 0, 0, 1, 0, 0], [0, 0, 1, 1, 0, 1, 0], [0, 1, 0, 1, 0, 1, 0], [0, 1, 1, 1, 0, 0, 1], [0, 0, 0, 0, 1, 0, 0], [1, 0, 1, 1, 0, 0, 1], [1, 0, 0, 1, 0, 1, 0], [0, 0, 1, 1, 0, 1, 0], [1, 0, 1, 0, 0, 1, 0], [0, 0, 0, 0, 1, 0, 0], [1, 0, 1, 1, 0, 0, 1], [0, 0, 0, 0, 1, 0, 0], [0, 1, 1, 1, 0, 0, 1], [1, 0, 1, 1, 0, 0, 1], [0, 0, 0, 0, 1, 0, 0], [0, 1, 1, 1, 0, 0, 1], [0, 0, 0, 0, 1, 0, 0], [1, 0, 0, 1, 0, 1, 0], [0, 0, 0, 0, 1, 0, 0], [0, 0, 1, 1, 0, 1, 0], [0, 0, 0, 0, 1, 0, 0], [0, 0, 1, 1, 0, 1, 0], [1, 0, 0, 1, 0, 1, 0], [0, 1, 1, 1, 0, 0, 1], [1, 0, 1, 1, 0, 0, 1], [0, 0, 1, 1, 0, 1, 0], [1, 0, 0, 1, 0, 1, 0], [1, 0, 0, 0, 0, 1, 1], [0, 0, 0, 0, 1, 0, 0], [1, 0, 0, 1, 0, 1, 0], [1, 0, 0, 1, 0, 1, 0], [1, 0, 0, 0, 0, 1, 1], [0, 0, 0, 0, 1, 0, 0], [0, 0, 1, 1, 0, 1, 0], [0, 0, 1, 1, 0, 1, 0], [1, 0, 1, 1, 0, 0, 1], [0, 0, 1, 1, 0, 1, 0], [1, 0, 0, 0, 0, 1, 1], [0, 0, 0, 0, 1, 0, 0], [0, 0, 0, 1, 0, 1, 1], [0, 0, 0, 0, 1, 0, 0], [0, 0, 0, 0, 1, 0, 0], [0, 1, 0, 1, 0, 1, 0], [0, 0, 0, 0, 1, 0, 0], [0, 0, 1, 1, 0, 1, 0], [0, 1, 1, 1, 0, 0, 1], [1, 0, 1, 1, 0, 0, 1], [0, 0, 0, 0, 1, 0, 0], [0, 0, 0, 0, 1, 0, 0], [0, 0, 0, 0, 1, 0, 0], [1, 0, 1, 1, 0, 0, 1], [0, 0, 1, 1, 0, 1, 0], [0, 0, 1, 0, 0, 1, 1], [0, 0, 0, 0, 1, 0, 0]]\n"
     ]
    }
   ],
   "source": [
    "print(encoded)"
   ],
   "metadata": {
    "collapsed": false,
    "ExecuteTime": {
     "end_time": "2023-12-11T10:44:05.837993727Z",
     "start_time": "2023-12-11T10:44:05.730405199Z"
    }
   },
   "id": "4a1bb8a4c7d31465"
  },
  {
   "cell_type": "code",
   "execution_count": 24,
   "outputs": [
    {
     "data": {
      "text/plain": "                             ,        .         А        Г         Л  \\\nProbability  0.349633  0.02934  0.01956  0.161369  0.01956  0.056235   \n\n                    Ж         Е        У         М         Ц       Р  \nProbability  0.007335  0.105134  0.04401  0.102689  0.007335  0.0978  ",
      "text/html": "<div>\n<style scoped>\n    .dataframe tbody tr th:only-of-type {\n        vertical-align: middle;\n    }\n\n    .dataframe tbody tr th {\n        vertical-align: top;\n    }\n\n    .dataframe thead th {\n        text-align: right;\n    }\n</style>\n<table border=\"1\" class=\"dataframe\">\n  <thead>\n    <tr style=\"text-align: right;\">\n      <th></th>\n      <th></th>\n      <th>,</th>\n      <th>.</th>\n      <th>А</th>\n      <th>Г</th>\n      <th>Л</th>\n      <th>Ж</th>\n      <th>Е</th>\n      <th>У</th>\n      <th>М</th>\n      <th>Ц</th>\n      <th>Р</th>\n    </tr>\n  </thead>\n  <tbody>\n    <tr>\n      <th>Probability</th>\n      <td>0.349633</td>\n      <td>0.02934</td>\n      <td>0.01956</td>\n      <td>0.161369</td>\n      <td>0.01956</td>\n      <td>0.056235</td>\n      <td>0.007335</td>\n      <td>0.105134</td>\n      <td>0.04401</td>\n      <td>0.102689</td>\n      <td>0.007335</td>\n      <td>0.0978</td>\n    </tr>\n  </tbody>\n</table>\n</div>"
     },
     "execution_count": 24,
     "metadata": {},
     "output_type": "execute_result"
    }
   ],
   "source": [
    "probabilities_df"
   ],
   "metadata": {
    "collapsed": false,
    "ExecuteTime": {
     "end_time": "2023-12-11T10:44:05.860934978Z",
     "start_time": "2023-12-11T10:44:05.731589648Z"
    }
   },
   "id": "43b077a534ae9509"
  },
  {
   "cell_type": "code",
   "execution_count": 25,
   "outputs": [],
   "source": [
    "codewords_list = list(codewords.values())\n",
    "pe = 3e-2\n",
    "prob_not_detecting_error_ai = []\n",
    "joint_matrix = []\n",
    "for i, code_a in enumerate(codewords_list):\n",
    "    joint_matrix.append([])\n",
    "    for j, code_b in enumerate(codewords_list):\n",
    "        d = distance(code_a, code_b)\n",
    "        n = len(code_b)\n",
    "        val = math.pow(pe, d) * math.pow(1 - pe, n - d)\n",
    "        joint_matrix[i].append(val)\n",
    "for i in range(len(codewords_list)):\n",
    "    sum = 0\n",
    "    for j in range(len(codewords_list)):\n",
    "        sum += joint_matrix[j][i]\n",
    "    joint_matrix[i][i] = 1 - sum + joint_matrix[i][i]\n",
    "    prob_not_detecting_error_ai.append(1 - joint_matrix[i][i])\n",
    "columns = [f\"$b_{{{i}}}$\" for i in range(len(codewords_list))]\n",
    "index = [f\"$a_{{{i}}}$\" for i in range(len(codewords_list))]\n",
    "joint_matrix_df = pd.DataFrame(joint_matrix, columns=columns, index=index)\n",
    "with open('./latex_tables/joint_matrix.tex', 'w') as tf:\n",
    "    tf.write(joint_matrix_df.to_latex())"
   ],
   "metadata": {
    "collapsed": false,
    "ExecuteTime": {
     "end_time": "2023-12-11T10:44:05.861743747Z",
     "start_time": "2023-12-11T10:44:05.772090692Z"
    }
   },
   "id": "bed57d541bc5acf3"
  },
  {
   "cell_type": "code",
   "execution_count": 26,
   "outputs": [
    {
     "data": {
      "text/plain": "          0000          0001      0010          0011          0100  \\\n0000  0.309842  9.573025e-03  0.009573  2.960729e-04  9.573025e-03   \n0001  0.000803  2.600077e-02  0.000025  8.033308e-04  2.484528e-05   \n0010  0.000536  1.656352e-05  0.017334  5.355538e-04  1.656352e-05   \n0011  0.000137  4.418319e-03  0.004418  1.430042e-01  4.226259e-06   \n0100  0.000536  1.656352e-05  0.000017  5.122738e-07  1.788543e-02   \n0101  0.000048  1.539717e-03  0.000001  4.762012e-05  1.539717e-03   \n0110  0.000006  1.921027e-07  0.000201  6.211320e-06  2.008327e-04   \n0111  0.000003  8.902892e-05  0.000089  2.878602e-03  8.902892e-05   \n1000  0.001205  3.726792e-05  0.000037  1.152616e-06  3.726792e-05   \n1001  0.000087  2.811658e-03  0.000003  8.695848e-05  2.689438e-06   \n1010  0.000006  1.921027e-07  0.000201  6.211320e-06  1.921027e-07   \n1011  0.000003  8.281760e-05  0.000083  2.677769e-03  7.921760e-08   \n\n              0101          0110          0111          1000          1001  \\\n0000  2.960729e-04  2.960729e-04  9.156895e-06  9.573025e-03  2.960729e-04   \n0001  8.033308e-04  7.684108e-07  2.484528e-05  2.484528e-05  8.033308e-04   \n0010  5.122738e-07  5.355538e-04  1.656352e-05  1.656352e-05  5.122738e-07   \n0011  1.366490e-04  1.366490e-04  4.418319e-03  4.226259e-06  1.366490e-04   \n0100  5.355538e-04  5.355538e-04  1.656352e-05  1.656352e-05  5.122738e-07   \n0101  5.142062e-02  4.762012e-05  1.539717e-03  1.472787e-06  4.762012e-05   \n0110  6.211320e-06  6.707038e-03  2.008327e-04  1.921027e-07  5.941320e-09   \n0111  2.878602e-03  2.878602e-03  9.613421e-02  8.515892e-08  2.753472e-06   \n1000  1.152616e-06  1.152616e-06  3.564792e-08  4.024223e-02  1.204996e-03   \n1001  8.695848e-05  8.317848e-08  2.689438e-06  2.811658e-03  9.389853e-02   \n1010  5.941320e-09  6.211320e-06  1.921027e-07  2.008327e-04  6.211320e-06   \n1011  2.561369e-06  2.561369e-06  8.281760e-05  8.281760e-05  2.677769e-03   \n\n              1010          1011  \n0000  2.960729e-04  9.156895e-06  \n0001  7.684108e-07  2.484528e-05  \n0010  5.355538e-04  1.656352e-05  \n0011  1.366490e-04  4.418319e-03  \n0100  5.122738e-07  1.584352e-08  \n0101  4.555012e-08  1.472787e-06  \n0110  6.211320e-06  1.921027e-07  \n0111  2.753472e-06  8.902892e-05  \n1000  1.204996e-03  3.726792e-05  \n1001  8.695848e-05  2.811658e-03  \n1010  6.707038e-03  2.008327e-04  \n1011  2.677769e-03  8.942717e-02  ",
      "text/html": "<div>\n<style scoped>\n    .dataframe tbody tr th:only-of-type {\n        vertical-align: middle;\n    }\n\n    .dataframe tbody tr th {\n        vertical-align: top;\n    }\n\n    .dataframe thead th {\n        text-align: right;\n    }\n</style>\n<table border=\"1\" class=\"dataframe\">\n  <thead>\n    <tr style=\"text-align: right;\">\n      <th></th>\n      <th>0000</th>\n      <th>0001</th>\n      <th>0010</th>\n      <th>0011</th>\n      <th>0100</th>\n      <th>0101</th>\n      <th>0110</th>\n      <th>0111</th>\n      <th>1000</th>\n      <th>1001</th>\n      <th>1010</th>\n      <th>1011</th>\n    </tr>\n  </thead>\n  <tbody>\n    <tr>\n      <th>0000</th>\n      <td>0.309842</td>\n      <td>9.573025e-03</td>\n      <td>0.009573</td>\n      <td>2.960729e-04</td>\n      <td>9.573025e-03</td>\n      <td>2.960729e-04</td>\n      <td>2.960729e-04</td>\n      <td>9.156895e-06</td>\n      <td>9.573025e-03</td>\n      <td>2.960729e-04</td>\n      <td>2.960729e-04</td>\n      <td>9.156895e-06</td>\n    </tr>\n    <tr>\n      <th>0001</th>\n      <td>0.000803</td>\n      <td>2.600077e-02</td>\n      <td>0.000025</td>\n      <td>8.033308e-04</td>\n      <td>2.484528e-05</td>\n      <td>8.033308e-04</td>\n      <td>7.684108e-07</td>\n      <td>2.484528e-05</td>\n      <td>2.484528e-05</td>\n      <td>8.033308e-04</td>\n      <td>7.684108e-07</td>\n      <td>2.484528e-05</td>\n    </tr>\n    <tr>\n      <th>0010</th>\n      <td>0.000536</td>\n      <td>1.656352e-05</td>\n      <td>0.017334</td>\n      <td>5.355538e-04</td>\n      <td>1.656352e-05</td>\n      <td>5.122738e-07</td>\n      <td>5.355538e-04</td>\n      <td>1.656352e-05</td>\n      <td>1.656352e-05</td>\n      <td>5.122738e-07</td>\n      <td>5.355538e-04</td>\n      <td>1.656352e-05</td>\n    </tr>\n    <tr>\n      <th>0011</th>\n      <td>0.000137</td>\n      <td>4.418319e-03</td>\n      <td>0.004418</td>\n      <td>1.430042e-01</td>\n      <td>4.226259e-06</td>\n      <td>1.366490e-04</td>\n      <td>1.366490e-04</td>\n      <td>4.418319e-03</td>\n      <td>4.226259e-06</td>\n      <td>1.366490e-04</td>\n      <td>1.366490e-04</td>\n      <td>4.418319e-03</td>\n    </tr>\n    <tr>\n      <th>0100</th>\n      <td>0.000536</td>\n      <td>1.656352e-05</td>\n      <td>0.000017</td>\n      <td>5.122738e-07</td>\n      <td>1.788543e-02</td>\n      <td>5.355538e-04</td>\n      <td>5.355538e-04</td>\n      <td>1.656352e-05</td>\n      <td>1.656352e-05</td>\n      <td>5.122738e-07</td>\n      <td>5.122738e-07</td>\n      <td>1.584352e-08</td>\n    </tr>\n    <tr>\n      <th>0101</th>\n      <td>0.000048</td>\n      <td>1.539717e-03</td>\n      <td>0.000001</td>\n      <td>4.762012e-05</td>\n      <td>1.539717e-03</td>\n      <td>5.142062e-02</td>\n      <td>4.762012e-05</td>\n      <td>1.539717e-03</td>\n      <td>1.472787e-06</td>\n      <td>4.762012e-05</td>\n      <td>4.555012e-08</td>\n      <td>1.472787e-06</td>\n    </tr>\n    <tr>\n      <th>0110</th>\n      <td>0.000006</td>\n      <td>1.921027e-07</td>\n      <td>0.000201</td>\n      <td>6.211320e-06</td>\n      <td>2.008327e-04</td>\n      <td>6.211320e-06</td>\n      <td>6.707038e-03</td>\n      <td>2.008327e-04</td>\n      <td>1.921027e-07</td>\n      <td>5.941320e-09</td>\n      <td>6.211320e-06</td>\n      <td>1.921027e-07</td>\n    </tr>\n    <tr>\n      <th>0111</th>\n      <td>0.000003</td>\n      <td>8.902892e-05</td>\n      <td>0.000089</td>\n      <td>2.878602e-03</td>\n      <td>8.902892e-05</td>\n      <td>2.878602e-03</td>\n      <td>2.878602e-03</td>\n      <td>9.613421e-02</td>\n      <td>8.515892e-08</td>\n      <td>2.753472e-06</td>\n      <td>2.753472e-06</td>\n      <td>8.902892e-05</td>\n    </tr>\n    <tr>\n      <th>1000</th>\n      <td>0.001205</td>\n      <td>3.726792e-05</td>\n      <td>0.000037</td>\n      <td>1.152616e-06</td>\n      <td>3.726792e-05</td>\n      <td>1.152616e-06</td>\n      <td>1.152616e-06</td>\n      <td>3.564792e-08</td>\n      <td>4.024223e-02</td>\n      <td>1.204996e-03</td>\n      <td>1.204996e-03</td>\n      <td>3.726792e-05</td>\n    </tr>\n    <tr>\n      <th>1001</th>\n      <td>0.000087</td>\n      <td>2.811658e-03</td>\n      <td>0.000003</td>\n      <td>8.695848e-05</td>\n      <td>2.689438e-06</td>\n      <td>8.695848e-05</td>\n      <td>8.317848e-08</td>\n      <td>2.689438e-06</td>\n      <td>2.811658e-03</td>\n      <td>9.389853e-02</td>\n      <td>8.695848e-05</td>\n      <td>2.811658e-03</td>\n    </tr>\n    <tr>\n      <th>1010</th>\n      <td>0.000006</td>\n      <td>1.921027e-07</td>\n      <td>0.000201</td>\n      <td>6.211320e-06</td>\n      <td>1.921027e-07</td>\n      <td>5.941320e-09</td>\n      <td>6.211320e-06</td>\n      <td>1.921027e-07</td>\n      <td>2.008327e-04</td>\n      <td>6.211320e-06</td>\n      <td>6.707038e-03</td>\n      <td>2.008327e-04</td>\n    </tr>\n    <tr>\n      <th>1011</th>\n      <td>0.000003</td>\n      <td>8.281760e-05</td>\n      <td>0.000083</td>\n      <td>2.677769e-03</td>\n      <td>7.921760e-08</td>\n      <td>2.561369e-06</td>\n      <td>2.561369e-06</td>\n      <td>8.281760e-05</td>\n      <td>8.281760e-05</td>\n      <td>2.677769e-03</td>\n      <td>2.677769e-03</td>\n      <td>8.942717e-02</td>\n    </tr>\n  </tbody>\n</table>\n</div>"
     },
     "execution_count": 26,
     "metadata": {},
     "output_type": "execute_result"
    }
   ],
   "source": [
    "from copy import deepcopy\n",
    "\n",
    "probabilities_list = list(probabilities.values())\n",
    "channel_matrix = deepcopy(joint_matrix)\n",
    "for i in range(len(joint_matrix)):\n",
    "    for j in range(len(joint_matrix)):\n",
    "        channel_matrix[i][j] = joint_matrix[i][j] * probabilities_list[i]\n",
    "columns = [\"\".join(str(c) for c in code) for code in codewords_list]\n",
    "index = [\"\".join(str(c) for c in code) for code in codewords_list]\n",
    "channel_matrix_df = pd.DataFrame(channel_matrix, columns=columns, index=index)\n",
    "bold_header = [fr\"\\textbf{{{col}}}\" for col in columns]\n",
    "index = [fr\"\\textbf{{{col}}}\" for col in index]\n",
    "with open('./latex_tables/channel_matrix.tex', 'w') as tf:\n",
    "    tf.write(channel_matrix_df.to_latex())\n",
    "channel_matrix_df"
   ],
   "metadata": {
    "collapsed": false,
    "ExecuteTime": {
     "end_time": "2023-12-11T10:44:05.924682272Z",
     "start_time": "2023-12-11T10:44:05.772161861Z"
    }
   },
   "id": "4c5e57b899b0829d"
  },
  {
   "cell_type": "code",
   "execution_count": 26,
   "outputs": [],
   "source": [],
   "metadata": {
    "collapsed": false,
    "ExecuteTime": {
     "end_time": "2023-12-11T10:44:05.972306143Z",
     "start_time": "2023-12-11T10:44:05.784672223Z"
    }
   },
   "id": "2ed51315912d85ff"
  },
  {
   "cell_type": "code",
   "execution_count": 27,
   "outputs": [
    {
     "data": {
      "text/plain": "              0000      0001      0010      0011      0100      0101  \\\n$p(b_j)$  0.313211  0.044586  0.031982  0.150344  0.029374  0.056168   \n\n              0110      0111      1000      1001      1010      1011  \n$p(b_j)$  0.011148  0.102446  0.052975  0.099075  0.011655  0.097037  ",
      "text/html": "<div>\n<style scoped>\n    .dataframe tbody tr th:only-of-type {\n        vertical-align: middle;\n    }\n\n    .dataframe tbody tr th {\n        vertical-align: top;\n    }\n\n    .dataframe thead th {\n        text-align: right;\n    }\n</style>\n<table border=\"1\" class=\"dataframe\">\n  <thead>\n    <tr style=\"text-align: right;\">\n      <th></th>\n      <th>0000</th>\n      <th>0001</th>\n      <th>0010</th>\n      <th>0011</th>\n      <th>0100</th>\n      <th>0101</th>\n      <th>0110</th>\n      <th>0111</th>\n      <th>1000</th>\n      <th>1001</th>\n      <th>1010</th>\n      <th>1011</th>\n    </tr>\n  </thead>\n  <tbody>\n    <tr>\n      <th>$p(b_j)$</th>\n      <td>0.313211</td>\n      <td>0.044586</td>\n      <td>0.031982</td>\n      <td>0.150344</td>\n      <td>0.029374</td>\n      <td>0.056168</td>\n      <td>0.011148</td>\n      <td>0.102446</td>\n      <td>0.052975</td>\n      <td>0.099075</td>\n      <td>0.011655</td>\n      <td>0.097037</td>\n    </tr>\n  </tbody>\n</table>\n</div>"
     },
     "execution_count": 27,
     "metadata": {},
     "output_type": "execute_result"
    }
   ],
   "source": [
    "# Calculate the sum for each column\n",
    "column_sums = channel_matrix_df.sum()\n",
    "\n",
    "# Create a new DataFrame with a single row containing the column sums\n",
    "sums_df = pd.DataFrame([column_sums.values], columns=column_sums.index, index=[\"$p(b_j)$\"])\n",
    "with open('./latex_tables/sums.tex', 'w') as tf:\n",
    "    tf.write(sums_df.to_latex())\n",
    "sums_df\n",
    "\n"
   ],
   "metadata": {
    "collapsed": false,
    "ExecuteTime": {
     "end_time": "2023-12-11T10:44:05.972810960Z",
     "start_time": "2023-12-11T10:44:05.820189418Z"
    }
   },
   "id": "e9e32106e3bf5f00"
  },
  {
   "cell_type": "code",
   "execution_count": 28,
   "outputs": [
    {
     "data": {
      "text/plain": "          0000      0001      0010      0011      0100          0101  \\\n0000  0.989246  0.214709  0.299330  0.001969  0.325902  5.271181e-03   \n0001  0.002565  0.583158  0.000777  0.005343  0.000846  1.430223e-02   \n0010  0.001710  0.000371  0.541995  0.003562  0.000564  9.120348e-06   \n0011  0.000436  0.099096  0.138152  0.951179  0.000144  2.432853e-03   \n0100  0.001710  0.000371  0.000518  0.000003  0.608889  9.534817e-03   \n0101  0.000152  0.034534  0.000046  0.000317  0.052418  9.154752e-01   \n0110  0.000020  0.000004  0.006280  0.000041  0.006837  1.105842e-04   \n0111  0.000009  0.001997  0.002784  0.019147  0.003031  5.124964e-02   \n1000  0.003847  0.000836  0.001165  0.000008  0.001269  2.052078e-05   \n1001  0.000278  0.063061  0.000084  0.000578  0.000092  1.548179e-03   \n1010  0.000020  0.000004  0.006280  0.000041  0.000007  1.057772e-07   \n1011  0.000008  0.001857  0.002590  0.017811  0.000003  4.560174e-05   \n\n          0110          0111      1000          1001      1010          1011  \n0000  0.026559  8.938270e-05  0.180710  2.988373e-03  0.025402  9.436545e-05  \n0001  0.000069  2.425209e-04  0.000469  8.108313e-03  0.000066  2.560405e-04  \n0010  0.048041  1.616806e-04  0.000313  5.170568e-06  0.045949  1.706937e-04  \n0011  0.012258  4.312830e-02  0.000080  1.379249e-03  0.011724  4.553254e-02  \n0100  0.048041  1.616806e-04  0.000313  5.170568e-06  0.000044  1.632738e-07  \n0101  0.004272  1.502956e-02  0.000028  4.806474e-04  0.000004  1.517766e-05  \n0110  0.601643  1.960377e-03  0.000004  5.996793e-08  0.000533  1.979695e-06  \n0111  0.258220  9.383896e-01  0.000002  2.779180e-05  0.000236  9.174785e-04  \n1000  0.000103  3.479681e-07  0.759653  1.216247e-02  0.103386  3.840608e-04  \n1001  0.000007  2.625226e-05  0.053076  9.477524e-01  0.007461  2.897525e-02  \n1010  0.000557  1.875162e-06  0.003791  6.269314e-05  0.575448  2.069661e-03  \n1011  0.000230  8.084030e-04  0.001563  2.702771e-02  0.229746  9.215826e-01  ",
      "text/html": "<div>\n<style scoped>\n    .dataframe tbody tr th:only-of-type {\n        vertical-align: middle;\n    }\n\n    .dataframe tbody tr th {\n        vertical-align: top;\n    }\n\n    .dataframe thead th {\n        text-align: right;\n    }\n</style>\n<table border=\"1\" class=\"dataframe\">\n  <thead>\n    <tr style=\"text-align: right;\">\n      <th></th>\n      <th>0000</th>\n      <th>0001</th>\n      <th>0010</th>\n      <th>0011</th>\n      <th>0100</th>\n      <th>0101</th>\n      <th>0110</th>\n      <th>0111</th>\n      <th>1000</th>\n      <th>1001</th>\n      <th>1010</th>\n      <th>1011</th>\n    </tr>\n  </thead>\n  <tbody>\n    <tr>\n      <th>0000</th>\n      <td>0.989246</td>\n      <td>0.214709</td>\n      <td>0.299330</td>\n      <td>0.001969</td>\n      <td>0.325902</td>\n      <td>5.271181e-03</td>\n      <td>0.026559</td>\n      <td>8.938270e-05</td>\n      <td>0.180710</td>\n      <td>2.988373e-03</td>\n      <td>0.025402</td>\n      <td>9.436545e-05</td>\n    </tr>\n    <tr>\n      <th>0001</th>\n      <td>0.002565</td>\n      <td>0.583158</td>\n      <td>0.000777</td>\n      <td>0.005343</td>\n      <td>0.000846</td>\n      <td>1.430223e-02</td>\n      <td>0.000069</td>\n      <td>2.425209e-04</td>\n      <td>0.000469</td>\n      <td>8.108313e-03</td>\n      <td>0.000066</td>\n      <td>2.560405e-04</td>\n    </tr>\n    <tr>\n      <th>0010</th>\n      <td>0.001710</td>\n      <td>0.000371</td>\n      <td>0.541995</td>\n      <td>0.003562</td>\n      <td>0.000564</td>\n      <td>9.120348e-06</td>\n      <td>0.048041</td>\n      <td>1.616806e-04</td>\n      <td>0.000313</td>\n      <td>5.170568e-06</td>\n      <td>0.045949</td>\n      <td>1.706937e-04</td>\n    </tr>\n    <tr>\n      <th>0011</th>\n      <td>0.000436</td>\n      <td>0.099096</td>\n      <td>0.138152</td>\n      <td>0.951179</td>\n      <td>0.000144</td>\n      <td>2.432853e-03</td>\n      <td>0.012258</td>\n      <td>4.312830e-02</td>\n      <td>0.000080</td>\n      <td>1.379249e-03</td>\n      <td>0.011724</td>\n      <td>4.553254e-02</td>\n    </tr>\n    <tr>\n      <th>0100</th>\n      <td>0.001710</td>\n      <td>0.000371</td>\n      <td>0.000518</td>\n      <td>0.000003</td>\n      <td>0.608889</td>\n      <td>9.534817e-03</td>\n      <td>0.048041</td>\n      <td>1.616806e-04</td>\n      <td>0.000313</td>\n      <td>5.170568e-06</td>\n      <td>0.000044</td>\n      <td>1.632738e-07</td>\n    </tr>\n    <tr>\n      <th>0101</th>\n      <td>0.000152</td>\n      <td>0.034534</td>\n      <td>0.000046</td>\n      <td>0.000317</td>\n      <td>0.052418</td>\n      <td>9.154752e-01</td>\n      <td>0.004272</td>\n      <td>1.502956e-02</td>\n      <td>0.000028</td>\n      <td>4.806474e-04</td>\n      <td>0.000004</td>\n      <td>1.517766e-05</td>\n    </tr>\n    <tr>\n      <th>0110</th>\n      <td>0.000020</td>\n      <td>0.000004</td>\n      <td>0.006280</td>\n      <td>0.000041</td>\n      <td>0.006837</td>\n      <td>1.105842e-04</td>\n      <td>0.601643</td>\n      <td>1.960377e-03</td>\n      <td>0.000004</td>\n      <td>5.996793e-08</td>\n      <td>0.000533</td>\n      <td>1.979695e-06</td>\n    </tr>\n    <tr>\n      <th>0111</th>\n      <td>0.000009</td>\n      <td>0.001997</td>\n      <td>0.002784</td>\n      <td>0.019147</td>\n      <td>0.003031</td>\n      <td>5.124964e-02</td>\n      <td>0.258220</td>\n      <td>9.383896e-01</td>\n      <td>0.000002</td>\n      <td>2.779180e-05</td>\n      <td>0.000236</td>\n      <td>9.174785e-04</td>\n    </tr>\n    <tr>\n      <th>1000</th>\n      <td>0.003847</td>\n      <td>0.000836</td>\n      <td>0.001165</td>\n      <td>0.000008</td>\n      <td>0.001269</td>\n      <td>2.052078e-05</td>\n      <td>0.000103</td>\n      <td>3.479681e-07</td>\n      <td>0.759653</td>\n      <td>1.216247e-02</td>\n      <td>0.103386</td>\n      <td>3.840608e-04</td>\n    </tr>\n    <tr>\n      <th>1001</th>\n      <td>0.000278</td>\n      <td>0.063061</td>\n      <td>0.000084</td>\n      <td>0.000578</td>\n      <td>0.000092</td>\n      <td>1.548179e-03</td>\n      <td>0.000007</td>\n      <td>2.625226e-05</td>\n      <td>0.053076</td>\n      <td>9.477524e-01</td>\n      <td>0.007461</td>\n      <td>2.897525e-02</td>\n    </tr>\n    <tr>\n      <th>1010</th>\n      <td>0.000020</td>\n      <td>0.000004</td>\n      <td>0.006280</td>\n      <td>0.000041</td>\n      <td>0.000007</td>\n      <td>1.057772e-07</td>\n      <td>0.000557</td>\n      <td>1.875162e-06</td>\n      <td>0.003791</td>\n      <td>6.269314e-05</td>\n      <td>0.575448</td>\n      <td>2.069661e-03</td>\n    </tr>\n    <tr>\n      <th>1011</th>\n      <td>0.000008</td>\n      <td>0.001857</td>\n      <td>0.002590</td>\n      <td>0.017811</td>\n      <td>0.000003</td>\n      <td>4.560174e-05</td>\n      <td>0.000230</td>\n      <td>8.084030e-04</td>\n      <td>0.001563</td>\n      <td>2.702771e-02</td>\n      <td>0.229746</td>\n      <td>9.215826e-01</td>\n    </tr>\n  </tbody>\n</table>\n</div>"
     },
     "execution_count": 28,
     "metadata": {},
     "output_type": "execute_result"
    }
   ],
   "source": [
    "channel_matrix_p_ai_bj = deepcopy(channel_matrix)\n",
    "column_sums_list = list(column_sums)\n",
    "for i, row in enumerate(channel_matrix_p_ai_bj):\n",
    "    for j, col in enumerate(row):\n",
    "        channel_matrix_p_ai_bj[i][j] = channel_matrix_p_ai_bj[i][j] / column_sums_list[j]\n",
    "\n",
    "columns = [\"\".join(str(c) for c in code) for code in codewords_list]\n",
    "index = [\"\".join(str(c) for c in code) for code in codewords_list]\n",
    "channel_matrix_p_ai_bj_df = pd.DataFrame(channel_matrix_p_ai_bj, index=index, columns=columns)\n",
    "with open('./latex_tables/channel_matrix_p_ai_bj.tex', 'w') as tf:\n",
    "    tf.write(channel_matrix_p_ai_bj_df.to_latex())\n",
    "channel_matrix_p_ai_bj_df\n",
    "\n"
   ],
   "metadata": {
    "collapsed": false,
    "ExecuteTime": {
     "end_time": "2023-12-11T10:44:05.973360756Z",
     "start_time": "2023-12-11T10:44:05.820321628Z"
    }
   },
   "id": "b661838bb29d439f"
  }
 ],
 "metadata": {
  "kernelspec": {
   "display_name": "Python 3",
   "language": "python",
   "name": "python3"
  },
  "language_info": {
   "codemirror_mode": {
    "name": "ipython",
    "version": 2
   },
   "file_extension": ".py",
   "mimetype": "text/x-python",
   "name": "python",
   "nbconvert_exporter": "python",
   "pygments_lexer": "ipython2",
   "version": "2.7.6"
  }
 },
 "nbformat": 4,
 "nbformat_minor": 5
}
