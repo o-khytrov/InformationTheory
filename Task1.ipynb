{
 "cells": [
  {
   "cell_type": "code",
   "execution_count": 1,
   "outputs": [],
   "source": [
    "import math\n",
    "import pandas as pd\n",
    "import numpy as np"
   ],
   "metadata": {
    "collapsed": false,
    "ExecuteTime": {
     "end_time": "2023-11-20T13:42:06.017563012Z",
     "start_time": "2023-11-20T13:42:05.575845264Z"
    }
   },
   "id": "c0d1743fecf84628"
  },
  {
   "cell_type": "code",
   "execution_count": 2,
   "id": "initial_id",
   "metadata": {
    "collapsed": true,
    "ExecuteTime": {
     "end_time": "2023-11-20T13:42:06.024310362Z",
     "start_time": "2023-11-20T13:42:06.018104468Z"
    }
   },
   "outputs": [],
   "source": [
    "alphabet = [' ', ',', '.', 'А', 'Г', 'Л', 'Ж', 'Е', 'У', 'М', 'Ц', 'Р']"
   ]
  },
  {
   "cell_type": "code",
   "execution_count": 3,
   "outputs": [],
   "source": [
    "input_text = \"\"\"\n",
    "4 Веста (символ: ⚶) — астероїд, один із найбільших об'єктів у поясі астероїдів (середній діаметр 525 км). Відкритий 29 березня 1807 року німецьким астроном Генріхом Ольберсом і названий на честь Вести, богині дому та вогнища в римській міфології. Вважається, що Веста є другим об'єктом у поясі астероїдів за масою та за об'ємом після карликової планети Церери, хоч об'єм Вести (у межах похибки вимірювань) дорівнює об'єму Паллади. На Весту припадає близько 9 % маси поясу астероїдів. Для наземного спостерігача Веста є найяскравішим астероїдом. Її яскравість може досягати 5,1 зоряної величини, і в такі моменти її, хоч і слабко, видно неозброєним оком. 1,2 мільярда років тому Веста зазнала зіткнень з іншими об'єктами, що спричинили формування численних уламків та двох величезних кратерів, які займають більшу частину південної півкулі астероїда. Найбільше інформації про поверхню Вести відомо завдяки американському космічному апарату «Dawn», який дослідив астероїд в 2011—2012 роках. \n",
    "\"\"\".upper()"
   ],
   "metadata": {
    "collapsed": false,
    "ExecuteTime": {
     "end_time": "2023-11-20T13:42:06.024815921Z",
     "start_time": "2023-11-20T13:42:06.021614677Z"
    }
   },
   "id": "7507b5a193d7c0c2"
  },
  {
   "cell_type": "code",
   "execution_count": 4,
   "outputs": [
    {
     "name": "stdout",
     "output_type": "stream",
     "text": [
      "\n",
      "4 ВЕСТА (СИМВОЛ: ⚶) — АСТЕРОЇД, ОДИН ІЗ НАЙБІЛЬШИХ ОБ'ЄКТІВ У ПОЯСІ АСТЕРОЇДІВ (СЕРЕДНІЙ ДІАМЕТР 525 КМ). ВІДКРИТИЙ 29 БЕРЕЗНЯ 1807 РОКУ НІМЕЦЬКИМ АСТРОНОМ ГЕНРІХОМ ОЛЬБЕРСОМ І НАЗВАНИЙ НА ЧЕСТЬ ВЕСТИ, БОГИНІ ДОМУ ТА ВОГНИЩА В РИМСЬКІЙ МІФОЛОГІЇ. ВВАЖАЄТЬСЯ, ЩО ВЕСТА Є ДРУГИМ ОБ'ЄКТОМ У ПОЯСІ АСТЕРОЇДІВ ЗА МАСОЮ ТА ЗА ОБ'ЄМОМ ПІСЛЯ КАРЛИКОВОЇ ПЛАНЕТИ ЦЕРЕРИ, ХОЧ ОБ'ЄМ ВЕСТИ (У МЕЖАХ ПОХИБКИ ВИМІРЮВАНЬ) ДОРІВНЮЄ ОБ'ЄМУ ПАЛЛАДИ. НА ВЕСТУ ПРИПАДАЄ БЛИЗЬКО 9 % МАСИ ПОЯСУ АСТЕРОЇДІВ. ДЛЯ НАЗЕМНОГО СПОСТЕРІГАЧА ВЕСТА Є НАЙЯСКРАВІШИМ АСТЕРОЇДОМ. ЇЇ ЯСКРАВІСТЬ МОЖЕ ДОСЯГАТИ 5,1 ЗОРЯНОЇ ВЕЛИЧИНИ, І В ТАКІ МОМЕНТИ ЇЇ, ХОЧ І СЛАБКО, ВИДНО НЕОЗБРОЄНИМ ОКОМ. 1,2 МІЛЬЯРДА РОКІВ ТОМУ ВЕСТА ЗАЗНАЛА ЗІТКНЕНЬ З ІНШИМИ ОБ'ЄКТАМИ, ЩО СПРИЧИНИЛИ ФОРМУВАННЯ ЧИСЛЕННИХ УЛАМКІВ ТА ДВОХ ВЕЛИЧЕЗНИХ КРАТЕРІВ, ЯКІ ЗАЙМАЮТЬ БІЛЬШУ ЧАСТИНУ ПІВДЕННОЇ ПІВКУЛІ АСТЕРОЇДА. НАЙБІЛЬШЕ ІНФОРМАЦІЇ ПРО ПОВЕРХНЮ ВЕСТИ ВІДОМО ЗАВДЯКИ АМЕРИКАНСЬКОМУ КОСМІЧНОМУ АПАРАТУ «DAWN», ЯКИЙ ДОСЛІДИВ АСТЕРОЇД В 2011—2012 РОКАХ. \n"
     ]
    }
   ],
   "source": [
    "print(input_text)"
   ],
   "metadata": {
    "collapsed": false,
    "ExecuteTime": {
     "end_time": "2023-11-20T13:42:06.032093483Z",
     "start_time": "2023-11-20T13:42:06.025590497Z"
    }
   },
   "id": "d77047bc6e6df3f5"
  },
  {
   "cell_type": "code",
   "execution_count": 5,
   "outputs": [
    {
     "name": "stdout",
     "output_type": "stream",
     "text": [
      " ЕА МЛ   АЕР,   АЛ  У  АЕР ЕРЕ АМЕР  М. Р  ЕРЕ  РУ МЕЦМ АРМ ГЕРМ ЛЕРМ  АА А Е Е, Г МУ А ГА  РМ МЛГ. АЖА,  ЕА  РУГМ М У  АЕР А МА А А ММ Л АРЛ ЛАЕ ЦЕРЕР,  М Е У МЕЖА  МРА Р МУ АЛЛА. А ЕУ РАА Л   МА У АЕР. Л АЕМГ ЕРГАА ЕА  АРАМ АЕРМ.  РА МЖЕ ГА , Р ЕЛ,   А ММЕ ,   ЛА,  ЕРМ М. , МЛРА Р МУ ЕА ААЛА Е  М АМ,  РЛ РМУА ЛЕ УЛАМ А  ЕЛЕ РАЕР,  АМА ЛУ АУ Е УЛ АЕРА. АЛЕ РМАЦ Р ЕР Е М А АМЕРАМУ ММУ ААРАУ ,  Л АЕР   РА. \n"
     ]
    }
   ],
   "source": [
    "filtered_text = \"\"\n",
    "for c in input_text:\n",
    "    if c in alphabet:\n",
    "        filtered_text += c;\n",
    "print(filtered_text)"
   ],
   "metadata": {
    "collapsed": false,
    "ExecuteTime": {
     "end_time": "2023-11-20T13:42:06.039201058Z",
     "start_time": "2023-11-20T13:42:06.032997469Z"
    }
   },
   "id": "38dac68bf64d2134"
  },
  {
   "cell_type": "markdown",
   "source": [
    "# Опис джерела інформації\n",
    "## Потужність множини $A$ дорівніює кількості символів $a_i$ первинного алфавіту"
   ],
   "metadata": {
    "collapsed": false
   },
   "id": "7dc770e8f7ecafdc"
  },
  {
   "cell_type": "code",
   "execution_count": 6,
   "outputs": [
    {
     "name": "stdout",
     "output_type": "stream",
     "text": [
      "12\n"
     ]
    }
   ],
   "source": [
    "print(len(alphabet))"
   ],
   "metadata": {
    "collapsed": false,
    "ExecuteTime": {
     "end_time": "2023-11-20T13:42:06.096620298Z",
     "start_time": "2023-11-20T13:42:06.036252977Z"
    }
   },
   "id": "cca7d5b96fe7ff8a"
  },
  {
   "cell_type": "markdown",
   "source": [
    "### Ймовірністі $P(a_i)$ появи симмолів первинного алфавіту визначаються за формулою\n",
    " $$ P(a_i) = \\frac{N(a_i)}{N}$$\n",
    "де $N(a_i)$ - кількість появ символу $a_i$ у профільтрованому тексті, $N$ - кількість всіх символів у профільтрованому тексті"
   ],
   "metadata": {
    "collapsed": false
   },
   "id": "d4084f22b438df36"
  },
  {
   "cell_type": "code",
   "execution_count": 7,
   "outputs": [
    {
     "data": {
      "text/plain": "             ,  .   А  Г   Л  Ж   Е   У   М  Ц   Р\nCount  143  12  8  66  8  23  3  43  18  42  3  40",
      "text/html": "<div>\n<style scoped>\n    .dataframe tbody tr th:only-of-type {\n        vertical-align: middle;\n    }\n\n    .dataframe tbody tr th {\n        vertical-align: top;\n    }\n\n    .dataframe thead th {\n        text-align: right;\n    }\n</style>\n<table border=\"1\" class=\"dataframe\">\n  <thead>\n    <tr style=\"text-align: right;\">\n      <th></th>\n      <th></th>\n      <th>,</th>\n      <th>.</th>\n      <th>А</th>\n      <th>Г</th>\n      <th>Л</th>\n      <th>Ж</th>\n      <th>Е</th>\n      <th>У</th>\n      <th>М</th>\n      <th>Ц</th>\n      <th>Р</th>\n    </tr>\n  </thead>\n  <tbody>\n    <tr>\n      <th>Count</th>\n      <td>143</td>\n      <td>12</td>\n      <td>8</td>\n      <td>66</td>\n      <td>8</td>\n      <td>23</td>\n      <td>3</td>\n      <td>43</td>\n      <td>18</td>\n      <td>42</td>\n      <td>3</td>\n      <td>40</td>\n    </tr>\n  </tbody>\n</table>\n</div>"
     },
     "execution_count": 7,
     "metadata": {},
     "output_type": "execute_result"
    }
   ],
   "source": [
    "character_map = {c: 0 for c in alphabet}\n",
    "for c in filtered_text:\n",
    "    if c in character_map.keys():\n",
    "        character_map[c] = character_map[c] + 1\n",
    "    else:\n",
    "        character_map[c] = 1\n",
    "character_map_df = pd.DataFrame(character_map, index=[\"Count\"])\n",
    "with open('./latex_tables/character_count.tex', 'w') as tf:\n",
    "    tf.write(character_map_df.to_latex())\n",
    "character_map_df"
   ],
   "metadata": {
    "collapsed": false,
    "ExecuteTime": {
     "end_time": "2023-11-20T13:42:06.289173073Z",
     "start_time": "2023-11-20T13:42:06.076960210Z"
    }
   },
   "id": "9197cc59df40b5fd"
  },
  {
   "cell_type": "code",
   "execution_count": 8,
   "outputs": [
    {
     "data": {
      "text/plain": "                             ,        .         А        Г         Л  \\\nProbability  0.349633  0.02934  0.01956  0.161369  0.01956  0.056235   \n\n                    Ж         Е        У         М         Ц       Р  \nProbability  0.007335  0.105134  0.04401  0.102689  0.007335  0.0978  ",
      "text/html": "<div>\n<style scoped>\n    .dataframe tbody tr th:only-of-type {\n        vertical-align: middle;\n    }\n\n    .dataframe tbody tr th {\n        vertical-align: top;\n    }\n\n    .dataframe thead th {\n        text-align: right;\n    }\n</style>\n<table border=\"1\" class=\"dataframe\">\n  <thead>\n    <tr style=\"text-align: right;\">\n      <th></th>\n      <th></th>\n      <th>,</th>\n      <th>.</th>\n      <th>А</th>\n      <th>Г</th>\n      <th>Л</th>\n      <th>Ж</th>\n      <th>Е</th>\n      <th>У</th>\n      <th>М</th>\n      <th>Ц</th>\n      <th>Р</th>\n    </tr>\n  </thead>\n  <tbody>\n    <tr>\n      <th>Probability</th>\n      <td>0.349633</td>\n      <td>0.02934</td>\n      <td>0.01956</td>\n      <td>0.161369</td>\n      <td>0.01956</td>\n      <td>0.056235</td>\n      <td>0.007335</td>\n      <td>0.105134</td>\n      <td>0.04401</td>\n      <td>0.102689</td>\n      <td>0.007335</td>\n      <td>0.0978</td>\n    </tr>\n  </tbody>\n</table>\n</div>"
     },
     "execution_count": 8,
     "metadata": {},
     "output_type": "execute_result"
    }
   ],
   "source": [
    "probabilities = {}\n",
    "for c in alphabet:\n",
    "    probabilities[c] = (character_map[c] / len(filtered_text))\n",
    "probabilities_df = pd.DataFrame(probabilities, index=[\"Probability\"])\n",
    "with open('./latex_tables/probabilities.tex', 'w') as tf:\n",
    "    tf.write(probabilities_df.to_latex())\n",
    "probabilities_df"
   ],
   "metadata": {
    "collapsed": false,
    "ExecuteTime": {
     "end_time": "2023-11-20T13:42:06.491704474Z",
     "start_time": "2023-11-20T13:42:06.286805907Z"
    }
   },
   "id": "83281ce3aba332d8"
  },
  {
   "cell_type": "markdown",
   "source": [
    " Сума всіх ймовірностей $P(a_i)$ повинна дорівнювати одиниці, тобто\n",
    " $$\\[ \\sum_{i=1}^{|A|} P(a_i) = 1 \\]$$"
   ],
   "metadata": {
    "collapsed": false
   },
   "id": "1e30b09c964e5ddb"
  },
  {
   "cell_type": "code",
   "execution_count": 9,
   "outputs": [
    {
     "name": "stdout",
     "output_type": "stream",
     "text": [
      "0.9999999999999999\n"
     ]
    }
   ],
   "source": [
    "print(sum(probabilities.values()))"
   ],
   "metadata": {
    "collapsed": false,
    "ExecuteTime": {
     "end_time": "2023-11-20T13:42:06.492738499Z",
     "start_time": "2023-11-20T13:42:06.331320510Z"
    }
   },
   "id": "5865ea54bec94d28"
  },
  {
   "cell_type": "markdown",
   "source": [],
   "metadata": {
    "collapsed": false
   },
   "id": "3e70f72effd03d79"
  },
  {
   "cell_type": "markdown",
   "source": [
    "### Кодування\n",
    " - Визначимо кількість інформаційних розрядів за формулою \n",
    "$$ n_і =⎾log_2 m_1⏋$$"
   ],
   "metadata": {
    "collapsed": false
   },
   "id": "77d25ee180d6a2ab"
  },
  {
   "cell_type": "code",
   "execution_count": 10,
   "outputs": [
    {
     "name": "stdout",
     "output_type": "stream",
     "text": [
      "3.584962500721156\n",
      "4\n"
     ]
    }
   ],
   "source": [
    "bits_count = math.ceil(math.log2(len(alphabet)))\n",
    "print(math.log2(len(alphabet)))\n",
    "print(bits_count)"
   ],
   "metadata": {
    "collapsed": false,
    "ExecuteTime": {
     "end_time": "2023-11-20T13:42:06.493238889Z",
     "start_time": "2023-11-20T13:42:06.331607685Z"
    }
   },
   "id": "4e0dbe7b267ee534"
  },
  {
   "cell_type": "markdown",
   "source": [
    "Генеруємо всі можливі кодові комбінації довжиною 4 біти:"
   ],
   "metadata": {
    "collapsed": false
   },
   "id": "45071af9a3acd060"
  },
  {
   "cell_type": "code",
   "execution_count": 11,
   "outputs": [],
   "source": [
    "from itertools import product\n",
    "\n",
    "\n",
    "def generate_binary_combinations(length):\n",
    "    # Generate all combinations of 0 and 1 for the given length\n",
    "    binary_combinations = list(product([0, 1], repeat=length))\n",
    "    return binary_combinations"
   ],
   "metadata": {
    "collapsed": false,
    "ExecuteTime": {
     "end_time": "2023-11-20T13:42:06.493460207Z",
     "start_time": "2023-11-20T13:42:06.331775296Z"
    }
   },
   "id": "d7ee0252163eb734"
  },
  {
   "cell_type": "code",
   "execution_count": 12,
   "outputs": [
    {
     "data": {
      "text/plain": "    0  1  2  3\n0   0  0  0  0\n1   0  0  0  1\n2   0  0  1  0\n3   0  0  1  1\n4   0  1  0  0\n5   0  1  0  1\n6   0  1  1  0\n7   0  1  1  1\n8   1  0  0  0\n9   1  0  0  1\n10  1  0  1  0\n11  1  0  1  1\n12  1  1  0  0\n13  1  1  0  1\n14  1  1  1  0\n15  1  1  1  1",
      "text/html": "<div>\n<style scoped>\n    .dataframe tbody tr th:only-of-type {\n        vertical-align: middle;\n    }\n\n    .dataframe tbody tr th {\n        vertical-align: top;\n    }\n\n    .dataframe thead th {\n        text-align: right;\n    }\n</style>\n<table border=\"1\" class=\"dataframe\">\n  <thead>\n    <tr style=\"text-align: right;\">\n      <th></th>\n      <th>0</th>\n      <th>1</th>\n      <th>2</th>\n      <th>3</th>\n    </tr>\n  </thead>\n  <tbody>\n    <tr>\n      <th>0</th>\n      <td>0</td>\n      <td>0</td>\n      <td>0</td>\n      <td>0</td>\n    </tr>\n    <tr>\n      <th>1</th>\n      <td>0</td>\n      <td>0</td>\n      <td>0</td>\n      <td>1</td>\n    </tr>\n    <tr>\n      <th>2</th>\n      <td>0</td>\n      <td>0</td>\n      <td>1</td>\n      <td>0</td>\n    </tr>\n    <tr>\n      <th>3</th>\n      <td>0</td>\n      <td>0</td>\n      <td>1</td>\n      <td>1</td>\n    </tr>\n    <tr>\n      <th>4</th>\n      <td>0</td>\n      <td>1</td>\n      <td>0</td>\n      <td>0</td>\n    </tr>\n    <tr>\n      <th>5</th>\n      <td>0</td>\n      <td>1</td>\n      <td>0</td>\n      <td>1</td>\n    </tr>\n    <tr>\n      <th>6</th>\n      <td>0</td>\n      <td>1</td>\n      <td>1</td>\n      <td>0</td>\n    </tr>\n    <tr>\n      <th>7</th>\n      <td>0</td>\n      <td>1</td>\n      <td>1</td>\n      <td>1</td>\n    </tr>\n    <tr>\n      <th>8</th>\n      <td>1</td>\n      <td>0</td>\n      <td>0</td>\n      <td>0</td>\n    </tr>\n    <tr>\n      <th>9</th>\n      <td>1</td>\n      <td>0</td>\n      <td>0</td>\n      <td>1</td>\n    </tr>\n    <tr>\n      <th>10</th>\n      <td>1</td>\n      <td>0</td>\n      <td>1</td>\n      <td>0</td>\n    </tr>\n    <tr>\n      <th>11</th>\n      <td>1</td>\n      <td>0</td>\n      <td>1</td>\n      <td>1</td>\n    </tr>\n    <tr>\n      <th>12</th>\n      <td>1</td>\n      <td>1</td>\n      <td>0</td>\n      <td>0</td>\n    </tr>\n    <tr>\n      <th>13</th>\n      <td>1</td>\n      <td>1</td>\n      <td>0</td>\n      <td>1</td>\n    </tr>\n    <tr>\n      <th>14</th>\n      <td>1</td>\n      <td>1</td>\n      <td>1</td>\n      <td>0</td>\n    </tr>\n    <tr>\n      <th>15</th>\n      <td>1</td>\n      <td>1</td>\n      <td>1</td>\n      <td>1</td>\n    </tr>\n  </tbody>\n</table>\n</div>"
     },
     "execution_count": 12,
     "metadata": {},
     "output_type": "execute_result"
    }
   ],
   "source": [
    "codewords = generate_binary_combinations(bits_count)\n",
    "codewords_df = pd.DataFrame(codewords)\n",
    "with open('./latex_tables/codewords.tex', 'w') as tf:\n",
    "    tf.write(codewords_df.to_latex())\n",
    "codewords_df"
   ],
   "metadata": {
    "collapsed": false,
    "ExecuteTime": {
     "end_time": "2023-11-20T13:42:06.534522218Z",
     "start_time": "2023-11-20T13:42:06.331905545Z"
    }
   },
   "id": "9cb4d1e4cfe73b6c"
  },
  {
   "cell_type": "code",
   "execution_count": 13,
   "outputs": [],
   "source": [
    "def distance(word1, word2):\n",
    "    d = 0\n",
    "    for i in range(len(word1)):\n",
    "        if word1[i] != word2[i]:\n",
    "            d += 1\n",
    "    return d"
   ],
   "metadata": {
    "collapsed": false,
    "ExecuteTime": {
     "end_time": "2023-11-20T13:42:06.605481203Z",
     "start_time": "2023-11-20T13:42:06.486465699Z"
    }
   },
   "id": "999a617ebdeaaee7"
  },
  {
   "cell_type": "code",
   "execution_count": 14,
   "outputs": [
    {
     "data": {
      "text/plain": "      0000  0001  0010  0011  0100  0101  0110  0111  1000  1001  1010  1011  \\\n0000     0     1     1     2     1     2     2     3     1     2     2     3   \n0001     1     0     2     1     2     1     3     2     2     1     3     2   \n0010     1     2     0     1     2     3     1     2     2     3     1     2   \n0011     2     1     1     0     3     2     2     1     3     2     2     1   \n0100     1     2     2     3     0     1     1     2     2     3     3     4   \n0101     2     1     3     2     1     0     2     1     3     2     4     3   \n0110     2     3     1     2     1     2     0     1     3     4     2     3   \n0111     3     2     2     1     2     1     1     0     4     3     3     2   \n1000     1     2     2     3     2     3     3     4     0     1     1     2   \n1001     2     1     3     2     3     2     4     3     1     0     2     1   \n1010     2     3     1     2     3     4     2     3     1     2     0     1   \n1011     3     2     2     1     4     3     3     2     2     1     1     0   \n1100     2     3     3     4     1     2     2     3     1     2     2     3   \n1101     3     2     4     3     2     1     3     2     2     1     3     2   \n1110     3     4     2     3     2     3     1     2     2     3     1     2   \n1111     4     3     3     2     3     2     2     1     3     2     2     1   \n\n      1100  1101  1110  1111  \n0000     2     3     3     4  \n0001     3     2     4     3  \n0010     3     4     2     3  \n0011     4     3     3     2  \n0100     1     2     2     3  \n0101     2     1     3     2  \n0110     2     3     1     2  \n0111     3     2     2     1  \n1000     1     2     2     3  \n1001     2     1     3     2  \n1010     2     3     1     2  \n1011     3     2     2     1  \n1100     0     1     1     2  \n1101     1     0     2     1  \n1110     1     2     0     1  \n1111     2     1     1     0  ",
      "text/html": "<div>\n<style scoped>\n    .dataframe tbody tr th:only-of-type {\n        vertical-align: middle;\n    }\n\n    .dataframe tbody tr th {\n        vertical-align: top;\n    }\n\n    .dataframe thead th {\n        text-align: right;\n    }\n</style>\n<table border=\"1\" class=\"dataframe\">\n  <thead>\n    <tr style=\"text-align: right;\">\n      <th></th>\n      <th>0000</th>\n      <th>0001</th>\n      <th>0010</th>\n      <th>0011</th>\n      <th>0100</th>\n      <th>0101</th>\n      <th>0110</th>\n      <th>0111</th>\n      <th>1000</th>\n      <th>1001</th>\n      <th>1010</th>\n      <th>1011</th>\n      <th>1100</th>\n      <th>1101</th>\n      <th>1110</th>\n      <th>1111</th>\n    </tr>\n  </thead>\n  <tbody>\n    <tr>\n      <th>0000</th>\n      <td>0</td>\n      <td>1</td>\n      <td>1</td>\n      <td>2</td>\n      <td>1</td>\n      <td>2</td>\n      <td>2</td>\n      <td>3</td>\n      <td>1</td>\n      <td>2</td>\n      <td>2</td>\n      <td>3</td>\n      <td>2</td>\n      <td>3</td>\n      <td>3</td>\n      <td>4</td>\n    </tr>\n    <tr>\n      <th>0001</th>\n      <td>1</td>\n      <td>0</td>\n      <td>2</td>\n      <td>1</td>\n      <td>2</td>\n      <td>1</td>\n      <td>3</td>\n      <td>2</td>\n      <td>2</td>\n      <td>1</td>\n      <td>3</td>\n      <td>2</td>\n      <td>3</td>\n      <td>2</td>\n      <td>4</td>\n      <td>3</td>\n    </tr>\n    <tr>\n      <th>0010</th>\n      <td>1</td>\n      <td>2</td>\n      <td>0</td>\n      <td>1</td>\n      <td>2</td>\n      <td>3</td>\n      <td>1</td>\n      <td>2</td>\n      <td>2</td>\n      <td>3</td>\n      <td>1</td>\n      <td>2</td>\n      <td>3</td>\n      <td>4</td>\n      <td>2</td>\n      <td>3</td>\n    </tr>\n    <tr>\n      <th>0011</th>\n      <td>2</td>\n      <td>1</td>\n      <td>1</td>\n      <td>0</td>\n      <td>3</td>\n      <td>2</td>\n      <td>2</td>\n      <td>1</td>\n      <td>3</td>\n      <td>2</td>\n      <td>2</td>\n      <td>1</td>\n      <td>4</td>\n      <td>3</td>\n      <td>3</td>\n      <td>2</td>\n    </tr>\n    <tr>\n      <th>0100</th>\n      <td>1</td>\n      <td>2</td>\n      <td>2</td>\n      <td>3</td>\n      <td>0</td>\n      <td>1</td>\n      <td>1</td>\n      <td>2</td>\n      <td>2</td>\n      <td>3</td>\n      <td>3</td>\n      <td>4</td>\n      <td>1</td>\n      <td>2</td>\n      <td>2</td>\n      <td>3</td>\n    </tr>\n    <tr>\n      <th>0101</th>\n      <td>2</td>\n      <td>1</td>\n      <td>3</td>\n      <td>2</td>\n      <td>1</td>\n      <td>0</td>\n      <td>2</td>\n      <td>1</td>\n      <td>3</td>\n      <td>2</td>\n      <td>4</td>\n      <td>3</td>\n      <td>2</td>\n      <td>1</td>\n      <td>3</td>\n      <td>2</td>\n    </tr>\n    <tr>\n      <th>0110</th>\n      <td>2</td>\n      <td>3</td>\n      <td>1</td>\n      <td>2</td>\n      <td>1</td>\n      <td>2</td>\n      <td>0</td>\n      <td>1</td>\n      <td>3</td>\n      <td>4</td>\n      <td>2</td>\n      <td>3</td>\n      <td>2</td>\n      <td>3</td>\n      <td>1</td>\n      <td>2</td>\n    </tr>\n    <tr>\n      <th>0111</th>\n      <td>3</td>\n      <td>2</td>\n      <td>2</td>\n      <td>1</td>\n      <td>2</td>\n      <td>1</td>\n      <td>1</td>\n      <td>0</td>\n      <td>4</td>\n      <td>3</td>\n      <td>3</td>\n      <td>2</td>\n      <td>3</td>\n      <td>2</td>\n      <td>2</td>\n      <td>1</td>\n    </tr>\n    <tr>\n      <th>1000</th>\n      <td>1</td>\n      <td>2</td>\n      <td>2</td>\n      <td>3</td>\n      <td>2</td>\n      <td>3</td>\n      <td>3</td>\n      <td>4</td>\n      <td>0</td>\n      <td>1</td>\n      <td>1</td>\n      <td>2</td>\n      <td>1</td>\n      <td>2</td>\n      <td>2</td>\n      <td>3</td>\n    </tr>\n    <tr>\n      <th>1001</th>\n      <td>2</td>\n      <td>1</td>\n      <td>3</td>\n      <td>2</td>\n      <td>3</td>\n      <td>2</td>\n      <td>4</td>\n      <td>3</td>\n      <td>1</td>\n      <td>0</td>\n      <td>2</td>\n      <td>1</td>\n      <td>2</td>\n      <td>1</td>\n      <td>3</td>\n      <td>2</td>\n    </tr>\n    <tr>\n      <th>1010</th>\n      <td>2</td>\n      <td>3</td>\n      <td>1</td>\n      <td>2</td>\n      <td>3</td>\n      <td>4</td>\n      <td>2</td>\n      <td>3</td>\n      <td>1</td>\n      <td>2</td>\n      <td>0</td>\n      <td>1</td>\n      <td>2</td>\n      <td>3</td>\n      <td>1</td>\n      <td>2</td>\n    </tr>\n    <tr>\n      <th>1011</th>\n      <td>3</td>\n      <td>2</td>\n      <td>2</td>\n      <td>1</td>\n      <td>4</td>\n      <td>3</td>\n      <td>3</td>\n      <td>2</td>\n      <td>2</td>\n      <td>1</td>\n      <td>1</td>\n      <td>0</td>\n      <td>3</td>\n      <td>2</td>\n      <td>2</td>\n      <td>1</td>\n    </tr>\n    <tr>\n      <th>1100</th>\n      <td>2</td>\n      <td>3</td>\n      <td>3</td>\n      <td>4</td>\n      <td>1</td>\n      <td>2</td>\n      <td>2</td>\n      <td>3</td>\n      <td>1</td>\n      <td>2</td>\n      <td>2</td>\n      <td>3</td>\n      <td>0</td>\n      <td>1</td>\n      <td>1</td>\n      <td>2</td>\n    </tr>\n    <tr>\n      <th>1101</th>\n      <td>3</td>\n      <td>2</td>\n      <td>4</td>\n      <td>3</td>\n      <td>2</td>\n      <td>1</td>\n      <td>3</td>\n      <td>2</td>\n      <td>2</td>\n      <td>1</td>\n      <td>3</td>\n      <td>2</td>\n      <td>1</td>\n      <td>0</td>\n      <td>2</td>\n      <td>1</td>\n    </tr>\n    <tr>\n      <th>1110</th>\n      <td>3</td>\n      <td>4</td>\n      <td>2</td>\n      <td>3</td>\n      <td>2</td>\n      <td>3</td>\n      <td>1</td>\n      <td>2</td>\n      <td>2</td>\n      <td>3</td>\n      <td>1</td>\n      <td>2</td>\n      <td>1</td>\n      <td>2</td>\n      <td>0</td>\n      <td>1</td>\n    </tr>\n    <tr>\n      <th>1111</th>\n      <td>4</td>\n      <td>3</td>\n      <td>3</td>\n      <td>2</td>\n      <td>3</td>\n      <td>2</td>\n      <td>2</td>\n      <td>1</td>\n      <td>3</td>\n      <td>2</td>\n      <td>2</td>\n      <td>1</td>\n      <td>2</td>\n      <td>1</td>\n      <td>1</td>\n      <td>0</td>\n    </tr>\n  </tbody>\n</table>\n</div>"
     },
     "execution_count": 14,
     "metadata": {},
     "output_type": "execute_result"
    }
   ],
   "source": [
    "matrix = []\n",
    "distance_values = set()\n",
    "headers = [(\"\".join([str(n) for n in c])) for c in codewords]\n",
    "for i, a in enumerate(codewords):\n",
    "    matrix.append([])\n",
    "    for j, a1 in enumerate(codewords):\n",
    "        dist = distance(a, a1)\n",
    "        matrix[i].append(dist)\n",
    "        distance_values.add(dist)\n",
    "\n",
    "#print(len(matrix))\n",
    "matrix_df = pd.DataFrame(matrix, columns=headers, index=headers)\n",
    "with open('./latex_tables/distance_matrix.tex', 'w') as tf:\n",
    "    tf.write(matrix_df.to_latex())\n",
    "matrix_df"
   ],
   "metadata": {
    "collapsed": false,
    "ExecuteTime": {
     "end_time": "2023-11-20T13:42:06.608438083Z",
     "start_time": "2023-11-20T13:42:06.519692490Z"
    }
   },
   "id": "9933c5858ea99ef0"
  },
  {
   "cell_type": "code",
   "execution_count": 15,
   "outputs": [
    {
     "data": {
      "text/plain": "      0  1  2  3  4\n0000  1  4  6  4  1\n0001  1  4  6  4  1\n0010  1  4  6  4  1\n0011  1  4  6  4  1\n0100  1  4  6  4  1\n0101  1  4  6  4  1\n0110  1  4  6  4  1\n0111  1  4  6  4  1\n1000  1  4  6  4  1\n1001  1  4  6  4  1\n1010  1  4  6  4  1\n1011  1  4  6  4  1\n1100  1  4  6  4  1\n1101  1  4  6  4  1\n1110  1  4  6  4  1\n1111  1  4  6  4  1",
      "text/html": "<div>\n<style scoped>\n    .dataframe tbody tr th:only-of-type {\n        vertical-align: middle;\n    }\n\n    .dataframe tbody tr th {\n        vertical-align: top;\n    }\n\n    .dataframe thead th {\n        text-align: right;\n    }\n</style>\n<table border=\"1\" class=\"dataframe\">\n  <thead>\n    <tr style=\"text-align: right;\">\n      <th></th>\n      <th>0</th>\n      <th>1</th>\n      <th>2</th>\n      <th>3</th>\n      <th>4</th>\n    </tr>\n  </thead>\n  <tbody>\n    <tr>\n      <th>0000</th>\n      <td>1</td>\n      <td>4</td>\n      <td>6</td>\n      <td>4</td>\n      <td>1</td>\n    </tr>\n    <tr>\n      <th>0001</th>\n      <td>1</td>\n      <td>4</td>\n      <td>6</td>\n      <td>4</td>\n      <td>1</td>\n    </tr>\n    <tr>\n      <th>0010</th>\n      <td>1</td>\n      <td>4</td>\n      <td>6</td>\n      <td>4</td>\n      <td>1</td>\n    </tr>\n    <tr>\n      <th>0011</th>\n      <td>1</td>\n      <td>4</td>\n      <td>6</td>\n      <td>4</td>\n      <td>1</td>\n    </tr>\n    <tr>\n      <th>0100</th>\n      <td>1</td>\n      <td>4</td>\n      <td>6</td>\n      <td>4</td>\n      <td>1</td>\n    </tr>\n    <tr>\n      <th>0101</th>\n      <td>1</td>\n      <td>4</td>\n      <td>6</td>\n      <td>4</td>\n      <td>1</td>\n    </tr>\n    <tr>\n      <th>0110</th>\n      <td>1</td>\n      <td>4</td>\n      <td>6</td>\n      <td>4</td>\n      <td>1</td>\n    </tr>\n    <tr>\n      <th>0111</th>\n      <td>1</td>\n      <td>4</td>\n      <td>6</td>\n      <td>4</td>\n      <td>1</td>\n    </tr>\n    <tr>\n      <th>1000</th>\n      <td>1</td>\n      <td>4</td>\n      <td>6</td>\n      <td>4</td>\n      <td>1</td>\n    </tr>\n    <tr>\n      <th>1001</th>\n      <td>1</td>\n      <td>4</td>\n      <td>6</td>\n      <td>4</td>\n      <td>1</td>\n    </tr>\n    <tr>\n      <th>1010</th>\n      <td>1</td>\n      <td>4</td>\n      <td>6</td>\n      <td>4</td>\n      <td>1</td>\n    </tr>\n    <tr>\n      <th>1011</th>\n      <td>1</td>\n      <td>4</td>\n      <td>6</td>\n      <td>4</td>\n      <td>1</td>\n    </tr>\n    <tr>\n      <th>1100</th>\n      <td>1</td>\n      <td>4</td>\n      <td>6</td>\n      <td>4</td>\n      <td>1</td>\n    </tr>\n    <tr>\n      <th>1101</th>\n      <td>1</td>\n      <td>4</td>\n      <td>6</td>\n      <td>4</td>\n      <td>1</td>\n    </tr>\n    <tr>\n      <th>1110</th>\n      <td>1</td>\n      <td>4</td>\n      <td>6</td>\n      <td>4</td>\n      <td>1</td>\n    </tr>\n    <tr>\n      <th>1111</th>\n      <td>1</td>\n      <td>4</td>\n      <td>6</td>\n      <td>4</td>\n      <td>1</td>\n    </tr>\n  </tbody>\n</table>\n</div>"
     },
     "execution_count": 15,
     "metadata": {},
     "output_type": "execute_result"
    }
   ],
   "source": [
    "distance_counts = []\n",
    "for row in matrix:\n",
    "    row_distance_counts = []\n",
    "    for d in distance_values:\n",
    "        row_distance_counts.append(row.count(d))\n",
    "    distance_counts.append(row_distance_counts)\n",
    "distance_counts_df = pd.DataFrame(distance_counts, index=headers)\n",
    "with open('./latex_tables/distance_counts.tex', 'w') as tf:\n",
    "    tf.write(distance_counts_df.to_latex())\n",
    "distance_counts_df"
   ],
   "metadata": {
    "collapsed": false,
    "ExecuteTime": {
     "end_time": "2023-11-20T13:42:06.610015659Z",
     "start_time": "2023-11-20T13:42:06.520071991Z"
    }
   },
   "id": "6a033b503e06596c"
  },
  {
   "cell_type": "code",
   "execution_count": 16,
   "outputs": [
    {
     "name": "stdout",
     "output_type": "stream",
     "text": [
      "  0000\n",
      ", 0001\n",
      ". 0010\n",
      "А 0011\n",
      "Г 0100\n",
      "Л 0101\n",
      "Ж 0110\n",
      "Е 0111\n",
      "У 1000\n",
      "М 1001\n",
      "Ц 1010\n",
      "Р 1011\n"
     ]
    }
   ],
   "source": [
    "codewords = {}\n",
    "for i, c in enumerate(alphabet):\n",
    "    print(f\"{c} {i:04b}\")\n",
    "    codewords[c] = [int(n) for n in f\"{i:04b}\"]"
   ],
   "metadata": {
    "collapsed": false,
    "ExecuteTime": {
     "end_time": "2023-11-20T13:42:06.667935080Z",
     "start_time": "2023-11-20T13:42:06.523287692Z"
    }
   },
   "id": "d09e156a2d80be08"
  },
  {
   "cell_type": "markdown",
   "source": [
    "\n",
    "Матриця кодових відстаней"
   ],
   "metadata": {
    "collapsed": false
   },
   "id": "422e7e95235ec0e5"
  },
  {
   "cell_type": "markdown",
   "source": [
    "У телекомунікаціях код Бергера — це односпрямований код виявлення помилок, названий на честь його винахідника Дж. М. Бергера. Коди Бергера можуть виявляти всі односпрямовані помилки. Односпрямовані помилки - це помилки, які перетворюють лише одиниці на нулі або лише нулі на одиниці, наприклад, в асиметричних каналах. Контрольні біти кодів Бергера обчислюються шляхом підрахунку всіх нулів в інформаційному слові та вираження цього числа в натуральній двійковій системі. Якщо інформаційне слово складається з $n$ бітів, тоді для коду Бергера потрібно $$k = [ log_2 ( n + 1 )]$$ «перевірочнх біти», що додає Код Бергера довжини $k+n$. (Іншими словами,  $k$ контрольних бітів достатньо для перевірки до $$n = 2 k − 1 n=2^{k}-1$$ інформаційних бітів). Коди Бергера можуть виявляти будь-яку кількість помилок перевертання бітів один до нуля, за умови, що в одному кодовому слові не було помилок нуль до одного. Подібним чином коди Бергера можуть виявляти будь-яку кількість помилок перетворення бітів від нуля до одного, за умови, що в одному кодовому слові не виникає помилок перетворення бітів від одного до нуля. Коди Бергера не можуть виправити жодної помилки.\n",
    "\n",
    "Як і всі односпрямовані коди виявлення помилок, коди Бергера також можна використовувати в схемах, нечутливих до затримки."
   ],
   "metadata": {
    "collapsed": false
   },
   "id": "58555b3ee7001026"
  },
  {
   "cell_type": "code",
   "execution_count": 17,
   "outputs": [
    {
     "name": "stdout",
     "output_type": "stream",
     "text": [
      "[1, 0, 0]\n",
      "[0, 1, 1]\n",
      "[0, 1, 1]\n",
      "[0, 1, 0]\n",
      "[0, 1, 1]\n",
      "[0, 1, 0]\n",
      "[0, 1, 0]\n",
      "[0, 0, 1]\n",
      "[0, 1, 1]\n",
      "[0, 1, 0]\n",
      "[0, 1, 0]\n",
      "[0, 0, 1]\n"
     ]
    }
   ],
   "source": [
    "def berger_encode_word(codeword):\n",
    "    zeroes = codeword.count(0)\n",
    "    return [int(c) for c in f\"{zeroes:03b}\"]\n",
    "\n",
    "\n",
    "for codeword in codewords.values():\n",
    "    print(berger_encode_word(codeword))"
   ],
   "metadata": {
    "collapsed": false,
    "ExecuteTime": {
     "end_time": "2023-11-20T13:42:06.668633113Z",
     "start_time": "2023-11-20T13:42:06.566781609Z"
    }
   },
   "id": "45ca955279f07f23"
  },
  {
   "cell_type": "code",
   "execution_count": 18,
   "outputs": [
    {
     "data": {
      "text/plain": "array([[0, 0, 0, 0],\n       [0, 1, 1, 1],\n       [0, 0, 1, 1],\n       ...,\n       [0, 0, 1, 1],\n       [0, 0, 1, 0],\n       [0, 0, 0, 0]])"
     },
     "execution_count": 18,
     "metadata": {},
     "output_type": "execute_result"
    }
   ],
   "source": [
    "binary = [codewords[c] for c in filtered_text]\n",
    "np.array(binary)\n"
   ],
   "metadata": {
    "collapsed": false,
    "ExecuteTime": {
     "end_time": "2023-11-20T13:42:06.806329572Z",
     "start_time": "2023-11-20T13:42:06.567085894Z"
    }
   },
   "id": "c9f22fab92b2ae03"
  },
  {
   "cell_type": "code",
   "execution_count": 20,
   "outputs": [],
   "source": [
    "encoded = []\n",
    "for codeword in binary:\n",
    "    encoded.append(codeword + berger_encode_word(codeword))"
   ],
   "metadata": {
    "collapsed": false,
    "ExecuteTime": {
     "end_time": "2023-11-20T13:44:06.304617197Z",
     "start_time": "2023-11-20T13:44:06.257785666Z"
    }
   },
   "id": "a195384cb3782601"
  },
  {
   "cell_type": "code",
   "execution_count": 21,
   "outputs": [
    {
     "name": "stdout",
     "output_type": "stream",
     "text": [
      "[[0, 0, 0, 0, 1, 0, 0], [0, 1, 1, 1, 0, 0, 1], [0, 0, 1, 1, 0, 1, 0], [0, 0, 0, 0, 1, 0, 0], [1, 0, 0, 1, 0, 1, 0], [0, 1, 0, 1, 0, 1, 0], [0, 0, 0, 0, 1, 0, 0], [0, 0, 0, 0, 1, 0, 0], [0, 0, 0, 0, 1, 0, 0], [0, 0, 1, 1, 0, 1, 0], [0, 1, 1, 1, 0, 0, 1], [1, 0, 1, 1, 0, 0, 1], [0, 0, 0, 1, 0, 1, 1], [0, 0, 0, 0, 1, 0, 0], [0, 0, 0, 0, 1, 0, 0], [0, 0, 0, 0, 1, 0, 0], [0, 0, 1, 1, 0, 1, 0], [0, 1, 0, 1, 0, 1, 0], [0, 0, 0, 0, 1, 0, 0], [0, 0, 0, 0, 1, 0, 0], [1, 0, 0, 0, 0, 1, 1], [0, 0, 0, 0, 1, 0, 0], [0, 0, 0, 0, 1, 0, 0], [0, 0, 1, 1, 0, 1, 0], [0, 1, 1, 1, 0, 0, 1], [1, 0, 1, 1, 0, 0, 1], [0, 0, 0, 0, 1, 0, 0], [0, 1, 1, 1, 0, 0, 1], [1, 0, 1, 1, 0, 0, 1], [0, 1, 1, 1, 0, 0, 1], [0, 0, 0, 0, 1, 0, 0], [0, 0, 1, 1, 0, 1, 0], [1, 0, 0, 1, 0, 1, 0], [0, 1, 1, 1, 0, 0, 1], [1, 0, 1, 1, 0, 0, 1], [0, 0, 0, 0, 1, 0, 0], [0, 0, 0, 0, 1, 0, 0], [1, 0, 0, 1, 0, 1, 0], [0, 0, 1, 0, 0, 1, 1], [0, 0, 0, 0, 1, 0, 0], [1, 0, 1, 1, 0, 0, 1], [0, 0, 0, 0, 1, 0, 0], [0, 0, 0, 0, 1, 0, 0], [0, 1, 1, 1, 0, 0, 1], [1, 0, 1, 1, 0, 0, 1], [0, 1, 1, 1, 0, 0, 1], [0, 0, 0, 0, 1, 0, 0], [0, 0, 0, 0, 1, 0, 0], [1, 0, 1, 1, 0, 0, 1], [1, 0, 0, 0, 0, 1, 1], [0, 0, 0, 0, 1, 0, 0], [1, 0, 0, 1, 0, 1, 0], [0, 1, 1, 1, 0, 0, 1], [1, 0, 1, 0, 0, 1, 0], [1, 0, 0, 1, 0, 1, 0], [0, 0, 0, 0, 1, 0, 0], [0, 0, 1, 1, 0, 1, 0], [1, 0, 1, 1, 0, 0, 1], [1, 0, 0, 1, 0, 1, 0], [0, 0, 0, 0, 1, 0, 0], [0, 1, 0, 0, 0, 1, 1], [0, 1, 1, 1, 0, 0, 1], [1, 0, 1, 1, 0, 0, 1], [1, 0, 0, 1, 0, 1, 0], [0, 0, 0, 0, 1, 0, 0], [0, 1, 0, 1, 0, 1, 0], [0, 1, 1, 1, 0, 0, 1], [1, 0, 1, 1, 0, 0, 1], [1, 0, 0, 1, 0, 1, 0], [0, 0, 0, 0, 1, 0, 0], [0, 0, 0, 0, 1, 0, 0], [0, 0, 1, 1, 0, 1, 0], [0, 0, 1, 1, 0, 1, 0], [0, 0, 0, 0, 1, 0, 0], [0, 0, 1, 1, 0, 1, 0], [0, 0, 0, 0, 1, 0, 0], [0, 1, 1, 1, 0, 0, 1], [0, 0, 0, 0, 1, 0, 0], [0, 1, 1, 1, 0, 0, 1], [0, 0, 0, 1, 0, 1, 1], [0, 0, 0, 0, 1, 0, 0], [0, 1, 0, 0, 0, 1, 1], [0, 0, 0, 0, 1, 0, 0], [1, 0, 0, 1, 0, 1, 0], [1, 0, 0, 0, 0, 1, 1], [0, 0, 0, 0, 1, 0, 0], [0, 0, 1, 1, 0, 1, 0], [0, 0, 0, 0, 1, 0, 0], [0, 1, 0, 0, 0, 1, 1], [0, 0, 1, 1, 0, 1, 0], [0, 0, 0, 0, 1, 0, 0], [0, 0, 0, 0, 1, 0, 0], [1, 0, 1, 1, 0, 0, 1], [1, 0, 0, 1, 0, 1, 0], [0, 0, 0, 0, 1, 0, 0], [1, 0, 0, 1, 0, 1, 0], [0, 1, 0, 1, 0, 1, 0], [0, 1, 0, 0, 0, 1, 1], [0, 0, 1, 0, 0, 1, 1], [0, 0, 0, 0, 1, 0, 0], [0, 0, 1, 1, 0, 1, 0], [0, 1, 1, 0, 0, 1, 0], [0, 0, 1, 1, 0, 1, 0], [0, 0, 0, 1, 0, 1, 1], [0, 0, 0, 0, 1, 0, 0], [0, 0, 0, 0, 1, 0, 0], [0, 1, 1, 1, 0, 0, 1], [0, 0, 1, 1, 0, 1, 0], [0, 0, 0, 0, 1, 0, 0], [0, 0, 0, 0, 1, 0, 0], [1, 0, 1, 1, 0, 0, 1], [1, 0, 0, 0, 0, 1, 1], [0, 1, 0, 0, 0, 1, 1], [1, 0, 0, 1, 0, 1, 0], [0, 0, 0, 0, 1, 0, 0], [1, 0, 0, 1, 0, 1, 0], [0, 0, 0, 0, 1, 0, 0], [1, 0, 0, 0, 0, 1, 1], [0, 0, 0, 0, 1, 0, 0], [0, 0, 0, 0, 1, 0, 0], [0, 0, 1, 1, 0, 1, 0], [0, 1, 1, 1, 0, 0, 1], [1, 0, 1, 1, 0, 0, 1], [0, 0, 0, 0, 1, 0, 0], [0, 0, 1, 1, 0, 1, 0], [0, 0, 0, 0, 1, 0, 0], [1, 0, 0, 1, 0, 1, 0], [0, 0, 1, 1, 0, 1, 0], [0, 0, 0, 0, 1, 0, 0], [0, 0, 1, 1, 0, 1, 0], [0, 0, 0, 0, 1, 0, 0], [0, 0, 1, 1, 0, 1, 0], [0, 0, 0, 0, 1, 0, 0], [1, 0, 0, 1, 0, 1, 0], [1, 0, 0, 1, 0, 1, 0], [0, 0, 0, 0, 1, 0, 0], [0, 1, 0, 1, 0, 1, 0], [0, 0, 0, 0, 1, 0, 0], [0, 0, 1, 1, 0, 1, 0], [1, 0, 1, 1, 0, 0, 1], [0, 1, 0, 1, 0, 1, 0], [0, 0, 0, 0, 1, 0, 0], [0, 1, 0, 1, 0, 1, 0], [0, 0, 1, 1, 0, 1, 0], [0, 1, 1, 1, 0, 0, 1], [0, 0, 0, 0, 1, 0, 0], [1, 0, 1, 0, 0, 1, 0], [0, 1, 1, 1, 0, 0, 1], [1, 0, 1, 1, 0, 0, 1], [0, 1, 1, 1, 0, 0, 1], [1, 0, 1, 1, 0, 0, 1], [0, 0, 0, 1, 0, 1, 1], [0, 0, 0, 0, 1, 0, 0], [0, 0, 0, 0, 1, 0, 0], [1, 0, 0, 1, 0, 1, 0], [0, 0, 0, 0, 1, 0, 0], [0, 1, 1, 1, 0, 0, 1], [0, 0, 0, 0, 1, 0, 0], [1, 0, 0, 0, 0, 1, 1], [0, 0, 0, 0, 1, 0, 0], [1, 0, 0, 1, 0, 1, 0], [0, 1, 1, 1, 0, 0, 1], [0, 1, 1, 0, 0, 1, 0], [0, 0, 1, 1, 0, 1, 0], [0, 0, 0, 0, 1, 0, 0], [0, 0, 0, 0, 1, 0, 0], [1, 0, 0, 1, 0, 1, 0], [1, 0, 1, 1, 0, 0, 1], [0, 0, 1, 1, 0, 1, 0], [0, 0, 0, 0, 1, 0, 0], [1, 0, 1, 1, 0, 0, 1], [0, 0, 0, 0, 1, 0, 0], [1, 0, 0, 1, 0, 1, 0], [1, 0, 0, 0, 0, 1, 1], [0, 0, 0, 0, 1, 0, 0], [0, 0, 1, 1, 0, 1, 0], [0, 1, 0, 1, 0, 1, 0], [0, 1, 0, 1, 0, 1, 0], [0, 0, 1, 1, 0, 1, 0], [0, 0, 1, 0, 0, 1, 1], [0, 0, 0, 0, 1, 0, 0], [0, 0, 1, 1, 0, 1, 0], [0, 0, 0, 0, 1, 0, 0], [0, 1, 1, 1, 0, 0, 1], [1, 0, 0, 0, 0, 1, 1], [0, 0, 0, 0, 1, 0, 0], [1, 0, 1, 1, 0, 0, 1], [0, 0, 1, 1, 0, 1, 0], [0, 0, 1, 1, 0, 1, 0], [0, 0, 0, 0, 1, 0, 0], [0, 1, 0, 1, 0, 1, 0], [0, 0, 0, 0, 1, 0, 0], [0, 0, 0, 0, 1, 0, 0], [0, 0, 0, 0, 1, 0, 0], [1, 0, 0, 1, 0, 1, 0], [0, 0, 1, 1, 0, 1, 0], [0, 0, 0, 0, 1, 0, 0], [1, 0, 0, 0, 0, 1, 1], [0, 0, 0, 0, 1, 0, 0], [0, 0, 1, 1, 0, 1, 0], [0, 1, 1, 1, 0, 0, 1], [1, 0, 1, 1, 0, 0, 1], [0, 0, 1, 0, 0, 1, 1], [0, 0, 0, 0, 1, 0, 0], [0, 1, 0, 1, 0, 1, 0], [0, 0, 0, 0, 1, 0, 0], [0, 0, 1, 1, 0, 1, 0], [0, 1, 1, 1, 0, 0, 1], [1, 0, 0, 1, 0, 1, 0], [0, 1, 0, 0, 0, 1, 1], [0, 0, 0, 0, 1, 0, 0], [0, 1, 1, 1, 0, 0, 1], [1, 0, 1, 1, 0, 0, 1], [0, 1, 0, 0, 0, 1, 1], [0, 0, 1, 1, 0, 1, 0], [0, 0, 1, 1, 0, 1, 0], [0, 0, 0, 0, 1, 0, 0], [0, 1, 1, 1, 0, 0, 1], [0, 0, 1, 1, 0, 1, 0], [0, 0, 0, 0, 1, 0, 0], [0, 0, 0, 0, 1, 0, 0], [0, 0, 1, 1, 0, 1, 0], [1, 0, 1, 1, 0, 0, 1], [0, 0, 1, 1, 0, 1, 0], [1, 0, 0, 1, 0, 1, 0], [0, 0, 0, 0, 1, 0, 0], [0, 0, 1, 1, 0, 1, 0], [0, 1, 1, 1, 0, 0, 1], [1, 0, 1, 1, 0, 0, 1], [1, 0, 0, 1, 0, 1, 0], [0, 0, 1, 0, 0, 1, 1], [0, 0, 0, 0, 1, 0, 0], [0, 0, 0, 0, 1, 0, 0], [1, 0, 1, 1, 0, 0, 1], [0, 0, 1, 1, 0, 1, 0], [0, 0, 0, 0, 1, 0, 0], [1, 0, 0, 1, 0, 1, 0], [0, 1, 1, 0, 0, 1, 0], [0, 1, 1, 1, 0, 0, 1], [0, 0, 0, 0, 1, 0, 0], [0, 1, 0, 0, 0, 1, 1], [0, 0, 1, 1, 0, 1, 0], [0, 0, 0, 0, 1, 0, 0], [0, 0, 0, 1, 0, 1, 1], [0, 0, 0, 0, 1, 0, 0], [1, 0, 1, 1, 0, 0, 1], [0, 0, 0, 0, 1, 0, 0], [0, 1, 1, 1, 0, 0, 1], [0, 1, 0, 1, 0, 1, 0], [0, 0, 0, 1, 0, 1, 1], [0, 0, 0, 0, 1, 0, 0], [0, 0, 0, 0, 1, 0, 0], [0, 0, 0, 0, 1, 0, 0], [0, 0, 1, 1, 0, 1, 0], [0, 0, 0, 0, 1, 0, 0], [1, 0, 0, 1, 0, 1, 0], [1, 0, 0, 1, 0, 1, 0], [0, 1, 1, 1, 0, 0, 1], [0, 0, 0, 0, 1, 0, 0], [0, 0, 0, 1, 0, 1, 1], [0, 0, 0, 0, 1, 0, 0], [0, 0, 0, 0, 1, 0, 0], [0, 0, 0, 0, 1, 0, 0], [0, 1, 0, 1, 0, 1, 0], [0, 0, 1, 1, 0, 1, 0], [0, 0, 0, 1, 0, 1, 1], [0, 0, 0, 0, 1, 0, 0], [0, 0, 0, 0, 1, 0, 0], [0, 1, 1, 1, 0, 0, 1], [1, 0, 1, 1, 0, 0, 1], [1, 0, 0, 1, 0, 1, 0], [0, 0, 0, 0, 1, 0, 0], [1, 0, 0, 1, 0, 1, 0], [0, 0, 1, 0, 0, 1, 1], [0, 0, 0, 0, 1, 0, 0], [0, 0, 0, 1, 0, 1, 1], [0, 0, 0, 0, 1, 0, 0], [1, 0, 0, 1, 0, 1, 0], [0, 1, 0, 1, 0, 1, 0], [1, 0, 1, 1, 0, 0, 1], [0, 0, 1, 1, 0, 1, 0], [0, 0, 0, 0, 1, 0, 0], [1, 0, 1, 1, 0, 0, 1], [0, 0, 0, 0, 1, 0, 0], [1, 0, 0, 1, 0, 1, 0], [1, 0, 0, 0, 0, 1, 1], [0, 0, 0, 0, 1, 0, 0], [0, 1, 1, 1, 0, 0, 1], [0, 0, 1, 1, 0, 1, 0], [0, 0, 0, 0, 1, 0, 0], [0, 0, 1, 1, 0, 1, 0], [0, 0, 1, 1, 0, 1, 0], [0, 1, 0, 1, 0, 1, 0], [0, 0, 1, 1, 0, 1, 0], [0, 0, 0, 0, 1, 0, 0], [0, 1, 1, 1, 0, 0, 1], [0, 0, 0, 0, 1, 0, 0], [0, 0, 0, 0, 1, 0, 0], [1, 0, 0, 1, 0, 1, 0], [0, 0, 0, 0, 1, 0, 0], [0, 0, 1, 1, 0, 1, 0], [1, 0, 0, 1, 0, 1, 0], [0, 0, 0, 1, 0, 1, 1], [0, 0, 0, 0, 1, 0, 0], [0, 0, 0, 0, 1, 0, 0], [1, 0, 1, 1, 0, 0, 1], [0, 1, 0, 1, 0, 1, 0], [0, 0, 0, 0, 1, 0, 0], [1, 0, 1, 1, 0, 0, 1], [1, 0, 0, 1, 0, 1, 0], [1, 0, 0, 0, 0, 1, 1], [0, 0, 1, 1, 0, 1, 0], [0, 0, 0, 0, 1, 0, 0], [0, 1, 0, 1, 0, 1, 0], [0, 1, 1, 1, 0, 0, 1], [0, 0, 0, 0, 1, 0, 0], [1, 0, 0, 0, 0, 1, 1], [0, 1, 0, 1, 0, 1, 0], [0, 0, 1, 1, 0, 1, 0], [1, 0, 0, 1, 0, 1, 0], [0, 0, 0, 0, 1, 0, 0], [0, 0, 1, 1, 0, 1, 0], [0, 0, 0, 0, 1, 0, 0], [0, 0, 0, 0, 1, 0, 0], [0, 1, 1, 1, 0, 0, 1], [0, 1, 0, 1, 0, 1, 0], [0, 1, 1, 1, 0, 0, 1], [0, 0, 0, 0, 1, 0, 0], [1, 0, 1, 1, 0, 0, 1], [0, 0, 1, 1, 0, 1, 0], [0, 1, 1, 1, 0, 0, 1], [1, 0, 1, 1, 0, 0, 1], [0, 0, 0, 1, 0, 1, 1], [0, 0, 0, 0, 1, 0, 0], [0, 0, 0, 0, 1, 0, 0], [0, 0, 1, 1, 0, 1, 0], [1, 0, 0, 1, 0, 1, 0], [0, 0, 1, 1, 0, 1, 0], [0, 0, 0, 0, 1, 0, 0], [0, 1, 0, 1, 0, 1, 0], [1, 0, 0, 0, 0, 1, 1], [0, 0, 0, 0, 1, 0, 0], [0, 0, 1, 1, 0, 1, 0], [1, 0, 0, 0, 0, 1, 1], [0, 0, 0, 0, 1, 0, 0], [0, 1, 1, 1, 0, 0, 1], [0, 0, 0, 0, 1, 0, 0], [1, 0, 0, 0, 0, 1, 1], [0, 1, 0, 1, 0, 1, 0], [0, 0, 0, 0, 1, 0, 0], [0, 0, 1, 1, 0, 1, 0], [0, 1, 1, 1, 0, 0, 1], [1, 0, 1, 1, 0, 0, 1], [0, 0, 1, 1, 0, 1, 0], [0, 0, 1, 0, 0, 1, 1], [0, 0, 0, 0, 1, 0, 0], [0, 0, 1, 1, 0, 1, 0], [0, 1, 0, 1, 0, 1, 0], [0, 1, 1, 1, 0, 0, 1], [0, 0, 0, 0, 1, 0, 0], [1, 0, 1, 1, 0, 0, 1], [1, 0, 0, 1, 0, 1, 0], [0, 0, 1, 1, 0, 1, 0], [1, 0, 1, 0, 0, 1, 0], [0, 0, 0, 0, 1, 0, 0], [1, 0, 1, 1, 0, 0, 1], [0, 0, 0, 0, 1, 0, 0], [0, 1, 1, 1, 0, 0, 1], [1, 0, 1, 1, 0, 0, 1], [0, 0, 0, 0, 1, 0, 0], [0, 1, 1, 1, 0, 0, 1], [0, 0, 0, 0, 1, 0, 0], [1, 0, 0, 1, 0, 1, 0], [0, 0, 0, 0, 1, 0, 0], [0, 0, 1, 1, 0, 1, 0], [0, 0, 0, 0, 1, 0, 0], [0, 0, 1, 1, 0, 1, 0], [1, 0, 0, 1, 0, 1, 0], [0, 1, 1, 1, 0, 0, 1], [1, 0, 1, 1, 0, 0, 1], [0, 0, 1, 1, 0, 1, 0], [1, 0, 0, 1, 0, 1, 0], [1, 0, 0, 0, 0, 1, 1], [0, 0, 0, 0, 1, 0, 0], [1, 0, 0, 1, 0, 1, 0], [1, 0, 0, 1, 0, 1, 0], [1, 0, 0, 0, 0, 1, 1], [0, 0, 0, 0, 1, 0, 0], [0, 0, 1, 1, 0, 1, 0], [0, 0, 1, 1, 0, 1, 0], [1, 0, 1, 1, 0, 0, 1], [0, 0, 1, 1, 0, 1, 0], [1, 0, 0, 0, 0, 1, 1], [0, 0, 0, 0, 1, 0, 0], [0, 0, 0, 1, 0, 1, 1], [0, 0, 0, 0, 1, 0, 0], [0, 0, 0, 0, 1, 0, 0], [0, 1, 0, 1, 0, 1, 0], [0, 0, 0, 0, 1, 0, 0], [0, 0, 1, 1, 0, 1, 0], [0, 1, 1, 1, 0, 0, 1], [1, 0, 1, 1, 0, 0, 1], [0, 0, 0, 0, 1, 0, 0], [0, 0, 0, 0, 1, 0, 0], [0, 0, 0, 0, 1, 0, 0], [1, 0, 1, 1, 0, 0, 1], [0, 0, 1, 1, 0, 1, 0], [0, 0, 1, 0, 0, 1, 1], [0, 0, 0, 0, 1, 0, 0]]\n"
     ]
    }
   ],
   "source": [
    "print(encoded)"
   ],
   "metadata": {
    "collapsed": false,
    "ExecuteTime": {
     "end_time": "2023-11-20T13:44:11.235985174Z",
     "start_time": "2023-11-20T13:44:11.232008084Z"
    }
   },
   "id": "4a1bb8a4c7d31465"
  },
  {
   "cell_type": "code",
   "execution_count": null,
   "outputs": [],
   "source": [],
   "metadata": {
    "collapsed": false
   },
   "id": "43b077a534ae9509"
  }
 ],
 "metadata": {
  "kernelspec": {
   "display_name": "Python 3",
   "language": "python",
   "name": "python3"
  },
  "language_info": {
   "codemirror_mode": {
    "name": "ipython",
    "version": 2
   },
   "file_extension": ".py",
   "mimetype": "text/x-python",
   "name": "python",
   "nbconvert_exporter": "python",
   "pygments_lexer": "ipython2",
   "version": "2.7.6"
  }
 },
 "nbformat": 4,
 "nbformat_minor": 5
}
