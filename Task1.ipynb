{
 "cells": [
  {
   "cell_type": "code",
   "execution_count": 1,
   "outputs": [],
   "source": [
    "import math\n",
    "import pandas as pd\n",
    "import numpy as np\n",
    "from common import *"
   ],
   "metadata": {
    "collapsed": false,
    "ExecuteTime": {
     "end_time": "2023-12-13T13:29:42.868285607Z",
     "start_time": "2023-12-13T13:29:42.411669383Z"
    }
   },
   "id": "c0d1743fecf84628"
  },
  {
   "cell_type": "code",
   "execution_count": 2,
   "id": "initial_id",
   "metadata": {
    "collapsed": true,
    "ExecuteTime": {
     "end_time": "2023-12-13T13:29:42.875861643Z",
     "start_time": "2023-12-13T13:29:42.677813565Z"
    }
   },
   "outputs": [],
   "source": [
    "alphabet = [' ', ',', '.', 'А', 'Г', 'Л', 'Ж', 'Е', 'У', 'М', 'Ц', 'Р']"
   ]
  },
  {
   "cell_type": "code",
   "execution_count": 3,
   "outputs": [],
   "source": [
    "input_text = \"\"\"\n",
    "4 Веста (символ: ⚶) — астероїд, один із найбільших об'єктів у поясі астероїдів (середній діаметр 525 км). Відкритий 29 березня 1807 року німецьким астроном Генріхом Ольберсом і названий на честь Вести, богині дому та вогнища в римській міфології. Вважається, що Веста є другим об'єктом у поясі астероїдів за масою та за об'ємом після карликової планети Церери, хоч об'єм Вести (у межах похибки вимірювань) дорівнює об'єму Паллади. На Весту припадає близько 9 % маси поясу астероїдів. Для наземного спостерігача Веста є найяскравішим астероїдом. Її яскравість може досягати 5,1 зоряної величини, і в такі моменти її, хоч і слабко, видно неозброєним оком. 1,2 мільярда років тому Веста зазнала зіткнень з іншими об'єктами, що спричинили формування численних уламків та двох величезних кратерів, які займають більшу частину південної півкулі астероїда. Найбільше інформації про поверхню Вести відомо завдяки американському космічному апарату «Dawn», який дослідив астероїд в 2011—2012 роках. \n",
    "\"\"\".upper()"
   ],
   "metadata": {
    "collapsed": false,
    "ExecuteTime": {
     "end_time": "2023-12-13T13:29:42.876007053Z",
     "start_time": "2023-12-13T13:29:42.677923217Z"
    }
   },
   "id": "7507b5a193d7c0c2"
  },
  {
   "cell_type": "code",
   "execution_count": 4,
   "outputs": [
    {
     "name": "stdout",
     "output_type": "stream",
     "text": [
      "\n",
      "4 ВЕСТА (СИМВОЛ: ⚶) — АСТЕРОЇД, ОДИН ІЗ НАЙБІЛЬШИХ ОБ'ЄКТІВ У ПОЯСІ АСТЕРОЇДІВ (СЕРЕДНІЙ ДІАМЕТР 525 КМ). ВІДКРИТИЙ 29 БЕРЕЗНЯ 1807 РОКУ НІМЕЦЬКИМ АСТРОНОМ ГЕНРІХОМ ОЛЬБЕРСОМ І НАЗВАНИЙ НА ЧЕСТЬ ВЕСТИ, БОГИНІ ДОМУ ТА ВОГНИЩА В РИМСЬКІЙ МІФОЛОГІЇ. ВВАЖАЄТЬСЯ, ЩО ВЕСТА Є ДРУГИМ ОБ'ЄКТОМ У ПОЯСІ АСТЕРОЇДІВ ЗА МАСОЮ ТА ЗА ОБ'ЄМОМ ПІСЛЯ КАРЛИКОВОЇ ПЛАНЕТИ ЦЕРЕРИ, ХОЧ ОБ'ЄМ ВЕСТИ (У МЕЖАХ ПОХИБКИ ВИМІРЮВАНЬ) ДОРІВНЮЄ ОБ'ЄМУ ПАЛЛАДИ. НА ВЕСТУ ПРИПАДАЄ БЛИЗЬКО 9 % МАСИ ПОЯСУ АСТЕРОЇДІВ. ДЛЯ НАЗЕМНОГО СПОСТЕРІГАЧА ВЕСТА Є НАЙЯСКРАВІШИМ АСТЕРОЇДОМ. ЇЇ ЯСКРАВІСТЬ МОЖЕ ДОСЯГАТИ 5,1 ЗОРЯНОЇ ВЕЛИЧИНИ, І В ТАКІ МОМЕНТИ ЇЇ, ХОЧ І СЛАБКО, ВИДНО НЕОЗБРОЄНИМ ОКОМ. 1,2 МІЛЬЯРДА РОКІВ ТОМУ ВЕСТА ЗАЗНАЛА ЗІТКНЕНЬ З ІНШИМИ ОБ'ЄКТАМИ, ЩО СПРИЧИНИЛИ ФОРМУВАННЯ ЧИСЛЕННИХ УЛАМКІВ ТА ДВОХ ВЕЛИЧЕЗНИХ КРАТЕРІВ, ЯКІ ЗАЙМАЮТЬ БІЛЬШУ ЧАСТИНУ ПІВДЕННОЇ ПІВКУЛІ АСТЕРОЇДА. НАЙБІЛЬШЕ ІНФОРМАЦІЇ ПРО ПОВЕРХНЮ ВЕСТИ ВІДОМО ЗАВДЯКИ АМЕРИКАНСЬКОМУ КОСМІЧНОМУ АПАРАТУ «DAWN», ЯКИЙ ДОСЛІДИВ АСТЕРОЇД В 2011—2012 РОКАХ. \n"
     ]
    }
   ],
   "source": [
    "print(input_text)"
   ],
   "metadata": {
    "collapsed": false,
    "ExecuteTime": {
     "end_time": "2023-12-13T13:29:42.876162661Z",
     "start_time": "2023-12-13T13:29:42.677986145Z"
    }
   },
   "id": "d77047bc6e6df3f5"
  },
  {
   "cell_type": "code",
   "execution_count": 5,
   "outputs": [
    {
     "name": "stdout",
     "output_type": "stream",
     "text": [
      " ЕА МЛ   АЕР,   АЛ  У  АЕР ЕРЕ АМЕР  М. Р  ЕРЕ  РУ МЕЦМ АРМ ГЕРМ ЛЕРМ  АА А Е Е, Г МУ А ГА  РМ МЛГ. АЖА,  ЕА  РУГМ М У  АЕР А МА А А ММ Л АРЛ ЛАЕ ЦЕРЕР,  М Е У МЕЖА  МРА Р МУ АЛЛА. А ЕУ РАА Л   МА У АЕР. Л АЕМГ ЕРГАА ЕА  АРАМ АЕРМ.  РА МЖЕ ГА , Р ЕЛ,   А ММЕ ,   ЛА,  ЕРМ М. , МЛРА Р МУ ЕА ААЛА Е  М АМ,  РЛ РМУА ЛЕ УЛАМ А  ЕЛЕ РАЕР,  АМА ЛУ АУ Е УЛ АЕРА. АЛЕ РМАЦ Р ЕР Е М А АМЕРАМУ ММУ ААРАУ ,  Л АЕР   РА. \n"
     ]
    }
   ],
   "source": [
    "filtered_text = \"\"\n",
    "for c in input_text:\n",
    "    if c in alphabet:\n",
    "        filtered_text += c;\n",
    "print(filtered_text)"
   ],
   "metadata": {
    "collapsed": false,
    "ExecuteTime": {
     "end_time": "2023-12-13T13:29:42.876286142Z",
     "start_time": "2023-12-13T13:29:42.813600483Z"
    }
   },
   "id": "38dac68bf64d2134"
  },
  {
   "cell_type": "markdown",
   "source": [
    "# Опис джерела інформації\n",
    "## Потужність множини $A$ дорівніює кількості символів $a_i$ первинного алфавіту"
   ],
   "metadata": {
    "collapsed": false
   },
   "id": "7dc770e8f7ecafdc"
  },
  {
   "cell_type": "code",
   "execution_count": 6,
   "outputs": [
    {
     "name": "stdout",
     "output_type": "stream",
     "text": [
      "12\n"
     ]
    }
   ],
   "source": [
    "print(len(alphabet))"
   ],
   "metadata": {
    "collapsed": false,
    "ExecuteTime": {
     "end_time": "2023-12-13T13:29:42.876405013Z",
     "start_time": "2023-12-13T13:29:42.816100685Z"
    }
   },
   "id": "cca7d5b96fe7ff8a"
  },
  {
   "cell_type": "markdown",
   "source": [
    "### Ймовірністі $P(a_i)$ появи симмолів первинного алфавіту визначаються за формулою\n",
    " $$ P(a_i) = \\frac{N(a_i)}{N}$$\n",
    "де $N(a_i)$ - кількість появ символу $a_i$ у профільтрованому тексті, $N$ - кількість всіх символів у профільтрованому тексті"
   ],
   "metadata": {
    "collapsed": false
   },
   "id": "d4084f22b438df36"
  },
  {
   "cell_type": "code",
   "execution_count": 7,
   "outputs": [
    {
     "data": {
      "text/plain": "             ,  .   А  Г   Л  Ж   Е   У   М  Ц   Р\nN(ai)  143  12  8  66  8  23  3  43  18  42  3  40",
      "text/html": "<div>\n<style scoped>\n    .dataframe tbody tr th:only-of-type {\n        vertical-align: middle;\n    }\n\n    .dataframe tbody tr th {\n        vertical-align: top;\n    }\n\n    .dataframe thead th {\n        text-align: right;\n    }\n</style>\n<table border=\"1\" class=\"dataframe\">\n  <thead>\n    <tr style=\"text-align: right;\">\n      <th></th>\n      <th></th>\n      <th>,</th>\n      <th>.</th>\n      <th>А</th>\n      <th>Г</th>\n      <th>Л</th>\n      <th>Ж</th>\n      <th>Е</th>\n      <th>У</th>\n      <th>М</th>\n      <th>Ц</th>\n      <th>Р</th>\n    </tr>\n  </thead>\n  <tbody>\n    <tr>\n      <th>N(ai)</th>\n      <td>143</td>\n      <td>12</td>\n      <td>8</td>\n      <td>66</td>\n      <td>8</td>\n      <td>23</td>\n      <td>3</td>\n      <td>43</td>\n      <td>18</td>\n      <td>42</td>\n      <td>3</td>\n      <td>40</td>\n    </tr>\n  </tbody>\n</table>\n</div>"
     },
     "execution_count": 7,
     "metadata": {},
     "output_type": "execute_result"
    }
   ],
   "source": [
    "character_map = {c: 0 for c in alphabet}\n",
    "for c in filtered_text:\n",
    "    if c in character_map.keys():\n",
    "        character_map[c] = character_map[c] + 1\n",
    "    else:\n",
    "        character_map[c] = 1\n",
    "\n",
    "occurrences_df = pd.DataFrame(character_map, index=[\"N(ai)\"])\n",
    "save_latex(occurrences_df, \"occurrences\", index={\"N(ai)\": \"$N(a_i)$\"})\n",
    "occurrences_df"
   ],
   "metadata": {
    "collapsed": false,
    "ExecuteTime": {
     "end_time": "2023-12-13T13:29:42.896985199Z",
     "start_time": "2023-12-13T13:29:42.821896448Z"
    }
   },
   "id": "9197cc59df40b5fd"
  },
  {
   "cell_type": "markdown",
   "source": [
    "Ймовірністі $P(a_i)$ появи симмолів первинного алфавіту визначаються за формулою\n",
    "$$ P(a_i) = \\frac{N(a_i)}{N}$$"
   ],
   "metadata": {
    "collapsed": false
   },
   "id": "af4463ec4d9e0ce1"
  },
  {
   "cell_type": "code",
   "execution_count": 8,
   "outputs": [
    {
     "data": {
      "text/plain": "                       ,        .         А        Г         Л         Ж  \\\nP(ai)  0.349633  0.02934  0.01956  0.161369  0.01956  0.056235  0.007335   \n\n              Е        У         М         Ц       Р  \nP(ai)  0.105134  0.04401  0.102689  0.007335  0.0978  ",
      "text/html": "<div>\n<style scoped>\n    .dataframe tbody tr th:only-of-type {\n        vertical-align: middle;\n    }\n\n    .dataframe tbody tr th {\n        vertical-align: top;\n    }\n\n    .dataframe thead th {\n        text-align: right;\n    }\n</style>\n<table border=\"1\" class=\"dataframe\">\n  <thead>\n    <tr style=\"text-align: right;\">\n      <th></th>\n      <th></th>\n      <th>,</th>\n      <th>.</th>\n      <th>А</th>\n      <th>Г</th>\n      <th>Л</th>\n      <th>Ж</th>\n      <th>Е</th>\n      <th>У</th>\n      <th>М</th>\n      <th>Ц</th>\n      <th>Р</th>\n    </tr>\n  </thead>\n  <tbody>\n    <tr>\n      <th>P(ai)</th>\n      <td>0.349633</td>\n      <td>0.02934</td>\n      <td>0.01956</td>\n      <td>0.161369</td>\n      <td>0.01956</td>\n      <td>0.056235</td>\n      <td>0.007335</td>\n      <td>0.105134</td>\n      <td>0.04401</td>\n      <td>0.102689</td>\n      <td>0.007335</td>\n      <td>0.0978</td>\n    </tr>\n  </tbody>\n</table>\n</div>"
     },
     "execution_count": 8,
     "metadata": {},
     "output_type": "execute_result"
    }
   ],
   "source": [
    "occurrence_probabilities = {}\n",
    "for c in alphabet:\n",
    "    occurrence_probabilities[c] = (character_map[c] / len(filtered_text))\n",
    "probabilities_df = pd.DataFrame(occurrence_probabilities, index=[\"P(ai)\"])\n",
    "save_latex(probabilities_df, \"occurrence_probabilities\", index={\"P(ai)\": \"$P(a_i)$\"})\n",
    "probabilities_df"
   ],
   "metadata": {
    "collapsed": false,
    "ExecuteTime": {
     "end_time": "2023-12-13T13:29:42.964760171Z",
     "start_time": "2023-12-13T13:29:42.882659778Z"
    }
   },
   "id": "83281ce3aba332d8"
  },
  {
   "cell_type": "markdown",
   "source": [
    " Сума всіх ймовірностей $P(a_i)$ повинна дорівнювати одиниці, тобто\n",
    " $$\\[ \\sum_{i=1}^{|A|} P(a_i) = 1 \\]$$"
   ],
   "metadata": {
    "collapsed": false
   },
   "id": "1e30b09c964e5ddb"
  },
  {
   "cell_type": "code",
   "execution_count": 9,
   "outputs": [
    {
     "data": {
      "text/plain": "P(ai)    1.0\ndtype: float64"
     },
     "execution_count": 9,
     "metadata": {},
     "output_type": "execute_result"
    }
   ],
   "source": [
    "probabilities_df.sum(axis=1)"
   ],
   "metadata": {
    "collapsed": false,
    "ExecuteTime": {
     "end_time": "2023-12-13T13:29:42.965053088Z",
     "start_time": "2023-12-13T13:29:42.924505858Z"
    }
   },
   "id": "5865ea54bec94d28"
  },
  {
   "cell_type": "markdown",
   "source": [],
   "metadata": {
    "collapsed": false
   },
   "id": "3e70f72effd03d79"
  },
  {
   "cell_type": "markdown",
   "source": [
    "### Кодування\n",
    " - Визначимо кількість інформаційних розрядів за формулою \n",
    "$$ n_і =⎾log_2 m_1⏋$$"
   ],
   "metadata": {
    "collapsed": false
   },
   "id": "77d25ee180d6a2ab"
  },
  {
   "cell_type": "code",
   "execution_count": 10,
   "outputs": [
    {
     "name": "stdout",
     "output_type": "stream",
     "text": [
      "Кількість розрядів для кодування  4\n"
     ]
    }
   ],
   "source": [
    "bits_count = math.ceil(math.log2(len(alphabet)))\n",
    "print(f\"Кількість розрядів для кодування  {bits_count}\")"
   ],
   "metadata": {
    "collapsed": false,
    "ExecuteTime": {
     "end_time": "2023-12-13T13:29:43.122648153Z",
     "start_time": "2023-12-13T13:29:42.924594069Z"
    }
   },
   "id": "4e0dbe7b267ee534"
  },
  {
   "cell_type": "markdown",
   "source": [
    "Генеруємо всі можливі кодові комбінації довжиною 4 біти:"
   ],
   "metadata": {
    "collapsed": false
   },
   "id": "45071af9a3acd060"
  },
  {
   "cell_type": "code",
   "execution_count": 11,
   "outputs": [],
   "source": [
    "from itertools import product\n",
    "\n",
    "\n",
    "def generate_binary_combinations(length):\n",
    "    # Generate all combinations of 0 and 1 for the given length\n",
    "    binary_combinations = list(product([0, 1], repeat=length))\n",
    "    return binary_combinations"
   ],
   "metadata": {
    "collapsed": false,
    "ExecuteTime": {
     "end_time": "2023-12-13T13:29:43.138850646Z",
     "start_time": "2023-12-13T13:29:43.076723931Z"
    }
   },
   "id": "d7ee0252163eb734"
  },
  {
   "cell_type": "code",
   "execution_count": 12,
   "outputs": [
    {
     "data": {
      "text/plain": "    0  1  2  3\n0   0  0  0  0\n1   0  0  0  1\n2   0  0  1  0\n3   0  0  1  1\n4   0  1  0  0\n5   0  1  0  1\n6   0  1  1  0\n7   0  1  1  1\n8   1  0  0  0\n9   1  0  0  1\n10  1  0  1  0\n11  1  0  1  1\n12  1  1  0  0\n13  1  1  0  1\n14  1  1  1  0\n15  1  1  1  1",
      "text/html": "<div>\n<style scoped>\n    .dataframe tbody tr th:only-of-type {\n        vertical-align: middle;\n    }\n\n    .dataframe tbody tr th {\n        vertical-align: top;\n    }\n\n    .dataframe thead th {\n        text-align: right;\n    }\n</style>\n<table border=\"1\" class=\"dataframe\">\n  <thead>\n    <tr style=\"text-align: right;\">\n      <th></th>\n      <th>0</th>\n      <th>1</th>\n      <th>2</th>\n      <th>3</th>\n    </tr>\n  </thead>\n  <tbody>\n    <tr>\n      <th>0</th>\n      <td>0</td>\n      <td>0</td>\n      <td>0</td>\n      <td>0</td>\n    </tr>\n    <tr>\n      <th>1</th>\n      <td>0</td>\n      <td>0</td>\n      <td>0</td>\n      <td>1</td>\n    </tr>\n    <tr>\n      <th>2</th>\n      <td>0</td>\n      <td>0</td>\n      <td>1</td>\n      <td>0</td>\n    </tr>\n    <tr>\n      <th>3</th>\n      <td>0</td>\n      <td>0</td>\n      <td>1</td>\n      <td>1</td>\n    </tr>\n    <tr>\n      <th>4</th>\n      <td>0</td>\n      <td>1</td>\n      <td>0</td>\n      <td>0</td>\n    </tr>\n    <tr>\n      <th>5</th>\n      <td>0</td>\n      <td>1</td>\n      <td>0</td>\n      <td>1</td>\n    </tr>\n    <tr>\n      <th>6</th>\n      <td>0</td>\n      <td>1</td>\n      <td>1</td>\n      <td>0</td>\n    </tr>\n    <tr>\n      <th>7</th>\n      <td>0</td>\n      <td>1</td>\n      <td>1</td>\n      <td>1</td>\n    </tr>\n    <tr>\n      <th>8</th>\n      <td>1</td>\n      <td>0</td>\n      <td>0</td>\n      <td>0</td>\n    </tr>\n    <tr>\n      <th>9</th>\n      <td>1</td>\n      <td>0</td>\n      <td>0</td>\n      <td>1</td>\n    </tr>\n    <tr>\n      <th>10</th>\n      <td>1</td>\n      <td>0</td>\n      <td>1</td>\n      <td>0</td>\n    </tr>\n    <tr>\n      <th>11</th>\n      <td>1</td>\n      <td>0</td>\n      <td>1</td>\n      <td>1</td>\n    </tr>\n    <tr>\n      <th>12</th>\n      <td>1</td>\n      <td>1</td>\n      <td>0</td>\n      <td>0</td>\n    </tr>\n    <tr>\n      <th>13</th>\n      <td>1</td>\n      <td>1</td>\n      <td>0</td>\n      <td>1</td>\n    </tr>\n    <tr>\n      <th>14</th>\n      <td>1</td>\n      <td>1</td>\n      <td>1</td>\n      <td>0</td>\n    </tr>\n    <tr>\n      <th>15</th>\n      <td>1</td>\n      <td>1</td>\n      <td>1</td>\n      <td>1</td>\n    </tr>\n  </tbody>\n</table>\n</div>"
     },
     "execution_count": 12,
     "metadata": {},
     "output_type": "execute_result"
    }
   ],
   "source": [
    "codewords = generate_binary_combinations(bits_count)\n",
    "codewords_df = pd.DataFrame(codewords)\n",
    "save_latex(codewords_df, \"codewords\")\n",
    "codewords_df"
   ],
   "metadata": {
    "collapsed": false,
    "ExecuteTime": {
     "end_time": "2023-12-13T13:29:43.139337235Z",
     "start_time": "2023-12-13T13:29:43.105379802Z"
    }
   },
   "id": "9cb4d1e4cfe73b6c"
  },
  {
   "cell_type": "markdown",
   "source": [
    "Матриця кодових відстаней $d_{ij}$"
   ],
   "metadata": {
    "collapsed": false
   },
   "id": "d8cc9fffe0c950b6"
  },
  {
   "cell_type": "code",
   "execution_count": 13,
   "outputs": [
    {
     "data": {
      "text/plain": "      0000  0001  0010  0011  0100  0101  0110  0111  1000  1001  1010  1011  \\\n0000     0     1     1     2     1     2     2     3     1     2     2     3   \n0001     1     0     2     1     2     1     3     2     2     1     3     2   \n0010     1     2     0     1     2     3     1     2     2     3     1     2   \n0011     2     1     1     0     3     2     2     1     3     2     2     1   \n0100     1     2     2     3     0     1     1     2     2     3     3     4   \n0101     2     1     3     2     1     0     2     1     3     2     4     3   \n0110     2     3     1     2     1     2     0     1     3     4     2     3   \n0111     3     2     2     1     2     1     1     0     4     3     3     2   \n1000     1     2     2     3     2     3     3     4     0     1     1     2   \n1001     2     1     3     2     3     2     4     3     1     0     2     1   \n1010     2     3     1     2     3     4     2     3     1     2     0     1   \n1011     3     2     2     1     4     3     3     2     2     1     1     0   \n1100     2     3     3     4     1     2     2     3     1     2     2     3   \n1101     3     2     4     3     2     1     3     2     2     1     3     2   \n1110     3     4     2     3     2     3     1     2     2     3     1     2   \n1111     4     3     3     2     3     2     2     1     3     2     2     1   \n\n      1100  1101  1110  1111  \n0000     2     3     3     4  \n0001     3     2     4     3  \n0010     3     4     2     3  \n0011     4     3     3     2  \n0100     1     2     2     3  \n0101     2     1     3     2  \n0110     2     3     1     2  \n0111     3     2     2     1  \n1000     1     2     2     3  \n1001     2     1     3     2  \n1010     2     3     1     2  \n1011     3     2     2     1  \n1100     0     1     1     2  \n1101     1     0     2     1  \n1110     1     2     0     1  \n1111     2     1     1     0  ",
      "text/html": "<div>\n<style scoped>\n    .dataframe tbody tr th:only-of-type {\n        vertical-align: middle;\n    }\n\n    .dataframe tbody tr th {\n        vertical-align: top;\n    }\n\n    .dataframe thead th {\n        text-align: right;\n    }\n</style>\n<table border=\"1\" class=\"dataframe\">\n  <thead>\n    <tr style=\"text-align: right;\">\n      <th></th>\n      <th>0000</th>\n      <th>0001</th>\n      <th>0010</th>\n      <th>0011</th>\n      <th>0100</th>\n      <th>0101</th>\n      <th>0110</th>\n      <th>0111</th>\n      <th>1000</th>\n      <th>1001</th>\n      <th>1010</th>\n      <th>1011</th>\n      <th>1100</th>\n      <th>1101</th>\n      <th>1110</th>\n      <th>1111</th>\n    </tr>\n  </thead>\n  <tbody>\n    <tr>\n      <th>0000</th>\n      <td>0</td>\n      <td>1</td>\n      <td>1</td>\n      <td>2</td>\n      <td>1</td>\n      <td>2</td>\n      <td>2</td>\n      <td>3</td>\n      <td>1</td>\n      <td>2</td>\n      <td>2</td>\n      <td>3</td>\n      <td>2</td>\n      <td>3</td>\n      <td>3</td>\n      <td>4</td>\n    </tr>\n    <tr>\n      <th>0001</th>\n      <td>1</td>\n      <td>0</td>\n      <td>2</td>\n      <td>1</td>\n      <td>2</td>\n      <td>1</td>\n      <td>3</td>\n      <td>2</td>\n      <td>2</td>\n      <td>1</td>\n      <td>3</td>\n      <td>2</td>\n      <td>3</td>\n      <td>2</td>\n      <td>4</td>\n      <td>3</td>\n    </tr>\n    <tr>\n      <th>0010</th>\n      <td>1</td>\n      <td>2</td>\n      <td>0</td>\n      <td>1</td>\n      <td>2</td>\n      <td>3</td>\n      <td>1</td>\n      <td>2</td>\n      <td>2</td>\n      <td>3</td>\n      <td>1</td>\n      <td>2</td>\n      <td>3</td>\n      <td>4</td>\n      <td>2</td>\n      <td>3</td>\n    </tr>\n    <tr>\n      <th>0011</th>\n      <td>2</td>\n      <td>1</td>\n      <td>1</td>\n      <td>0</td>\n      <td>3</td>\n      <td>2</td>\n      <td>2</td>\n      <td>1</td>\n      <td>3</td>\n      <td>2</td>\n      <td>2</td>\n      <td>1</td>\n      <td>4</td>\n      <td>3</td>\n      <td>3</td>\n      <td>2</td>\n    </tr>\n    <tr>\n      <th>0100</th>\n      <td>1</td>\n      <td>2</td>\n      <td>2</td>\n      <td>3</td>\n      <td>0</td>\n      <td>1</td>\n      <td>1</td>\n      <td>2</td>\n      <td>2</td>\n      <td>3</td>\n      <td>3</td>\n      <td>4</td>\n      <td>1</td>\n      <td>2</td>\n      <td>2</td>\n      <td>3</td>\n    </tr>\n    <tr>\n      <th>0101</th>\n      <td>2</td>\n      <td>1</td>\n      <td>3</td>\n      <td>2</td>\n      <td>1</td>\n      <td>0</td>\n      <td>2</td>\n      <td>1</td>\n      <td>3</td>\n      <td>2</td>\n      <td>4</td>\n      <td>3</td>\n      <td>2</td>\n      <td>1</td>\n      <td>3</td>\n      <td>2</td>\n    </tr>\n    <tr>\n      <th>0110</th>\n      <td>2</td>\n      <td>3</td>\n      <td>1</td>\n      <td>2</td>\n      <td>1</td>\n      <td>2</td>\n      <td>0</td>\n      <td>1</td>\n      <td>3</td>\n      <td>4</td>\n      <td>2</td>\n      <td>3</td>\n      <td>2</td>\n      <td>3</td>\n      <td>1</td>\n      <td>2</td>\n    </tr>\n    <tr>\n      <th>0111</th>\n      <td>3</td>\n      <td>2</td>\n      <td>2</td>\n      <td>1</td>\n      <td>2</td>\n      <td>1</td>\n      <td>1</td>\n      <td>0</td>\n      <td>4</td>\n      <td>3</td>\n      <td>3</td>\n      <td>2</td>\n      <td>3</td>\n      <td>2</td>\n      <td>2</td>\n      <td>1</td>\n    </tr>\n    <tr>\n      <th>1000</th>\n      <td>1</td>\n      <td>2</td>\n      <td>2</td>\n      <td>3</td>\n      <td>2</td>\n      <td>3</td>\n      <td>3</td>\n      <td>4</td>\n      <td>0</td>\n      <td>1</td>\n      <td>1</td>\n      <td>2</td>\n      <td>1</td>\n      <td>2</td>\n      <td>2</td>\n      <td>3</td>\n    </tr>\n    <tr>\n      <th>1001</th>\n      <td>2</td>\n      <td>1</td>\n      <td>3</td>\n      <td>2</td>\n      <td>3</td>\n      <td>2</td>\n      <td>4</td>\n      <td>3</td>\n      <td>1</td>\n      <td>0</td>\n      <td>2</td>\n      <td>1</td>\n      <td>2</td>\n      <td>1</td>\n      <td>3</td>\n      <td>2</td>\n    </tr>\n    <tr>\n      <th>1010</th>\n      <td>2</td>\n      <td>3</td>\n      <td>1</td>\n      <td>2</td>\n      <td>3</td>\n      <td>4</td>\n      <td>2</td>\n      <td>3</td>\n      <td>1</td>\n      <td>2</td>\n      <td>0</td>\n      <td>1</td>\n      <td>2</td>\n      <td>3</td>\n      <td>1</td>\n      <td>2</td>\n    </tr>\n    <tr>\n      <th>1011</th>\n      <td>3</td>\n      <td>2</td>\n      <td>2</td>\n      <td>1</td>\n      <td>4</td>\n      <td>3</td>\n      <td>3</td>\n      <td>2</td>\n      <td>2</td>\n      <td>1</td>\n      <td>1</td>\n      <td>0</td>\n      <td>3</td>\n      <td>2</td>\n      <td>2</td>\n      <td>1</td>\n    </tr>\n    <tr>\n      <th>1100</th>\n      <td>2</td>\n      <td>3</td>\n      <td>3</td>\n      <td>4</td>\n      <td>1</td>\n      <td>2</td>\n      <td>2</td>\n      <td>3</td>\n      <td>1</td>\n      <td>2</td>\n      <td>2</td>\n      <td>3</td>\n      <td>0</td>\n      <td>1</td>\n      <td>1</td>\n      <td>2</td>\n    </tr>\n    <tr>\n      <th>1101</th>\n      <td>3</td>\n      <td>2</td>\n      <td>4</td>\n      <td>3</td>\n      <td>2</td>\n      <td>1</td>\n      <td>3</td>\n      <td>2</td>\n      <td>2</td>\n      <td>1</td>\n      <td>3</td>\n      <td>2</td>\n      <td>1</td>\n      <td>0</td>\n      <td>2</td>\n      <td>1</td>\n    </tr>\n    <tr>\n      <th>1110</th>\n      <td>3</td>\n      <td>4</td>\n      <td>2</td>\n      <td>3</td>\n      <td>2</td>\n      <td>3</td>\n      <td>1</td>\n      <td>2</td>\n      <td>2</td>\n      <td>3</td>\n      <td>1</td>\n      <td>2</td>\n      <td>1</td>\n      <td>2</td>\n      <td>0</td>\n      <td>1</td>\n    </tr>\n    <tr>\n      <th>1111</th>\n      <td>4</td>\n      <td>3</td>\n      <td>3</td>\n      <td>2</td>\n      <td>3</td>\n      <td>2</td>\n      <td>2</td>\n      <td>1</td>\n      <td>3</td>\n      <td>2</td>\n      <td>2</td>\n      <td>1</td>\n      <td>2</td>\n      <td>1</td>\n      <td>1</td>\n      <td>0</td>\n    </tr>\n  </tbody>\n</table>\n</div>"
     },
     "execution_count": 13,
     "metadata": {},
     "output_type": "execute_result"
    }
   ],
   "source": [
    "distance_matrix = build_distance_matrix(codewords)\n",
    "headers = [(\"\".join([str(n) for n in c])) for c in codewords]\n",
    "distance_matrix_df = pd.DataFrame(distance_matrix, columns=headers, index=headers)\n",
    "save_latex(distance_matrix_df, \"distance_matrix\")\n",
    "distance_matrix_df"
   ],
   "metadata": {
    "collapsed": false,
    "ExecuteTime": {
     "end_time": "2023-12-13T13:29:43.139880326Z",
     "start_time": "2023-12-13T13:29:43.105518857Z"
    }
   },
   "id": "9933c5858ea99ef0"
  },
  {
   "cell_type": "markdown",
   "source": [
    "Аналіз кодових відстаней $d_{ij}$"
   ],
   "metadata": {
    "collapsed": false
   },
   "id": "bc183cae5bee9324"
  },
  {
   "cell_type": "code",
   "execution_count": 14,
   "outputs": [
    {
     "data": {
      "text/plain": "      0  1  2  3  4\n0000  1  4  6  4  1\n0001  1  4  6  4  1\n0010  1  4  6  4  1\n0011  1  4  6  4  1\n0100  1  4  6  4  1\n0101  1  4  6  4  1\n0110  1  4  6  4  1\n0111  1  4  6  4  1\n1000  1  4  6  4  1\n1001  1  4  6  4  1\n1010  1  4  6  4  1\n1011  1  4  6  4  1\n1100  1  4  6  4  1\n1101  1  4  6  4  1\n1110  1  4  6  4  1\n1111  1  4  6  4  1",
      "text/html": "<div>\n<style scoped>\n    .dataframe tbody tr th:only-of-type {\n        vertical-align: middle;\n    }\n\n    .dataframe tbody tr th {\n        vertical-align: top;\n    }\n\n    .dataframe thead th {\n        text-align: right;\n    }\n</style>\n<table border=\"1\" class=\"dataframe\">\n  <thead>\n    <tr style=\"text-align: right;\">\n      <th></th>\n      <th>0</th>\n      <th>1</th>\n      <th>2</th>\n      <th>3</th>\n      <th>4</th>\n    </tr>\n  </thead>\n  <tbody>\n    <tr>\n      <th>0000</th>\n      <td>1</td>\n      <td>4</td>\n      <td>6</td>\n      <td>4</td>\n      <td>1</td>\n    </tr>\n    <tr>\n      <th>0001</th>\n      <td>1</td>\n      <td>4</td>\n      <td>6</td>\n      <td>4</td>\n      <td>1</td>\n    </tr>\n    <tr>\n      <th>0010</th>\n      <td>1</td>\n      <td>4</td>\n      <td>6</td>\n      <td>4</td>\n      <td>1</td>\n    </tr>\n    <tr>\n      <th>0011</th>\n      <td>1</td>\n      <td>4</td>\n      <td>6</td>\n      <td>4</td>\n      <td>1</td>\n    </tr>\n    <tr>\n      <th>0100</th>\n      <td>1</td>\n      <td>4</td>\n      <td>6</td>\n      <td>4</td>\n      <td>1</td>\n    </tr>\n    <tr>\n      <th>0101</th>\n      <td>1</td>\n      <td>4</td>\n      <td>6</td>\n      <td>4</td>\n      <td>1</td>\n    </tr>\n    <tr>\n      <th>0110</th>\n      <td>1</td>\n      <td>4</td>\n      <td>6</td>\n      <td>4</td>\n      <td>1</td>\n    </tr>\n    <tr>\n      <th>0111</th>\n      <td>1</td>\n      <td>4</td>\n      <td>6</td>\n      <td>4</td>\n      <td>1</td>\n    </tr>\n    <tr>\n      <th>1000</th>\n      <td>1</td>\n      <td>4</td>\n      <td>6</td>\n      <td>4</td>\n      <td>1</td>\n    </tr>\n    <tr>\n      <th>1001</th>\n      <td>1</td>\n      <td>4</td>\n      <td>6</td>\n      <td>4</td>\n      <td>1</td>\n    </tr>\n    <tr>\n      <th>1010</th>\n      <td>1</td>\n      <td>4</td>\n      <td>6</td>\n      <td>4</td>\n      <td>1</td>\n    </tr>\n    <tr>\n      <th>1011</th>\n      <td>1</td>\n      <td>4</td>\n      <td>6</td>\n      <td>4</td>\n      <td>1</td>\n    </tr>\n    <tr>\n      <th>1100</th>\n      <td>1</td>\n      <td>4</td>\n      <td>6</td>\n      <td>4</td>\n      <td>1</td>\n    </tr>\n    <tr>\n      <th>1101</th>\n      <td>1</td>\n      <td>4</td>\n      <td>6</td>\n      <td>4</td>\n      <td>1</td>\n    </tr>\n    <tr>\n      <th>1110</th>\n      <td>1</td>\n      <td>4</td>\n      <td>6</td>\n      <td>4</td>\n      <td>1</td>\n    </tr>\n    <tr>\n      <th>1111</th>\n      <td>1</td>\n      <td>4</td>\n      <td>6</td>\n      <td>4</td>\n      <td>1</td>\n    </tr>\n  </tbody>\n</table>\n</div>"
     },
     "execution_count": 14,
     "metadata": {},
     "output_type": "execute_result"
    }
   ],
   "source": [
    "distance_counts = []\n",
    "distance_values = set(distance_matrix_df.stack().unique())\n",
    "for row in distance_matrix:\n",
    "    row_distance_counts = []\n",
    "    for d in distance_values:\n",
    "        row_distance_counts.append(row.count(d))\n",
    "    distance_counts.append(row_distance_counts)\n",
    "distance_counts_df = pd.DataFrame(distance_counts, index=headers)\n",
    "save_latex(distance_counts_df, \"distance_counts\")\n",
    "distance_counts_df"
   ],
   "metadata": {
    "collapsed": false,
    "ExecuteTime": {
     "end_time": "2023-12-13T13:29:43.234725896Z",
     "start_time": "2023-12-13T13:29:43.111188906Z"
    }
   },
   "id": "6a033b503e06596c"
  },
  {
   "cell_type": "code",
   "execution_count": 15,
   "outputs": [
    {
     "data": {
      "text/plain": "   $A$     $a_i$   Код $\\sum_{i=1}^{n}$\n0        $a_{0}$  0000              000\n1    ,   $a_{1}$  0001              001\n2    .   $a_{2}$  0010              001\n3    А   $a_{3}$  0011              010\n4    Г   $a_{4}$  0100              001\n5    Л   $a_{5}$  0101              010\n6    Ж   $a_{6}$  0110              010\n7    Е   $a_{7}$  0111              011\n8    У   $a_{8}$  1000              001\n9    М   $a_{9}$  1001              010\n10   Ц  $a_{10}$  1010              010\n11   Р  $a_{11}$  1011              011",
      "text/html": "<div>\n<style scoped>\n    .dataframe tbody tr th:only-of-type {\n        vertical-align: middle;\n    }\n\n    .dataframe tbody tr th {\n        vertical-align: top;\n    }\n\n    .dataframe thead th {\n        text-align: right;\n    }\n</style>\n<table border=\"1\" class=\"dataframe\">\n  <thead>\n    <tr style=\"text-align: right;\">\n      <th></th>\n      <th>$A$</th>\n      <th>$a_i$</th>\n      <th>Код</th>\n      <th>$\\sum_{i=1}^{n}$</th>\n    </tr>\n  </thead>\n  <tbody>\n    <tr>\n      <th>0</th>\n      <td></td>\n      <td>$a_{0}$</td>\n      <td>0000</td>\n      <td>000</td>\n    </tr>\n    <tr>\n      <th>1</th>\n      <td>,</td>\n      <td>$a_{1}$</td>\n      <td>0001</td>\n      <td>001</td>\n    </tr>\n    <tr>\n      <th>2</th>\n      <td>.</td>\n      <td>$a_{2}$</td>\n      <td>0010</td>\n      <td>001</td>\n    </tr>\n    <tr>\n      <th>3</th>\n      <td>А</td>\n      <td>$a_{3}$</td>\n      <td>0011</td>\n      <td>010</td>\n    </tr>\n    <tr>\n      <th>4</th>\n      <td>Г</td>\n      <td>$a_{4}$</td>\n      <td>0100</td>\n      <td>001</td>\n    </tr>\n    <tr>\n      <th>5</th>\n      <td>Л</td>\n      <td>$a_{5}$</td>\n      <td>0101</td>\n      <td>010</td>\n    </tr>\n    <tr>\n      <th>6</th>\n      <td>Ж</td>\n      <td>$a_{6}$</td>\n      <td>0110</td>\n      <td>010</td>\n    </tr>\n    <tr>\n      <th>7</th>\n      <td>Е</td>\n      <td>$a_{7}$</td>\n      <td>0111</td>\n      <td>011</td>\n    </tr>\n    <tr>\n      <th>8</th>\n      <td>У</td>\n      <td>$a_{8}$</td>\n      <td>1000</td>\n      <td>001</td>\n    </tr>\n    <tr>\n      <th>9</th>\n      <td>М</td>\n      <td>$a_{9}$</td>\n      <td>1001</td>\n      <td>010</td>\n    </tr>\n    <tr>\n      <th>10</th>\n      <td>Ц</td>\n      <td>$a_{10}$</td>\n      <td>1010</td>\n      <td>010</td>\n    </tr>\n    <tr>\n      <th>11</th>\n      <td>Р</td>\n      <td>$a_{11}$</td>\n      <td>1011</td>\n      <td>011</td>\n    </tr>\n  </tbody>\n</table>\n</div>"
     },
     "execution_count": 15,
     "metadata": {},
     "output_type": "execute_result"
    }
   ],
   "source": [
    "codewords = {}\n",
    "codewords_table = []\n",
    "inverted = []\n",
    "berger = []\n",
    "for i, c in enumerate(alphabet):\n",
    "    bin_code = f\"{i:04b}\"\n",
    "    ones_count = bin_code.count(\"1\")\n",
    "    codewords_table.append(\n",
    "        {\"$A$\": c, \"$a_i$\": f\"$a_{{{i}}}$\", \"Код\": f\"{bin_code}\", \"$\\sum_{i=1}^{n}$\": f\"{ones_count:03b}\"})\n",
    "    codewords[c] = [int(n) for n in f\"{i:04b}\"]\n",
    "    inverted_count = ''.join('1' if x == '0' else '0' for x in f\"{ones_count:03b}\")\n",
    "    inverted.append(inverted_count)\n",
    "    berger.append(bin_code + inverted_count)\n",
    "control_bits_df = pd.DataFrame(codewords_table)\n",
    "with open('./latex_tables/control_bits.tex', 'w') as tf:\n",
    "    tf.write(control_bits_df.to_latex(index=False))\n",
    "control_bits_df"
   ],
   "metadata": {
    "collapsed": false,
    "ExecuteTime": {
     "end_time": "2023-12-13T13:29:43.235680984Z",
     "start_time": "2023-12-13T13:29:43.154509629Z"
    }
   },
   "id": "d09e156a2d80be08"
  },
  {
   "cell_type": "code",
   "execution_count": 16,
   "outputs": [],
   "source": [
    "control_bits_df[\"inverted\"] = inverted\n",
    "control_bits_df\n",
    "with open('./latex_tables/control_bits_inverted.tex', 'w') as tf:\n",
    "    tf.write(control_bits_df.to_latex(index=False))"
   ],
   "metadata": {
    "collapsed": false,
    "ExecuteTime": {
     "end_time": "2023-12-13T13:29:43.236676581Z",
     "start_time": "2023-12-13T13:29:43.165798531Z"
    }
   },
   "id": "2acc9366707453c9"
  },
  {
   "cell_type": "code",
   "execution_count": 17,
   "outputs": [
    {
     "data": {
      "text/plain": "   $A$     $a_i$   Код $\\sum_{i=1}^{n}$ inverted\n0        $a_{0}$  0000              000      111\n1    ,   $a_{1}$  0001              001      110\n2    .   $a_{2}$  0010              001      110\n3    А   $a_{3}$  0011              010      101\n4    Г   $a_{4}$  0100              001      110\n5    Л   $a_{5}$  0101              010      101\n6    Ж   $a_{6}$  0110              010      101\n7    Е   $a_{7}$  0111              011      100\n8    У   $a_{8}$  1000              001      110\n9    М   $a_{9}$  1001              010      101\n10   Ц  $a_{10}$  1010              010      101\n11   Р  $a_{11}$  1011              011      100",
      "text/html": "<div>\n<style scoped>\n    .dataframe tbody tr th:only-of-type {\n        vertical-align: middle;\n    }\n\n    .dataframe tbody tr th {\n        vertical-align: top;\n    }\n\n    .dataframe thead th {\n        text-align: right;\n    }\n</style>\n<table border=\"1\" class=\"dataframe\">\n  <thead>\n    <tr style=\"text-align: right;\">\n      <th></th>\n      <th>$A$</th>\n      <th>$a_i$</th>\n      <th>Код</th>\n      <th>$\\sum_{i=1}^{n}$</th>\n      <th>inverted</th>\n    </tr>\n  </thead>\n  <tbody>\n    <tr>\n      <th>0</th>\n      <td></td>\n      <td>$a_{0}$</td>\n      <td>0000</td>\n      <td>000</td>\n      <td>111</td>\n    </tr>\n    <tr>\n      <th>1</th>\n      <td>,</td>\n      <td>$a_{1}$</td>\n      <td>0001</td>\n      <td>001</td>\n      <td>110</td>\n    </tr>\n    <tr>\n      <th>2</th>\n      <td>.</td>\n      <td>$a_{2}$</td>\n      <td>0010</td>\n      <td>001</td>\n      <td>110</td>\n    </tr>\n    <tr>\n      <th>3</th>\n      <td>А</td>\n      <td>$a_{3}$</td>\n      <td>0011</td>\n      <td>010</td>\n      <td>101</td>\n    </tr>\n    <tr>\n      <th>4</th>\n      <td>Г</td>\n      <td>$a_{4}$</td>\n      <td>0100</td>\n      <td>001</td>\n      <td>110</td>\n    </tr>\n    <tr>\n      <th>5</th>\n      <td>Л</td>\n      <td>$a_{5}$</td>\n      <td>0101</td>\n      <td>010</td>\n      <td>101</td>\n    </tr>\n    <tr>\n      <th>6</th>\n      <td>Ж</td>\n      <td>$a_{6}$</td>\n      <td>0110</td>\n      <td>010</td>\n      <td>101</td>\n    </tr>\n    <tr>\n      <th>7</th>\n      <td>Е</td>\n      <td>$a_{7}$</td>\n      <td>0111</td>\n      <td>011</td>\n      <td>100</td>\n    </tr>\n    <tr>\n      <th>8</th>\n      <td>У</td>\n      <td>$a_{8}$</td>\n      <td>1000</td>\n      <td>001</td>\n      <td>110</td>\n    </tr>\n    <tr>\n      <th>9</th>\n      <td>М</td>\n      <td>$a_{9}$</td>\n      <td>1001</td>\n      <td>010</td>\n      <td>101</td>\n    </tr>\n    <tr>\n      <th>10</th>\n      <td>Ц</td>\n      <td>$a_{10}$</td>\n      <td>1010</td>\n      <td>010</td>\n      <td>101</td>\n    </tr>\n    <tr>\n      <th>11</th>\n      <td>Р</td>\n      <td>$a_{11}$</td>\n      <td>1011</td>\n      <td>011</td>\n      <td>100</td>\n    </tr>\n  </tbody>\n</table>\n</div>"
     },
     "execution_count": 17,
     "metadata": {},
     "output_type": "execute_result"
    }
   ],
   "source": [
    "control_bits_df"
   ],
   "metadata": {
    "collapsed": false,
    "ExecuteTime": {
     "end_time": "2023-12-13T13:29:43.236971314Z",
     "start_time": "2023-12-13T13:29:43.207879979Z"
    }
   },
   "id": "bed2acf465705ef4"
  },
  {
   "cell_type": "code",
   "execution_count": 18,
   "outputs": [
    {
     "data": {
      "text/plain": "   $A$     $a_i$ Код Бергера\n0        $a_{0}$     0000111\n1    ,   $a_{1}$     0001110\n2    .   $a_{2}$     0010110\n3    А   $a_{3}$     0011101\n4    Г   $a_{4}$     0100110\n5    Л   $a_{5}$     0101101\n6    Ж   $a_{6}$     0110101\n7    Е   $a_{7}$     0111100\n8    У   $a_{8}$     1000110\n9    М   $a_{9}$     1001101\n10   Ц  $a_{10}$     1010101\n11   Р  $a_{11}$     1011100",
      "text/html": "<div>\n<style scoped>\n    .dataframe tbody tr th:only-of-type {\n        vertical-align: middle;\n    }\n\n    .dataframe tbody tr th {\n        vertical-align: top;\n    }\n\n    .dataframe thead th {\n        text-align: right;\n    }\n</style>\n<table border=\"1\" class=\"dataframe\">\n  <thead>\n    <tr style=\"text-align: right;\">\n      <th></th>\n      <th>$A$</th>\n      <th>$a_i$</th>\n      <th>Код Бергера</th>\n    </tr>\n  </thead>\n  <tbody>\n    <tr>\n      <th>0</th>\n      <td></td>\n      <td>$a_{0}$</td>\n      <td>0000111</td>\n    </tr>\n    <tr>\n      <th>1</th>\n      <td>,</td>\n      <td>$a_{1}$</td>\n      <td>0001110</td>\n    </tr>\n    <tr>\n      <th>2</th>\n      <td>.</td>\n      <td>$a_{2}$</td>\n      <td>0010110</td>\n    </tr>\n    <tr>\n      <th>3</th>\n      <td>А</td>\n      <td>$a_{3}$</td>\n      <td>0011101</td>\n    </tr>\n    <tr>\n      <th>4</th>\n      <td>Г</td>\n      <td>$a_{4}$</td>\n      <td>0100110</td>\n    </tr>\n    <tr>\n      <th>5</th>\n      <td>Л</td>\n      <td>$a_{5}$</td>\n      <td>0101101</td>\n    </tr>\n    <tr>\n      <th>6</th>\n      <td>Ж</td>\n      <td>$a_{6}$</td>\n      <td>0110101</td>\n    </tr>\n    <tr>\n      <th>7</th>\n      <td>Е</td>\n      <td>$a_{7}$</td>\n      <td>0111100</td>\n    </tr>\n    <tr>\n      <th>8</th>\n      <td>У</td>\n      <td>$a_{8}$</td>\n      <td>1000110</td>\n    </tr>\n    <tr>\n      <th>9</th>\n      <td>М</td>\n      <td>$a_{9}$</td>\n      <td>1001101</td>\n    </tr>\n    <tr>\n      <th>10</th>\n      <td>Ц</td>\n      <td>$a_{10}$</td>\n      <td>1010101</td>\n    </tr>\n    <tr>\n      <th>11</th>\n      <td>Р</td>\n      <td>$a_{11}$</td>\n      <td>1011100</td>\n    </tr>\n  </tbody>\n</table>\n</div>"
     },
     "execution_count": 18,
     "metadata": {},
     "output_type": "execute_result"
    }
   ],
   "source": [
    "berger_df = control_bits_df[[\"$A$\", \"$a_i$\"]].copy()\n",
    "berger_df[\"Код Бергера\"] = berger\n",
    "with open('./latex_tables/berger_code.tex', 'w') as tf:\n",
    "    tf.write(berger_df.to_latex(index=False))\n",
    "berger_df\n"
   ],
   "metadata": {
    "collapsed": false,
    "ExecuteTime": {
     "end_time": "2023-12-13T13:29:43.237226307Z",
     "start_time": "2023-12-13T13:29:43.208048438Z"
    }
   },
   "id": "3d210ffd69604cf4"
  },
  {
   "cell_type": "markdown",
   "source": [
    "\n",
    "Матриця кодових відстаней"
   ],
   "metadata": {
    "collapsed": false
   },
   "id": "422e7e95235ec0e5"
  },
  {
   "cell_type": "markdown",
   "source": [
    "У телекомунікаціях код Бергера — це односпрямований код виявлення помилок, названий на честь його винахідника Дж. М. Бергера. Коди Бергера можуть виявляти всі односпрямовані помилки. Односпрямовані помилки - це помилки, які перетворюють лише одиниці на нулі або лише нулі на одиниці, наприклад, в асиметричних каналах. Контрольні біти кодів Бергера обчислюються шляхом підрахунку всіх нулів в інформаційному слові та вираження цього числа в натуральній двійковій системі. Якщо інформаційне слово складається з $n$ бітів, тоді для коду Бергера потрібно $$k = [ log_2 ( n + 1 )]$$ «перевірочнх біти», що додає Код Бергера довжини $k+n$. (Іншими словами,  $k$ контрольних бітів достатньо для перевірки до $$n = 2 k − 1 n=2^{k}-1$$ інформаційних бітів). Коди Бергера можуть виявляти будь-яку кількість помилок перевертання бітів один до нуля, за умови, що в одному кодовому слові не було помилок нуль до одного. Подібним чином коди Бергера можуть виявляти будь-яку кількість помилок перетворення бітів від нуля до одного, за умови, що в одному кодовому слові не виникає помилок перетворення бітів від одного до нуля. Коди Бергера не можуть виправити жодної помилки.\n",
    "\n",
    "Як і всі односпрямовані коди виявлення помилок, коди Бергера також можна використовувати в схемах, нечутливих до затримки."
   ],
   "metadata": {
    "collapsed": false
   },
   "id": "58555b3ee7001026"
  },
  {
   "cell_type": "code",
   "execution_count": 19,
   "outputs": [
    {
     "name": "stdout",
     "output_type": "stream",
     "text": [
      "[1, 0, 0]\n",
      "[0, 1, 1]\n",
      "[0, 1, 1]\n",
      "[0, 1, 0]\n",
      "[0, 1, 1]\n",
      "[0, 1, 0]\n",
      "[0, 1, 0]\n",
      "[0, 0, 1]\n",
      "[0, 1, 1]\n",
      "[0, 1, 0]\n",
      "[0, 1, 0]\n",
      "[0, 0, 1]\n"
     ]
    }
   ],
   "source": [
    "def berger_encode_word(codeword):\n",
    "    zeroes = codeword.count(0)\n",
    "    return [int(c) for c in f\"{zeroes:03b}\"]\n",
    "\n",
    "\n",
    "for codeword in codewords.values():\n",
    "    print(berger_encode_word(codeword))"
   ],
   "metadata": {
    "collapsed": false,
    "ExecuteTime": {
     "end_time": "2023-12-13T13:29:43.424996514Z",
     "start_time": "2023-12-13T13:29:43.208136648Z"
    }
   },
   "id": "45ca955279f07f23"
  },
  {
   "cell_type": "code",
   "execution_count": 20,
   "outputs": [
    {
     "data": {
      "text/plain": "array([[0, 0, 0, 0],\n       [0, 1, 1, 1],\n       [0, 0, 1, 1],\n       ...,\n       [0, 0, 1, 1],\n       [0, 0, 1, 0],\n       [0, 0, 0, 0]])"
     },
     "execution_count": 20,
     "metadata": {},
     "output_type": "execute_result"
    }
   ],
   "source": [
    "binary = [codewords[c] for c in filtered_text]\n",
    "np.array(binary)\n"
   ],
   "metadata": {
    "collapsed": false,
    "ExecuteTime": {
     "end_time": "2023-12-13T13:29:43.425211627Z",
     "start_time": "2023-12-13T13:29:43.365043561Z"
    }
   },
   "id": "c9f22fab92b2ae03"
  },
  {
   "cell_type": "code",
   "execution_count": 21,
   "outputs": [],
   "source": [
    "encoded = []\n",
    "for codeword in binary:\n",
    "    encoded.append(codeword + berger_encode_word(codeword))"
   ],
   "metadata": {
    "collapsed": false,
    "ExecuteTime": {
     "end_time": "2023-12-13T13:29:43.443547373Z",
     "start_time": "2023-12-13T13:29:43.369731980Z"
    }
   },
   "id": "a195384cb3782601"
  },
  {
   "cell_type": "code",
   "execution_count": 22,
   "outputs": [
    {
     "name": "stdout",
     "output_type": "stream",
     "text": [
      "[[0, 0, 0, 0, 1, 0, 0], [0, 1, 1, 1, 0, 0, 1], [0, 0, 1, 1, 0, 1, 0], [0, 0, 0, 0, 1, 0, 0], [1, 0, 0, 1, 0, 1, 0], [0, 1, 0, 1, 0, 1, 0], [0, 0, 0, 0, 1, 0, 0], [0, 0, 0, 0, 1, 0, 0], [0, 0, 0, 0, 1, 0, 0], [0, 0, 1, 1, 0, 1, 0], [0, 1, 1, 1, 0, 0, 1], [1, 0, 1, 1, 0, 0, 1], [0, 0, 0, 1, 0, 1, 1], [0, 0, 0, 0, 1, 0, 0], [0, 0, 0, 0, 1, 0, 0], [0, 0, 0, 0, 1, 0, 0], [0, 0, 1, 1, 0, 1, 0], [0, 1, 0, 1, 0, 1, 0], [0, 0, 0, 0, 1, 0, 0], [0, 0, 0, 0, 1, 0, 0], [1, 0, 0, 0, 0, 1, 1], [0, 0, 0, 0, 1, 0, 0], [0, 0, 0, 0, 1, 0, 0], [0, 0, 1, 1, 0, 1, 0], [0, 1, 1, 1, 0, 0, 1], [1, 0, 1, 1, 0, 0, 1], [0, 0, 0, 0, 1, 0, 0], [0, 1, 1, 1, 0, 0, 1], [1, 0, 1, 1, 0, 0, 1], [0, 1, 1, 1, 0, 0, 1], [0, 0, 0, 0, 1, 0, 0], [0, 0, 1, 1, 0, 1, 0], [1, 0, 0, 1, 0, 1, 0], [0, 1, 1, 1, 0, 0, 1], [1, 0, 1, 1, 0, 0, 1], [0, 0, 0, 0, 1, 0, 0], [0, 0, 0, 0, 1, 0, 0], [1, 0, 0, 1, 0, 1, 0], [0, 0, 1, 0, 0, 1, 1], [0, 0, 0, 0, 1, 0, 0], [1, 0, 1, 1, 0, 0, 1], [0, 0, 0, 0, 1, 0, 0], [0, 0, 0, 0, 1, 0, 0], [0, 1, 1, 1, 0, 0, 1], [1, 0, 1, 1, 0, 0, 1], [0, 1, 1, 1, 0, 0, 1], [0, 0, 0, 0, 1, 0, 0], [0, 0, 0, 0, 1, 0, 0], [1, 0, 1, 1, 0, 0, 1], [1, 0, 0, 0, 0, 1, 1], [0, 0, 0, 0, 1, 0, 0], [1, 0, 0, 1, 0, 1, 0], [0, 1, 1, 1, 0, 0, 1], [1, 0, 1, 0, 0, 1, 0], [1, 0, 0, 1, 0, 1, 0], [0, 0, 0, 0, 1, 0, 0], [0, 0, 1, 1, 0, 1, 0], [1, 0, 1, 1, 0, 0, 1], [1, 0, 0, 1, 0, 1, 0], [0, 0, 0, 0, 1, 0, 0], [0, 1, 0, 0, 0, 1, 1], [0, 1, 1, 1, 0, 0, 1], [1, 0, 1, 1, 0, 0, 1], [1, 0, 0, 1, 0, 1, 0], [0, 0, 0, 0, 1, 0, 0], [0, 1, 0, 1, 0, 1, 0], [0, 1, 1, 1, 0, 0, 1], [1, 0, 1, 1, 0, 0, 1], [1, 0, 0, 1, 0, 1, 0], [0, 0, 0, 0, 1, 0, 0], [0, 0, 0, 0, 1, 0, 0], [0, 0, 1, 1, 0, 1, 0], [0, 0, 1, 1, 0, 1, 0], [0, 0, 0, 0, 1, 0, 0], [0, 0, 1, 1, 0, 1, 0], [0, 0, 0, 0, 1, 0, 0], [0, 1, 1, 1, 0, 0, 1], [0, 0, 0, 0, 1, 0, 0], [0, 1, 1, 1, 0, 0, 1], [0, 0, 0, 1, 0, 1, 1], [0, 0, 0, 0, 1, 0, 0], [0, 1, 0, 0, 0, 1, 1], [0, 0, 0, 0, 1, 0, 0], [1, 0, 0, 1, 0, 1, 0], [1, 0, 0, 0, 0, 1, 1], [0, 0, 0, 0, 1, 0, 0], [0, 0, 1, 1, 0, 1, 0], [0, 0, 0, 0, 1, 0, 0], [0, 1, 0, 0, 0, 1, 1], [0, 0, 1, 1, 0, 1, 0], [0, 0, 0, 0, 1, 0, 0], [0, 0, 0, 0, 1, 0, 0], [1, 0, 1, 1, 0, 0, 1], [1, 0, 0, 1, 0, 1, 0], [0, 0, 0, 0, 1, 0, 0], [1, 0, 0, 1, 0, 1, 0], [0, 1, 0, 1, 0, 1, 0], [0, 1, 0, 0, 0, 1, 1], [0, 0, 1, 0, 0, 1, 1], [0, 0, 0, 0, 1, 0, 0], [0, 0, 1, 1, 0, 1, 0], [0, 1, 1, 0, 0, 1, 0], [0, 0, 1, 1, 0, 1, 0], [0, 0, 0, 1, 0, 1, 1], [0, 0, 0, 0, 1, 0, 0], [0, 0, 0, 0, 1, 0, 0], [0, 1, 1, 1, 0, 0, 1], [0, 0, 1, 1, 0, 1, 0], [0, 0, 0, 0, 1, 0, 0], [0, 0, 0, 0, 1, 0, 0], [1, 0, 1, 1, 0, 0, 1], [1, 0, 0, 0, 0, 1, 1], [0, 1, 0, 0, 0, 1, 1], [1, 0, 0, 1, 0, 1, 0], [0, 0, 0, 0, 1, 0, 0], [1, 0, 0, 1, 0, 1, 0], [0, 0, 0, 0, 1, 0, 0], [1, 0, 0, 0, 0, 1, 1], [0, 0, 0, 0, 1, 0, 0], [0, 0, 0, 0, 1, 0, 0], [0, 0, 1, 1, 0, 1, 0], [0, 1, 1, 1, 0, 0, 1], [1, 0, 1, 1, 0, 0, 1], [0, 0, 0, 0, 1, 0, 0], [0, 0, 1, 1, 0, 1, 0], [0, 0, 0, 0, 1, 0, 0], [1, 0, 0, 1, 0, 1, 0], [0, 0, 1, 1, 0, 1, 0], [0, 0, 0, 0, 1, 0, 0], [0, 0, 1, 1, 0, 1, 0], [0, 0, 0, 0, 1, 0, 0], [0, 0, 1, 1, 0, 1, 0], [0, 0, 0, 0, 1, 0, 0], [1, 0, 0, 1, 0, 1, 0], [1, 0, 0, 1, 0, 1, 0], [0, 0, 0, 0, 1, 0, 0], [0, 1, 0, 1, 0, 1, 0], [0, 0, 0, 0, 1, 0, 0], [0, 0, 1, 1, 0, 1, 0], [1, 0, 1, 1, 0, 0, 1], [0, 1, 0, 1, 0, 1, 0], [0, 0, 0, 0, 1, 0, 0], [0, 1, 0, 1, 0, 1, 0], [0, 0, 1, 1, 0, 1, 0], [0, 1, 1, 1, 0, 0, 1], [0, 0, 0, 0, 1, 0, 0], [1, 0, 1, 0, 0, 1, 0], [0, 1, 1, 1, 0, 0, 1], [1, 0, 1, 1, 0, 0, 1], [0, 1, 1, 1, 0, 0, 1], [1, 0, 1, 1, 0, 0, 1], [0, 0, 0, 1, 0, 1, 1], [0, 0, 0, 0, 1, 0, 0], [0, 0, 0, 0, 1, 0, 0], [1, 0, 0, 1, 0, 1, 0], [0, 0, 0, 0, 1, 0, 0], [0, 1, 1, 1, 0, 0, 1], [0, 0, 0, 0, 1, 0, 0], [1, 0, 0, 0, 0, 1, 1], [0, 0, 0, 0, 1, 0, 0], [1, 0, 0, 1, 0, 1, 0], [0, 1, 1, 1, 0, 0, 1], [0, 1, 1, 0, 0, 1, 0], [0, 0, 1, 1, 0, 1, 0], [0, 0, 0, 0, 1, 0, 0], [0, 0, 0, 0, 1, 0, 0], [1, 0, 0, 1, 0, 1, 0], [1, 0, 1, 1, 0, 0, 1], [0, 0, 1, 1, 0, 1, 0], [0, 0, 0, 0, 1, 0, 0], [1, 0, 1, 1, 0, 0, 1], [0, 0, 0, 0, 1, 0, 0], [1, 0, 0, 1, 0, 1, 0], [1, 0, 0, 0, 0, 1, 1], [0, 0, 0, 0, 1, 0, 0], [0, 0, 1, 1, 0, 1, 0], [0, 1, 0, 1, 0, 1, 0], [0, 1, 0, 1, 0, 1, 0], [0, 0, 1, 1, 0, 1, 0], [0, 0, 1, 0, 0, 1, 1], [0, 0, 0, 0, 1, 0, 0], [0, 0, 1, 1, 0, 1, 0], [0, 0, 0, 0, 1, 0, 0], [0, 1, 1, 1, 0, 0, 1], [1, 0, 0, 0, 0, 1, 1], [0, 0, 0, 0, 1, 0, 0], [1, 0, 1, 1, 0, 0, 1], [0, 0, 1, 1, 0, 1, 0], [0, 0, 1, 1, 0, 1, 0], [0, 0, 0, 0, 1, 0, 0], [0, 1, 0, 1, 0, 1, 0], [0, 0, 0, 0, 1, 0, 0], [0, 0, 0, 0, 1, 0, 0], [0, 0, 0, 0, 1, 0, 0], [1, 0, 0, 1, 0, 1, 0], [0, 0, 1, 1, 0, 1, 0], [0, 0, 0, 0, 1, 0, 0], [1, 0, 0, 0, 0, 1, 1], [0, 0, 0, 0, 1, 0, 0], [0, 0, 1, 1, 0, 1, 0], [0, 1, 1, 1, 0, 0, 1], [1, 0, 1, 1, 0, 0, 1], [0, 0, 1, 0, 0, 1, 1], [0, 0, 0, 0, 1, 0, 0], [0, 1, 0, 1, 0, 1, 0], [0, 0, 0, 0, 1, 0, 0], [0, 0, 1, 1, 0, 1, 0], [0, 1, 1, 1, 0, 0, 1], [1, 0, 0, 1, 0, 1, 0], [0, 1, 0, 0, 0, 1, 1], [0, 0, 0, 0, 1, 0, 0], [0, 1, 1, 1, 0, 0, 1], [1, 0, 1, 1, 0, 0, 1], [0, 1, 0, 0, 0, 1, 1], [0, 0, 1, 1, 0, 1, 0], [0, 0, 1, 1, 0, 1, 0], [0, 0, 0, 0, 1, 0, 0], [0, 1, 1, 1, 0, 0, 1], [0, 0, 1, 1, 0, 1, 0], [0, 0, 0, 0, 1, 0, 0], [0, 0, 0, 0, 1, 0, 0], [0, 0, 1, 1, 0, 1, 0], [1, 0, 1, 1, 0, 0, 1], [0, 0, 1, 1, 0, 1, 0], [1, 0, 0, 1, 0, 1, 0], [0, 0, 0, 0, 1, 0, 0], [0, 0, 1, 1, 0, 1, 0], [0, 1, 1, 1, 0, 0, 1], [1, 0, 1, 1, 0, 0, 1], [1, 0, 0, 1, 0, 1, 0], [0, 0, 1, 0, 0, 1, 1], [0, 0, 0, 0, 1, 0, 0], [0, 0, 0, 0, 1, 0, 0], [1, 0, 1, 1, 0, 0, 1], [0, 0, 1, 1, 0, 1, 0], [0, 0, 0, 0, 1, 0, 0], [1, 0, 0, 1, 0, 1, 0], [0, 1, 1, 0, 0, 1, 0], [0, 1, 1, 1, 0, 0, 1], [0, 0, 0, 0, 1, 0, 0], [0, 1, 0, 0, 0, 1, 1], [0, 0, 1, 1, 0, 1, 0], [0, 0, 0, 0, 1, 0, 0], [0, 0, 0, 1, 0, 1, 1], [0, 0, 0, 0, 1, 0, 0], [1, 0, 1, 1, 0, 0, 1], [0, 0, 0, 0, 1, 0, 0], [0, 1, 1, 1, 0, 0, 1], [0, 1, 0, 1, 0, 1, 0], [0, 0, 0, 1, 0, 1, 1], [0, 0, 0, 0, 1, 0, 0], [0, 0, 0, 0, 1, 0, 0], [0, 0, 0, 0, 1, 0, 0], [0, 0, 1, 1, 0, 1, 0], [0, 0, 0, 0, 1, 0, 0], [1, 0, 0, 1, 0, 1, 0], [1, 0, 0, 1, 0, 1, 0], [0, 1, 1, 1, 0, 0, 1], [0, 0, 0, 0, 1, 0, 0], [0, 0, 0, 1, 0, 1, 1], [0, 0, 0, 0, 1, 0, 0], [0, 0, 0, 0, 1, 0, 0], [0, 0, 0, 0, 1, 0, 0], [0, 1, 0, 1, 0, 1, 0], [0, 0, 1, 1, 0, 1, 0], [0, 0, 0, 1, 0, 1, 1], [0, 0, 0, 0, 1, 0, 0], [0, 0, 0, 0, 1, 0, 0], [0, 1, 1, 1, 0, 0, 1], [1, 0, 1, 1, 0, 0, 1], [1, 0, 0, 1, 0, 1, 0], [0, 0, 0, 0, 1, 0, 0], [1, 0, 0, 1, 0, 1, 0], [0, 0, 1, 0, 0, 1, 1], [0, 0, 0, 0, 1, 0, 0], [0, 0, 0, 1, 0, 1, 1], [0, 0, 0, 0, 1, 0, 0], [1, 0, 0, 1, 0, 1, 0], [0, 1, 0, 1, 0, 1, 0], [1, 0, 1, 1, 0, 0, 1], [0, 0, 1, 1, 0, 1, 0], [0, 0, 0, 0, 1, 0, 0], [1, 0, 1, 1, 0, 0, 1], [0, 0, 0, 0, 1, 0, 0], [1, 0, 0, 1, 0, 1, 0], [1, 0, 0, 0, 0, 1, 1], [0, 0, 0, 0, 1, 0, 0], [0, 1, 1, 1, 0, 0, 1], [0, 0, 1, 1, 0, 1, 0], [0, 0, 0, 0, 1, 0, 0], [0, 0, 1, 1, 0, 1, 0], [0, 0, 1, 1, 0, 1, 0], [0, 1, 0, 1, 0, 1, 0], [0, 0, 1, 1, 0, 1, 0], [0, 0, 0, 0, 1, 0, 0], [0, 1, 1, 1, 0, 0, 1], [0, 0, 0, 0, 1, 0, 0], [0, 0, 0, 0, 1, 0, 0], [1, 0, 0, 1, 0, 1, 0], [0, 0, 0, 0, 1, 0, 0], [0, 0, 1, 1, 0, 1, 0], [1, 0, 0, 1, 0, 1, 0], [0, 0, 0, 1, 0, 1, 1], [0, 0, 0, 0, 1, 0, 0], [0, 0, 0, 0, 1, 0, 0], [1, 0, 1, 1, 0, 0, 1], [0, 1, 0, 1, 0, 1, 0], [0, 0, 0, 0, 1, 0, 0], [1, 0, 1, 1, 0, 0, 1], [1, 0, 0, 1, 0, 1, 0], [1, 0, 0, 0, 0, 1, 1], [0, 0, 1, 1, 0, 1, 0], [0, 0, 0, 0, 1, 0, 0], [0, 1, 0, 1, 0, 1, 0], [0, 1, 1, 1, 0, 0, 1], [0, 0, 0, 0, 1, 0, 0], [1, 0, 0, 0, 0, 1, 1], [0, 1, 0, 1, 0, 1, 0], [0, 0, 1, 1, 0, 1, 0], [1, 0, 0, 1, 0, 1, 0], [0, 0, 0, 0, 1, 0, 0], [0, 0, 1, 1, 0, 1, 0], [0, 0, 0, 0, 1, 0, 0], [0, 0, 0, 0, 1, 0, 0], [0, 1, 1, 1, 0, 0, 1], [0, 1, 0, 1, 0, 1, 0], [0, 1, 1, 1, 0, 0, 1], [0, 0, 0, 0, 1, 0, 0], [1, 0, 1, 1, 0, 0, 1], [0, 0, 1, 1, 0, 1, 0], [0, 1, 1, 1, 0, 0, 1], [1, 0, 1, 1, 0, 0, 1], [0, 0, 0, 1, 0, 1, 1], [0, 0, 0, 0, 1, 0, 0], [0, 0, 0, 0, 1, 0, 0], [0, 0, 1, 1, 0, 1, 0], [1, 0, 0, 1, 0, 1, 0], [0, 0, 1, 1, 0, 1, 0], [0, 0, 0, 0, 1, 0, 0], [0, 1, 0, 1, 0, 1, 0], [1, 0, 0, 0, 0, 1, 1], [0, 0, 0, 0, 1, 0, 0], [0, 0, 1, 1, 0, 1, 0], [1, 0, 0, 0, 0, 1, 1], [0, 0, 0, 0, 1, 0, 0], [0, 1, 1, 1, 0, 0, 1], [0, 0, 0, 0, 1, 0, 0], [1, 0, 0, 0, 0, 1, 1], [0, 1, 0, 1, 0, 1, 0], [0, 0, 0, 0, 1, 0, 0], [0, 0, 1, 1, 0, 1, 0], [0, 1, 1, 1, 0, 0, 1], [1, 0, 1, 1, 0, 0, 1], [0, 0, 1, 1, 0, 1, 0], [0, 0, 1, 0, 0, 1, 1], [0, 0, 0, 0, 1, 0, 0], [0, 0, 1, 1, 0, 1, 0], [0, 1, 0, 1, 0, 1, 0], [0, 1, 1, 1, 0, 0, 1], [0, 0, 0, 0, 1, 0, 0], [1, 0, 1, 1, 0, 0, 1], [1, 0, 0, 1, 0, 1, 0], [0, 0, 1, 1, 0, 1, 0], [1, 0, 1, 0, 0, 1, 0], [0, 0, 0, 0, 1, 0, 0], [1, 0, 1, 1, 0, 0, 1], [0, 0, 0, 0, 1, 0, 0], [0, 1, 1, 1, 0, 0, 1], [1, 0, 1, 1, 0, 0, 1], [0, 0, 0, 0, 1, 0, 0], [0, 1, 1, 1, 0, 0, 1], [0, 0, 0, 0, 1, 0, 0], [1, 0, 0, 1, 0, 1, 0], [0, 0, 0, 0, 1, 0, 0], [0, 0, 1, 1, 0, 1, 0], [0, 0, 0, 0, 1, 0, 0], [0, 0, 1, 1, 0, 1, 0], [1, 0, 0, 1, 0, 1, 0], [0, 1, 1, 1, 0, 0, 1], [1, 0, 1, 1, 0, 0, 1], [0, 0, 1, 1, 0, 1, 0], [1, 0, 0, 1, 0, 1, 0], [1, 0, 0, 0, 0, 1, 1], [0, 0, 0, 0, 1, 0, 0], [1, 0, 0, 1, 0, 1, 0], [1, 0, 0, 1, 0, 1, 0], [1, 0, 0, 0, 0, 1, 1], [0, 0, 0, 0, 1, 0, 0], [0, 0, 1, 1, 0, 1, 0], [0, 0, 1, 1, 0, 1, 0], [1, 0, 1, 1, 0, 0, 1], [0, 0, 1, 1, 0, 1, 0], [1, 0, 0, 0, 0, 1, 1], [0, 0, 0, 0, 1, 0, 0], [0, 0, 0, 1, 0, 1, 1], [0, 0, 0, 0, 1, 0, 0], [0, 0, 0, 0, 1, 0, 0], [0, 1, 0, 1, 0, 1, 0], [0, 0, 0, 0, 1, 0, 0], [0, 0, 1, 1, 0, 1, 0], [0, 1, 1, 1, 0, 0, 1], [1, 0, 1, 1, 0, 0, 1], [0, 0, 0, 0, 1, 0, 0], [0, 0, 0, 0, 1, 0, 0], [0, 0, 0, 0, 1, 0, 0], [1, 0, 1, 1, 0, 0, 1], [0, 0, 1, 1, 0, 1, 0], [0, 0, 1, 0, 0, 1, 1], [0, 0, 0, 0, 1, 0, 0]]\n"
     ]
    }
   ],
   "source": [
    "print(encoded)"
   ],
   "metadata": {
    "collapsed": false,
    "ExecuteTime": {
     "end_time": "2023-12-13T13:29:43.443785464Z",
     "start_time": "2023-12-13T13:29:43.384761478Z"
    }
   },
   "id": "4a1bb8a4c7d31465"
  },
  {
   "cell_type": "code",
   "execution_count": 23,
   "outputs": [
    {
     "data": {
      "text/plain": "                       ,        .         А        Г         Л         Ж  \\\nP(ai)  0.349633  0.02934  0.01956  0.161369  0.01956  0.056235  0.007335   \n\n              Е        У         М         Ц       Р  \nP(ai)  0.105134  0.04401  0.102689  0.007335  0.0978  ",
      "text/html": "<div>\n<style scoped>\n    .dataframe tbody tr th:only-of-type {\n        vertical-align: middle;\n    }\n\n    .dataframe tbody tr th {\n        vertical-align: top;\n    }\n\n    .dataframe thead th {\n        text-align: right;\n    }\n</style>\n<table border=\"1\" class=\"dataframe\">\n  <thead>\n    <tr style=\"text-align: right;\">\n      <th></th>\n      <th></th>\n      <th>,</th>\n      <th>.</th>\n      <th>А</th>\n      <th>Г</th>\n      <th>Л</th>\n      <th>Ж</th>\n      <th>Е</th>\n      <th>У</th>\n      <th>М</th>\n      <th>Ц</th>\n      <th>Р</th>\n    </tr>\n  </thead>\n  <tbody>\n    <tr>\n      <th>P(ai)</th>\n      <td>0.349633</td>\n      <td>0.02934</td>\n      <td>0.01956</td>\n      <td>0.161369</td>\n      <td>0.01956</td>\n      <td>0.056235</td>\n      <td>0.007335</td>\n      <td>0.105134</td>\n      <td>0.04401</td>\n      <td>0.102689</td>\n      <td>0.007335</td>\n      <td>0.0978</td>\n    </tr>\n  </tbody>\n</table>\n</div>"
     },
     "execution_count": 23,
     "metadata": {},
     "output_type": "execute_result"
    }
   ],
   "source": [
    "probabilities_df\n"
   ],
   "metadata": {
    "collapsed": false,
    "ExecuteTime": {
     "end_time": "2023-12-13T13:29:43.444056590Z",
     "start_time": "2023-12-13T13:29:43.384882793Z"
    }
   },
   "id": "43b077a534ae9509"
  },
  {
   "cell_type": "markdown",
   "source": [
    "Канальна матриця $P(a_i, b_j)$"
   ],
   "metadata": {
    "collapsed": false
   },
   "id": "10df884e848ddcaf"
  },
  {
   "cell_type": "code",
   "execution_count": 24,
   "outputs": [
    {
     "data": {
      "text/plain": "           $b_{0}$   $b_{1}$   $b_{2}$   $b_{3}$       $b_{4}$       $b_{5}$  \\\n$a_{0}$   0.886193  0.027380  0.027380  0.000847  2.738019e-02  8.468100e-04   \n$a_{1}$   0.027380  0.886193  0.000847  0.027380  8.468100e-04  2.738019e-02   \n$a_{2}$   0.027380  0.000847  0.886193  0.027380  8.468100e-04  2.619000e-05   \n$a_{3}$   0.000847  0.027380  0.027380  0.886193  2.619000e-05  8.468100e-04   \n$a_{4}$   0.027380  0.000847  0.000847  0.000026  9.143928e-01  2.738019e-02   \n$a_{5}$   0.000847  0.027380  0.000026  0.000847  2.738019e-02  9.143928e-01   \n$a_{6}$   0.000847  0.000026  0.027380  0.000847  2.738019e-02  8.468100e-04   \n$a_{7}$   0.000026  0.000847  0.000847  0.027380  8.468100e-04  2.738019e-02   \n$a_{8}$   0.027380  0.000847  0.000847  0.000026  8.468100e-04  2.619000e-05   \n$a_{9}$   0.000847  0.027380  0.000026  0.000847  2.619000e-05  8.468100e-04   \n$a_{10}$  0.000847  0.000026  0.027380  0.000847  2.619000e-05  8.100000e-07   \n$a_{11}$  0.000026  0.000847  0.000847  0.027380  8.100000e-07  2.619000e-05   \n\n               $b_{6}$       $b_{7}$       $b_{8}$       $b_{9}$  \\\n$a_{0}$   8.468100e-04  2.619000e-05  2.738019e-02  8.468100e-04   \n$a_{1}$   2.619000e-05  8.468100e-04  8.468100e-04  2.738019e-02   \n$a_{2}$   2.738019e-02  8.468100e-04  8.468100e-04  2.619000e-05   \n$a_{3}$   8.468100e-04  2.738019e-02  2.619000e-05  8.468100e-04   \n$a_{4}$   2.738019e-02  8.468100e-04  8.468100e-04  2.619000e-05   \n$a_{5}$   8.468100e-04  2.738019e-02  2.619000e-05  8.468100e-04   \n$a_{6}$   9.143928e-01  2.738019e-02  2.619000e-05  8.100000e-07   \n$a_{7}$   2.738019e-02  9.143928e-01  8.100000e-07  2.619000e-05   \n$a_{8}$   2.619000e-05  8.100000e-07  9.143928e-01  2.738019e-02   \n$a_{9}$   8.100000e-07  2.619000e-05  2.738019e-02  9.143928e-01   \n$a_{10}$  8.468100e-04  2.619000e-05  2.738019e-02  8.468100e-04   \n$a_{11}$  2.619000e-05  8.468100e-04  8.468100e-04  2.738019e-02   \n\n              $b_{10}$      $b_{11}$  \n$a_{0}$   8.468100e-04  2.619000e-05  \n$a_{1}$   2.619000e-05  8.468100e-04  \n$a_{2}$   2.738019e-02  8.468100e-04  \n$a_{3}$   8.468100e-04  2.738019e-02  \n$a_{4}$   2.619000e-05  8.100000e-07  \n$a_{5}$   8.100000e-07  2.619000e-05  \n$a_{6}$   8.468100e-04  2.619000e-05  \n$a_{7}$   2.619000e-05  8.468100e-04  \n$a_{8}$   2.738019e-02  8.468100e-04  \n$a_{9}$   8.468100e-04  2.738019e-02  \n$a_{10}$  9.143928e-01  2.738019e-02  \n$a_{11}$  2.738019e-02  9.143928e-01  ",
      "text/html": "<div>\n<style scoped>\n    .dataframe tbody tr th:only-of-type {\n        vertical-align: middle;\n    }\n\n    .dataframe tbody tr th {\n        vertical-align: top;\n    }\n\n    .dataframe thead th {\n        text-align: right;\n    }\n</style>\n<table border=\"1\" class=\"dataframe\">\n  <thead>\n    <tr style=\"text-align: right;\">\n      <th></th>\n      <th>$b_{0}$</th>\n      <th>$b_{1}$</th>\n      <th>$b_{2}$</th>\n      <th>$b_{3}$</th>\n      <th>$b_{4}$</th>\n      <th>$b_{5}$</th>\n      <th>$b_{6}$</th>\n      <th>$b_{7}$</th>\n      <th>$b_{8}$</th>\n      <th>$b_{9}$</th>\n      <th>$b_{10}$</th>\n      <th>$b_{11}$</th>\n    </tr>\n  </thead>\n  <tbody>\n    <tr>\n      <th>$a_{0}$</th>\n      <td>0.886193</td>\n      <td>0.027380</td>\n      <td>0.027380</td>\n      <td>0.000847</td>\n      <td>2.738019e-02</td>\n      <td>8.468100e-04</td>\n      <td>8.468100e-04</td>\n      <td>2.619000e-05</td>\n      <td>2.738019e-02</td>\n      <td>8.468100e-04</td>\n      <td>8.468100e-04</td>\n      <td>2.619000e-05</td>\n    </tr>\n    <tr>\n      <th>$a_{1}$</th>\n      <td>0.027380</td>\n      <td>0.886193</td>\n      <td>0.000847</td>\n      <td>0.027380</td>\n      <td>8.468100e-04</td>\n      <td>2.738019e-02</td>\n      <td>2.619000e-05</td>\n      <td>8.468100e-04</td>\n      <td>8.468100e-04</td>\n      <td>2.738019e-02</td>\n      <td>2.619000e-05</td>\n      <td>8.468100e-04</td>\n    </tr>\n    <tr>\n      <th>$a_{2}$</th>\n      <td>0.027380</td>\n      <td>0.000847</td>\n      <td>0.886193</td>\n      <td>0.027380</td>\n      <td>8.468100e-04</td>\n      <td>2.619000e-05</td>\n      <td>2.738019e-02</td>\n      <td>8.468100e-04</td>\n      <td>8.468100e-04</td>\n      <td>2.619000e-05</td>\n      <td>2.738019e-02</td>\n      <td>8.468100e-04</td>\n    </tr>\n    <tr>\n      <th>$a_{3}$</th>\n      <td>0.000847</td>\n      <td>0.027380</td>\n      <td>0.027380</td>\n      <td>0.886193</td>\n      <td>2.619000e-05</td>\n      <td>8.468100e-04</td>\n      <td>8.468100e-04</td>\n      <td>2.738019e-02</td>\n      <td>2.619000e-05</td>\n      <td>8.468100e-04</td>\n      <td>8.468100e-04</td>\n      <td>2.738019e-02</td>\n    </tr>\n    <tr>\n      <th>$a_{4}$</th>\n      <td>0.027380</td>\n      <td>0.000847</td>\n      <td>0.000847</td>\n      <td>0.000026</td>\n      <td>9.143928e-01</td>\n      <td>2.738019e-02</td>\n      <td>2.738019e-02</td>\n      <td>8.468100e-04</td>\n      <td>8.468100e-04</td>\n      <td>2.619000e-05</td>\n      <td>2.619000e-05</td>\n      <td>8.100000e-07</td>\n    </tr>\n    <tr>\n      <th>$a_{5}$</th>\n      <td>0.000847</td>\n      <td>0.027380</td>\n      <td>0.000026</td>\n      <td>0.000847</td>\n      <td>2.738019e-02</td>\n      <td>9.143928e-01</td>\n      <td>8.468100e-04</td>\n      <td>2.738019e-02</td>\n      <td>2.619000e-05</td>\n      <td>8.468100e-04</td>\n      <td>8.100000e-07</td>\n      <td>2.619000e-05</td>\n    </tr>\n    <tr>\n      <th>$a_{6}$</th>\n      <td>0.000847</td>\n      <td>0.000026</td>\n      <td>0.027380</td>\n      <td>0.000847</td>\n      <td>2.738019e-02</td>\n      <td>8.468100e-04</td>\n      <td>9.143928e-01</td>\n      <td>2.738019e-02</td>\n      <td>2.619000e-05</td>\n      <td>8.100000e-07</td>\n      <td>8.468100e-04</td>\n      <td>2.619000e-05</td>\n    </tr>\n    <tr>\n      <th>$a_{7}$</th>\n      <td>0.000026</td>\n      <td>0.000847</td>\n      <td>0.000847</td>\n      <td>0.027380</td>\n      <td>8.468100e-04</td>\n      <td>2.738019e-02</td>\n      <td>2.738019e-02</td>\n      <td>9.143928e-01</td>\n      <td>8.100000e-07</td>\n      <td>2.619000e-05</td>\n      <td>2.619000e-05</td>\n      <td>8.468100e-04</td>\n    </tr>\n    <tr>\n      <th>$a_{8}$</th>\n      <td>0.027380</td>\n      <td>0.000847</td>\n      <td>0.000847</td>\n      <td>0.000026</td>\n      <td>8.468100e-04</td>\n      <td>2.619000e-05</td>\n      <td>2.619000e-05</td>\n      <td>8.100000e-07</td>\n      <td>9.143928e-01</td>\n      <td>2.738019e-02</td>\n      <td>2.738019e-02</td>\n      <td>8.468100e-04</td>\n    </tr>\n    <tr>\n      <th>$a_{9}$</th>\n      <td>0.000847</td>\n      <td>0.027380</td>\n      <td>0.000026</td>\n      <td>0.000847</td>\n      <td>2.619000e-05</td>\n      <td>8.468100e-04</td>\n      <td>8.100000e-07</td>\n      <td>2.619000e-05</td>\n      <td>2.738019e-02</td>\n      <td>9.143928e-01</td>\n      <td>8.468100e-04</td>\n      <td>2.738019e-02</td>\n    </tr>\n    <tr>\n      <th>$a_{10}$</th>\n      <td>0.000847</td>\n      <td>0.000026</td>\n      <td>0.027380</td>\n      <td>0.000847</td>\n      <td>2.619000e-05</td>\n      <td>8.100000e-07</td>\n      <td>8.468100e-04</td>\n      <td>2.619000e-05</td>\n      <td>2.738019e-02</td>\n      <td>8.468100e-04</td>\n      <td>9.143928e-01</td>\n      <td>2.738019e-02</td>\n    </tr>\n    <tr>\n      <th>$a_{11}$</th>\n      <td>0.000026</td>\n      <td>0.000847</td>\n      <td>0.000847</td>\n      <td>0.027380</td>\n      <td>8.100000e-07</td>\n      <td>2.619000e-05</td>\n      <td>2.619000e-05</td>\n      <td>8.468100e-04</td>\n      <td>8.468100e-04</td>\n      <td>2.738019e-02</td>\n      <td>2.738019e-02</td>\n      <td>9.143928e-01</td>\n    </tr>\n  </tbody>\n</table>\n</div>"
     },
     "execution_count": 24,
     "metadata": {},
     "output_type": "execute_result"
    }
   ],
   "source": [
    "pe = 3e-2\n",
    "codewords_list = list(codewords.values())\n",
    "channel_matrix = build_channel_matrix(codewords_list, pe)\n",
    "\n",
    "latex_columns = [f\"$b_{{{i}}}$\" for i in range(len(codewords_list))]\n",
    "index = [f\"$a_{{{i}}}$\" for i in range(len(codewords_list))]\n",
    "channel_matrix_df = pd.DataFrame(channel_matrix, columns=latex_columns, index=index)\n",
    "save_latex(channel_matrix_df, \"channel_matrix_p_bj_ai\")\n",
    "channel_matrix_df"
   ],
   "metadata": {
    "collapsed": false,
    "ExecuteTime": {
     "end_time": "2023-12-13T13:29:43.575200136Z",
     "start_time": "2023-12-13T13:29:43.388413932Z"
    }
   },
   "id": "8abbd280b0cec355"
  },
  {
   "cell_type": "markdown",
   "source": [
    "Ймовірність невиявлення помилок $P_{\\text{нп}}(a_i)$"
   ],
   "metadata": {
    "collapsed": false
   },
   "id": "3533f018b85b47c4"
  },
  {
   "cell_type": "code",
   "execution_count": 25,
   "outputs": [],
   "source": [
    "string_codes = [\"\".join([str(c) for c in code]) for code in codewords_list]"
   ],
   "metadata": {
    "collapsed": false,
    "ExecuteTime": {
     "end_time": "2023-12-13T13:29:43.844884538Z",
     "start_time": "2023-12-13T13:29:43.431210561Z"
    }
   },
   "id": "b41210b1085655f0"
  },
  {
   "cell_type": "code",
   "execution_count": 26,
   "outputs": [
    {
     "data": {
      "text/plain": "           0\n0   0.113807\n1   0.113807\n2   0.113807\n3   0.113807\n4   0.085607\n5   0.085607\n6   0.085607\n7   0.085607\n8   0.085607\n9   0.085607\n10  0.085607\n11  0.085607",
      "text/html": "<div>\n<style scoped>\n    .dataframe tbody tr th:only-of-type {\n        vertical-align: middle;\n    }\n\n    .dataframe tbody tr th {\n        vertical-align: top;\n    }\n\n    .dataframe thead th {\n        text-align: right;\n    }\n</style>\n<table border=\"1\" class=\"dataframe\">\n  <thead>\n    <tr style=\"text-align: right;\">\n      <th></th>\n      <th>0</th>\n    </tr>\n  </thead>\n  <tbody>\n    <tr>\n      <th>0</th>\n      <td>0.113807</td>\n    </tr>\n    <tr>\n      <th>1</th>\n      <td>0.113807</td>\n    </tr>\n    <tr>\n      <th>2</th>\n      <td>0.113807</td>\n    </tr>\n    <tr>\n      <th>3</th>\n      <td>0.113807</td>\n    </tr>\n    <tr>\n      <th>4</th>\n      <td>0.085607</td>\n    </tr>\n    <tr>\n      <th>5</th>\n      <td>0.085607</td>\n    </tr>\n    <tr>\n      <th>6</th>\n      <td>0.085607</td>\n    </tr>\n    <tr>\n      <th>7</th>\n      <td>0.085607</td>\n    </tr>\n    <tr>\n      <th>8</th>\n      <td>0.085607</td>\n    </tr>\n    <tr>\n      <th>9</th>\n      <td>0.085607</td>\n    </tr>\n    <tr>\n      <th>10</th>\n      <td>0.085607</td>\n    </tr>\n    <tr>\n      <th>11</th>\n      <td>0.085607</td>\n    </tr>\n  </tbody>\n</table>\n</div>"
     },
     "execution_count": 26,
     "metadata": {},
     "output_type": "execute_result"
    }
   ],
   "source": [
    "undetected_error_probabilities = get_undetected_error_probabilities(channel_matrix)\n",
    "pd.DataFrame(undetected_error_probabilities)"
   ],
   "metadata": {
    "collapsed": false,
    "ExecuteTime": {
     "end_time": "2023-12-13T13:29:43.869383765Z",
     "start_time": "2023-12-13T13:29:43.568449493Z"
    }
   },
   "id": "a37ff94d63512659"
  },
  {
   "cell_type": "markdown",
   "source": [
    "Ймовірність невиявлення помилок $P(a_i)P_{\\text{нп}}(a_i)$"
   ],
   "metadata": {
    "collapsed": false
   },
   "id": "5192e653f3f6ecc3"
  },
  {
   "cell_type": "code",
   "execution_count": 27,
   "outputs": [
    {
     "data": {
      "text/plain": "array([0.03979078, 0.00333909, 0.00222606, 0.01836497, 0.00167447,\n       0.0048141 , 0.00062793, 0.00900027, 0.00376755, 0.00879096,\n       0.00062793, 0.00837234])"
     },
     "execution_count": 27,
     "metadata": {},
     "output_type": "execute_result"
    }
   ],
   "source": [
    "undetected_error_over_occurrence_probabilities = np.multiply(undetected_error_probabilities,\n",
    "                                                             list(occurrence_probabilities.values()))\n",
    "undetected_error_over_occurrence_probabilities"
   ],
   "metadata": {
    "collapsed": false,
    "ExecuteTime": {
     "end_time": "2023-12-13T13:29:43.869627304Z",
     "start_time": "2023-12-13T13:29:43.611262186Z"
    }
   },
   "id": "f6192bd390e38c3c"
  },
  {
   "cell_type": "code",
   "execution_count": 28,
   "outputs": [
    {
     "data": {
      "text/plain": "          A   Код     P(ai)   Pнп(ai)  P(ai)Pнп(ai)\n$a_{0}$      0000  0.349633  0.113807      0.039791\n$a_{1}$   ,  0001  0.029340  0.113807      0.003339\n$a_{2}$   .  0010  0.019560  0.113807      0.002226\n$a_{3}$   А  0011  0.161369  0.113807      0.018365\n$a_{4}$   Г  0100  0.019560  0.085607      0.001674\n$a_{5}$   Л  0101  0.056235  0.085607      0.004814\n$a_{6}$   Ж  0110  0.007335  0.085607      0.000628\n$a_{7}$   Е  0111  0.105134  0.085607      0.009000\n$a_{8}$   У  1000  0.044010  0.085607      0.003768\n$a_{9}$   М  1001  0.102689  0.085607      0.008791\n$a_{10}$  Ц  1010  0.007335  0.085607      0.000628\n$a_{11}$  Р  1011  0.097800  0.085607      0.008372",
      "text/html": "<div>\n<style scoped>\n    .dataframe tbody tr th:only-of-type {\n        vertical-align: middle;\n    }\n\n    .dataframe tbody tr th {\n        vertical-align: top;\n    }\n\n    .dataframe thead th {\n        text-align: right;\n    }\n</style>\n<table border=\"1\" class=\"dataframe\">\n  <thead>\n    <tr style=\"text-align: right;\">\n      <th></th>\n      <th>A</th>\n      <th>Код</th>\n      <th>P(ai)</th>\n      <th>Pнп(ai)</th>\n      <th>P(ai)Pнп(ai)</th>\n    </tr>\n  </thead>\n  <tbody>\n    <tr>\n      <th>$a_{0}$</th>\n      <td></td>\n      <td>0000</td>\n      <td>0.349633</td>\n      <td>0.113807</td>\n      <td>0.039791</td>\n    </tr>\n    <tr>\n      <th>$a_{1}$</th>\n      <td>,</td>\n      <td>0001</td>\n      <td>0.029340</td>\n      <td>0.113807</td>\n      <td>0.003339</td>\n    </tr>\n    <tr>\n      <th>$a_{2}$</th>\n      <td>.</td>\n      <td>0010</td>\n      <td>0.019560</td>\n      <td>0.113807</td>\n      <td>0.002226</td>\n    </tr>\n    <tr>\n      <th>$a_{3}$</th>\n      <td>А</td>\n      <td>0011</td>\n      <td>0.161369</td>\n      <td>0.113807</td>\n      <td>0.018365</td>\n    </tr>\n    <tr>\n      <th>$a_{4}$</th>\n      <td>Г</td>\n      <td>0100</td>\n      <td>0.019560</td>\n      <td>0.085607</td>\n      <td>0.001674</td>\n    </tr>\n    <tr>\n      <th>$a_{5}$</th>\n      <td>Л</td>\n      <td>0101</td>\n      <td>0.056235</td>\n      <td>0.085607</td>\n      <td>0.004814</td>\n    </tr>\n    <tr>\n      <th>$a_{6}$</th>\n      <td>Ж</td>\n      <td>0110</td>\n      <td>0.007335</td>\n      <td>0.085607</td>\n      <td>0.000628</td>\n    </tr>\n    <tr>\n      <th>$a_{7}$</th>\n      <td>Е</td>\n      <td>0111</td>\n      <td>0.105134</td>\n      <td>0.085607</td>\n      <td>0.009000</td>\n    </tr>\n    <tr>\n      <th>$a_{8}$</th>\n      <td>У</td>\n      <td>1000</td>\n      <td>0.044010</td>\n      <td>0.085607</td>\n      <td>0.003768</td>\n    </tr>\n    <tr>\n      <th>$a_{9}$</th>\n      <td>М</td>\n      <td>1001</td>\n      <td>0.102689</td>\n      <td>0.085607</td>\n      <td>0.008791</td>\n    </tr>\n    <tr>\n      <th>$a_{10}$</th>\n      <td>Ц</td>\n      <td>1010</td>\n      <td>0.007335</td>\n      <td>0.085607</td>\n      <td>0.000628</td>\n    </tr>\n    <tr>\n      <th>$a_{11}$</th>\n      <td>Р</td>\n      <td>1011</td>\n      <td>0.097800</td>\n      <td>0.085607</td>\n      <td>0.008372</td>\n    </tr>\n  </tbody>\n</table>\n</div>"
     },
     "execution_count": 28,
     "metadata": {},
     "output_type": "execute_result"
    }
   ],
   "source": [
    "errors_totals = {\n",
    "    \"A\": alphabet,\n",
    "    \"Код\": string_codes,\n",
    "    \"P(ai)\": occurrence_probabilities.values(),\n",
    "    \"Pнп(ai)\": undetected_error_probabilities,\n",
    "    \"P(ai)Pнп(ai)\": list(undetected_error_over_occurrence_probabilities)}\n",
    "errors_totals_df = pd.DataFrame(errors_totals, index=[f\"$a_{{{i}}}$\" for i in range(len(alphabet))])\n",
    "latex_columns = {\"symbol\": \"\", \"P(ai)\": \"$P(a_i)$\",\n",
    "                 \"Pнп(ai)\": r\"$P_{\\text{нп}}(a_i)$\",\n",
    "                 \"A\": \"$A$\",\n",
    "                 \"P(ai)Pнп(ai)\": r\"$P(a_i)P_{\\text{нп}}(a_i)$\"}\n",
    "save_latex(errors_totals_df, \"errors_probability\", columns=latex_columns)\n",
    "errors_totals_df"
   ],
   "metadata": {
    "collapsed": false,
    "ExecuteTime": {
     "end_time": "2023-12-13T13:29:43.869905833Z",
     "start_time": "2023-12-13T13:29:43.611394816Z"
    }
   },
   "id": "a1c02d5b53f3a0ae"
  },
  {
   "cell_type": "code",
   "execution_count": 29,
   "outputs": [
    {
     "data": {
      "text/plain": "0.10139643205378966"
     },
     "execution_count": 29,
     "metadata": {},
     "output_type": "execute_result"
    }
   ],
   "source": [
    "undetected_error_probability = sum(undetected_error_over_occurrence_probabilities)\n",
    "undetected_error_probability"
   ],
   "metadata": {
    "collapsed": false,
    "ExecuteTime": {
     "end_time": "2023-12-13T13:29:43.871407575Z",
     "start_time": "2023-12-13T13:29:43.611478696Z"
    }
   },
   "id": "519f779b04ccacc3"
  },
  {
   "cell_type": "code",
   "execution_count": 30,
   "outputs": [
    {
     "data": {
      "text/plain": "          A   Код     P(ai)   Pнп(ai)  P(ai)Pнп(ai)\n$a_{2}$   .  0010  0.019560  0.113807      0.002226\n$a_{1}$   ,  0001  0.029340  0.113807      0.003339\n$a_{3}$   А  0011  0.161369  0.113807      0.018365\n$a_{0}$      0000  0.349633  0.113807      0.039791\n$a_{6}$   Ж  0110  0.007335  0.085607      0.000628\n$a_{10}$  Ц  1010  0.007335  0.085607      0.000628\n$a_{4}$   Г  0100  0.019560  0.085607      0.001674\n$a_{8}$   У  1000  0.044010  0.085607      0.003768\n$a_{5}$   Л  0101  0.056235  0.085607      0.004814\n$a_{11}$  Р  1011  0.097800  0.085607      0.008372\n$a_{9}$   М  1001  0.102689  0.085607      0.008791\n$a_{7}$   Е  0111  0.105134  0.085607      0.009000",
      "text/html": "<div>\n<style scoped>\n    .dataframe tbody tr th:only-of-type {\n        vertical-align: middle;\n    }\n\n    .dataframe tbody tr th {\n        vertical-align: top;\n    }\n\n    .dataframe thead th {\n        text-align: right;\n    }\n</style>\n<table border=\"1\" class=\"dataframe\">\n  <thead>\n    <tr style=\"text-align: right;\">\n      <th></th>\n      <th>A</th>\n      <th>Код</th>\n      <th>P(ai)</th>\n      <th>Pнп(ai)</th>\n      <th>P(ai)Pнп(ai)</th>\n    </tr>\n  </thead>\n  <tbody>\n    <tr>\n      <th>$a_{2}$</th>\n      <td>.</td>\n      <td>0010</td>\n      <td>0.019560</td>\n      <td>0.113807</td>\n      <td>0.002226</td>\n    </tr>\n    <tr>\n      <th>$a_{1}$</th>\n      <td>,</td>\n      <td>0001</td>\n      <td>0.029340</td>\n      <td>0.113807</td>\n      <td>0.003339</td>\n    </tr>\n    <tr>\n      <th>$a_{3}$</th>\n      <td>А</td>\n      <td>0011</td>\n      <td>0.161369</td>\n      <td>0.113807</td>\n      <td>0.018365</td>\n    </tr>\n    <tr>\n      <th>$a_{0}$</th>\n      <td></td>\n      <td>0000</td>\n      <td>0.349633</td>\n      <td>0.113807</td>\n      <td>0.039791</td>\n    </tr>\n    <tr>\n      <th>$a_{6}$</th>\n      <td>Ж</td>\n      <td>0110</td>\n      <td>0.007335</td>\n      <td>0.085607</td>\n      <td>0.000628</td>\n    </tr>\n    <tr>\n      <th>$a_{10}$</th>\n      <td>Ц</td>\n      <td>1010</td>\n      <td>0.007335</td>\n      <td>0.085607</td>\n      <td>0.000628</td>\n    </tr>\n    <tr>\n      <th>$a_{4}$</th>\n      <td>Г</td>\n      <td>0100</td>\n      <td>0.019560</td>\n      <td>0.085607</td>\n      <td>0.001674</td>\n    </tr>\n    <tr>\n      <th>$a_{8}$</th>\n      <td>У</td>\n      <td>1000</td>\n      <td>0.044010</td>\n      <td>0.085607</td>\n      <td>0.003768</td>\n    </tr>\n    <tr>\n      <th>$a_{5}$</th>\n      <td>Л</td>\n      <td>0101</td>\n      <td>0.056235</td>\n      <td>0.085607</td>\n      <td>0.004814</td>\n    </tr>\n    <tr>\n      <th>$a_{11}$</th>\n      <td>Р</td>\n      <td>1011</td>\n      <td>0.097800</td>\n      <td>0.085607</td>\n      <td>0.008372</td>\n    </tr>\n    <tr>\n      <th>$a_{9}$</th>\n      <td>М</td>\n      <td>1001</td>\n      <td>0.102689</td>\n      <td>0.085607</td>\n      <td>0.008791</td>\n    </tr>\n    <tr>\n      <th>$a_{7}$</th>\n      <td>Е</td>\n      <td>0111</td>\n      <td>0.105134</td>\n      <td>0.085607</td>\n      <td>0.009000</td>\n    </tr>\n  </tbody>\n</table>\n</div>"
     },
     "execution_count": 30,
     "metadata": {},
     "output_type": "execute_result"
    }
   ],
   "source": [
    "min_df = errors_totals_df.sort_values(by=[\"Pнп(ai)\", \"P(ai)\"], ascending=[False, True])\n",
    "save_latex(min_df, \"minimization\", columns=latex_columns)\n",
    "min_df\n"
   ],
   "metadata": {
    "collapsed": false,
    "ExecuteTime": {
     "end_time": "2023-12-13T13:29:43.872163963Z",
     "start_time": "2023-12-13T13:29:43.761229812Z"
    }
   },
   "id": "784d27f8f11f7a75"
  },
  {
   "cell_type": "code",
   "execution_count": 31,
   "outputs": [
    {
     "data": {
      "text/plain": "194"
     },
     "execution_count": 31,
     "metadata": {},
     "output_type": "execute_result"
    }
   ],
   "source": [
    "from functools import cmp_to_key\n",
    "\n",
    "codes_min = min_df[[\"Код\"]].to_dict()[\"Код\"]\n",
    "codes_min_expression = \"$F_{min}(A)=\" + \", \".join(\n",
    "    [\"(\" + c.strip(\"$\") + f\": {codes_min[c]})\" for c in sorted(codes_min)]) + \")$\"\n",
    "\n",
    "open(\"./latex_tables/codes_min_expression.tex\", \"w\").write(codes_min_expression)"
   ],
   "metadata": {
    "collapsed": false,
    "ExecuteTime": {
     "end_time": "2023-12-13T13:29:43.872320479Z",
     "start_time": "2023-12-13T13:29:43.791579420Z"
    }
   },
   "id": "df5e74b96a041395"
  },
  {
   "cell_type": "code",
   "execution_count": 32,
   "outputs": [
    {
     "data": {
      "text/plain": "['0010',\n '0001',\n '0011',\n '0000',\n '0110',\n '1010',\n '0100',\n '1000',\n '0101',\n '1011',\n '1001',\n '0111']"
     },
     "execution_count": 32,
     "metadata": {},
     "output_type": "execute_result"
    }
   ],
   "source": [
    "min_codes = min_df[\"Код\"].tolist()\n",
    "distance_matrix_min = build_distance_matrix(min_codes)\n",
    "min_codes"
   ],
   "metadata": {
    "collapsed": false,
    "ExecuteTime": {
     "end_time": "2023-12-13T13:29:43.872464982Z",
     "start_time": "2023-12-13T13:29:43.791695776Z"
    }
   },
   "id": "9b658812ce8b48b0"
  },
  {
   "cell_type": "code",
   "execution_count": 33,
   "outputs": [
    {
     "name": "stdout",
     "output_type": "stream",
     "text": [
      "0.10139643205378969\n"
     ]
    },
    {
     "data": {
      "text/plain": "2.7755575615628914e-17"
     },
     "execution_count": 33,
     "metadata": {},
     "output_type": "execute_result"
    }
   ],
   "source": [
    "channel_matrix_min = build_channel_matrix(min_codes, pe)\n",
    "np.array(channel_matrix_min)\n",
    "undetected_error_probabilities_min = get_undetected_error_probabilities(channel_matrix_min)\n",
    "np.array(undetected_error_probabilities_min)\n",
    "error_probabilities_min = np.multiply(undetected_error_probabilities_min, list(occurrence_probabilities.values()))\n",
    "undetected_error_probability_min = error_probabilities_min.sum()\n",
    "print(undetected_error_probability_min)\n",
    "undetected_error_probability_min - undetected_error_probability"
   ],
   "metadata": {
    "collapsed": false,
    "ExecuteTime": {
     "end_time": "2023-12-13T13:29:43.872663822Z",
     "start_time": "2023-12-13T13:29:43.791791181Z"
    }
   },
   "id": "5eb928b67c79fa53"
  },
  {
   "cell_type": "code",
   "execution_count": 34,
   "outputs": [
    {
     "name": "stdout",
     "output_type": "stream",
     "text": [
      "0.10139643205378969\n",
      "0.10139643205378966\n"
     ]
    }
   ],
   "source": [
    "print(error_probabilities_min.sum())\n",
    "print(sum(error_probabilities_min))"
   ],
   "metadata": {
    "collapsed": false,
    "ExecuteTime": {
     "end_time": "2023-12-13T13:29:44.218504718Z",
     "start_time": "2023-12-13T13:29:43.793183131Z"
    }
   },
   "id": "fb7900aa977924e8"
  },
  {
   "cell_type": "code",
   "execution_count": 35,
   "outputs": [
    {
     "data": {
      "text/plain": "          0010      0001      0011      0000      0110      1010      0100  \\\n0010  0.154470  0.008642  0.142123  0.142123  0.142123  0.142123  0.008642   \n0001  0.008642  0.154470  0.142123  0.142123  0.000399  0.000399  0.008642   \n0011  0.142123  0.142123  0.154470  0.008642  0.008642  0.008642  0.000399   \n0000  0.142123  0.142123  0.008642  0.154470  0.008642  0.008642  0.142123   \n0110  0.142123  0.000399  0.008642  0.008642  0.118061  0.008642  0.142123   \n1010  0.142123  0.000399  0.008642  0.008642  0.008642  0.118061  0.000399   \n0100  0.008642  0.008642  0.000399  0.142123  0.142123  0.000399  0.118061   \n1000  0.008642  0.008642  0.000399  0.142123  0.000399  0.142123  0.008642   \n0101  0.000399  0.142123  0.008642  0.008642  0.008642  0.000016  0.142123   \n1011  0.008642  0.008642  0.142123  0.000399  0.000399  0.142123  0.000016   \n1001  0.000399  0.142123  0.008642  0.008642  0.000016  0.008642  0.000399   \n0111  0.008642  0.008642  0.142123  0.000399  0.142123  0.000399  0.008642   \n\n          1000      0101      1011      1001      0111  \n0010  0.008642  0.000399  0.008642  0.000399  0.008642  \n0001  0.008642  0.142123  0.008642  0.142123  0.008642  \n0011  0.000399  0.008642  0.142123  0.008642  0.142123  \n0000  0.142123  0.008642  0.000399  0.008642  0.000399  \n0110  0.000399  0.008642  0.000399  0.000016  0.142123  \n1010  0.142123  0.000016  0.142123  0.008642  0.000399  \n0100  0.008642  0.142123  0.000016  0.000399  0.008642  \n1000  0.118061  0.000399  0.008642  0.142123  0.000016  \n0101  0.000399  0.118061  0.000399  0.008642  0.142123  \n1011  0.008642  0.000399  0.118061  0.142123  0.008642  \n1001  0.142123  0.008642  0.142123  0.118061  0.000399  \n0111  0.000016  0.142123  0.008642  0.000399  0.118061  ",
      "text/html": "<div>\n<style scoped>\n    .dataframe tbody tr th:only-of-type {\n        vertical-align: middle;\n    }\n\n    .dataframe tbody tr th {\n        vertical-align: top;\n    }\n\n    .dataframe thead th {\n        text-align: right;\n    }\n</style>\n<table border=\"1\" class=\"dataframe\">\n  <thead>\n    <tr style=\"text-align: right;\">\n      <th></th>\n      <th>0010</th>\n      <th>0001</th>\n      <th>0011</th>\n      <th>0000</th>\n      <th>0110</th>\n      <th>1010</th>\n      <th>0100</th>\n      <th>1000</th>\n      <th>0101</th>\n      <th>1011</th>\n      <th>1001</th>\n      <th>0111</th>\n    </tr>\n  </thead>\n  <tbody>\n    <tr>\n      <th>0010</th>\n      <td>0.154470</td>\n      <td>0.008642</td>\n      <td>0.142123</td>\n      <td>0.142123</td>\n      <td>0.142123</td>\n      <td>0.142123</td>\n      <td>0.008642</td>\n      <td>0.008642</td>\n      <td>0.000399</td>\n      <td>0.008642</td>\n      <td>0.000399</td>\n      <td>0.008642</td>\n    </tr>\n    <tr>\n      <th>0001</th>\n      <td>0.008642</td>\n      <td>0.154470</td>\n      <td>0.142123</td>\n      <td>0.142123</td>\n      <td>0.000399</td>\n      <td>0.000399</td>\n      <td>0.008642</td>\n      <td>0.008642</td>\n      <td>0.142123</td>\n      <td>0.008642</td>\n      <td>0.142123</td>\n      <td>0.008642</td>\n    </tr>\n    <tr>\n      <th>0011</th>\n      <td>0.142123</td>\n      <td>0.142123</td>\n      <td>0.154470</td>\n      <td>0.008642</td>\n      <td>0.008642</td>\n      <td>0.008642</td>\n      <td>0.000399</td>\n      <td>0.000399</td>\n      <td>0.008642</td>\n      <td>0.142123</td>\n      <td>0.008642</td>\n      <td>0.142123</td>\n    </tr>\n    <tr>\n      <th>0000</th>\n      <td>0.142123</td>\n      <td>0.142123</td>\n      <td>0.008642</td>\n      <td>0.154470</td>\n      <td>0.008642</td>\n      <td>0.008642</td>\n      <td>0.142123</td>\n      <td>0.142123</td>\n      <td>0.008642</td>\n      <td>0.000399</td>\n      <td>0.008642</td>\n      <td>0.000399</td>\n    </tr>\n    <tr>\n      <th>0110</th>\n      <td>0.142123</td>\n      <td>0.000399</td>\n      <td>0.008642</td>\n      <td>0.008642</td>\n      <td>0.118061</td>\n      <td>0.008642</td>\n      <td>0.142123</td>\n      <td>0.000399</td>\n      <td>0.008642</td>\n      <td>0.000399</td>\n      <td>0.000016</td>\n      <td>0.142123</td>\n    </tr>\n    <tr>\n      <th>1010</th>\n      <td>0.142123</td>\n      <td>0.000399</td>\n      <td>0.008642</td>\n      <td>0.008642</td>\n      <td>0.008642</td>\n      <td>0.118061</td>\n      <td>0.000399</td>\n      <td>0.142123</td>\n      <td>0.000016</td>\n      <td>0.142123</td>\n      <td>0.008642</td>\n      <td>0.000399</td>\n    </tr>\n    <tr>\n      <th>0100</th>\n      <td>0.008642</td>\n      <td>0.008642</td>\n      <td>0.000399</td>\n      <td>0.142123</td>\n      <td>0.142123</td>\n      <td>0.000399</td>\n      <td>0.118061</td>\n      <td>0.008642</td>\n      <td>0.142123</td>\n      <td>0.000016</td>\n      <td>0.000399</td>\n      <td>0.008642</td>\n    </tr>\n    <tr>\n      <th>1000</th>\n      <td>0.008642</td>\n      <td>0.008642</td>\n      <td>0.000399</td>\n      <td>0.142123</td>\n      <td>0.000399</td>\n      <td>0.142123</td>\n      <td>0.008642</td>\n      <td>0.118061</td>\n      <td>0.000399</td>\n      <td>0.008642</td>\n      <td>0.142123</td>\n      <td>0.000016</td>\n    </tr>\n    <tr>\n      <th>0101</th>\n      <td>0.000399</td>\n      <td>0.142123</td>\n      <td>0.008642</td>\n      <td>0.008642</td>\n      <td>0.008642</td>\n      <td>0.000016</td>\n      <td>0.142123</td>\n      <td>0.000399</td>\n      <td>0.118061</td>\n      <td>0.000399</td>\n      <td>0.008642</td>\n      <td>0.142123</td>\n    </tr>\n    <tr>\n      <th>1011</th>\n      <td>0.008642</td>\n      <td>0.008642</td>\n      <td>0.142123</td>\n      <td>0.000399</td>\n      <td>0.000399</td>\n      <td>0.142123</td>\n      <td>0.000016</td>\n      <td>0.008642</td>\n      <td>0.000399</td>\n      <td>0.118061</td>\n      <td>0.142123</td>\n      <td>0.008642</td>\n    </tr>\n    <tr>\n      <th>1001</th>\n      <td>0.000399</td>\n      <td>0.142123</td>\n      <td>0.008642</td>\n      <td>0.008642</td>\n      <td>0.000016</td>\n      <td>0.008642</td>\n      <td>0.000399</td>\n      <td>0.142123</td>\n      <td>0.008642</td>\n      <td>0.142123</td>\n      <td>0.118061</td>\n      <td>0.000399</td>\n    </tr>\n    <tr>\n      <th>0111</th>\n      <td>0.008642</td>\n      <td>0.008642</td>\n      <td>0.142123</td>\n      <td>0.000399</td>\n      <td>0.142123</td>\n      <td>0.000399</td>\n      <td>0.008642</td>\n      <td>0.000016</td>\n      <td>0.142123</td>\n      <td>0.008642</td>\n      <td>0.000399</td>\n      <td>0.118061</td>\n    </tr>\n  </tbody>\n</table>\n</div>"
     },
     "execution_count": 35,
     "metadata": {},
     "output_type": "execute_result"
    }
   ],
   "source": [
    "conditional_entropy_matrix = build_conditional_entropy_matrix(channel_matrix_min)\n",
    "conditional_entropy_matrix_df = pd.DataFrame(conditional_entropy_matrix, columns=min_codes, index=min_codes)\n",
    "save_latex(conditional_entropy_matrix_df, \"conditional_entropy\")\n",
    "conditional_entropy_matrix_df"
   ],
   "metadata": {
    "collapsed": false,
    "ExecuteTime": {
     "end_time": "2023-12-13T13:29:44.219199576Z",
     "start_time": "2023-12-13T13:29:43.967341282Z"
    }
   },
   "id": "7266c296a4f7271b"
  },
  {
   "cell_type": "code",
   "execution_count": 36,
   "outputs": [
    {
     "data": {
      "text/plain": "      $H(B/a_i)$\n0010    0.766971\n0001    0.766971\n0011    0.766971\n0000    0.766971\n0110    0.580211\n1010    0.580211\n0100    0.580211\n1000    0.580211\n0101    0.580211\n1011    0.580211\n1001    0.580211\n0111    0.580211",
      "text/html": "<div>\n<style scoped>\n    .dataframe tbody tr th:only-of-type {\n        vertical-align: middle;\n    }\n\n    .dataframe tbody tr th {\n        vertical-align: top;\n    }\n\n    .dataframe thead th {\n        text-align: right;\n    }\n</style>\n<table border=\"1\" class=\"dataframe\">\n  <thead>\n    <tr style=\"text-align: right;\">\n      <th></th>\n      <th>$H(B/a_i)$</th>\n    </tr>\n  </thead>\n  <tbody>\n    <tr>\n      <th>0010</th>\n      <td>0.766971</td>\n    </tr>\n    <tr>\n      <th>0001</th>\n      <td>0.766971</td>\n    </tr>\n    <tr>\n      <th>0011</th>\n      <td>0.766971</td>\n    </tr>\n    <tr>\n      <th>0000</th>\n      <td>0.766971</td>\n    </tr>\n    <tr>\n      <th>0110</th>\n      <td>0.580211</td>\n    </tr>\n    <tr>\n      <th>1010</th>\n      <td>0.580211</td>\n    </tr>\n    <tr>\n      <th>0100</th>\n      <td>0.580211</td>\n    </tr>\n    <tr>\n      <th>1000</th>\n      <td>0.580211</td>\n    </tr>\n    <tr>\n      <th>0101</th>\n      <td>0.580211</td>\n    </tr>\n    <tr>\n      <th>1011</th>\n      <td>0.580211</td>\n    </tr>\n    <tr>\n      <th>1001</th>\n      <td>0.580211</td>\n    </tr>\n    <tr>\n      <th>0111</th>\n      <td>0.580211</td>\n    </tr>\n  </tbody>\n</table>\n</div>"
     },
     "execution_count": 36,
     "metadata": {},
     "output_type": "execute_result"
    }
   ],
   "source": [
    "entropy_sums = np.sum(conditional_entropy_matrix, axis=1)\n",
    "entropy_sums_df = pd.DataFrame(entropy_sums, index=min_codes, columns=[\"$H(B/a_i)$\"])\n",
    "save_latex(entropy_sums_df, \"entropy_sums\")\n",
    "entropy_sums_df"
   ],
   "metadata": {
    "collapsed": false,
    "ExecuteTime": {
     "end_time": "2023-12-13T13:29:44.220303707Z",
     "start_time": "2023-12-13T13:29:44.007892144Z"
    }
   },
   "id": "a28ce41d1a9ba6a4"
  },
  {
   "cell_type": "code",
   "execution_count": 37,
   "outputs": [
    {
     "data": {
      "text/plain": "18"
     },
     "execution_count": 37,
     "metadata": {},
     "output_type": "execute_result"
    }
   ],
   "source": [
    "occurrence_probabilities_list = list(occurrence_probabilities.values())\n",
    "entropy_over_occurrence = np.multiply(occurrence_probabilities_list, entropy_sums)\n",
    "total_conditional_entropy = sum(entropy_over_occurrence)\n",
    "total_conditional_entropy\n",
    "\n",
    "open(\"./latex_tables/total_conditional_entropy.tex\", \"w\").write(str(total_conditional_entropy))\n"
   ],
   "metadata": {
    "collapsed": false,
    "ExecuteTime": {
     "end_time": "2023-12-13T13:29:44.364733077Z",
     "start_time": "2023-12-13T13:29:44.157940927Z"
    }
   },
   "id": "574233e32d93b896"
  },
  {
   "cell_type": "code",
   "execution_count": 38,
   "outputs": [
    {
     "data": {
      "text/plain": "      symbol  code     P(ai)   Pнп(ai)  P(ai)Pнп(ai)   entropy  \\\n0    $a_{0}$  0010  0.349633  0.113807      0.039791  0.766971   \n1    $a_{1}$  0001  0.029340  0.113807      0.003339  0.766971   \n2    $a_{2}$  0011  0.019560  0.113807      0.002226  0.766971   \n3    $a_{3}$  0000  0.161369  0.113807      0.018365  0.766971   \n4    $a_{4}$  0110  0.019560  0.085607      0.001674  0.580211   \n5    $a_{5}$  1010  0.056235  0.085607      0.004814  0.580211   \n6    $a_{6}$  0100  0.007335  0.085607      0.000628  0.580211   \n7    $a_{7}$  1000  0.105134  0.085607      0.009000  0.580211   \n8    $a_{8}$  0101  0.044010  0.085607      0.003768  0.580211   \n9    $a_{9}$  1011  0.102689  0.085607      0.008791  0.580211   \n10  $a_{10}$  1001  0.007335  0.085607      0.000628  0.580211   \n11  $a_{11}$  0111  0.097800  0.085607      0.008372  0.580211   \n\n    entropy_over_occurrence  \n0                  0.268158  \n1                  0.022503  \n2                  0.015002  \n3                  0.123765  \n4                  0.011349  \n5                  0.032628  \n6                  0.004256  \n7                  0.061000  \n8                  0.025535  \n9                  0.059582  \n10                 0.004256  \n11                 0.056744  ",
      "text/html": "<div>\n<style scoped>\n    .dataframe tbody tr th:only-of-type {\n        vertical-align: middle;\n    }\n\n    .dataframe tbody tr th {\n        vertical-align: top;\n    }\n\n    .dataframe thead th {\n        text-align: right;\n    }\n</style>\n<table border=\"1\" class=\"dataframe\">\n  <thead>\n    <tr style=\"text-align: right;\">\n      <th></th>\n      <th>symbol</th>\n      <th>code</th>\n      <th>P(ai)</th>\n      <th>Pнп(ai)</th>\n      <th>P(ai)Pнп(ai)</th>\n      <th>entropy</th>\n      <th>entropy_over_occurrence</th>\n    </tr>\n  </thead>\n  <tbody>\n    <tr>\n      <th>0</th>\n      <td>$a_{0}$</td>\n      <td>0010</td>\n      <td>0.349633</td>\n      <td>0.113807</td>\n      <td>0.039791</td>\n      <td>0.766971</td>\n      <td>0.268158</td>\n    </tr>\n    <tr>\n      <th>1</th>\n      <td>$a_{1}$</td>\n      <td>0001</td>\n      <td>0.029340</td>\n      <td>0.113807</td>\n      <td>0.003339</td>\n      <td>0.766971</td>\n      <td>0.022503</td>\n    </tr>\n    <tr>\n      <th>2</th>\n      <td>$a_{2}$</td>\n      <td>0011</td>\n      <td>0.019560</td>\n      <td>0.113807</td>\n      <td>0.002226</td>\n      <td>0.766971</td>\n      <td>0.015002</td>\n    </tr>\n    <tr>\n      <th>3</th>\n      <td>$a_{3}$</td>\n      <td>0000</td>\n      <td>0.161369</td>\n      <td>0.113807</td>\n      <td>0.018365</td>\n      <td>0.766971</td>\n      <td>0.123765</td>\n    </tr>\n    <tr>\n      <th>4</th>\n      <td>$a_{4}$</td>\n      <td>0110</td>\n      <td>0.019560</td>\n      <td>0.085607</td>\n      <td>0.001674</td>\n      <td>0.580211</td>\n      <td>0.011349</td>\n    </tr>\n    <tr>\n      <th>5</th>\n      <td>$a_{5}$</td>\n      <td>1010</td>\n      <td>0.056235</td>\n      <td>0.085607</td>\n      <td>0.004814</td>\n      <td>0.580211</td>\n      <td>0.032628</td>\n    </tr>\n    <tr>\n      <th>6</th>\n      <td>$a_{6}$</td>\n      <td>0100</td>\n      <td>0.007335</td>\n      <td>0.085607</td>\n      <td>0.000628</td>\n      <td>0.580211</td>\n      <td>0.004256</td>\n    </tr>\n    <tr>\n      <th>7</th>\n      <td>$a_{7}$</td>\n      <td>1000</td>\n      <td>0.105134</td>\n      <td>0.085607</td>\n      <td>0.009000</td>\n      <td>0.580211</td>\n      <td>0.061000</td>\n    </tr>\n    <tr>\n      <th>8</th>\n      <td>$a_{8}$</td>\n      <td>0101</td>\n      <td>0.044010</td>\n      <td>0.085607</td>\n      <td>0.003768</td>\n      <td>0.580211</td>\n      <td>0.025535</td>\n    </tr>\n    <tr>\n      <th>9</th>\n      <td>$a_{9}$</td>\n      <td>1011</td>\n      <td>0.102689</td>\n      <td>0.085607</td>\n      <td>0.008791</td>\n      <td>0.580211</td>\n      <td>0.059582</td>\n    </tr>\n    <tr>\n      <th>10</th>\n      <td>$a_{10}$</td>\n      <td>1001</td>\n      <td>0.007335</td>\n      <td>0.085607</td>\n      <td>0.000628</td>\n      <td>0.580211</td>\n      <td>0.004256</td>\n    </tr>\n    <tr>\n      <th>11</th>\n      <td>$a_{11}$</td>\n      <td>0111</td>\n      <td>0.097800</td>\n      <td>0.085607</td>\n      <td>0.008372</td>\n      <td>0.580211</td>\n      <td>0.056744</td>\n    </tr>\n  </tbody>\n</table>\n</div>"
     },
     "execution_count": 38,
     "metadata": {},
     "output_type": "execute_result"
    }
   ],
   "source": [
    "final_table = {\"symbol\": [f\"$a_{{{i}}}$\" for i in range(len(min_codes))],\n",
    "               \"code\": min_codes,\n",
    "               \"P(ai)\": occurrence_probabilities.values(),\n",
    "               \"Pнп(ai)\": undetected_error_probabilities_min,\n",
    "               \"P(ai)Pнп(ai)\": error_probabilities_min,\n",
    "               \"entropy\": entropy_sums,\n",
    "               \"entropy_over_occurrence\": entropy_over_occurrence}\n",
    "final_df = pd.DataFrame(final_table)\n",
    "save_latex(final_df, \"total_entropy\", columns={\"symbol\": \"\", \"P(ai)\": \"$P(a_i)$\",\n",
    "                                               \"Pнп(ai)\": r\"$P_{\\text{нп}}(a_i)$\",\n",
    "                                               \"A\": \"$A$\",\n",
    "                                               \"P(ai)Pнп(ai)\": r\"$P(a_i)P_{\\text{нп}}(a_i)$\",\n",
    "                                               \"entropy\": \"$H(B/a_i)$\",\n",
    "                                               \"entropy_over_occurrence\": \"$P(a_i)H(B/a_i)$\"})\n",
    "final_df"
   ],
   "metadata": {
    "collapsed": false,
    "ExecuteTime": {
     "end_time": "2023-12-13T13:29:44.365379394Z",
     "start_time": "2023-12-13T13:29:44.184042398Z"
    }
   },
   "id": "f9b438458e610b7c"
  },
  {
   "cell_type": "code",
   "execution_count": 39,
   "outputs": [
    {
     "data": {
      "text/plain": "          $P(a_i)$  $P_{\\text{нп}}(a_i)$  $P(a_i)P_{\\text{нп}}(a_i)$\n$a_{0}$   0.349633              0.113807                    0.039791\n$a_{1}$   0.029340              0.113807                    0.003339\n$a_{2}$   0.019560              0.113807                    0.002226\n$a_{3}$   0.161369              0.113807                    0.018365\n$a_{4}$   0.019560              0.085607                    0.001674\n$a_{5}$   0.056235              0.085607                    0.004814\n$a_{6}$   0.007335              0.085607                    0.000628\n$a_{7}$   0.105134              0.085607                    0.009000\n$a_{8}$   0.044010              0.085607                    0.003768\n$a_{9}$   0.102689              0.085607                    0.008791\n$a_{10}$  0.007335              0.085607                    0.000628\n$a_{11}$  0.097800              0.085607                    0.008372",
      "text/html": "<div>\n<style scoped>\n    .dataframe tbody tr th:only-of-type {\n        vertical-align: middle;\n    }\n\n    .dataframe tbody tr th {\n        vertical-align: top;\n    }\n\n    .dataframe thead th {\n        text-align: right;\n    }\n</style>\n<table border=\"1\" class=\"dataframe\">\n  <thead>\n    <tr style=\"text-align: right;\">\n      <th></th>\n      <th>$P(a_i)$</th>\n      <th>$P_{\\text{нп}}(a_i)$</th>\n      <th>$P(a_i)P_{\\text{нп}}(a_i)$</th>\n    </tr>\n  </thead>\n  <tbody>\n    <tr>\n      <th>$a_{0}$</th>\n      <td>0.349633</td>\n      <td>0.113807</td>\n      <td>0.039791</td>\n    </tr>\n    <tr>\n      <th>$a_{1}$</th>\n      <td>0.029340</td>\n      <td>0.113807</td>\n      <td>0.003339</td>\n    </tr>\n    <tr>\n      <th>$a_{2}$</th>\n      <td>0.019560</td>\n      <td>0.113807</td>\n      <td>0.002226</td>\n    </tr>\n    <tr>\n      <th>$a_{3}$</th>\n      <td>0.161369</td>\n      <td>0.113807</td>\n      <td>0.018365</td>\n    </tr>\n    <tr>\n      <th>$a_{4}$</th>\n      <td>0.019560</td>\n      <td>0.085607</td>\n      <td>0.001674</td>\n    </tr>\n    <tr>\n      <th>$a_{5}$</th>\n      <td>0.056235</td>\n      <td>0.085607</td>\n      <td>0.004814</td>\n    </tr>\n    <tr>\n      <th>$a_{6}$</th>\n      <td>0.007335</td>\n      <td>0.085607</td>\n      <td>0.000628</td>\n    </tr>\n    <tr>\n      <th>$a_{7}$</th>\n      <td>0.105134</td>\n      <td>0.085607</td>\n      <td>0.009000</td>\n    </tr>\n    <tr>\n      <th>$a_{8}$</th>\n      <td>0.044010</td>\n      <td>0.085607</td>\n      <td>0.003768</td>\n    </tr>\n    <tr>\n      <th>$a_{9}$</th>\n      <td>0.102689</td>\n      <td>0.085607</td>\n      <td>0.008791</td>\n    </tr>\n    <tr>\n      <th>$a_{10}$</th>\n      <td>0.007335</td>\n      <td>0.085607</td>\n      <td>0.000628</td>\n    </tr>\n    <tr>\n      <th>$a_{11}$</th>\n      <td>0.097800</td>\n      <td>0.085607</td>\n      <td>0.008372</td>\n    </tr>\n  </tbody>\n</table>\n</div>"
     },
     "execution_count": 39,
     "metadata": {},
     "output_type": "execute_result"
    }
   ],
   "source": [
    "probabilities_list = list(occurrence_probabilities.values())\n",
    "errors_probability = [\n",
    "    {\"$P(a_i)$\": probabilities_list[i],\n",
    "     r\"$P_{\\text{нп}}(a_i)$\": error_not_detecting_prob,\n",
    "     r\"$P(a_i)P_{\\text{нп}}(a_i)$\": probabilities_list[i] * error_not_detecting_prob} for i, error_not_detecting_prob in\n",
    "    enumerate(undetected_error_probabilities)]\n",
    "errors_probability_df = pd.DataFrame(errors_probability,\n",
    "                                     index=[f\"$a_{{{i}}}$\" for i in range(len(undetected_error_probabilities))])\n",
    "# Add a new row with the total at the bottom\n",
    "with open('./latex_tables/errors_probability.tex', 'w') as tf:\n",
    "    tf.write(errors_probability_df.to_latex())\n",
    "errors_probability_df"
   ],
   "metadata": {
    "collapsed": false,
    "ExecuteTime": {
     "end_time": "2023-12-13T13:29:44.365846218Z",
     "start_time": "2023-12-13T13:29:44.184191720Z"
    }
   },
   "id": "b2a0f1146671ae2a"
  },
  {
   "cell_type": "code",
   "execution_count": 40,
   "outputs": [],
   "source": [
    "errors_probability_sum = errors_probability_df[r\"$P(a_i)P_{\\text{нп}}(a_i)$\"].sum()\n",
    "with open('./latex_tables/errors_probability_total.tex', 'w') as tf:\n",
    "    tf.write(str(errors_probability_sum))"
   ],
   "metadata": {
    "collapsed": false,
    "ExecuteTime": {
     "end_time": "2023-12-13T13:29:44.609715501Z",
     "start_time": "2023-12-13T13:29:44.185376728Z"
    }
   },
   "id": "a7bbd691ede26db"
  },
  {
   "cell_type": "code",
   "execution_count": 41,
   "outputs": [
    {
     "ename": "NameError",
     "evalue": "name 'channel_matrix_p_bj_ai' is not defined",
     "output_type": "error",
     "traceback": [
      "\u001B[0;31m---------------------------------------------------------------------------\u001B[0m",
      "\u001B[0;31mNameError\u001B[0m                                 Traceback (most recent call last)",
      "Cell \u001B[0;32mIn[41], line 3\u001B[0m\n\u001B[1;32m      1\u001B[0m \u001B[38;5;28;01mfrom\u001B[39;00m \u001B[38;5;21;01mcopy\u001B[39;00m \u001B[38;5;28;01mimport\u001B[39;00m deepcopy\n\u001B[0;32m----> 3\u001B[0m channel_matrix \u001B[38;5;241m=\u001B[39m deepcopy(\u001B[43mchannel_matrix_p_bj_ai\u001B[49m)\n\u001B[1;32m      4\u001B[0m \u001B[38;5;28;01mfor\u001B[39;00m i \u001B[38;5;129;01min\u001B[39;00m \u001B[38;5;28mrange\u001B[39m(\u001B[38;5;28mlen\u001B[39m(channel_matrix_p_bj_ai)):\n\u001B[1;32m      5\u001B[0m     \u001B[38;5;28;01mfor\u001B[39;00m j \u001B[38;5;129;01min\u001B[39;00m \u001B[38;5;28mrange\u001B[39m(\u001B[38;5;28mlen\u001B[39m(channel_matrix_p_bj_ai)):\n",
      "\u001B[0;31mNameError\u001B[0m: name 'channel_matrix_p_bj_ai' is not defined"
     ]
    }
   ],
   "source": [
    "from copy import deepcopy\n",
    "\n",
    "channel_matrix = deepcopy(channel_matrix_p_bj_ai)\n",
    "for i in range(len(channel_matrix_p_bj_ai)):\n",
    "    for j in range(len(channel_matrix_p_bj_ai)):\n",
    "        channel_matrix[i][j] = channel_matrix_p_bj_ai[i][j] * probabilities_list[i]\n",
    "latex_columns = [\"\".join(str(c) for c in code) for code in codewords_list]\n",
    "index = [\"\".join(str(c) for c in code) for code in codewords_list]\n",
    "channel_matrix_df = pd.DataFrame(channel_matrix, columns=latex_columns, index=index)\n",
    "bold_header = [fr\"\\textbf{{{col}}}\" for col in latex_columns]\n",
    "index = [fr\"\\textbf{{{col}}}\" for col in index]\n",
    "with open('./latex_tables/channel_matrix.tex', 'w') as tf:\n",
    "    tf.write(channel_matrix_df.to_latex())\n",
    "channel_matrix_df"
   ],
   "metadata": {
    "collapsed": false,
    "ExecuteTime": {
     "end_time": "2023-12-13T13:29:44.648325245Z",
     "start_time": "2023-12-13T13:29:44.360265846Z"
    }
   },
   "id": "4c5e57b899b0829d"
  },
  {
   "cell_type": "code",
   "execution_count": null,
   "outputs": [],
   "source": [
    "# Calculate the sum for each column\n",
    "column_sums = channel_matrix_df.sum()\n",
    "\n",
    "# Create a new DataFrame with a single row containing the column sums\n",
    "sums_df = pd.DataFrame([column_sums.values], columns=column_sums.index, index=[\"$p(b_j)$\"])\n",
    "with open('./latex_tables/sums.tex', 'w') as tf:\n",
    "    tf.write(sums_df.to_latex())\n",
    "sums_df\n",
    "\n"
   ],
   "metadata": {
    "collapsed": false,
    "ExecuteTime": {
     "start_time": "2023-12-13T13:29:44.571205979Z"
    }
   },
   "id": "e9e32106e3bf5f00"
  },
  {
   "cell_type": "code",
   "execution_count": null,
   "outputs": [],
   "source": [],
   "metadata": {
    "collapsed": false,
    "ExecuteTime": {
     "start_time": "2023-12-13T13:29:44.571285180Z"
    }
   },
   "id": "e28b38296dc64adb"
  },
  {
   "cell_type": "code",
   "execution_count": null,
   "outputs": [],
   "source": [
    "channel_matrix_p_ai_bj = deepcopy(channel_matrix)\n",
    "column_sums_list = list(column_sums)\n",
    "for i, row in enumerate(channel_matrix_p_ai_bj):\n",
    "    for j, col in enumerate(row):\n",
    "        channel_matrix_p_ai_bj[i][j] = channel_matrix_p_ai_bj[i][j] / column_sums_list[j]\n",
    "\n",
    "latex_columns = [\"\".join(str(c) for c in code) for code in codewords_list]\n",
    "index = [\"\".join(str(c) for c in code) for code in codewords_list]\n",
    "channel_matrix_p_ai_bj_df = pd.DataFrame(channel_matrix_p_ai_bj, index=index, columns=latex_columns)\n",
    "with open('./latex_tables/channel_matrix_p_ai_bj.tex', 'w') as tf:\n",
    "    tf.write(channel_matrix_p_ai_bj_df.to_latex())\n",
    "channel_matrix_p_ai_bj_df\n",
    "\n"
   ],
   "metadata": {
    "collapsed": false,
    "ExecuteTime": {
     "start_time": "2023-12-13T13:29:44.571315701Z"
    }
   },
   "id": "b661838bb29d439f"
  },
  {
   "cell_type": "code",
   "execution_count": 62,
   "outputs": [],
   "source": [
    "nodes = []\n",
    "for symbol, prob in zip(alphabet, probabilities_list):\n",
    "    n = node()\n",
    "    n.pro = prob\n",
    "    n.sym = symbol\n",
    "    n.top = -1\n",
    "    nodes.append(n)\n",
    "n = len(nodes)\n",
    "sortByProbability(n, nodes)\n",
    "\n",
    "# Find the shannon code\n",
    "shannon(0, n - 1, nodes)\n",
    "\n",
    "#display(n, p)\n",
    "shannon_data = [\n",
    "    {\"$a_i$\": f\"$a_{{{alphabet.index(nod.sym)}}}$\", \"$A$\": nod.sym, \"$P(a_i)$\": nod.pro, \"Кодове слово\": nod.code()} for\n",
    "    i, nod in\n",
    "    enumerate(nodes)]\n",
    "shannon_data_df = pd.DataFrame(shannon_data)\n",
    "shannon_data_df = shannon_data_df.sort_values(by=[\"$P(a_i)$\", \"Кодове слово\"], ascending=[False, True])\n",
    "shannon_data_df.set_index(\"$a_i$\", inplace=True)\n",
    "save_latex(shannon_data_df, \"shannon_encoding\")\n",
    "\n"
   ],
   "metadata": {
    "collapsed": false,
    "ExecuteTime": {
     "end_time": "2023-12-13T13:56:20.651180056Z",
     "start_time": "2023-12-13T13:56:20.607394306Z"
    }
   },
   "id": "f8c5e85d62d8ba8"
  },
  {
   "cell_type": "code",
   "execution_count": 75,
   "outputs": [
    {
     "data": {
      "text/plain": "'0.007334963325183374 * 7 \\\\ + 0.007334963325183374 * 7 \\\\ + 0.019559902200488997 * 6 \\\\ + 0.019559902200488997 * 5 \\\\ + 0.029339853300733496 * 5 \\\\ + 0.044009779951100246 * 5 \\\\ + 0.05623471882640587 * 4 \\\\ + 0.097799511002445 * 4 \\\\ + 0.10268948655256724 * 3 \\\\ + 0.10513447432762836 * 3 \\\\ + 0.16136919315403422 * 2 \\\\ + 0.34963325183374083 * 2 \\\\'"
     },
     "execution_count": 75,
     "metadata": {},
     "output_type": "execute_result"
    }
   ],
   "source": [
    "probabilities_list\n",
    "\n",
    "shannon_encoding_data = [{\"$A$\": symbol, \"$a_i$\": f\"a_{{{index}}}\", \"$P(a_i)$\": probabilities_list[index]} for\n",
    "                         index, symbol in enumerate(alphabet)]\n",
    "pd.DataFrame(shannon_encoding_data)\n",
    "L_expression = \" + \".join([f\"{d['$P(a_i)$']} * {len(d['Кодове слово'])} \\\\\" for d in shannon_data])\n",
    "L_expression"
   ],
   "metadata": {
    "collapsed": false,
    "ExecuteTime": {
     "end_time": "2023-12-13T14:13:39.236157184Z",
     "start_time": "2023-12-13T14:13:39.227560037Z"
    }
   },
   "id": "9f1e5a633eaf7ba8"
  },
  {
   "cell_type": "code",
   "execution_count": 84,
   "outputs": [],
   "source": [
    "compression_entropy = sum([d[\"$P(a_i)$\"] * math.log2(d[\"$P(a_i)$\"]) for d in shannon_data]) * -1"
   ],
   "metadata": {
    "collapsed": false,
    "ExecuteTime": {
     "end_time": "2023-12-13T14:50:59.174102405Z",
     "start_time": "2023-12-13T14:50:59.130695566Z"
    }
   },
   "id": "9f594b1222c076c5"
  },
  {
   "cell_type": "code",
   "execution_count": 86,
   "outputs": [
    {
     "data": {
      "text/plain": "12"
     },
     "execution_count": 86,
     "metadata": {},
     "output_type": "execute_result"
    }
   ],
   "source": [
    "len(alphabet)"
   ],
   "metadata": {
    "collapsed": false,
    "ExecuteTime": {
     "end_time": "2023-12-13T14:51:25.531027902Z",
     "start_time": "2023-12-13T14:51:25.485782330Z"
    }
   },
   "id": "b1315eba3f9c5bd9"
  },
  {
   "cell_type": "code",
   "execution_count": 91,
   "outputs": [],
   "source": [
    "shannon_map = {}\n",
    "for node in nodes:\n",
    "    shannon_map[node.sym] = node.code()"
   ],
   "metadata": {
    "collapsed": false,
    "ExecuteTime": {
     "end_time": "2023-12-13T14:54:32.424065985Z",
     "start_time": "2023-12-13T14:54:32.383194041Z"
    }
   },
   "id": "9c9c55e6864564a3"
  },
  {
   "cell_type": "code",
   "execution_count": 85,
   "outputs": [
    {
     "data": {
      "text/plain": "1.249615055442236"
     },
     "execution_count": 85,
     "metadata": {},
     "output_type": "execute_result"
    }
   ],
   "source": [
    "math.log2(len(alphabet)) / compression_entropy"
   ],
   "metadata": {
    "collapsed": false,
    "ExecuteTime": {
     "end_time": "2023-12-13T14:51:01.726236026Z",
     "start_time": "2023-12-13T14:51:01.718168304Z"
    }
   },
   "id": "72fc34af7db1787d"
  },
  {
   "cell_type": "code",
   "execution_count": 98,
   "outputs": [
    {
     "data": {
      "text/plain": "   Симовл Код Шенона\n0                 00\n1       Е        100\n2       А         01\n3                 00\n4       М        101\n5       Л       1101\n6                 00\n7                 00\n8                 00\n9       А         01\n10      Е        100\n11      Р       1100\n12      ,      11101\n13                00\n14                00\n15                00\n16      А         01\n17      Л       1101\n18                00\n19                00",
      "text/html": "<div>\n<style scoped>\n    .dataframe tbody tr th:only-of-type {\n        vertical-align: middle;\n    }\n\n    .dataframe tbody tr th {\n        vertical-align: top;\n    }\n\n    .dataframe thead th {\n        text-align: right;\n    }\n</style>\n<table border=\"1\" class=\"dataframe\">\n  <thead>\n    <tr style=\"text-align: right;\">\n      <th></th>\n      <th>Симовл</th>\n      <th>Код Шенона</th>\n    </tr>\n  </thead>\n  <tbody>\n    <tr>\n      <th>0</th>\n      <td></td>\n      <td>00</td>\n    </tr>\n    <tr>\n      <th>1</th>\n      <td>Е</td>\n      <td>100</td>\n    </tr>\n    <tr>\n      <th>2</th>\n      <td>А</td>\n      <td>01</td>\n    </tr>\n    <tr>\n      <th>3</th>\n      <td></td>\n      <td>00</td>\n    </tr>\n    <tr>\n      <th>4</th>\n      <td>М</td>\n      <td>101</td>\n    </tr>\n    <tr>\n      <th>5</th>\n      <td>Л</td>\n      <td>1101</td>\n    </tr>\n    <tr>\n      <th>6</th>\n      <td></td>\n      <td>00</td>\n    </tr>\n    <tr>\n      <th>7</th>\n      <td></td>\n      <td>00</td>\n    </tr>\n    <tr>\n      <th>8</th>\n      <td></td>\n      <td>00</td>\n    </tr>\n    <tr>\n      <th>9</th>\n      <td>А</td>\n      <td>01</td>\n    </tr>\n    <tr>\n      <th>10</th>\n      <td>Е</td>\n      <td>100</td>\n    </tr>\n    <tr>\n      <th>11</th>\n      <td>Р</td>\n      <td>1100</td>\n    </tr>\n    <tr>\n      <th>12</th>\n      <td>,</td>\n      <td>11101</td>\n    </tr>\n    <tr>\n      <th>13</th>\n      <td></td>\n      <td>00</td>\n    </tr>\n    <tr>\n      <th>14</th>\n      <td></td>\n      <td>00</td>\n    </tr>\n    <tr>\n      <th>15</th>\n      <td></td>\n      <td>00</td>\n    </tr>\n    <tr>\n      <th>16</th>\n      <td>А</td>\n      <td>01</td>\n    </tr>\n    <tr>\n      <th>17</th>\n      <td>Л</td>\n      <td>1101</td>\n    </tr>\n    <tr>\n      <th>18</th>\n      <td></td>\n      <td>00</td>\n    </tr>\n    <tr>\n      <th>19</th>\n      <td></td>\n      <td>00</td>\n    </tr>\n  </tbody>\n</table>\n</div>"
     },
     "execution_count": 98,
     "metadata": {},
     "output_type": "execute_result"
    }
   ],
   "source": [
    "compressed = []\n",
    "for c in filtered_text[:20]:\n",
    "    compressed.append({\"Симовл\": c, \"Код Шенона\": shannon_map[c]})\n",
    "compressed\n",
    "compressed_df = pd.DataFrame(compressed)\n",
    "save_latex(compressed_df, \"compressed\")\n",
    "compressed_df"
   ],
   "metadata": {
    "collapsed": false,
    "ExecuteTime": {
     "end_time": "2023-12-13T14:56:11.650862373Z",
     "start_time": "2023-12-13T14:56:11.645142594Z"
    }
   },
   "id": "6f48908233529108"
  },
  {
   "cell_type": "code",
   "execution_count": 100,
   "outputs": [
    {
     "data": {
      "text/plain": "52"
     },
     "execution_count": 100,
     "metadata": {},
     "output_type": "execute_result"
    }
   ],
   "source": [
    "compressed_size =sum([len(c[\"Код Шенона\"]) for c in compressed])\n",
    "compressed_size"
   ],
   "metadata": {
    "collapsed": false,
    "ExecuteTime": {
     "end_time": "2023-12-13T14:59:05.240285205Z",
     "start_time": "2023-12-13T14:59:05.232987554Z"
    }
   },
   "id": "fd3eb9b6e4005d4b"
  },
  {
   "cell_type": "code",
   "execution_count": 101,
   "outputs": [
    {
     "data": {
      "text/plain": "1.5384615384615385"
     },
     "execution_count": 101,
     "metadata": {},
     "output_type": "execute_result"
    }
   ],
   "source": [
    "4*20/52"
   ],
   "metadata": {
    "collapsed": false,
    "ExecuteTime": {
     "end_time": "2023-12-13T15:04:36.054293741Z",
     "start_time": "2023-12-13T15:04:36.010030941Z"
    }
   },
   "id": "fbb63a16599262f0"
  }
 ],
 "metadata": {
  "kernelspec": {
   "display_name": "Python 3",
   "language": "python",
   "name": "python3"
  },
  "language_info": {
   "codemirror_mode": {
    "name": "ipython",
    "version": 2
   },
   "file_extension": ".py",
   "mimetype": "text/x-python",
   "name": "python",
   "nbconvert_exporter": "python",
   "pygments_lexer": "ipython2",
   "version": "2.7.6"
  }
 },
 "nbformat": 4,
 "nbformat_minor": 5
}
