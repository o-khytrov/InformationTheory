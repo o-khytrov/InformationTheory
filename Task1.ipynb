{
 "cells": [
  {
   "cell_type": "code",
   "execution_count": 80,
   "outputs": [],
   "source": [
    "import math\n",
    "import pandas as pd\n",
    "import numpy as np"
   ],
   "metadata": {
    "collapsed": false,
    "ExecuteTime": {
     "end_time": "2023-12-10T18:05:07.937129444Z",
     "start_time": "2023-12-10T18:05:07.887472860Z"
    }
   },
   "id": "c0d1743fecf84628"
  },
  {
   "cell_type": "code",
   "execution_count": 81,
   "id": "initial_id",
   "metadata": {
    "collapsed": true,
    "ExecuteTime": {
     "end_time": "2023-12-10T18:05:07.941891325Z",
     "start_time": "2023-12-10T18:05:07.890516355Z"
    }
   },
   "outputs": [],
   "source": [
    "alphabet = [' ', ',', '.', 'А', 'Г', 'Л', 'Ж', 'Е', 'У', 'М', 'Ц', 'Р']"
   ]
  },
  {
   "cell_type": "code",
   "execution_count": 82,
   "outputs": [],
   "source": [
    "input_text = \"\"\"\n",
    "4 Веста (символ: ⚶) — астероїд, один із найбільших об'єктів у поясі астероїдів (середній діаметр 525 км). Відкритий 29 березня 1807 року німецьким астроном Генріхом Ольберсом і названий на честь Вести, богині дому та вогнища в римській міфології. Вважається, що Веста є другим об'єктом у поясі астероїдів за масою та за об'ємом після карликової планети Церери, хоч об'єм Вести (у межах похибки вимірювань) дорівнює об'єму Паллади. На Весту припадає близько 9 % маси поясу астероїдів. Для наземного спостерігача Веста є найяскравішим астероїдом. Її яскравість може досягати 5,1 зоряної величини, і в такі моменти її, хоч і слабко, видно неозброєним оком. 1,2 мільярда років тому Веста зазнала зіткнень з іншими об'єктами, що спричинили формування численних уламків та двох величезних кратерів, які займають більшу частину південної півкулі астероїда. Найбільше інформації про поверхню Вести відомо завдяки американському космічному апарату «Dawn», який дослідив астероїд в 2011—2012 роках. \n",
    "\"\"\".upper()"
   ],
   "metadata": {
    "collapsed": false,
    "ExecuteTime": {
     "end_time": "2023-12-10T18:05:07.944134084Z",
     "start_time": "2023-12-10T18:05:07.894242203Z"
    }
   },
   "id": "7507b5a193d7c0c2"
  },
  {
   "cell_type": "code",
   "execution_count": 83,
   "outputs": [
    {
     "name": "stdout",
     "output_type": "stream",
     "text": [
      "\n",
      "4 ВЕСТА (СИМВОЛ: ⚶) — АСТЕРОЇД, ОДИН ІЗ НАЙБІЛЬШИХ ОБ'ЄКТІВ У ПОЯСІ АСТЕРОЇДІВ (СЕРЕДНІЙ ДІАМЕТР 525 КМ). ВІДКРИТИЙ 29 БЕРЕЗНЯ 1807 РОКУ НІМЕЦЬКИМ АСТРОНОМ ГЕНРІХОМ ОЛЬБЕРСОМ І НАЗВАНИЙ НА ЧЕСТЬ ВЕСТИ, БОГИНІ ДОМУ ТА ВОГНИЩА В РИМСЬКІЙ МІФОЛОГІЇ. ВВАЖАЄТЬСЯ, ЩО ВЕСТА Є ДРУГИМ ОБ'ЄКТОМ У ПОЯСІ АСТЕРОЇДІВ ЗА МАСОЮ ТА ЗА ОБ'ЄМОМ ПІСЛЯ КАРЛИКОВОЇ ПЛАНЕТИ ЦЕРЕРИ, ХОЧ ОБ'ЄМ ВЕСТИ (У МЕЖАХ ПОХИБКИ ВИМІРЮВАНЬ) ДОРІВНЮЄ ОБ'ЄМУ ПАЛЛАДИ. НА ВЕСТУ ПРИПАДАЄ БЛИЗЬКО 9 % МАСИ ПОЯСУ АСТЕРОЇДІВ. ДЛЯ НАЗЕМНОГО СПОСТЕРІГАЧА ВЕСТА Є НАЙЯСКРАВІШИМ АСТЕРОЇДОМ. ЇЇ ЯСКРАВІСТЬ МОЖЕ ДОСЯГАТИ 5,1 ЗОРЯНОЇ ВЕЛИЧИНИ, І В ТАКІ МОМЕНТИ ЇЇ, ХОЧ І СЛАБКО, ВИДНО НЕОЗБРОЄНИМ ОКОМ. 1,2 МІЛЬЯРДА РОКІВ ТОМУ ВЕСТА ЗАЗНАЛА ЗІТКНЕНЬ З ІНШИМИ ОБ'ЄКТАМИ, ЩО СПРИЧИНИЛИ ФОРМУВАННЯ ЧИСЛЕННИХ УЛАМКІВ ТА ДВОХ ВЕЛИЧЕЗНИХ КРАТЕРІВ, ЯКІ ЗАЙМАЮТЬ БІЛЬШУ ЧАСТИНУ ПІВДЕННОЇ ПІВКУЛІ АСТЕРОЇДА. НАЙБІЛЬШЕ ІНФОРМАЦІЇ ПРО ПОВЕРХНЮ ВЕСТИ ВІДОМО ЗАВДЯКИ АМЕРИКАНСЬКОМУ КОСМІЧНОМУ АПАРАТУ «DAWN», ЯКИЙ ДОСЛІДИВ АСТЕРОЇД В 2011—2012 РОКАХ. \n"
     ]
    }
   ],
   "source": [
    "print(input_text)"
   ],
   "metadata": {
    "collapsed": false,
    "ExecuteTime": {
     "end_time": "2023-12-10T18:05:07.990835174Z",
     "start_time": "2023-12-10T18:05:07.903376178Z"
    }
   },
   "id": "d77047bc6e6df3f5"
  },
  {
   "cell_type": "code",
   "execution_count": 84,
   "outputs": [
    {
     "name": "stdout",
     "output_type": "stream",
     "text": [
      " ЕА МЛ   АЕР,   АЛ  У  АЕР ЕРЕ АМЕР  М. Р  ЕРЕ  РУ МЕЦМ АРМ ГЕРМ ЛЕРМ  АА А Е Е, Г МУ А ГА  РМ МЛГ. АЖА,  ЕА  РУГМ М У  АЕР А МА А А ММ Л АРЛ ЛАЕ ЦЕРЕР,  М Е У МЕЖА  МРА Р МУ АЛЛА. А ЕУ РАА Л   МА У АЕР. Л АЕМГ ЕРГАА ЕА  АРАМ АЕРМ.  РА МЖЕ ГА , Р ЕЛ,   А ММЕ ,   ЛА,  ЕРМ М. , МЛРА Р МУ ЕА ААЛА Е  М АМ,  РЛ РМУА ЛЕ УЛАМ А  ЕЛЕ РАЕР,  АМА ЛУ АУ Е УЛ АЕРА. АЛЕ РМАЦ Р ЕР Е М А АМЕРАМУ ММУ ААРАУ ,  Л АЕР   РА. \n"
     ]
    }
   ],
   "source": [
    "filtered_text = \"\"\n",
    "for c in input_text:\n",
    "    if c in alphabet:\n",
    "        filtered_text += c;\n",
    "print(filtered_text)"
   ],
   "metadata": {
    "collapsed": false,
    "ExecuteTime": {
     "end_time": "2023-12-10T18:05:08.009223183Z",
     "start_time": "2023-12-10T18:05:07.903598275Z"
    }
   },
   "id": "38dac68bf64d2134"
  },
  {
   "cell_type": "markdown",
   "source": [
    "# Опис джерела інформації\n",
    "## Потужність множини $A$ дорівніює кількості символів $a_i$ первинного алфавіту"
   ],
   "metadata": {
    "collapsed": false
   },
   "id": "7dc770e8f7ecafdc"
  },
  {
   "cell_type": "code",
   "execution_count": 85,
   "outputs": [
    {
     "name": "stdout",
     "output_type": "stream",
     "text": [
      "12\n"
     ]
    }
   ],
   "source": [
    "print(len(alphabet))"
   ],
   "metadata": {
    "collapsed": false,
    "ExecuteTime": {
     "end_time": "2023-12-10T18:05:08.029170618Z",
     "start_time": "2023-12-10T18:05:07.907262034Z"
    }
   },
   "id": "cca7d5b96fe7ff8a"
  },
  {
   "cell_type": "markdown",
   "source": [
    "### Ймовірністі $P(a_i)$ появи симмолів первинного алфавіту визначаються за формулою\n",
    " $$ P(a_i) = \\frac{N(a_i)}{N}$$\n",
    "де $N(a_i)$ - кількість появ символу $a_i$ у профільтрованому тексті, $N$ - кількість всіх символів у профільтрованому тексті"
   ],
   "metadata": {
    "collapsed": false
   },
   "id": "d4084f22b438df36"
  },
  {
   "cell_type": "code",
   "execution_count": 86,
   "outputs": [
    {
     "data": {
      "text/plain": "             ,  .   А  Г   Л  Ж   Е   У   М  Ц   Р\nCount  143  12  8  66  8  23  3  43  18  42  3  40",
      "text/html": "<div>\n<style scoped>\n    .dataframe tbody tr th:only-of-type {\n        vertical-align: middle;\n    }\n\n    .dataframe tbody tr th {\n        vertical-align: top;\n    }\n\n    .dataframe thead th {\n        text-align: right;\n    }\n</style>\n<table border=\"1\" class=\"dataframe\">\n  <thead>\n    <tr style=\"text-align: right;\">\n      <th></th>\n      <th></th>\n      <th>,</th>\n      <th>.</th>\n      <th>А</th>\n      <th>Г</th>\n      <th>Л</th>\n      <th>Ж</th>\n      <th>Е</th>\n      <th>У</th>\n      <th>М</th>\n      <th>Ц</th>\n      <th>Р</th>\n    </tr>\n  </thead>\n  <tbody>\n    <tr>\n      <th>Count</th>\n      <td>143</td>\n      <td>12</td>\n      <td>8</td>\n      <td>66</td>\n      <td>8</td>\n      <td>23</td>\n      <td>3</td>\n      <td>43</td>\n      <td>18</td>\n      <td>42</td>\n      <td>3</td>\n      <td>40</td>\n    </tr>\n  </tbody>\n</table>\n</div>"
     },
     "execution_count": 86,
     "metadata": {},
     "output_type": "execute_result"
    }
   ],
   "source": [
    "character_map = {c: 0 for c in alphabet}\n",
    "for c in filtered_text:\n",
    "    if c in character_map.keys():\n",
    "        character_map[c] = character_map[c] + 1\n",
    "    else:\n",
    "        character_map[c] = 1\n",
    "character_map_df = pd.DataFrame(character_map, index=[\"Count\"])\n",
    "with open('./latex_tables/character_count.tex', 'w') as tf:\n",
    "    tf.write(character_map_df.to_latex())\n",
    "character_map_df"
   ],
   "metadata": {
    "collapsed": false,
    "ExecuteTime": {
     "end_time": "2023-12-10T18:05:08.063371151Z",
     "start_time": "2023-12-10T18:05:07.912701031Z"
    }
   },
   "id": "9197cc59df40b5fd"
  },
  {
   "cell_type": "code",
   "execution_count": 87,
   "outputs": [
    {
     "data": {
      "text/plain": "                             ,        .         А        Г         Л  \\\nProbability  0.349633  0.02934  0.01956  0.161369  0.01956  0.056235   \n\n                    Ж         Е        У         М         Ц       Р  \nProbability  0.007335  0.105134  0.04401  0.102689  0.007335  0.0978  ",
      "text/html": "<div>\n<style scoped>\n    .dataframe tbody tr th:only-of-type {\n        vertical-align: middle;\n    }\n\n    .dataframe tbody tr th {\n        vertical-align: top;\n    }\n\n    .dataframe thead th {\n        text-align: right;\n    }\n</style>\n<table border=\"1\" class=\"dataframe\">\n  <thead>\n    <tr style=\"text-align: right;\">\n      <th></th>\n      <th></th>\n      <th>,</th>\n      <th>.</th>\n      <th>А</th>\n      <th>Г</th>\n      <th>Л</th>\n      <th>Ж</th>\n      <th>Е</th>\n      <th>У</th>\n      <th>М</th>\n      <th>Ц</th>\n      <th>Р</th>\n    </tr>\n  </thead>\n  <tbody>\n    <tr>\n      <th>Probability</th>\n      <td>0.349633</td>\n      <td>0.02934</td>\n      <td>0.01956</td>\n      <td>0.161369</td>\n      <td>0.01956</td>\n      <td>0.056235</td>\n      <td>0.007335</td>\n      <td>0.105134</td>\n      <td>0.04401</td>\n      <td>0.102689</td>\n      <td>0.007335</td>\n      <td>0.0978</td>\n    </tr>\n  </tbody>\n</table>\n</div>"
     },
     "execution_count": 87,
     "metadata": {},
     "output_type": "execute_result"
    }
   ],
   "source": [
    "probabilities = {}\n",
    "for c in alphabet:\n",
    "    probabilities[c] = (character_map[c] / len(filtered_text))\n",
    "probabilities_df = pd.DataFrame(probabilities, index=[\"Probability\"])\n",
    "with open('./latex_tables/probabilities.tex', 'w') as tf:\n",
    "    tf.write(probabilities_df.to_latex())\n",
    "probabilities_df"
   ],
   "metadata": {
    "collapsed": false,
    "ExecuteTime": {
     "end_time": "2023-12-10T18:05:08.063842653Z",
     "start_time": "2023-12-10T18:05:08.002892516Z"
    }
   },
   "id": "83281ce3aba332d8"
  },
  {
   "cell_type": "markdown",
   "source": [
    " Сума всіх ймовірностей $P(a_i)$ повинна дорівнювати одиниці, тобто\n",
    " $$\\[ \\sum_{i=1}^{|A|} P(a_i) = 1 \\]$$"
   ],
   "metadata": {
    "collapsed": false
   },
   "id": "1e30b09c964e5ddb"
  },
  {
   "cell_type": "code",
   "execution_count": 88,
   "outputs": [
    {
     "ename": "TypeError",
     "evalue": "'float' object is not callable",
     "output_type": "error",
     "traceback": [
      "\u001B[0;31m---------------------------------------------------------------------------\u001B[0m",
      "\u001B[0;31mTypeError\u001B[0m                                 Traceback (most recent call last)",
      "Cell \u001B[0;32mIn[88], line 1\u001B[0m\n\u001B[0;32m----> 1\u001B[0m \u001B[38;5;28mprint\u001B[39m(\u001B[38;5;28;43msum\u001B[39;49m\u001B[43m(\u001B[49m\u001B[43mprobabilities\u001B[49m\u001B[38;5;241;43m.\u001B[39;49m\u001B[43mvalues\u001B[49m\u001B[43m(\u001B[49m\u001B[43m)\u001B[49m\u001B[43m)\u001B[49m)\n",
      "\u001B[0;31mTypeError\u001B[0m: 'float' object is not callable"
     ]
    }
   ],
   "source": [
    "print(sum(probabilities.values()))"
   ],
   "metadata": {
    "collapsed": false,
    "ExecuteTime": {
     "end_time": "2023-12-10T18:05:08.064052248Z",
     "start_time": "2023-12-10T18:05:08.003088422Z"
    }
   },
   "id": "5865ea54bec94d28"
  },
  {
   "cell_type": "markdown",
   "source": [],
   "metadata": {
    "collapsed": false
   },
   "id": "3e70f72effd03d79"
  },
  {
   "cell_type": "markdown",
   "source": [
    "### Кодування\n",
    " - Визначимо кількість інформаційних розрядів за формулою \n",
    "$$ n_і =⎾log_2 m_1⏋$$"
   ],
   "metadata": {
    "collapsed": false
   },
   "id": "77d25ee180d6a2ab"
  },
  {
   "cell_type": "code",
   "execution_count": null,
   "outputs": [],
   "source": [
    "bits_count = math.ceil(math.log2(len(alphabet)))\n",
    "print(math.log2(len(alphabet)))\n",
    "print(bits_count)"
   ],
   "metadata": {
    "collapsed": false,
    "ExecuteTime": {
     "start_time": "2023-12-10T18:05:08.003265750Z"
    }
   },
   "id": "4e0dbe7b267ee534"
  },
  {
   "cell_type": "markdown",
   "source": [
    "Генеруємо всі можливі кодові комбінації довжиною 4 біти:"
   ],
   "metadata": {
    "collapsed": false
   },
   "id": "45071af9a3acd060"
  },
  {
   "cell_type": "code",
   "execution_count": null,
   "outputs": [],
   "source": [
    "from itertools import product\n",
    "\n",
    "\n",
    "def generate_binary_combinations(length):\n",
    "    # Generate all combinations of 0 and 1 for the given length\n",
    "    binary_combinations = list(product([0, 1], repeat=length))\n",
    "    return binary_combinations"
   ],
   "metadata": {
    "collapsed": false,
    "ExecuteTime": {
     "start_time": "2023-12-10T18:05:08.003462774Z"
    }
   },
   "id": "d7ee0252163eb734"
  },
  {
   "cell_type": "code",
   "execution_count": null,
   "outputs": [],
   "source": [
    "codewords = generate_binary_combinations(bits_count)\n",
    "codewords_df = pd.DataFrame(codewords)\n",
    "with open('./latex_tables/codewords.tex', 'w') as tf:\n",
    "    tf.write(codewords_df.to_latex())\n",
    "codewords_df"
   ],
   "metadata": {
    "collapsed": false,
    "ExecuteTime": {
     "start_time": "2023-12-10T18:05:08.003556781Z"
    }
   },
   "id": "9cb4d1e4cfe73b6c"
  },
  {
   "cell_type": "code",
   "execution_count": null,
   "outputs": [],
   "source": [
    "def distance(word1, word2):\n",
    "    d = 0\n",
    "    for i in range(len(word1)):\n",
    "        if word1[i] != word2[i]:\n",
    "            d += 1\n",
    "    return d"
   ],
   "metadata": {
    "collapsed": false,
    "ExecuteTime": {
     "start_time": "2023-12-10T18:05:08.003746681Z"
    }
   },
   "id": "999a617ebdeaaee7"
  },
  {
   "cell_type": "code",
   "execution_count": null,
   "outputs": [],
   "source": [
    "matrix = []\n",
    "distance_values = set()\n",
    "headers = [(\"\".join([str(n) for n in c])) for c in codewords]\n",
    "for i, a in enumerate(codewords):\n",
    "    matrix.append([])\n",
    "    for j, a1 in enumerate(codewords):\n",
    "        dist = distance(a, a1)\n",
    "        matrix[i].append(dist)\n",
    "        distance_values.add(dist)\n",
    "\n",
    "#print(len(matrix))\n",
    "matrix_df = pd.DataFrame(matrix, columns=headers, index=headers)\n",
    "with open('./latex_tables/distance_matrix.tex', 'w') as tf:\n",
    "    tf.write(matrix_df.to_latex())\n",
    "matrix_df"
   ],
   "metadata": {
    "collapsed": false,
    "ExecuteTime": {
     "start_time": "2023-12-10T18:05:08.003786770Z"
    }
   },
   "id": "9933c5858ea99ef0"
  },
  {
   "cell_type": "code",
   "execution_count": null,
   "outputs": [],
   "source": [
    "distance_counts = []\n",
    "for row in matrix:\n",
    "    row_distance_counts = []\n",
    "    for d in distance_values:\n",
    "        row_distance_counts.append(row.count(d))\n",
    "    distance_counts.append(row_distance_counts)\n",
    "distance_counts_df = pd.DataFrame(distance_counts, index=headers)\n",
    "with open('./latex_tables/distance_counts.tex', 'w') as tf:\n",
    "    tf.write(distance_counts_df.to_latex())\n",
    "distance_counts_df"
   ],
   "metadata": {
    "collapsed": false,
    "ExecuteTime": {
     "start_time": "2023-12-10T18:05:08.003821691Z"
    }
   },
   "id": "6a033b503e06596c"
  },
  {
   "cell_type": "code",
   "execution_count": null,
   "outputs": [],
   "source": [
    "codewords = {}\n",
    "codewords_table = []\n",
    "inverted = []\n",
    "berger = []\n",
    "for i, c in enumerate(alphabet):\n",
    "    bin_code = f\"{i:04b}\"\n",
    "    print(f\"{c} {bin_code}\")\n",
    "    ones_count = bin_code.count(\"1\")\n",
    "    codewords_table.append(\n",
    "        {\"$A$\": c, \"$a_i$\": f\"$a_{{{i}}}$\", \"Код\": f\"{bin_code}\", \"$\\sum_{i=1}^{n}$\": f\"{ones_count:03b}\"})\n",
    "    codewords[c] = [int(n) for n in f\"{i:04b}\"]\n",
    "    inverted_count = ''.join('1' if x == '0' else '0' for x in f\"{ones_count:03b}\")\n",
    "    inverted.append(inverted_count)\n",
    "    berger.append(bin_code + inverted_count)\n",
    "control_bits_df = pd.DataFrame(codewords_table)\n",
    "with open('./latex_tables/control_bits.tex', 'w') as tf:\n",
    "    tf.write(control_bits_df.to_latex(index=False))\n",
    "control_bits_df"
   ],
   "metadata": {
    "collapsed": false,
    "ExecuteTime": {
     "start_time": "2023-12-10T18:05:08.003855564Z"
    }
   },
   "id": "d09e156a2d80be08"
  },
  {
   "cell_type": "code",
   "execution_count": null,
   "outputs": [],
   "source": [
    "control_bits_df[\"inverted\"] = inverted\n",
    "control_bits_df\n",
    "with open('./latex_tables/control_bits_inverted.tex', 'w') as tf:\n",
    "    tf.write(control_bits_df.to_latex(index=False))"
   ],
   "metadata": {
    "collapsed": false,
    "ExecuteTime": {
     "start_time": "2023-12-10T18:05:08.003894117Z"
    }
   },
   "id": "2acc9366707453c9"
  },
  {
   "cell_type": "code",
   "execution_count": null,
   "outputs": [],
   "source": [
    "control_bits_df"
   ],
   "metadata": {
    "collapsed": false,
    "ExecuteTime": {
     "start_time": "2023-12-10T18:05:08.003969755Z"
    }
   },
   "id": "bed2acf465705ef4"
  },
  {
   "cell_type": "code",
   "execution_count": null,
   "outputs": [],
   "source": [
    "berger_df = control_bits_df[[\"$A$\", \"$a_i$\"]].copy()\n",
    "berger_df[\"Код Бергера\"] = berger\n",
    "with open('./latex_tables/berger_code.tex', 'w') as tf:\n",
    "    tf.write(berger_df.to_latex(index=False))\n",
    "berger_df\n"
   ],
   "metadata": {
    "collapsed": false,
    "ExecuteTime": {
     "start_time": "2023-12-10T18:05:08.004060410Z"
    }
   },
   "id": "3d210ffd69604cf4"
  },
  {
   "cell_type": "markdown",
   "source": [
    "\n",
    "Матриця кодових відстаней"
   ],
   "metadata": {
    "collapsed": false
   },
   "id": "422e7e95235ec0e5"
  },
  {
   "cell_type": "markdown",
   "source": [
    "У телекомунікаціях код Бергера — це односпрямований код виявлення помилок, названий на честь його винахідника Дж. М. Бергера. Коди Бергера можуть виявляти всі односпрямовані помилки. Односпрямовані помилки - це помилки, які перетворюють лише одиниці на нулі або лише нулі на одиниці, наприклад, в асиметричних каналах. Контрольні біти кодів Бергера обчислюються шляхом підрахунку всіх нулів в інформаційному слові та вираження цього числа в натуральній двійковій системі. Якщо інформаційне слово складається з $n$ бітів, тоді для коду Бергера потрібно $$k = [ log_2 ( n + 1 )]$$ «перевірочнх біти», що додає Код Бергера довжини $k+n$. (Іншими словами,  $k$ контрольних бітів достатньо для перевірки до $$n = 2 k − 1 n=2^{k}-1$$ інформаційних бітів). Коди Бергера можуть виявляти будь-яку кількість помилок перевертання бітів один до нуля, за умови, що в одному кодовому слові не було помилок нуль до одного. Подібним чином коди Бергера можуть виявляти будь-яку кількість помилок перетворення бітів від нуля до одного, за умови, що в одному кодовому слові не виникає помилок перетворення бітів від одного до нуля. Коди Бергера не можуть виправити жодної помилки.\n",
    "\n",
    "Як і всі односпрямовані коди виявлення помилок, коди Бергера також можна використовувати в схемах, нечутливих до затримки."
   ],
   "metadata": {
    "collapsed": false
   },
   "id": "58555b3ee7001026"
  },
  {
   "cell_type": "code",
   "execution_count": null,
   "outputs": [],
   "source": [
    "def berger_encode_word(codeword):\n",
    "    zeroes = codeword.count(0)\n",
    "    return [int(c) for c in f\"{zeroes:03b}\"]\n",
    "\n",
    "\n",
    "for codeword in codewords.values():\n",
    "    print(berger_encode_word(codeword))"
   ],
   "metadata": {
    "collapsed": false,
    "ExecuteTime": {
     "start_time": "2023-12-10T18:05:08.004676694Z"
    }
   },
   "id": "45ca955279f07f23"
  },
  {
   "cell_type": "code",
   "execution_count": null,
   "outputs": [],
   "source": [
    "binary = [codewords[c] for c in filtered_text]\n",
    "np.array(binary)\n"
   ],
   "metadata": {
    "collapsed": false,
    "ExecuteTime": {
     "start_time": "2023-12-10T18:05:08.046081404Z"
    }
   },
   "id": "c9f22fab92b2ae03"
  },
  {
   "cell_type": "code",
   "execution_count": null,
   "outputs": [],
   "source": [
    "encoded = []\n",
    "for codeword in binary:\n",
    "    encoded.append(codeword + berger_encode_word(codeword))"
   ],
   "metadata": {
    "collapsed": false,
    "ExecuteTime": {
     "start_time": "2023-12-10T18:05:08.046192662Z"
    }
   },
   "id": "a195384cb3782601"
  },
  {
   "cell_type": "code",
   "execution_count": null,
   "outputs": [],
   "source": [
    "print(encoded)"
   ],
   "metadata": {
    "collapsed": false,
    "ExecuteTime": {
     "start_time": "2023-12-10T18:05:08.046245742Z"
    }
   },
   "id": "4a1bb8a4c7d31465"
  },
  {
   "cell_type": "code",
   "execution_count": null,
   "outputs": [],
   "source": [
    "probabilities_df"
   ],
   "metadata": {
    "collapsed": false,
    "ExecuteTime": {
     "start_time": "2023-12-10T18:05:08.046308739Z"
    }
   },
   "id": "43b077a534ae9509"
  },
  {
   "cell_type": "code",
   "execution_count": 92,
   "outputs": [],
   "source": [
    "codewords_list = list(codewords.values())\n",
    "pe = 3e-2\n",
    "joint_matrix = []\n",
    "for i, code_a in enumerate(codewords_list):\n",
    "    joint_matrix.append([])\n",
    "    for j, code_b in enumerate(codewords_list):\n",
    "        d = distance(code_a, code_b)\n",
    "        n = len(code_b)\n",
    "        val = math.pow(pe, d) * math.pow(1 - pe, n - d)\n",
    "        joint_matrix[i].append(val)\n",
    "for i in range(len(codewords_list)):\n",
    "    sum = 0\n",
    "    for j in range(len(codewords_list)):\n",
    "        sum += joint_matrix[j][i]\n",
    "    joint_matrix[i][i] = 1 - sum + joint_matrix[i][i]\n",
    "columns = [f\"$b_{{{i}}}$\" for i in range(len(codewords_list))]\n",
    "index = [f\"$a_{{{i}}}$\" for i in range(len(codewords_list))]\n",
    "joint_matrix_df = pd.DataFrame(joint_matrix, columns=columns, index=index)\n",
    "with open('./latex_tables/joint_matrix.tex', 'w') as tf:\n",
    "    tf.write(joint_matrix_df.to_latex())"
   ],
   "metadata": {
    "collapsed": false,
    "ExecuteTime": {
     "end_time": "2023-12-10T18:06:40.169608830Z",
     "start_time": "2023-12-10T18:06:40.124904846Z"
    }
   },
   "id": "bed57d541bc5acf3"
  },
  {
   "cell_type": "code",
   "execution_count": 122,
   "outputs": [
    {
     "data": {
      "text/plain": "          0000          0001      0010          0011          0100  \\\n0000  0.309842  9.573025e-03  0.009573  2.960729e-04  9.573025e-03   \n0001  0.000803  2.600077e-02  0.000025  8.033308e-04  2.484528e-05   \n0010  0.000536  1.656352e-05  0.017334  5.355538e-04  1.656352e-05   \n0011  0.000137  4.418319e-03  0.004418  1.430042e-01  4.226259e-06   \n0100  0.000536  1.656352e-05  0.000017  5.122738e-07  1.788543e-02   \n0101  0.000048  1.539717e-03  0.000001  4.762012e-05  1.539717e-03   \n0110  0.000006  1.921027e-07  0.000201  6.211320e-06  2.008327e-04   \n0111  0.000003  8.902892e-05  0.000089  2.878602e-03  8.902892e-05   \n1000  0.001205  3.726792e-05  0.000037  1.152616e-06  3.726792e-05   \n1001  0.000087  2.811658e-03  0.000003  8.695848e-05  2.689438e-06   \n1010  0.000006  1.921027e-07  0.000201  6.211320e-06  1.921027e-07   \n1011  0.000003  8.281760e-05  0.000083  2.677769e-03  7.921760e-08   \n\n              0101          0110          0111          1000          1001  \\\n0000  2.960729e-04  2.960729e-04  9.156895e-06  9.573025e-03  2.960729e-04   \n0001  8.033308e-04  7.684108e-07  2.484528e-05  2.484528e-05  8.033308e-04   \n0010  5.122738e-07  5.355538e-04  1.656352e-05  1.656352e-05  5.122738e-07   \n0011  1.366490e-04  1.366490e-04  4.418319e-03  4.226259e-06  1.366490e-04   \n0100  5.355538e-04  5.355538e-04  1.656352e-05  1.656352e-05  5.122738e-07   \n0101  5.142062e-02  4.762012e-05  1.539717e-03  1.472787e-06  4.762012e-05   \n0110  6.211320e-06  6.707038e-03  2.008327e-04  1.921027e-07  5.941320e-09   \n0111  2.878602e-03  2.878602e-03  9.613421e-02  8.515892e-08  2.753472e-06   \n1000  1.152616e-06  1.152616e-06  3.564792e-08  4.024223e-02  1.204996e-03   \n1001  8.695848e-05  8.317848e-08  2.689438e-06  2.811658e-03  9.389853e-02   \n1010  5.941320e-09  6.211320e-06  1.921027e-07  2.008327e-04  6.211320e-06   \n1011  2.561369e-06  2.561369e-06  8.281760e-05  8.281760e-05  2.677769e-03   \n\n              1010          1011  \n0000  2.960729e-04  9.156895e-06  \n0001  7.684108e-07  2.484528e-05  \n0010  5.355538e-04  1.656352e-05  \n0011  1.366490e-04  4.418319e-03  \n0100  5.122738e-07  1.584352e-08  \n0101  4.555012e-08  1.472787e-06  \n0110  6.211320e-06  1.921027e-07  \n0111  2.753472e-06  8.902892e-05  \n1000  1.204996e-03  3.726792e-05  \n1001  8.695848e-05  2.811658e-03  \n1010  6.707038e-03  2.008327e-04  \n1011  2.677769e-03  8.942717e-02  ",
      "text/html": "<div>\n<style scoped>\n    .dataframe tbody tr th:only-of-type {\n        vertical-align: middle;\n    }\n\n    .dataframe tbody tr th {\n        vertical-align: top;\n    }\n\n    .dataframe thead th {\n        text-align: right;\n    }\n</style>\n<table border=\"1\" class=\"dataframe\">\n  <thead>\n    <tr style=\"text-align: right;\">\n      <th></th>\n      <th>0000</th>\n      <th>0001</th>\n      <th>0010</th>\n      <th>0011</th>\n      <th>0100</th>\n      <th>0101</th>\n      <th>0110</th>\n      <th>0111</th>\n      <th>1000</th>\n      <th>1001</th>\n      <th>1010</th>\n      <th>1011</th>\n    </tr>\n  </thead>\n  <tbody>\n    <tr>\n      <th>0000</th>\n      <td>0.309842</td>\n      <td>9.573025e-03</td>\n      <td>0.009573</td>\n      <td>2.960729e-04</td>\n      <td>9.573025e-03</td>\n      <td>2.960729e-04</td>\n      <td>2.960729e-04</td>\n      <td>9.156895e-06</td>\n      <td>9.573025e-03</td>\n      <td>2.960729e-04</td>\n      <td>2.960729e-04</td>\n      <td>9.156895e-06</td>\n    </tr>\n    <tr>\n      <th>0001</th>\n      <td>0.000803</td>\n      <td>2.600077e-02</td>\n      <td>0.000025</td>\n      <td>8.033308e-04</td>\n      <td>2.484528e-05</td>\n      <td>8.033308e-04</td>\n      <td>7.684108e-07</td>\n      <td>2.484528e-05</td>\n      <td>2.484528e-05</td>\n      <td>8.033308e-04</td>\n      <td>7.684108e-07</td>\n      <td>2.484528e-05</td>\n    </tr>\n    <tr>\n      <th>0010</th>\n      <td>0.000536</td>\n      <td>1.656352e-05</td>\n      <td>0.017334</td>\n      <td>5.355538e-04</td>\n      <td>1.656352e-05</td>\n      <td>5.122738e-07</td>\n      <td>5.355538e-04</td>\n      <td>1.656352e-05</td>\n      <td>1.656352e-05</td>\n      <td>5.122738e-07</td>\n      <td>5.355538e-04</td>\n      <td>1.656352e-05</td>\n    </tr>\n    <tr>\n      <th>0011</th>\n      <td>0.000137</td>\n      <td>4.418319e-03</td>\n      <td>0.004418</td>\n      <td>1.430042e-01</td>\n      <td>4.226259e-06</td>\n      <td>1.366490e-04</td>\n      <td>1.366490e-04</td>\n      <td>4.418319e-03</td>\n      <td>4.226259e-06</td>\n      <td>1.366490e-04</td>\n      <td>1.366490e-04</td>\n      <td>4.418319e-03</td>\n    </tr>\n    <tr>\n      <th>0100</th>\n      <td>0.000536</td>\n      <td>1.656352e-05</td>\n      <td>0.000017</td>\n      <td>5.122738e-07</td>\n      <td>1.788543e-02</td>\n      <td>5.355538e-04</td>\n      <td>5.355538e-04</td>\n      <td>1.656352e-05</td>\n      <td>1.656352e-05</td>\n      <td>5.122738e-07</td>\n      <td>5.122738e-07</td>\n      <td>1.584352e-08</td>\n    </tr>\n    <tr>\n      <th>0101</th>\n      <td>0.000048</td>\n      <td>1.539717e-03</td>\n      <td>0.000001</td>\n      <td>4.762012e-05</td>\n      <td>1.539717e-03</td>\n      <td>5.142062e-02</td>\n      <td>4.762012e-05</td>\n      <td>1.539717e-03</td>\n      <td>1.472787e-06</td>\n      <td>4.762012e-05</td>\n      <td>4.555012e-08</td>\n      <td>1.472787e-06</td>\n    </tr>\n    <tr>\n      <th>0110</th>\n      <td>0.000006</td>\n      <td>1.921027e-07</td>\n      <td>0.000201</td>\n      <td>6.211320e-06</td>\n      <td>2.008327e-04</td>\n      <td>6.211320e-06</td>\n      <td>6.707038e-03</td>\n      <td>2.008327e-04</td>\n      <td>1.921027e-07</td>\n      <td>5.941320e-09</td>\n      <td>6.211320e-06</td>\n      <td>1.921027e-07</td>\n    </tr>\n    <tr>\n      <th>0111</th>\n      <td>0.000003</td>\n      <td>8.902892e-05</td>\n      <td>0.000089</td>\n      <td>2.878602e-03</td>\n      <td>8.902892e-05</td>\n      <td>2.878602e-03</td>\n      <td>2.878602e-03</td>\n      <td>9.613421e-02</td>\n      <td>8.515892e-08</td>\n      <td>2.753472e-06</td>\n      <td>2.753472e-06</td>\n      <td>8.902892e-05</td>\n    </tr>\n    <tr>\n      <th>1000</th>\n      <td>0.001205</td>\n      <td>3.726792e-05</td>\n      <td>0.000037</td>\n      <td>1.152616e-06</td>\n      <td>3.726792e-05</td>\n      <td>1.152616e-06</td>\n      <td>1.152616e-06</td>\n      <td>3.564792e-08</td>\n      <td>4.024223e-02</td>\n      <td>1.204996e-03</td>\n      <td>1.204996e-03</td>\n      <td>3.726792e-05</td>\n    </tr>\n    <tr>\n      <th>1001</th>\n      <td>0.000087</td>\n      <td>2.811658e-03</td>\n      <td>0.000003</td>\n      <td>8.695848e-05</td>\n      <td>2.689438e-06</td>\n      <td>8.695848e-05</td>\n      <td>8.317848e-08</td>\n      <td>2.689438e-06</td>\n      <td>2.811658e-03</td>\n      <td>9.389853e-02</td>\n      <td>8.695848e-05</td>\n      <td>2.811658e-03</td>\n    </tr>\n    <tr>\n      <th>1010</th>\n      <td>0.000006</td>\n      <td>1.921027e-07</td>\n      <td>0.000201</td>\n      <td>6.211320e-06</td>\n      <td>1.921027e-07</td>\n      <td>5.941320e-09</td>\n      <td>6.211320e-06</td>\n      <td>1.921027e-07</td>\n      <td>2.008327e-04</td>\n      <td>6.211320e-06</td>\n      <td>6.707038e-03</td>\n      <td>2.008327e-04</td>\n    </tr>\n    <tr>\n      <th>1011</th>\n      <td>0.000003</td>\n      <td>8.281760e-05</td>\n      <td>0.000083</td>\n      <td>2.677769e-03</td>\n      <td>7.921760e-08</td>\n      <td>2.561369e-06</td>\n      <td>2.561369e-06</td>\n      <td>8.281760e-05</td>\n      <td>8.281760e-05</td>\n      <td>2.677769e-03</td>\n      <td>2.677769e-03</td>\n      <td>8.942717e-02</td>\n    </tr>\n  </tbody>\n</table>\n</div>"
     },
     "execution_count": 122,
     "metadata": {},
     "output_type": "execute_result"
    }
   ],
   "source": [
    "from copy import deepcopy\n",
    "\n",
    "probabilities_list = list(probabilities.values())\n",
    "channel_matrix = deepcopy(joint_matrix)\n",
    "for i in range(len(joint_matrix)):\n",
    "    for j in range(len(joint_matrix)):\n",
    "        channel_matrix[i][j] = joint_matrix[i][j] * probabilities_list[i]\n",
    "columns = [\"\".join(str(c) for c in code) for code in codewords_list]\n",
    "index = [\"\".join(str(c) for c in code) for code in codewords_list]\n",
    "channel_matrix_df = pd.DataFrame(channel_matrix, columns=columns, index=index)\n",
    "with open('./latex_tables/channel_matrix.tex', 'w') as tf:\n",
    "    tf.write(channel_matrix_df.to_latex())\n",
    "channel_matrix_df"
   ],
   "metadata": {
    "collapsed": false,
    "ExecuteTime": {
     "end_time": "2023-12-10T18:51:10.255416693Z",
     "start_time": "2023-12-10T18:51:10.241314615Z"
    }
   },
   "id": "4c5e57b899b0829d"
  }
 ],
 "metadata": {
  "kernelspec": {
   "display_name": "Python 3",
   "language": "python",
   "name": "python3"
  },
  "language_info": {
   "codemirror_mode": {
    "name": "ipython",
    "version": 2
   },
   "file_extension": ".py",
   "mimetype": "text/x-python",
   "name": "python",
   "nbconvert_exporter": "python",
   "pygments_lexer": "ipython2",
   "version": "2.7.6"
  }
 },
 "nbformat": 4,
 "nbformat_minor": 5
}
